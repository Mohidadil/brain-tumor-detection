{
  "nbformat": 4,
  "nbformat_minor": 0,
  "metadata": {
    "colab": {
      "provenance": [],
      "gpuType": "T4"
    },
    "kernelspec": {
      "name": "python3",
      "display_name": "Python 3"
    },
    "language_info": {
      "name": "python"
    },
    "accelerator": "GPU"
  },
  "cells": [
    {
      "cell_type": "code",
      "execution_count": 6,
      "metadata": {
        "colab": {
          "base_uri": "https://localhost:8080/"
        },
        "id": "gI4LxoEGstoa",
        "outputId": "44e22351-942b-49ae-95c4-e9acec005f3d"
      },
      "outputs": [
        {
          "output_type": "stream",
          "name": "stdout",
          "text": [
            "Dataset URL: https://www.kaggle.com/datasets/ahmedhamada0/brain-tumor-detection\n",
            "License(s): copyright-authors\n",
            "brain-tumor-detection.zip: Skipping, found more recently modified local copy (use --force to force download)\n"
          ]
        }
      ],
      "source": [
        "! kaggle datasets download ahmedhamada0/brain-tumor-detection"
      ]
    },
    {
      "cell_type": "code",
      "source": [
        "import zipfile\n",
        "zip_ref = zipfile.ZipFile('/content/brain-tumor-detection.zip', 'r')\n",
        "zip_ref.extractall('/content/data')\n",
        "zip_ref.close()"
      ],
      "metadata": {
        "id": "fwgHFzxZwlA-"
      },
      "execution_count": 7,
      "outputs": []
    },
    {
      "cell_type": "code",
      "source": [
        "yes_tumor_images='/content/yes'\n",
        "no_tumor_images='/content/no'"
      ],
      "metadata": {
        "id": "yguWw5dDwtB0"
      },
      "execution_count": 3,
      "outputs": []
    },
    {
      "cell_type": "code",
      "source": [
        "import os\n",
        "import cv2\n",
        "from PIL import Image\n",
        "import numpy as np\n",
        "import matplotlib.pyplot as plt\n",
        "#!pip install scikit-learn\n",
        "from sklearn.model_selection import train_test_split\n",
        "from tensorflow import keras\n",
        "from tensorflow.keras import layers\n",
        "from tensorflow.keras.applications.vgg19 import VGG19\n",
        "from tensorflow.keras.models import Model\n",
        "from tensorflow.keras.layers import Dense, Flatten, Dropout\n",
        "from tensorflow.keras.optimizers import Adam\n",
        "from tensorflow.keras.utils import normalize\n",
        "import pandas as pd\n",
        "import numpy as np"
      ],
      "metadata": {
        "id": "-ommrfwxxPZ2"
      },
      "execution_count": 16,
      "outputs": []
    },
    {
      "cell_type": "code",
      "source": [
        "print('''\n",
        "Total number of images in yes_tumor_images folder''',len(os.listdir(yes_tumor_images)),\n",
        "'''\\nTotal number of images in validation folder''',len(os.listdir(no_tumor_images)))"
      ],
      "metadata": {
        "colab": {
          "base_uri": "https://localhost:8080/"
        },
        "id": "I-um0hu_xinS",
        "outputId": "fde0fb19-ac99-48da-8da6-2c5b323b0068"
      },
      "execution_count": 5,
      "outputs": [
        {
          "output_type": "stream",
          "name": "stdout",
          "text": [
            "\n",
            "Total number of images in yes_tumor_images folder 1500 \n",
            "Total number of images in validation folder 1500\n"
          ]
        }
      ]
    },
    {
      "cell_type": "code",
      "source": [
        "image_path_yes=[]\n",
        "label_yes=[]\n",
        "for i in os.listdir(yes_tumor_images):\n",
        "  image_path_yes.append(os.path.join(yes_tumor_images,i))\n",
        "  label_yes.append(i[0:len(i)-4])\n",
        ""
      ],
      "metadata": {
        "id": "IUgCAGCWx1ME"
      },
      "execution_count": 6,
      "outputs": []
    },
    {
      "cell_type": "code",
      "source": [
        "image_path_no=[]\n",
        "label_no=[]\n",
        "for i in os.listdir(no_tumor_images):\n",
        "  image_path_no.append(os.path.join(no_tumor_images,i))\n",
        "  label_no.append(i[0:len(i)-4])"
      ],
      "metadata": {
        "id": "6hQ6TvmazGNz"
      },
      "execution_count": 7,
      "outputs": []
    },
    {
      "cell_type": "code",
      "source": [],
      "metadata": {
        "id": "1AQuc1Zrrl8l"
      },
      "execution_count": 7,
      "outputs": []
    },
    {
      "cell_type": "code",
      "source": [
        "f=pd.DataFrame({'Image_path':image_path_yes,'Image_label':label_yes})\n"
      ],
      "metadata": {
        "id": "okaWXQyOqOrO"
      },
      "execution_count": 8,
      "outputs": []
    },
    {
      "cell_type": "code",
      "source": [
        "d=pd.DataFrame({'Image_path':image_path_no,'Image_label':label_no})"
      ],
      "metadata": {
        "id": "wJNfTlPKgHuD"
      },
      "execution_count": 9,
      "outputs": []
    },
    {
      "cell_type": "code",
      "source": [
        "df=pd.concat([f,d],axis=0)"
      ],
      "metadata": {
        "id": "EBXyY2EHhYrP"
      },
      "execution_count": 10,
      "outputs": []
    },
    {
      "cell_type": "code",
      "source": [
        "df.shape"
      ],
      "metadata": {
        "colab": {
          "base_uri": "https://localhost:8080/"
        },
        "id": "xE4IL3QIiB4X",
        "outputId": "a48d7acc-1249-4de3-af43-14fb9454b6c5"
      },
      "execution_count": 11,
      "outputs": [
        {
          "output_type": "execute_result",
          "data": {
            "text/plain": [
              "(3000, 2)"
            ]
          },
          "metadata": {},
          "execution_count": 11
        }
      ]
    },
    {
      "cell_type": "code",
      "source": [
        "from sklearn.preprocessing import LabelEncoder, OneHotEncoder\n",
        "\n",
        "le=LabelEncoder()\n",
        "y=le.fit_transform(df['Image_label'])\n",
        "\n",
        "oe=OneHotEncoder()\n",
        "y=oe.fit_transform(y.reshape(-1,1)).toarray()"
      ],
      "metadata": {
        "id": "GjNhlo3UCv0Y"
      },
      "execution_count": 12,
      "outputs": []
    },
    {
      "cell_type": "code",
      "source": [
        "df['Image_label']"
      ],
      "metadata": {
        "colab": {
          "base_uri": "https://localhost:8080/",
          "height": 458
        },
        "id": "E-iO42cOCvyB",
        "outputId": "5ad53958-934b-4dd2-e813-9140d73c6075"
      },
      "execution_count": 13,
      "outputs": [
        {
          "output_type": "execute_result",
          "data": {
            "text/plain": [
              "0         y117\n",
              "1        y1440\n",
              "2        y1294\n",
              "3         y201\n",
              "4        y1200\n",
              "         ...  \n",
              "1495     no559\n",
              "1496     no782\n",
              "1497     no595\n",
              "1498    no1112\n",
              "1499     no405\n",
              "Name: Image_label, Length: 3000, dtype: object"
            ],
            "text/html": [
              "<div>\n",
              "<style scoped>\n",
              "    .dataframe tbody tr th:only-of-type {\n",
              "        vertical-align: middle;\n",
              "    }\n",
              "\n",
              "    .dataframe tbody tr th {\n",
              "        vertical-align: top;\n",
              "    }\n",
              "\n",
              "    .dataframe thead th {\n",
              "        text-align: right;\n",
              "    }\n",
              "</style>\n",
              "<table border=\"1\" class=\"dataframe\">\n",
              "  <thead>\n",
              "    <tr style=\"text-align: right;\">\n",
              "      <th></th>\n",
              "      <th>Image_label</th>\n",
              "    </tr>\n",
              "  </thead>\n",
              "  <tbody>\n",
              "    <tr>\n",
              "      <th>0</th>\n",
              "      <td>y117</td>\n",
              "    </tr>\n",
              "    <tr>\n",
              "      <th>1</th>\n",
              "      <td>y1440</td>\n",
              "    </tr>\n",
              "    <tr>\n",
              "      <th>2</th>\n",
              "      <td>y1294</td>\n",
              "    </tr>\n",
              "    <tr>\n",
              "      <th>3</th>\n",
              "      <td>y201</td>\n",
              "    </tr>\n",
              "    <tr>\n",
              "      <th>4</th>\n",
              "      <td>y1200</td>\n",
              "    </tr>\n",
              "    <tr>\n",
              "      <th>...</th>\n",
              "      <td>...</td>\n",
              "    </tr>\n",
              "    <tr>\n",
              "      <th>1495</th>\n",
              "      <td>no559</td>\n",
              "    </tr>\n",
              "    <tr>\n",
              "      <th>1496</th>\n",
              "      <td>no782</td>\n",
              "    </tr>\n",
              "    <tr>\n",
              "      <th>1497</th>\n",
              "      <td>no595</td>\n",
              "    </tr>\n",
              "    <tr>\n",
              "      <th>1498</th>\n",
              "      <td>no1112</td>\n",
              "    </tr>\n",
              "    <tr>\n",
              "      <th>1499</th>\n",
              "      <td>no405</td>\n",
              "    </tr>\n",
              "  </tbody>\n",
              "</table>\n",
              "<p>3000 rows × 1 columns</p>\n",
              "</div><br><label><b>dtype:</b> object</label>"
            ]
          },
          "metadata": {},
          "execution_count": 13
        }
      ]
    },
    {
      "cell_type": "code",
      "source": [],
      "metadata": {
        "id": "w68fK-O2CvvT"
      },
      "execution_count": 13,
      "outputs": []
    },
    {
      "cell_type": "code",
      "source": [
        "x_train,x_test,y_train,y_test=train_test_split(df['Image_path'],df['Image_label'],test_size=0.2,random_state=42)"
      ],
      "metadata": {
        "id": "gR9FmH15iQX4"
      },
      "execution_count": 14,
      "outputs": []
    },
    {
      "cell_type": "code",
      "source": [
        "(x_train.shape,x_test.shape,y_train.shape,y_test.shape)"
      ],
      "metadata": {
        "colab": {
          "base_uri": "https://localhost:8080/"
        },
        "id": "izQtaXSBjEmQ",
        "outputId": "4ea88a4b-8137-4d6d-b38b-8575a51923e1"
      },
      "execution_count": 15,
      "outputs": [
        {
          "output_type": "execute_result",
          "data": {
            "text/plain": [
              "((2400,), (600,), (2400,), (600,))"
            ]
          },
          "metadata": {},
          "execution_count": 15
        }
      ]
    },
    {
      "cell_type": "code",
      "source": [
        "cv2.imread(os.path.join(yes_tumor_images,x_train[45]))"
      ],
      "metadata": {
        "colab": {
          "base_uri": "https://localhost:8080/",
          "height": 482
        },
        "id": "7mrN35Y1jvzF",
        "outputId": "99187a70-c238-4223-f79c-50f550126641"
      },
      "execution_count": 16,
      "outputs": [
        {
          "output_type": "execute_result",
          "data": {
            "text/plain": [
              "array([[[12, 12, 12],\n",
              "        [12, 12, 12],\n",
              "        [12, 12, 12],\n",
              "        ...,\n",
              "        [14, 14, 14],\n",
              "        [14, 14, 14],\n",
              "        [11, 11, 11]],\n",
              "\n",
              "       [[12, 12, 12],\n",
              "        [12, 12, 12],\n",
              "        [12, 12, 12],\n",
              "        ...,\n",
              "        [ 9,  9,  9],\n",
              "        [13, 13, 13],\n",
              "        [15, 15, 15]],\n",
              "\n",
              "       [[12, 12, 12],\n",
              "        [12, 12, 12],\n",
              "        [12, 12, 12],\n",
              "        ...,\n",
              "        [ 8,  8,  8],\n",
              "        [14, 14, 14],\n",
              "        [ 3,  3,  3]],\n",
              "\n",
              "       ...,\n",
              "\n",
              "       [[11, 11, 11],\n",
              "        [11, 11, 11],\n",
              "        [11, 11, 11],\n",
              "        ...,\n",
              "        [13, 13, 13],\n",
              "        [13, 13, 13],\n",
              "        [15, 15, 15]],\n",
              "\n",
              "       [[ 7,  7,  7],\n",
              "        [ 7,  7,  7],\n",
              "        [ 7,  7,  7],\n",
              "        ...,\n",
              "        [13, 13, 13],\n",
              "        [14, 14, 14],\n",
              "        [15, 15, 15]],\n",
              "\n",
              "       [[ 7,  7,  7],\n",
              "        [ 7,  7,  7],\n",
              "        [ 7,  7,  7],\n",
              "        ...,\n",
              "        [ 9,  9,  9],\n",
              "        [10, 10, 10],\n",
              "        [ 5,  5,  5]]], dtype=uint8)"
            ],
            "text/html": [
              "<style>\n",
              "      .ndarray_repr .ndarray_raw_data {\n",
              "        display: none;\n",
              "      }\n",
              "      .ndarray_repr.show_array .ndarray_raw_data {\n",
              "        display: block;\n",
              "      }\n",
              "      .ndarray_repr.show_array .ndarray_image_preview {\n",
              "        display: none;\n",
              "      }\n",
              "      </style>\n",
              "      <div id=\"id-3493fc9d-0ed9-4321-902e-7ecaf60bb10b\" class=\"ndarray_repr\"><pre>ndarray (442, 441, 3) <button style=\"padding: 0 2px;\">show data</button></pre><img src=\"data:image/png;base64,iVBORw0KGgoAAAANSUhEUgAAAbkAAAG6CAIAAAAaoq/RAAEAAElEQVR4nOx9S4hl2ZrWWnufcyLOM8458cqIfFRWZdWt21332rbdNE0LggMd6LBBFEEQBw5FHIsPcCAoCEILDpwpjkQnTkRoFKFpaJvW27e6quuVmZHxjvN+RZyz93Lw3f/z23tHRGXWzazKrJtrkJw8sc/ea6/Ht77/7RuNhruuee9DCM45/Ou91y+vvf7a79M01QtuuqzY9Okv9MPb28u6z/e1xXGcpiknHTMeQrhp3G5aD7e03ErA/a/9q/ee64fX6IJ8KS33dDQ+99rOX/t9sPa1F38L/fyu2k3j8BLXzwvdJ/do9s17nyRJHMdra2vOucvLS/w3TVP+xHsfRRF+mCRJ6aV09G373rTiAfk81z9/yx23unavvW3uA/8bx/FN938p/Xzb3qz2osdSvV5fLBZXV1fT6RQ/r1Qq6+vrSZIsl8sQQqlUCiFcXV3hc6lUeouVb1um5cDrJiz7xi2KImWU/D6HffwTDvaboLPY3soNb9vztNFo5L1fW1urVCrOuStr5XL56uoK15C2e+8nk8lLw8q35/b3oxWlpxyhy7UXxabc/SHvhxDiONYH8d+bjvOb+vOi/Xy7br8f7UXnt9vtXl5ezmazyWTinKtUKrVabW1trdfr4dherVbOjvDlcrm9vf2WV75tmUYs89JuARQqdIr3ufb75XLpbGUXFVvaAfx7k77yJgx9yyvftudph4eH1Wq1Xq93u13n3OXl5XQ6vbi4aDab9Xo9hDAajUIIa2trIYTxeHxxcfGWV75t+Qa4iaIIOPi1cHltu+l63jN3ZfEbtJtsFy+R577Q9W/b69ledB47nY5z7vLycjweO+egrFxfX59MJqVSCdK39z6OY4jq3vu3vPJtu6ZBq0jOWGR/bDdh2S32WWWs195fuWpOufm1+sqbnnsT/33bfjHbcDisVqvUV4YQLi8v5/N5FEXj8TiKojiO4zheLBZRFFUqldVq9RYr37Z8o8NE7sO17UWxcrlc4oaAY94Z6qHiEymt47/8cFOXcJ9iw5Z4276v7UXljGq1WiqVlssllELlcrlUKlWr1VarNRwOQwj1ej1N08FgkKZps9mczWa+VqvlDnk8mH5GNwlHz9letf7oRcfoJp5yu9+cy4qK30AmdSLMwqBxOwblOsYrcxhE9qd6QP03Z6jROU2ShIJGFEXaMf4Ej8uZwmkcVIE6TdPi9/q+zrkoiohluIyIuVqtkiSBkQdC0Gq1Wq1W+MwxYVtbW9PbOlu06s+b45I6pKow1f+yV3AccaaLgFCWU+bqh5xe9XnW1bXfv2j7vuoQOKrP+YI3jScWtm5eLHucnaPRyDlXqVQw3ffu3Ts+Pt7b24NsDug8Pj7GD185r3zdfDtuEuVedX8UpHSb3b4Uir0q/gQ7nLaOHLYmSeKyVhRv6kguRKJAmqbqiw6YwH8JGXgcoAHX84Z4ol6mb4o7lMvlKIpKpRIA2okArp2kEuDq6iqHubgPO8ze4k/ovwK3jkMO2vCT4iCHG/w9g7nduSxwu5cn439fse8btOJQPA+3yLXVagVp2tk6j+O4XC4vFovLy8u///f//j/4B/+gVCr9w3/4D//rf/2vBwcHtVrtt37rt/7yX/7Lf+fv/J35fL69vR1FUbfbfZk+Q29KK6Lka7s6uTJyS+RahM2xVH7G3tZdjUYoIaUCvsB3J0kSbH4C02q10hHjZ16pX5KrkjaCLcZxXKvVSqXS+vp6pVIBvuOc52rmf9fW1srlMg58cMzlcklxZz6f4+Llcnl1dQVO6r1HAAZ667OSPv+rZ4bLYrQzVEV/CIt6sSssnmuP3td2Xb2h7ZuxGUTjcFWnaQq/8nK5/Lf+1t/6F//iX/yTf/JPPvvss9/5nd/5a3/tr/3Vv/pXl8vlw4cP/8bf+Bv/6T/9p48//viTTz5xzt29e/fbwMrXjVd+h3zWS/jX8/PZImIWh1R3LLFP/5oDSt6QIMLfAikAf0SNUqlErMS/sTWFJGcoCaTDAV4ulyuVytraGvCxXq+Xy+W1tbW1tTXI1yHbcAf8MI7jq6ur+Xw+nU4BgmmaQsdUrVbTNF2tVovFYrFYEEYRjHF5eYlvcA1pZhCFALqt3yhh5Adlzd576Fs5enrY3DRxL9ReFGG/q/X8qtu143DLy94Sk5qbdIDmbDb7wQ9+8Du/8zv/8T/+x88++2w+n6+trXU6nfF4DGT81//6X//+7//+X//rf/0v/aW/9N/+23/b29t75frKm37yqmWWm4b1pjiQm5p/SfrKEIKq1XIQc+317magzKHttTfBBcoHnezwa2/rTKyOoihJEgQwVCoV2AF5kziO4WOBP9FoCOEaGNdoNMrlMvwwataAmLierBP3TJIE0Ly2tgY8BWf03o9Go9FolKYp4BX2ykqlAr55dXW1XC75muVyeT6fTyaTyWQyn8/hbHx5eQn0nM/nl5eXOiZxHAOCg8njqpEIJtezq9faoL7Berhp3l80vvv7ipXu+RY5GxZPsXHT8UhDm8/nv/mbv/l3/+7fffLkyb/5N//m+Ph4a2vr/PzcOfeP//E/fvjw4d/7e3/vb/7Nv/nFF1/89//+3//8n//z//N//s9Xzitft7m8HZte9XNv+vd5fssP1/LKm86AnP8NG/SATlYkIQ/CMoTrEAIAsVwuA9xB+mq1Wr1eX1tba7VawEc0OGGUy+Vut0uftWq1ig/4YcjqGdnhJEm897hzFEXT6XQ6nc7nc2+xultbW41GI4SwWCzG4zFkcB4eQFvv/Ww2G4/H8/n86upqsVgAH0ej0WQyGQ6Hs9lsuVziJAD3hIDP7UTU9uZkp0Ot8UXkqs5kdr34psl6zrn+BW838cpvkNOEhx8OPMzvRx999Hu/93v/6l/9q1//9V8/Ojr6D//hP5yfnz969Kjf77/zzjtbW1uLxeLf//t/Dyrwu7/7u7+IcTtFNHnVKIlGxRl32tcelWhFDphrwYwtuTciz9InOkNM2mSw+GB1KZVK5IkAPnwJCw8wEeIzeCIgDF8qLFYqlWazibvh57gnUM9dZ98EBkVRBPIIs36apoeHh2CXeBFI9LVard1ug07iXdI0BXlkKgSQU/oVTyaT0Wg0GAwuLy+Bj5PJZDabQbon31wul9D6O+eg9yRcKs25dqhzg/w8q+Jtu6W9lI2J41NV6liNT58+PTg4+Lf/9t/+03/6T6Mo2tjYuHv37tHR0XK5fPLkyXvvvRfH8XA4xEpbX1+fzWa/cLzyplX+qvt5E1Y+p8yVIyy5ZQRW5bIvpVK8+rvgy/X1df0TxGrAUAihVCptbGx0u91mswkkAnpWq1WgIfx4YXvh9wgaq1arlUqFOnVnoAMrzWQy8WYTVzGchBdoNZ1OR6MROCAQFhhKMF1bW7u8vEQaGLgiYTDBc/HcarXaaDSgOV2tVuPxeDQaJUkC9etoNBoOh9PpdDabDYfD8XgMgR0fFosF7kkJHS1nT79Fi/LN2ove7ds56b/9dpP+90V1blifsHBCesBK/pVf+ZUoiv7lv/yXnU6n3W4/ffq03++/++67FxcX0+l0tVph8UARdHJysrm5Wbo2t5XPauu1i3TXyGnB8L3LbtFvoMfJncw5TvT8Y3TL/V/o59eC6S39yf1Q9YC5n1Addu31NzVoEunNAykSlE1FaW82E1zmjD8CE2GJXltbg0cu7gbZGWyxXq83m81Go6EXEBOBPlgh6+vrq9UqiqJarVatVvEgSL5qMwHjm81mkKkp7APX0Fsa3K+urmivBPICnZMkAag557rdLlAMvwIPrdfrzkLFx+Nxr9cbj8fNZrNWq8Vx3Ol09vf3oauazWbdbhcdm0wm/X4f+k3oOmez2dXV1Ww2G41G4/F4Op3SgkSIpF3ImaJjuVxirK6urmDdwiFBYMWM8HDCr0iNvWS10VWElhMvcte4n3vfvW6tuL9U41FsN9k/1tfXccIFca1LkuR//I//4Zz77d/+7f/8n//z06dP/92/+3fr6+t/+2//7cVi8eDBg1KpNBgMcC6+//77s9ns8vLyF04Gf9UtN8e6aoMomHO/uuWbYAZ03QaQLJw4FVLQgBbPmal6NpvFcby+vg7ooT262WyCBq6vrytyNZtNiNjVahUHMuCsVCrVajXQNG/mcuccoAFrEUtqsVgkSdLr9aAHxGXQGE6nU/S8SC3L5XKapjBhJ0myvr6+sbHRbDYfPnwIY1GSJIPBAO5ypVKp3+9TbwCsqdfrjUZjOBwC0yFZA3ZXq9Xdu3dxQalUgm2d3kiXl5e7u7uUwWEFOj8/n06n/X6/1+v1er1+vz8cDhEDhxEG46ByE2eYai05EVwJOo/FaVWx4/vXXpQPvqz75/7KYa9Wq//oH/2jf/7P//lv//Zvl0qlv/JX/spf/It/ETvl/Pz8/Pz83r17k8nk4uIC66HRaLzFypfcnnPub1F+oV1LMZztQLKVIMpK5o+C3Qb4CFaF7CkqJgMNgZjwD6cbEMALrjlJkkD+5c+jKIJmkKgHrR+J2GQygRwN4wnedLlckq+RBynxpJQE43uj0dja2up0Oufn53iR+Xw+GAym0ymAlcpTKDorlcr29vbW1tbm5iZ4aK1Ww+Pm87lzDjQhiqJqtYo7gBjipRqNBgKHOObQWsIcdHFxcX5+3uv1ptPp8fExgjqGwyEOCZwTwHqMCVnM1dUVdS/XCmo5oPweY+V31W4S16bT6X/5L//lD/7gD/7CX/gLrVbrn/2zf/aTn/xkNBrVarXf/d3f/ZM/+ZPRaLRaraBNwtHrm83mTc+4VhZ+3WTw76rd1B+1R98i73MMczK4E0zMiV3OvBdhcKAER0EbHA19WF9fhwS9ublZr9fb7Tb+C24IfAR/BBIRJYFWEGAnk0kcx+12u91u37t3D7xvNpuBP9IGDT0gNH2j0Wg+n8PKTFszwB3dBlYm0oCY1CthBMrlcr1er9VqUAvAmxJSPD3VoXjCwiuXy5ubm5ubm/fu3Ws2m81mM4QwmUym0ylOEagUMA74FcCrUql4c8FTf1KYkuC/OR6P+/0+kPrLL7+cTCYnJydHR0e9Xg/UFbI58iw45yCDg8BSAOcHrhOgPA5FuBkw6rS4Tm6SwbkTX3MZ/Ca9/E2y8039f9H38jf4/L3zzjt//Md/7Jzb2tqqVCqHh4fe+/fff5+2RMTXwpL5syQGb7Hym7Xn6Y8OSCSh0/w+3OzrU9weTuQ4eDICjBhsA+3exsbG5ubm1tZWu90Gc1xfX4esDYbI9CoMYKCUHUURnBCHwyFoFIw8rVarXq/3er3Dw8OzszOYXIB9IF+wh8CaDNRGP0EwF4tFmqYwYeva1YV0dXVFb01gqzPfb/QzykYHUfLFn0qlUr1eh7PRxsbG1tZWq9WikyZgHecHjgf6NsGgT90CqS5sRMBuwOV4PF5YOzs7e/bs2cnJCST04XAIj04My9XVFQaWKojcfnGmIXFmqKWzAbUr+sO3WPm139/UbsLKyWTy6NGj4XAIxc7W1tbOzs5Pf/rTnZ2di4sL59zdu3dns1mSJJeXl1EU/SLGOH47rYh9xe+L3PNaoGSjbAhocM4BAqCChNDd7Xbv3r374MGD/f39TqcDdFBApIqQMXyEHjCa0WgEKb5SqdD+MJ1Ov/jii+Pj48ePH5+engL7qN0DfAA6AdkwkQN6AFWAg0qlgqdE4r5OZSs6wzvjh+VyGTIv7ozbos+wa0XmQO7MybFWq3U6na2trY2NDbgfXV1djUYjng08M8BeO53O3t7e1tYWbFMQxieTCU4asNpKpdJqtegeP5/PLy4uzs7OTk5Onjx5cnR0dHh4OBgMoGcgN0zTFD7z2vgnPTjddXj6fWovi+t8g/t40QvzDpubm1999VWSJHfv3r24uBgMBoPBYGdnB+TAOYcc6ZAMWq1WHMdvsfIlt5vm8lr40y9z8HqTvpKAAmCing6W652dnb29vd3d3U6n02g0KpXKxsaGt3BsYApkRvpjkyvBuAEPRCwRyKFAw+Pj49Fo1Ov1ZrMZ4ZX3QU9AeyHdQ6NaqVTQDXhfwlkHYF2yRuyGYQdaBZhcrq6u4BsEq3pkvsSQjyDmY6z08+Xl5WAwWC6X4/G4VCqptznRCv4A+LfRaGAMNzY2YPcHn221Wtvb25ubm61WC1Q0juPJZLK2ttZoNOr1+ubm5v7+/p07d46Ojp49e3Z2dnZxcdHr9c7Pz+fzOQimzpoT1zHmMSr++7a9xHYT57i4uLh///7l5eXh4WEI4f79+0mSnJ6ewtS5XC5PT0/n8znsis65+Xz+FitfcrtJCHrObZBDzJC1ljrn6vU6iYlzDj60Dx48uH///sbGxvb2NkRv5ZLOtGMQsVer1Xw+h+0FIS6DwYB23tVqhYAZb+mgIWIfHR3hibgzBUaYYsAZ8SwQRhDAtbU16AQ2NjbK5bJzbn193ZnPDZszjFssFsH8JaEYJV3FWy+XSzg/zmYzoHNkoeugrtPpFAcJLN3UBuA+eH2AOwkpEbPdbne7XQwgxnYwGIxGo06nQyMYigrgSGi3251Op9vt7u3t3b9///j4+Pj4+PDw8OnTp3BXwvgQKHPKpRxKvm5appfbXvXb3XR/bp/cFNy5c+fp06dra2v7+/u1Wu3g4GA+n9+/f//p06dwgwshbG1tra+vX1xcHB8fO+du01e+UJ9+0drtth333EwB+jjnHAgXzMGXl5ewq+oWIh1zzq2trbXb7Z2dnf39/XfeeWd3dxe0CBI3rMAhhNls5pxjXAo+IP4P/BF2XqjbAJTwf3Rmp04t8c9gMEB8N3WOtO3Ad0d9xXE4U38KTSK42Gg0gqqUIYnOOVA/EC4gGiO4J5NJKg34DgUibdDe/BPB14iewEf0ZDqdEjfZc8ArWefa2lqz2Wy1WrCVV6tVQGGr1YIOtNvtgiDjjYD+GKLhcNjv909PTyGbHx4eHh4e9vt9KDcnkwnZN0LanZgBU8siChas64ftlpiFa6nTi8aVfwvtWj3sTRvkWr9vd7P+Ue/sZPRuwStoxjEXEHrSNEWxHURDwAkEW7LVar3lla+kFVdAKAQ1Uh7k98zpwD0MwZMqfxC6VqsFWfvevXsPHjy4e/dup9MBQmG+8RPIgEmSjMdjuIzR9wWOY1DkgWACEJ1ziNLho8lP2+02bC/ONHogreCPdN+JoggSN3CTvut01Ww2mzDgUHgHWFCv55yD1SWOY/BH3VToEgTznAMjwJR7TF3cvffg495c9HEB7kYPJ6ggRqMRFALQZrZarWaz2el07ty5A5+k9fV1oCe0mYjybLVakM23t7f39vb29/cPDw8vLi4ODg4qlcrFxQWM8ugw1QU+62LprsvlnPvwzZbf25Zr9A8D+cDpkiQJXWgjKaOC8Iq3WPnyW06O1kZYzIlgTkSznOmGGq5qtdrtdrvd7p07d+7fvw+4vHv37ubmJhSL3nuq+aCzg6cL4lIGgwGs1fA6vLi4SCX3BLghgJLhkgA+IB0zaOAoBgtDCyGULJAcuMkwcLAwiOdo9Xqd3BkYzZhrBjLR13K1WtVqNWhFNTRbE1hw3HABZXZOQWJZC/ENINWZ8wZeFn+NLc9xkiT1eh07Z7FYQAo7OTnpdDogyJubmzs7Ozs7O9vb291ut1arOecgpMOLfnt7e3d39+LiYmtrCxzz6Ojo5OQEimDIEE5OUCoKyLWfEyVz/ie/IBL9z98wzuDyTrCSKEnlFbbq1dXVW6x8ya0IlLp89aRyhpgQP6m8UykD1AwpfHZ3d+/duwfOsre312g0oApcX19HhB8kaKgX+/3+4eHh8fHxkydP6CJOazVkDXgp0szCbBrspx6tvMw5B9ccACUianA+k8dRIiZXIjwhJxu9naAWQPggH+G9p4cmIRgPolUdsWvOfE4JtUxz6Sz3O6CW2AR0pmtnKklo1HfKew/SDU1Fr9e7uLhAWrlms7m1tbW7u3vnzp07d+7s7Ow0m02I5xg02Na3t7cnk8ne3t7JycnBwcEXX3zx+eef9/v9+XwezCWWapYgeZI4bjwGchKJNr1GF9WbgpWvup+36xL1rOVEqHSvF7/FylfSbqKWRTqp1IamakTLQazudrtIY/HOO+88fPiwXq/D0g3Ktra2hi19fn4+m80Qk9fv90GFLi4u+v0+4/acxYPHlnhNOSD6g0eDQoJp/myhlErOEJORhd7Ui8Ecb0lLQeVwDVV1sI/DdINeAcdhTYIfT04fSqpFQPRm5FG9AW1EeuqQnq9WK6gvvHl98ufBbO78JrVCGnguDFyAYEDnfD4fjUZHR0fkj+12G+ZyOKJubGzAWLS+vr63t9fv9x88eLC7u7uxsXFwcHB8fJymKXz3GAzuTHFJyszms8a9t+2lNMguaTbig+c9NSE8dP3bmrcvvelCL1LLIEkPqTVLJY0NvmTqMxhwIGvDhoOtCE/pNE3H4/Hp6SlMCr1e7+DgAGoy5JiYz+cgOzCzsCEhLpmjk+INFMkrlQoTrAEfKaEAg5hhNxUPakrKUGiCCQKU+eKABuoKkPYcyV0wArCZ4M6gn0FMmWjEmtQcNlWqhUoBygGK/3RRChJeCZSEagK8G5Zr6FXxK6gdECKJswHD7pxrNpvb29vw0NrY2CDrv7q6ggaz0+lAm4loojt37nzxxRcIFJlOp3Bfd+Ka7q7zNvc3+5br6fsmoup3xStpD6ACREPX+Fua3UIIb7HyVbVrhfG0kAyR0OPNfwX2hPX19U6nA0EPXkE7OztAuuVy2ev1FovFcDiElH16epokyWg0Ojs76/f7wJ1SqdRqtbjhgSZXV1dQmcHel2QzuXnvEU8NrRxCDBleAuAjC6MOEVaR2ArmABPxDYRfLEQE9sAOriF9VJvC/Siy+mWIL4Q9hFdSLkam9FTymeMV8ESakvAskAiOA6ETXBV2baAkEBydJ+ySNUMlgr+CGw6Hw9VqNRwO2+32yckJvJovLi4gg29tbY1GI4jtUJvAu+vOnTuff/756enpwcEBjGxYISprK4jcgoDX2oJuwda3jY0b0Ml+VK0lv0d7i5Wvtt0kg+s32LpALlic9/b26vU6UBJqynv37jUajTRN5/M5dJEwaoNIDgaDZ8+eJVYzFqkukLcccYpqtwF9Q7XP2HL60lccnj3tdhs4C8ETIIKfA7+QTAj9x59wJpMDUtZ2VncBCIvsasj8BgDC9qZlHNZn3GE6nY7HYxrrabgHy3MmcdPkDTCFaftnclOphHBGJ+I5MBSUGb6ocHiCuRPR7pPJBCcBRwljGELAK9TrdUQ9YlJAkL/66qvHjx+D+N+/f//BgwdgnZAJ7t27B1tcq9Xa2tr66quvoIEB4KL/5NS3LyRtRRh9i5Vf25SsOEnwyuRYpPmYlyiKbsTKN4vJP3+76b2+dm1da51UwRktN/SkbNSmUeZ1Ripns1mpVOp0OohNvnfv3rvvvru3t3fnzp29vT34ppTLZbjvISL76dOnx8fHELSh76vX6zRPQ+WHaLzNzc3IHNG1q5eXl9jwZLWgYIgLLJfLRCU4dSOTEDI/IroG90GeCCc+krCYQyqnWdk5B//NdrsNDEJBR/DcEAIsHgiMAfMFMqJaDrJmQEYmx8xp5XHkQA3KOYotbZJqaXGcQDeKaM40TZFSBKM3n89LlsWDfBZgTZ8q5xx+CB5K+/54PGY6uNPT052dnU6nc3x8/M4779y7d6/b7cJPE6wTyU1gJR8Oh3hldDInhaRpimnFyQTWHLK+oq5gsvgG67x4fe7Ot9//9lvpf28xWD3PTXK8O3fZ1945sfqjiSSXolDCm/Cze2vb+cYtiAoS32C4E8nPqFdiG6+kshX28Gq1QtWavb09uKE8ePDg3r1777zzDvxRSqXSYrE4PT395JNPPv/88z/90z8dDAanp6fYWnhEFEXtdpspchk/Uy6XF4sFBF6YVui6CPsD7OBqgQWi5SIgkVAD0jd9fQD3i8WCVhfchI/g9ibpW61Wo9EI0eu4YGkNQO+cu7y8xJ8UqRmCST0j1ZTcFZT99ZTy1haLBfk1PTexE1AngK5FcHWCG1Awyw/VqYvFgk/H3arVajC7Nt4FQDmZTCqVytHRUbfbHQwGDAfY2tqq1Wp/5s/8GQRZIccHUHK5XOJuiYXnK0MMWW/cICaIt+1baG+x8rlaTtHuCtJ0Tk+U+6/+S4pHTWWr1drd3X3w4MF777336NGjBw8ewI+vVCohT+Lp6emTJ08+/fTTJ0+eQFPJrUuFNIGD1m2wJHxDKVs9H9FzmqTBj1Irus04cWZXYwC45m1MLRccty4DvfFQDW4BFgMWAUxXV1coQAZhlvafpdRcTKwERSL1G2Cv95J0Az/U2mepVM6Yz+fklZEk64zjGE9ZLBZMkxFbdmQa2TCkqougflNVruwG8npcXl4ieHQ0Gp2cnHz11VcPHz784IMP9vf3u91utVp9//33YfnZ2dn58ssvkZ0EUOvM9yCIWlkFlFTcSIvr82176e0tVn5NK6488prcNdjD9P/IbZ7EMsKyWCvSdzcajb29PXDJ995777333ut0OlC0DQaDp0+ffv75519++eWTJ0+ePXvW6/Xo00OSCNsF7MKJZR5qNBrdbhdypXpQOrPSgC0CCskfmVwSgMjsk6CExErld1AFBsumgVcDyQJe00HSi28pCJr3HjGLl5eXXpyBV1YjDJARCkW9I6mkFkvBDN48kYY/1Wo1StO4CQZkfX0dilQEcdZqtVarhZoTPG9iK7xBxgpshSsrvZqCVSmgJQ2ahNVqhXCpJ0+eIFT80aNHjx49gjIanu17e3udTufTTz+9urqC4xdUKHr0puJCz2GJC7GA+pO37ab2DcbnLVa+hKYEM7Z604mFKlPe5GbGBdVqdXt7+/79+48ePfrBD36wu7u7vb3darXgLIkG0w3yJKLODHOs0d87NX9MPKJcLjcajTt37uzu7jabzUjyAwIiIc/CKo0wcLJFeLMDDog1qbSVJQ8nNSMUOvMVJRaDduXyY/KoQJILEkaK5EzIRp8kNa3QIVT/pVjqLX8P+qA+51EUQZSGMoFfQkVFSs4y4jyQGKDJf/Hi8KZEeUhYuthz5bNU5sIzCZnS5/P50dHRBx988PDhQ/g23L9/H9rezc1NHJCnp6dIHeLEsSyV3KAvqnl8237OdmPujO9re1Gdd5TNxaufc3pu6pKILN6stOBZYElwiKlWq++888677777/vvvv//++48ePcJETCaTx48ff/XVV//3//5fOE4yEzhS0m5sbED6AzF05pqHzYM9fP/+/YcPHyLhMzYwhNzpdIpMGaiSSIs2RW92krsxkeAWZ6QGIAVOF6yIqLdsaUxl5IRr06jCnOROLGD6W+WtGEyY9RF5DfMXQ4ZU/0BVgDPXJYV7nAqoNQYhlzHv6j/EBn+pijU8Gs7/yCe/trbmnIO9i9lJYIDizSGGews6xpTBCL6+vg52eefOHSimkyRBWOrnn3/+k5/85LPPPjs4OOj1ehgBiiYMWEjN9e/a9Rm9YA7dm1p4ebad76Td9L5veeWrajnNoyssHXzJ095nC3Cn5gsCo0q3293Z2fnggw8ePXq0v7+/s7Ozvr4OveSzZ8+++OKLZ8+eDQaD8/NzJG1mB+I4RlEE5xz4I5yc19bWSIWQ7nd7exvKQQDiYDCA1gxYycTmkLKJTaA/174R+Z0aiCLLMkC85j3poqQs1ZnekGzLGf6CjtFNh0/BuQJnT1Aw1r1AD1PxKIjjmGK7Ewqfpmmz2YRcD1M+xGcWm0SjIhIZ4cpWIR1R3qxTtL6+jodCBcwYebJ1qi+gaaHdDEdIv9+/urra29vr9Xq1Wg3+SbPZDE61Ozs7zjnMY7vd/uyzzwaDAWV5vAuPBG744vp82156e4uV37wpXDrZn1TPBYk+bjQa0CTu7u6+9957EL0fPHgAf6DBYPDkyZM//dM/ffz48dHRUb/fx/bodDpw4plOp2AogKFqtYq4OjjroS5jZKUUNjY24jg+Ozs7Pj5GNdder4dy2wALWGldgX8FC6oh3VPvRUAG0IEWFXxm1CN84NFJlYLJ71hfwWXjxMlkcTekLl63Bn9MGltIaQkfpLewWamlOGcDSdMUbvwXFxfIXszak04wl05RODwQYwOPBbijY3zANKMoarValPHRIHHXajVI/Zh9uKrU6/VPP/0UJBemcMRKIrCn1Wr94Ac/2N7ebjab3vvHjx/DRuSyR5d7q5T8dlspp/igDPK6HVA3LYubvk9vcKe4hZNfK2tAxc6mnkCJ5QFy5qUVWyAdsi7Cl3A+n4Mi7ezs3L9//8MPP/zwww/v37/fbDZBvlCe4eTk5PPPPz84OOj3+yh4ACIDmgPhGjeHEEcoqVQqgJJ2u42sPEiIf3R0hHzdtHRjc8L2gtBsqOe81XuBNi2WUhPEDuccDB2RZasEGgJeqTekThOGdeAyrcZwkAKOaLw5x5bmGmTrabfbyNOBRxAiwdOD2coUGWmBwTSBw3oxl0eW/aharU4mk3q9PhgM4F0QWzIR5xycivgg5xzcEqCBRdHw1WoFaRoyMvSb8JNfLpej0ajf76PmsHMOXU2SBNoA59xoNEIUaalUOjg4GA6HnU5nPp9Xq1X41ZbL5W63+/HHH//+7/9+FEVHR0dQxcAFtVKpLBaLer0OFW0ssQDqSqXYGqQW3nO23P7iHknNpUkveA21qLfr1p7/eveWV36zxpVHCY7aSWxXbDBABhJov/feew8ePPjlX/7l999/f39/HzU9FovFxx9/DDM3c3axWlZsyeshtyIvww9+8ANsTpA4sCTuEARWI8wOxbP6/T6de66skLdzTgMKAfHBkrApXNKmQedt8Cmo7bDg6HzjzMhOmXR9fR2mJHQSSAFeXLLSN8BZKuAAxEgSDPUCYTR3UDnJr+5M+0mfU1cIGeRMOQt4r9VqZLt4BRbRdVaDCPck3DebTdpbyK9rtVq3243jGLGSSZKAPgNeqcH03iO9U5Ik0+mUH6DHxM+Pjo4QPrC/v7+9vY1w/uVy+fnnnyNwHi/OVCCRZXfPiQKpeV/5ny9I/HXDvu+wvcXK/99CNknBtauEX0KKVGcR6CihT4ysomm5XN7c3Hz06NF77733wQcf/PCHP+x2u1EU9fv9k5OT09PTp0+fwh/o4uJiPB5DLwZjAtAQqx/h4Qj5wBNhTwBJRFQPVGOwDyDIB5aBxPL0QB2ZitM4Uy7CUkHdKO3CtDUDXLgJwcvosqPMDnBcq9XoioRNjjsD8eF9DasF0BDwChGezjqU1r3kiEst2SVHnvo7JzrQXKNS0lk8Bsg4tQGLxQIYjYmDmgJ8HFnNQcNxilxawwuivDjGBGcGHoH/wugPpQdqUYAJXl5ewgkM7ujOuaurq6OjIyipZ7PZ3bt379y5g7MTypYvv/xyMBig0oZ6RCmhU6wsssK32PeN2xuPlS9r7q89e4NESuT+yl0aZX2hwbycyVzNZvOHP/zhj3/84x/+8IeorQiXoNPT0y+++OLx48fItrBYLCqVysbGBsTDEALiuIGSsGlAE4fSHzSFE0yxfyBoI1Ul7AyQ+1zW8ZC3bbfbKJyNXQ1fHx1YEs8rK3UNiqf5h3SvckAiKdBIkbBcLsMvig6hAEp6MiVJAjrG4GvSQMIc0RkPXVkyeZrO2U+dtURiAXEHvG8URbhDkiQw3VA4mE6ncCFA1A2dnJxzS6tygROr0WhMp1N4KSB2E9S7UqnA0wvPwtMxyN1uF9rk5XKJhFIoXA63zT/+4z8+PT394Q9/+KMf/Qj1e5GSHYpOIHuSJGUrNOIEFtNsuniXRcwX3S9vOrbeRKi/wXu98Vj5EpuuuVs0L/geQiU0fUEStULlhBQYSJrwq7/6qx9++OE777zjvR8Oh0dHR2B8R0dHKDO9XC7BpCCFVSoVljN0pgNN07TX652dnZUs7x6dEBPz3wYZoRXIF2JanKTs3djYQC4caDmZgheqtFRqHwLsYJfAYcCqO845nA2peBTi0QrNZansOJvNwCWRHHdtbQ0FLVA/xzlHww44b2T5NSJJPOwtpflKcrL560qvsFdQy6p6FJ9XqxUqkTnn+F4AcRxay+Wy3W5fXl4Oh8O1tbXz83OMDEYedHhtbe3s7KxWqyFrBt2b1qQOO1SfiUVAVatVLBhkjQohdLtdvHUURaPR6PT0FD3/8Y9//M4778DnoWK1J5GuNISAM5IvpZauV7NLfnHbG4+VL/3cy92wSCfddQGOJFDYABsbG3Cf/NGPfvTRRx9tbm6iFMHjx4+fPn3a7/fH4zES8UJcwv70ViABgh7YVggBDAvCrBO26wzUwI9gSwHjoG1aZTHKnkjcjUIIoDPYZpHVbwiSEDdYfA4oFbWlqeXgCZKUW0cjmHsm2B+waTweQy3YarWgT2BujuVyWSqV4CHUaDSgOiR/JLoR9BPz+XcWOepFa8H+4Odqi1C+CTsSHUX1/swd12q1oAtGED3yE4MXg9qDNsIc12q10H98wDsikBHWGB7Gd+7c6Xa75+fnZ2dnBwcHs9lsc3Pz3r17u7u7u7u7vV5vOp3+9Kc/xfx++OGH7733Hgxi7Xb7k08+QcZ76hC4HjhcN63hF2ovkZd9J+1F+3/LWL3xWPmyWshqwZWLXTt8wA6OOC3gzrlWq/Xee+/9+Mc//uCDDz788MOtra3pdHp0dHR4ePj48WOUBoO3I3KUMRbFW14TMBfIfXR4RGgN9aE0GdOLEDSHAiz7E8x1ZiU1u1G6p9PpgD3RuYeEsVwuoxtpttRtySpuA469qMDUOwfWc3qMg7F6i40Zj8egjWmajsdj6C5h8wHQgOcWh53St8qeCn8ryzQeSVJL8iyOA41FsVUoowcoTf/echeBJLJsb6/Xw4MQ2I55QaFUFM5cWdUjWHXAlEFa0e1qtYqcJugPAj2DlQ8E4240GgDoL7/8Em/x8OHDvb29KIpQtcI5d3x8DH0LglM5JjgqfEFZ+U03x9vm3Fus/Np2rWTHD4wFhjAexzEw6Ac/+MGHH364v7/fbDan0+lnn3325MmTk5MTSHAadQOZFFIn4A87De7icJ9eSXPOJZZzN7FM3fiTl3SNjEWB7Mz7UKkHGRMXryxy0UlGSOccEESFa7BOxKhAb6CQRBRzZvUCt4Ull+7rIJKweHjvoQmFohAlZxEzAxyBGcRZXUZavZFUyUvEDvqfWpZWCuYqChAQFSh5RgYr/E0SrVpOuATt7u6GEOh9lVpLLC0T2D38imq1GvKrQ92BcwhjXq1WcWY456A1hlw/HA5pkW+32whXv7i4+F//638lSQInCnBVZE3+4osvuAAwuZj6peQPDlmj5TdY/8X2pvDKl9h+lrtQvypy+Nxfr/3+Jn/G+IY6vy/avoFOWmGOG+am9+L3OeE6WEkDbFqAxdJqXfH6UqmEyqh379790Y9+hASUDx48mE6nP/nJTw4PD2ezGUpyO+ewo6Chx65oNBrNZjOEAIMpjLBXV1cQxMqWnBxhHtQtBnMwpB1DZW2YkieTCWXkxPJuIA0wVXj9fn+1WtVqNbI2GsRjKSHLPemcg5ketiO6+5BC4jwgFY3MQXJ9fR1Oi/AGh1kZ37daLeccfIkg2wbLRq4KB/q0riw5rhO9JCeLXaJliXHfTqTyxDLLoYGGo3vOvAhxwWw2iywpOpLGa9YMbzntIyuiSxeFy8vLKIoQ2Q17N88M+JN1u93VagXXIu89IqzglA6an6bpYDBoNpuQx3/wgx9sbGw8evQI7pmLxeLw8BDpjuAeC+IPCcOZopbOBjftF591FeCXqq/QoVbOfutG/Jr7P89vc/d5oetv6d5N73vT9W955dc0eti47DxNp1PGkwA4NjY29vf3f/jDH4JRViqVXq93fHx8fHw8Go0ggdbr9el0ilLdlOyYjCeY5+NkMoE3ezDTSmrxf8Q7xPyBgjnTG5JyOtvqkVVhzCmw8HQ6NuG3ZB9KFfETYpPSNJddcFx23vtqtQqgYW/hY9hut2EWozc7Xq1sSTapJSTYKZEHViZS+oJ/0s9B1AJONiq7d+3RqJ9jS53nTMGCf8EZ6UXP4cp1ku6rtVptZeXUnWl70zSFwwNAH+pjRLWWy+XRaDQajQB/8DArl8tw/0KqTUjo+/v7V1dXT58+BS5DfwomzgTMTrQWTtSar3+7yTb10vlsbs3f0t5i5dc0Hq2x1AsGu6STIMIKHz58+Ku/+qs//OEPHzx4UK1Wz8/Pnz179tVXX52dneEygMJkMoGTEKtZ0S8Hax0pHvr9PhgW1IvcaWWprUhSCQDlMsIFJWshBNCKYM5MIHr0iy6Xy5D6cRlf3MkCIv9SaTeY9cZldbt4I4BjZP7tGngOjQHoJ36CfJ2wINMYrYSRFI/kSDH6JuwjCQqWpMcJVir6OxE+nKn88HNw6sgKBwFG+dyyZQvFS4FuY2SghUTP+/0+XDhbrVa73YZ5fW1tbTgchhCQ4hdhlLPZrNfrgSQ656CcgSPB+fk5nNLh5R5C6HQ6UGpjPLnSaHMj7XW3ylWvW/sWZH+VOJ+nvTSsfFPm4Bu0NJvKP1iMHUGq3W7D5P0bv/Eb9+7dq1Qqk8mk3+8jspuWBFg8Uehme3v7zp07zWYTATyABiRJQ4PsxrK3ILCNRgMZvBGcg3I06A/C7Lh7mWcX+SUhAKoID+rhzf4OS3TO80aFeieZE4EjiWWrxCj5bNzbKlthMbZ0kICPpZXhTZIEZmh0NXcYUF2IpuAYZUtiBFG5BFHPFfGUcEka7gpB/blH4HNiSfbA3eg5jwKNW1tbtLBNJpNyuQzJAJ/L5TKmzHu/vb2NPkBPDevW5eUloldLVl9wNpudn58nSbKzs9Nut7e2tjCqKOkTmfvqnTt34jiu1WonJyd4HGAxZ/tS+v8L1W7BJZUz+OEWjH7LK7+mBfF2JlZi1cJ7Y39//9d+7dd+/OMfv//++++++26lUjk7O3vy5An8zCF8wWP55OTk8PBwtVohv+Tdu3cZKYgN0+/3z87O4PmMTYgkiaibCsG51Wp5s4Rgb1DodubpAo0kxPNGo4HpR97v0WiEt0CkNsJ1nFAwYIeX5iRsRmV5L5YcL642aNRXlqzmMszBUPsypMd7j2pogEsa7tkl7vxUXDhd1jlGwVHXugKEUir1cteYSG3wBIrEoT0YiV6tVvCcxxGFCdrc3CRWwsS/tra2WCxGoxGsWHTGQmIUqCA2NzdxtoEYIiEx8k4xrAvabcQjRFGECktra2vID72/vz8ej3u93ieffPK///f/fvLkCVitnmFOzow3pd1k/3jp7TuQwb+vvJJmYh1T7P9arba/v//BBx/88i//8q//+q/fvXvXOXd4ePinf/qnX375JWQuqPDPz8+Pjo4AnWAT8C6sVqtQbF1dXcH9+OzsDF5BoJN3797d2dlBzkqYF+A7DfFtfX394uICjtzj8Zj2HHhE05cbSMdAb1hXYE/ARgVNxlbMYaUKrcRKLz7PxCkVYL05ikKaBlGiqcc5xwDNYHrSSBJ9gokHcXHXxqmhPvdaVhiylSQU91NzaE0tDqfIoyHGQonBpOige3BRgC5yY2MDcesQotEBWOra7fZ8Pr+4uDg7OxuPxxAL4AZwcHCwu7sLvcfe3l673U7NowsOBpubmzg+kfIZr4kAHrxLrVa7f//+j3/841/6pV9KkmQ0GkF9eXV1dXJyAq+DxIr2BKlz/a1smpfQbkL2F8WZW3giTxG95i2v/OYNGj0vDijYPBC7fuVXfuXDDz9E8e5SqfQnf/Inn3322WeffXZ+fu5sGpBvDd+0223kJdze3oYWEusbpb3Pz88hCCP6e29vb39/f3NzE3m9yGcRYoioR6gFkVIBQi5ytbGsIDzvsO0h8TnnIOBfXFxcXl5SHQZP6VTiqSNz0wtWeytkA0J81rhBGTwy70VAFYumlUqlRqOxtFpj4LaQZ+Hv7SxjBQmm0qIghu+cHwKvTMUyTqKXSrogYj0Dkyibe4mM9KaIhKiLHO/QJCIBJcK0t7a2Op0OjiX0B1YgYOh8Pu90Omtra8fHx2DWMPtcXV0Nh0PMJkNxIqk36ZxDuTrnHOKaUisYiSMHZBy6XUTHzufzx48fDwYDvD50HYo43sI6X91meYntZWHlTc1f50R1+83fYuXXNBZXoESGDzBE/rk/9+d+9KMfoRj3+fn57/3e7/V6vadPn8K4CVFoOByenZ2tVitI0Ht7e1tbW8jlhRgbOND0+31EHMMp7/79+ywCATQEr6zX6845ICOy2gwGg9FoBAl3a2tre3sb+SuxJ4kXgMv19XWIe1EUDQYDsFogbGyJP7hi9HNOJHfZGG1e7wynIOdCqcdYGucckoMw+dBkMonEHdIJJdRn8f5sJLO5p6vlJzX/fGKlNg6LyxJngiZdtTSj3fn5OUqHg/hvbm4it54OlKZEwhmwtraGOH1kcovjeDwew4xzcnKyWCza7TY8Imq1Gnxvq9Xq7u6ucw5p+o6Pj3EMQO8MBjoYDB4/fowkp9VqdWdnZ39/H9WJGSCkDVrXl7ArXn17DeXUG7EyZBWfr2HXb285n4OvfQvYgrF5YimPQ/e0EAJEm3a7jYSsv/Zrv/bhhx+2Wq04jp8+ffpHf/RHX331FXyD4GSHUF+4v7G6DopEVyoVQPBkMjk7Ozs8PITpE7bgdrv9zjvvgK0gzw3E+TiO4ZKZShA0fPFOT09hjkcWBlgtGDGNPY9UicwHAcCizRox7HBsJEN04gTObyjekr5FllcpsYyWqTk5xZa7DCYO8LXt7W16YgPOAKmgV5gR0iKVxHN9UKqIH8JHB+Zgb2GR0BpjwHlzZwW+vdmRNDYUI7ayimzz+Rw1NaHr2N7eRqgolAxRFMGvvmR1InEsxXG8Wq12dnbW1tZOTk6Q0glJ9jCPSMiGyUWWE6AwIikR2hBCQBz6xcXFcrm8f/8+zkgEjB8cHDQajY8++mixWGxtbf3ar/0atATz+fz8/JzVK3HnYC4cLqst8dkQVd0XOXLKa27ZSi90/9zeDAXl8s/ZbuKnfPQtQnfu52955c+ayp74hjsT6OktmHpnZ2dvb+/Xf/3XP/roI5z8T58+/eSTTz7++OOjoyPmSkAMxsXFxWKxKJVKyGHe6XRQKiBNU7Aq7IHhcIgNAxVYp9MJllM9NRfFyKq8695mNDTS4sJSFMzMEkt+71TKpQHLgDWQLuEkr/uKwYLOOQBNbnDIH50IsNwS6ovjBF6Jv5D6gV80mtOr8ab9GbKqSS8N36wsKJOdBHJ5USm4LBDz/rEVQStJzculFQTGUG9ubgLymKaXYQK8gxd9LrNzwuYDV4fpdNrv94NkvoCzFBI+UY2A6PhWq5VY8uDBYFCy0j3D4fDw8DBNU6TSePToETJAoxxFatXSMY+g1ZTBc7L5N9syv2jtLVb+rOUsANxL4Bpoa2trW1tb9+/ff++9937zN39zY2MjhHBxcfHHf/zHv//7vw9HYlwJ0fvw8PDi4gKqelhpUBggjmOEhF9cXAArEdIDsw9UXbrlCCJOQIcGClASVhx0kqRWoS2VoBfaWKAFg3+1N1dw4FdiGYKBMpqTTXdXzo/PS0aPIAm6KQ7j4KGG1FsVmiCZhpmzI4eYOerhxEDPKYNtSk06eGKRk5I782jBIUe5G/8iNjSKIiSCgo6YxdGC1bFgT4I5TqjhHlnrG40GMA4zBaIKbTV9gOCpHls0OtwhMGUhhLOzs16vB73nZDJhbD6XGThmHMenp6e4BnkzuQCigo/3W6x8zvYWK3/WcjoHSnzOyEu5XN7Y2Hjw4MEv/dIvffDBB3fu3JlMJl988cVnn332R3/0R4eHh0h0BukJCias162trQcPHiB5JdY9lF+9Xg/GHBRmcc4hvoVFuHS/EX0SS9xLP0RsXXzwUsWBAePOdIvBwjGR1Bak0pk+Dlo2TY2Rmr8OLaockBxiBtFUKi1VfEffcH96dANZVpZpHH2gwMj7Xysr+WwweCqFg3BDYF8kbpLsDKFcUQlHCGAU+dtxvfr8O8uITiEd1yBeU92MCJ34FfwW4O4K8x0ehwWAjFN4OurN0fIOaQYeSLCGjcdjMGW4LkRRdHJy8uWXX3a73b29ve3t7dFo9N5778HVwTl3ZQ1q0OKofgO4VBE7t3Fe9FZvSnuLlT9rnHtikzO5DODSbrcfPHjw0Ucf/fjHP3733Xe99/1+/yc/+cn/+T//5/Dw0HuPqg+z2ez09PT4+BjJx9rtNszZ29vbWNnQfPV6PUT+DodDsCpEhWOfwIqtQEnsU6ChgFyWYoEuG+/szOfRmx8i5F9QV2hXvYV8kFgx3REGR33C0zSNrHyjl4hpokwoqJwUK7WR5OYK2OaE9+K2VCbLn6BB7QACC4wLkhqOjJJvBFGXfUgtMSgK2kAexwIAi2T9JT5RTw5l4l6ykOCQoCocmkqI2HCBQKSWcw5+Czgv0ZnIiqp3u10kioZxKZh6YX19HflZvPd/9s/+2d3d3QcPHkBTCVMSjeO54f35cU35xM95q9e/vcXKn7UcynAPYNc1Go29vb3333//gw8+2N7eLpVKX3zxxRdffPHxxx8/fvzYe7+1tQVt1LNnz+BPV61WYSeFAx2QFAJXr9eDjhLxjjCMQvoGUKIOTG4pEzJIgrAPsQOd5HDUhZtKCDCFTaZvgHaSV+oJ4cxsqlBFgIgsq4WTumwcOtDS3JDGllsXEIyOwWiGZDyRhBXm3trJbuRbXEs2mRuJ7I+8WDFC9aq05zgh0VBrQEvA19RYUo4VfkgayJVDYOLAooH+08eLidqurq4GgwGwG+k7MSYlK4VE/cDR0dFkMsFgwo2/VCodHR3NZrNGo4HioI8ePVqtVsiUyjpLJck/9HMi5lte+YvbSBa4W0pWwqHZbO7s7Dx8+PCDDz7Y2dm5vLx8/PjxH/7hHz579uzg4CCEAHPNfD4HCM5ms0qlsrW1tbu72263UdQUSkxkG4KDca/XQ+rGOI5rtRp8QUAnQfGAWUGy/mB70DLjJfiaAm9qQdPU7lPahUgeLB8E5EFKrEEsyxwTCtHoSQ7InCBsZK4/qZineQ0BTu9cshIURKVE0vc60YQoUCqR8YXoPapE0RPQNPYHjfoEoAwc+L33cPlEZFEkRc+DqCBz6Mw3QuwNrWfeYihTczIPoiSFWB3EKr2+vt7r9XB8RuadurOzA5EZkjjM7uhPr9dbrVa9Xg9v0W63YaP/9NNPEXH73nvv3b1794MPPgAJpWgSZVPl88PPsXV+UdpbrPxZywlW3NsbGxvdbvfOnTsPHjy4e/dus9ns9XoHBweff/45fDLgO3J1dXV2dnZycuK9h9oRXJLlrRH+DAEciWQYbIOIDgAlDB1RFHU6ndgy2UQSxILNj94CX3iZN2UlQEfjUrjnk0IxNWfRe7ktpDST7EZtJi6LjEUUKxINbwZZCvuEHpwN7DanozhNnJoiM/IW90I/fKADH4TbkvRBYoDqEHI3kqehn/its6MiMlf5nNDNf3EHvB1BGYOJ9yVMx+bJBHaJMh7Oanb2+/0oirCEcMqSz6JgJLTMyNcH0xMy2iGO9uOPP47j+IMPPuh0Ou+++y70oagzzAK81w7dS9lH3+NWes4xep6TJ7crdLm4LGl/iRNz063UNqoLIsdEVJSbTCadTgfsD+AFFIP0fe/evfX19eFw+Pjx488//xwrD5wIQIlDfrlc7u7uIlpjfX0dKaxns1mpVFosFv1+H5pK5CtcrVZQU6LuDUOnoT3EpnXOlSwHMJJskySCM+JdimhIXxaaSgAiGIqV5al1zjFoxAkWOMvDBjcaCt3opBNru9p5eH/mecMNARbOOQjjCKaOLYgwmFAMAMW5AoBm7SBOH95LbSkuGx5Oy5IzCHbOgb8Tobxle4NeMjaXVS4eAGUURQg6ogXJZdURqSSl11OEcM+3wxFICxLWEgcBp7JzDtXhYdeGT0Kr1YK2FOIzDlG8Ed40SZLj42P4Gz158iSKokaj8Qd/8Acffvjh+++/jxR/SM8MfTp0Hax+EVktuRz9D5KZ6Xn2nZJ3lz1FwnP4S+bQ4/aLv4WWQ6okSd54XnkTiCtF4iwGi43zEpznTZLFDsFRj40NezSiBlHXFCkpoRvCinfOwUDJpQydIxyAoJBarVYsVQjyAukbAj6qmCEpRmqxgNe+F7vN90ot75G+DidY351kyklCEHxJZpoWspY5sVc4MRNpryJreg5F4mupk8Ju0y2pZAHXBD4yOGe1hXM/x0ngTc4lKEN9QQj2Yk0qbj9yTJ/VveBPcJ8EQtEov1qtYHLJ6SL1PL72fV0WW51Z5FhjHYcuHOkRTDmdTofDIQucMd0nRiy1yFEALl4Evz09Pf30009hjXz33Xf39/ehGjo/P0ecGFpk4QOphbFeu96KX3637ab9/qq76r1/47HypqYLlN94qahDIY4XQPOdpil8jL33nU7n/v3777777oMHDzY2NnDgQ/bB4nbOITEaMgPBx21jYwOHPMRwWBtQ0Go8HuN6ZCqE2zlCHlHYD1kLi4JSyJqVuev4WUFfpb+V5IZAw/YmcaNZI7GirLlhTM2FyJthN5ZcmWg5jHZmICKU8FapZL0E6LAkOuAyFQs7sInvqAcD7cvaeDBgLiC9Qv9YFCm82KkTy5FMfOcacOIumiQJVcORuCKlEoSug5C7IBUneRwM1NLGlhE5jmMcq9Pp9PT0FMro9fV1XIOH4lcQ2KFjxRkMxjoajb788svVarW9vQ15BUnUkR4wSRKE0pKeB0sm74QA3oSeuaZr8jUE1pfYvg9YecuM5qCQW8Vl51i3HzlLFEVra2s7Ozvvv//+w4cPt7e34V7e6/WQ+h9XTqfTi4uLyWSCmioo3QcNJnJTIv768vJyOp32er3T09N+v8/S2KgO1ul0YCVH6A73pysEq/Bzan7F/C8ZWY4S0m2I9IrMIkiSHqXbObpEs7Ka3YMoNIl9yknZk9yL0Ffcew+nHGTlYW46dgyvQHzMAWLJUpyRqeERIJW4M+6QWNC3E7ymvjI2N0nyR4rnZKNeWo6ickXpOlQhlMOoaJKaB1Us2eEAl/DS5YJJ0xRpPcE64RwWRVG9Xu92uwisRP1bBE1CzTqZTJ48efLJJ59sb2+/8847m5ubH3zwAUIkURI595ouyyr0LW5qxb/mdtYrat8VIn8fsPKmVgRKlz0tuZTJdCKLjI7juFqtogDp3bt3Nzc3K5UKE2TBsAgvPDhIhhAgR8NpsVarYf9DYQ9h6uLiAsL7fD5PkgSxa8jMBsfjlWV+i6U4QTCLDRdijqOpWtYVeLQz+kwA1dsGU3p600JCjlNpVJ+lhw1bzj5OedxlQ/KJlXQYwiDHcdxsNsm+qYDz3oMlaYXCkLWJc+4Unek4lZo/gOJUrqtkaqlFr/P7YJpfNlU+FHdseoPCQafMyREIXk92TNVzkiTNZhOPHgwGvV4P4QnU59D21W63cYYhtQoSZTIB/ng8/vLLL2Ea+qVf+qUHDx6cnJyMx+Ozs7PFYoG8fE6CFN4UVniT/rQ4/i+9vfFYecsc6wpQsMitXf0vllqlUtnd3X348OGDBw/29vYQXQu/yH6/j6JaqFiLbC7QOTabTegfgZUQHrE6T05ODg4OTk5O4ECHyq6I3kWiSW8lEyiHKuQRKPkKqZU0wDVRNjzGiwyO9JT+uuaEn3qzmdBSQeqBR5Cf0nYEqCJWOkMZApDiGgCUxxJ0HfDxRsBfZOE6IJ5qt3F2SOT4nR6EBD4OBfWYqaS5DKLb1YvJkYm2OLF0oJylEbmJUuVemXcuLtRgDqcaLASwXq1WlUoFSw6Ky+FwiMQoGC4cKuCbm5ubsPgh8gfR5VA+XF5eHh4eIhXxgwcPOp3O/v4+Ul4lSYJcBFDNYy50OWmHc1/e8tdvh1d+h+2Nx8pbms8acLyoKRUf8T2kG1gk6/X6w4cPP/roo3v37u3s7MRx3Ov1nj179uzZs4uLC5Q3gQ85gLLT6UA1iSJT2P8hBKTGePr0KbASxaOr1Sp0lEiexnAR2ouJm3wRBYXi2lVJihte8YsYkViId066xH14B0UT/pVYqYYOcpyceUcZGTsZmb0VZwz4O3mQEmTuQ+Jyjs9eOw65Q8UXtJOcdH6jSgxnQKkwzTsUDw8nIKvAnetMKqpkJ/IN/kslACuDBtMwNBoNCMso54mgr/X19Xa77a0iI9Q4znj6aDSidwTCdR4/ftxutx8+fIj8WB988MHp6WmapojnYR0R1K1030hfqVvpW2jfAn+8toXvQa7fW84xnfgcVqZZw7Fzjv50pVKpVqvduXPn/v37nU6nVqtNJpPT09Ovvvrq6dOnSA/jrYQsVGOwmdbrdST7AeAibvf8/Pz09BRqyjiOQTw3NjaQcwjJKEl/uHtXqxXVbbkXzO185VlOqCXXLnYyQYeKS4rJOXqVI2t8Oo0bqklM0xT7jUlDiB1qv9Z+0vMRal8qT/V9SeXIjnMInhbs2kGUzl4ySOI8I23MoWdOoGMnc3Ybfsg9Mde3a/mmjqc2VQ7oGeNM1oHzObJ8zmazyWQyGo0gx7DOMAIcO50OGCgDxtETFBZ/+vTpV199BZPjvXv3tra2ptPp8fExlKGuUNToNW83YeVNsvlLbPnMAmi3nCq3YFNx+QYhbq+InBdlB7Si7EM2BB7nnEMm8OVyiSJ5SCtZrVYfPXr0zjvv7O7uwv74ySeffPrpp4eHh/BtHgwGSMgKN+a7d+/eu3ev2Wx2u11IRnDdQALBw8PD4+NjiN7r6+vIL7m5udlutyF6l0olJDUAqaEnTRHsiHTeRGDN5aODzAn13uPO9I52ho+J5E9S9kfaqNJ0KsZrZ4cQDUQAdzotRpaAAxsb4EiXeDpXReYXCbkb5jJ2khiaik6WtpecIV4xiK+PnuAt8EOtBuyyvlBe0pHklJhMw4E7ME5f1Z14d45GDvt81jMJn3FOoJBGbIXbQgioZcY6SKCWIQRU97y4uKjVajjCAaOIO9rd3cWAo1Zdq9Waz+fOuel0enR09NOf/nRtbe1XfuVX9vf3Hz58OJ1O9/f3B4NBv99PkmQ4HMIbiacLPGpDCHBuvWnrXYsbOqR65e27+NqbX/v9K4KRr23+e2Db0TF9ninJxVRgY8OfPI7jVqsF0+GdO3fgSQebDKK8UaoBUIjqC4hNxAeYvKk/GgwGZ2dnCHlMkgTRO7DnwKCJPZNIwLWug9z56c0FJ6dHIyaGgrcKX5BciRTSi/cPzQvUgpHsxBZhmUj+cCWhhEvyOO22vhH3lXqP6+tTsagoyVdwhqr4lQZ9RmYh4ZvmDoxi4/HD9ypeoBw5CA/NvZR2kkoGMlMvimP+xIvOITfFPFrwGbZvLLnZbFatVqfT6XQ6hcclgJi+VovFYnNzE0nycQ184CaTyfHx8eHhITJd7e3tIcFVvV5HUDlc8cFGU3FswL8MLnjbrvd5/gbnwHfVcpsz91dd1jkkos9NbPlZEVV29+5dYuV4PD44OHj69Ck0ldxLcHhmzYZOp8NkP2mawvJzcnLy7NkzOADHcQxD+dbWFtIiOOfg90eSexNWKsePsuF6Tnyecoc5t7GCI/29sSsi8UInnwXbJdmkJw3r1TijuvwJAUv7oLCV+2+xz5GlO/PmV5RzitQ7J5atVoGSlwXxE+BQ8F/2BwtguVwySRoIo2pCgqgjndiCeFuFdZ5huQMp1w3OLAE0FUVzFEXQBeFP8KlIkgT1eebz+XA4RJ4RZEGF4Q42IiRkQzzYaDSi1DKdTp88eQI2ipT+9+7dg/MmkJRZi/TczQk3b5uDbYeDkltPb0QLog/Sz8W3wF+hRE/FqxlrGsE2MNSgHrdzbrFYPH78+OTkBEZD1b53u93d3d07d+5sbW2x5hfkKaxs1BqbzWblcrnZbMIrGIGMIQRo00MIUFkSSpSA6L+co1jc1HNwk+OVikdOuCQ4YA6XY0s2gerhYN8UXb3JjImlaue+gis72I0XLWoQgToIvYUeQ9HHZ/1JlR6C9vI+7EAw8dYJ9CSW9thnlbmx5TeiVM7RI7VEnA/ekX9NsypgPkUHucg9c6id0wjzt6tsgs5gugWYuZkNaG1tDT1EgZPhcFitVlHfCWYxBDXABxNrEgk4kOgeUZKDweDp06fQ/6CwzwcffAC7+dHRUa/Xg25hZSn4uH5eQyi4qUs3wfpLfIX/T7BzYsLLesC33L6251DHKCXBhmQRRIBaHMdwivziiy/Oz89hIqD3X6VS2dvbI1DCKzOYhgvpKXu9HuIgm80mCkiwQgC8NNCfJOtTmRa8hbgVufcUOp0hZiSOcsV96wQ4wC5LVtiAxIRWEQxIMHWnbnW6+xDIiDIlKe3tshZ5fRf2TZV6zFLhTNvAeSFtdAU+q4OzypbDplSO19FeEQ3x88ViASEUL5JYnlCfbU60tEpOCamJuV7xT+ghibyOiTdpVzUk9K5HvqLEEibBCzVNU9Sf6PV6yJyPU037UKvVtre3kb9qNBqlaQoVfAhhMpl8/vnnGxsb9+/fb7fb9+7dQ5ZVQC3mNMkmSeJEvG1oGRk8Rwq+u159w1akk9e+HbdlyTKBY9khTcaDBw+63e5qtTo5Ofniiy+ePHkC6RuZpQGa9Xp9e3sb8AeM4GYYDofn5+cnJyfwUUd8xebmJvK20TmO5I5DXUSTII3fA+N8gURziefASAkachoRGkgSIfoxPU9ktnhNaJZLbhZJxYVYHCFzXWLnOQUEjpDVG3oxfTAPOZWA+u40RKSWZ4zeS+i2F4cHBWVnMTwKtQxiCaYPQX/0RShTK3SqaOKEiPHtcAdy55BVEfDt6CXG3+JDYj5kYMrwHEAijF6vh1LjiOeBC0Gapkjdv7W1hfxseDWqXI6Pj7/44ounT59WKpVut7u9vY3c/r1ezzkHKxMHDZ2nguj1aTfh0k39fIk4lpHB39CmK4yfi7wGF+teDSZFQom+tbWFqjjlcvn8/PzLL7/89NNPR6PRbDbz3sNiXiqVULe22+0iAYwXPogypBcXFzDpwJ+D7kGML/ZCJCHhugJW6owovseSx4x/0pfi97HVXwSDBgBBXitZ8W6WrAKGMmcH0CexYpDgXyTguD/5qcIBO8ZMi0rlnEEkbN/BtHIa4BhZ1R3yL6oR8VBellrRWsCfDl0OyDhQsaReD+YQniQJS3jyidwUeuR48ygIouHVpaUsMmSLmLPxYtUXY6gBiLxtYp5k6Cq1BDiPEQ1Zr9cjc+OPogh6yW63e3FxAbi8vLxcX1/33kMv9PHHH9dqtf39/a2trffffz+O48lkQsLOSXndIPJ1aG+8DJ4DSv73lp9wA5N0lKzOYrvdhk384uLi6Ojo2bNnzhgE5BSkb9nd3YVAzWRluCEc3JAxEAEYCHbUCosqMqs+sbid9AW5A3Oar6I6jOwmMt8Ubw4xiJJmFiWeFrHUL4wkNxdJFtAEP2RdMzwX9yf6cBaIlUk2YyaOHJB03AEJmTDCuDMgWDvg5FQIFrmvAizxBbkdnZw9qbnp6HhynBE1QF0Er0wK/o/4FywvFYfKkHV0JT5G2eQsOr9eJAA8HRW98S+7zW6wQj0qgMJ4CO8Laodgp4I5qF6vNxqNyWSCG4J4ogjd559/fvfu3aurK9RVjqLo4OAAmfxx6uhREb16p8U3qP1MfnytwDFHqbgVtZNcdmQcOUknysbn8J7z+XxrawsCZqPRAKkBSXz06NHu7i7EnMePH3/11VeDwQBJKq+urhCNgzxX9+7dK5fL3W43SZKLiwu4DR0dHUFTOR6PEZnbarUQ+1itVlmnhXJNEJ8Mvgu76rNeTbElWYAfMs2vzrhzbOVMSXwiKXXNdBKsHuFEIUgJnV6E0N4i5SKvrFartVpNBVLufCdhMPjvypKBJ1K5F2I7WCocLWH4ajabtNiklsiS9A3ctmSNEevgyEDeqOBj7yTlO1WWZJecgslkgly/Ogs0tRMrI9HYcrhALZ2I6uih3oSbK4ebznAQ51NsxXzgMlmychHOMo3W63VUg4AoAEs3nM+QaDU1V3xE0N69exfOQ845QG2n05nP54eHh3/yJ3+CWqTtdvvy8vLu3buwnqPbSPUCEQrv6LJ+BdquhQ59R47MTUQ1xwz0zi90/bcA698r56kgKiE2JW7OZEPnHGoZxnEMENzc3ARPRJLK8/NzKMjhlgEBB74aGxsbrVYrjmNmS8XmB/GE7btUKoF+bm5uwvizsiIE6kAemzMzu8p1xq3IHQtUjbNZaYmt5F8KhaSBVCwScaC1jKQxFD2VOmKJxFNH5pLphN4SOl1WcCM5ot0c7zK2huJZ2N4ATSVi+C2yQqA/cNonEjF2BcKps7xq14q97KdS0SB2DM0wlFoND2didcmKQaaieNVZ81lNiD7dCQSTjVJEiMTVH36++HlqoTsQupF3ErnN+b6Xl5cA+sViAVU4ZwTUslarAfig6MT8wknjs88+q9Vqd+/eBUVAsurVaoUHoWOJZQjUl/3alttu7mZ0e+Pa9wQri6dQmo3DdbZkY4viQHWHOI7hJ7S/v1+tVuGP9uzZM5R/mkwmWHDOOdQa29nZ6XQ6vNI5BzBF7M1sNoOmMrZaY6Cu3GapFXUgVdHu5d5I+QgwnQo1xvzSrJFIiEtkCkqmNCe7JMFEfHEsTpFETHYVzpWkq8p3lDO6wsbAUNOmnIMMZ3GK0M05566urra2tuh4BNQD90QNwsjSOHIQcn6I5JuYjsRcqXkSUEAB3CvNVNyPoghnHn2MIonP4U04TZFFUuU0lRwQxRql5CrXB1MZU/cKHg09z2q1mk6niOdxRjOd5a+iAhqoirXaaDRCCDBRKlaWy+XxeHxxcfGTn/yk0+mgtugHH3xweXl5cHCQpulsNgOL14RGz7Pdcn/V9VCkL29oe+Ox8iYFgooATvawt7A/rLwoilqt1u7u7s7ODtbHZDI5Ojo6Pz+HnhuxOuvr65ubm/v7+7u7u7VaDRwBic3hMAS4PD8/p3UCxaApGyYF5178l84uykTQScIKGSKUg4QhiJ90MQniowdMBLIQE7k/abvn+PBzydKJwyGchnK8Ts4WwQozQZSkeB2EjdLByJnysVQq1et1YCj8q9HPYEoDZ/XKJ5MJ68kkSYJMl7gzqGiUtWjR7rSy8hiJZf9Oxb7kzeqF3jKSPTLdKzQPudq2TuR3V/AGdULnc3yWq7RkAWMh67BJdq9nCTTd3W4XmpAQAvSJ9O8BB8RZvr6+3mg0QLQhbkNBtLm5yYSVTCaEEKDHjx8/evTo4cOHcFBHrNpyuYSjG1TMFAicoP/tKOkKRiEuiZtk8DeovfFYmWvFA41Y4ESnBiYC0a/Vam1ubna73TiOkbv34uICKdcgiUCnBj9eRE0AQ0ulEsrsAbkQTOa9R9w3MviWrC4jnUK4u1ILHWHndSFeXl5GEoZIUIutJjgaxSWqq0gnwR+vpTwhBFo8ybk4blRaoVYqHopTIbLsYRTuUDnHGfWjrR/iJIFJbw5VBnb75eUlfLZ4HgQJHge3go0imB84XgcaZMympnGDkM7Dg8w3kbQUOrAYMdZpcM5Np9NyuTyfz1Mx4DhjhdpDYhznjoSaKANbE8mpM20JT5EQAvy3gH1weER+PyiFkNdqMplAGCqXy8A+Um8KzrHEv0JgWiwWvV5vNBrBwg6beBRFiBP/8ssvLy8v2+02ypQuFgsYeViQMjFn0ucnhsREcvZI0om+0e2Nx0ovjV/qEs8diaBU2BtxHDcaDTg/ohZjv98/Pj6GNm0+n3vvodYESsKXDYgwn8/xzWw2u7y8HI/HSCZ0dXUFKyS8hZ1zavPVTqbmVu0EyvlvzlAD5VFqNvQcW6QgDEpLaS4Wl2wiyMoqUrkstUSj5wqwEjYZwG4kNdESyTXJAadqzxmilSSaOLU6lE7ytCNlyfb2NjLaIkwFrL9er8P+Xq1WWUW9ePIlUlfWm+mMsi2t8E6OIpJrjA+kewj4HBPkQFlJVSK8F4QP/VJZZCpZ3HEroHxkZh8vEQ24BmO4WCwQb7NYLFqtFuJtgI+oZzcajXjscfCRUKNery8WC9SfAENfWRk75B/o9XpJkkA1tLu7ixc5Pj7+9NNP0zS9f//+5ubm/fv3F4sFPI0or+BAKu6pX8z2xmNlsRXPeXyvoAA9er1eR5YgpJherVanp6eHh4dIbIUwRO89Co3SRxL7ELkwnHPIlIFa4ZTugarBPI3wZSylF7iBo6wtwkloMLWTOOdXqxWgh/+CEzlDQ+ACJWWlopRDqYkjCqcSnoy/IoHN5eXlylLsQLZ1Fqnizc2IYh0oLdUOwewkOeckDCY4qXMO/jc4V1D2Mo5jEGqK/PP5HGYKpqOPpTQNekXMSqwojfLoRMJRFGr5gdfzsAkhABOps+PdYqtWRqykelfnkU+k+A8fMqpK6fiNMmSj0QiBiTic4BEJ4QbVmVgGknIAdSDIDVypVOCahgMG/rCQb1CcGYYy5xyy4Y3H48PDw42NjaOjIwT8oM4ovDJx55wy2j0HYsYSg8vD4/sBsm88Vt40DT5b8IDLHXAGMRxe5ch8DjKFMxzyKfQ+9D9HNl8iIKzb8Im7vLw8Ozs7OzuLoiiX6tw5B0NKsHKs1KM5U2MVWQl+ReElNcM09H3BKnORRlGOcxaMxBGgjtKZHxINskGSXXrLpkU15cqS+hAWCQcq7kVW/BKQynBsGBModbK38H2B6I3zA8wlsoRgoLTk79j/GI3hcKhemcTB2EI2cZwoLHI842waNx5aJQmgSszlllVw9SfETfLW4oP0+OFBlZozAEEZ+h9MJYrWXVxcwGsniiIQRhyQOLNhBOM4oz84OabTaaPRQMVHeHqBeOLK9fV1yEyYUIjtIYRms5la0OTx8TEjJnZ3d3d3d1F9T/UeHLScFFJssdQUCeI5EL35rpolBRR3XRKHb7ldOxm6jn1WuI6l7JSTM3C1Wq2vr0OQhEfFygrLwOoKrdD777+PLEEhhK+++uri4mK1WkEHdHV1Va1WUW2x2+222+0oinBcw7yA9TSbzU5OTkajEe4Mt8qNjY04jiFDQevEDKzgaBQbndiUg0XyAYC8WFGAhpAWvWWCKFneIBiFSxZ1483aS2YHQY98BAJarVbzlhWNuAy0ggiG3tIfhczUmV0efqM67LRaADRdwQyCF0H+Ov4JvaWFt2TpRbDDgZvwV6cb5ng8jsTcH5kFDDucjJtai0RyZPD8oHYCHEpVrpxlri5WTMTyIF3iWZWz4HHR4ghxphqmXAL2l6YplDzQ/MCcPZ1OKWs7S4ERS3Q2TnF4qp2dneERcLfE9ePx2FtWN9gtv/rqK+B1yeIm+/3+48ePt7a2sLbL5fL9+/dxw9PT0263i0HGyKAz4P7T6ZThW7kNm2TDQ/mn2/WVPG+4r19DbH1jeGUOwb+W2FPypQSUpik1U9BUbmxsYPNApTibzbAN6MsCKQY5fSMLaAkmO6dpCrHl9PQUvIA8yEuoHJ17IzMp6LuAKHnLU8D3Sswdmg9Fgw4xEluByy41LwIm2SJXLZWkGBb1kHdmdoD0rUOdmk8fodCb2jSR+MVc06XPX9G6yhFQxqo/ZANAQw5I0xREnjKpk0oMt6wcHSKqIHg8uKzwSANaLA5SGAfoW4MYcG6nWoxrisSGpicHHgc+WK1WsR5WVnsHd4jNTYpRQ1QZg3siWWq9XucBCVEAb0GFxmKxOD4+bjabzgKWRqPR4eFhp9O5c+dOrVarVqsbGxt7e3sow9doNDQOiod3TrLO0ZTcVN6+T3W5usIafq3aG4OVUaE0issq+/BB8ZTyjpNyMd77er3uvUcuv2q1Wq1WUcwW9buhGyLL6HQ6zWazbBnJgBq4LU06SNpWqVSYAAZ8DShAiR4rWN+Fu4hGGPq7BHHJVJ4C6sHNRrtz7t05UKnkqcQeYwYQ6P5wk5JF7OACWmCi66q/OgGgnHHDZZe7fs/fRuado3dWtSmBKZV87FBiOudgF0aQPuAMh5MuA32oE/+H1LwF1DWKEitQidoPzgtPr1jKLq4s56OTtEY+W+PXWzXKWNKGoq2syi5uC9MWwAu9giAC3SVeEGsVQq76ll9eXvZ6PXhfoOgTuDbUKaAFV1dXSOaPhQq7Jejn0dHRvXv3kBkT4eQPHz48OzubzWaNRmM8HqvC12UPP5c9Ed2Lw5xe/3pCJNsbg5XcUTkoLJ5m3vRE3IqkhFEUXV5edjqdKIq63e7du3dhy06SpNfrDYdDOP3CXwQkFN4bJHSxBVbDG+Pg4ODZs2fwl240GrT/BFFacWNw5+s6iyUfmu6lnKmaN6QaMcp69kWFoBf8FlsRKJBaYh66Q+EOjA8BSirV4tOLPkZKLhSk9AOBj+hTstxOeASILQU9HocU5fgNJpFPL1n+cIXjVIxmbHw0x1YHis4xwexROM/44rxyZU3tHj7rFMV5ITjSBMTJ5YFET4OSJbXzpoCm1ji2tCbghpgpXAMFEVYs6onDHZUa3jRNYUND1GO73cYBA1USZgFOckBMiOrInd7tdg8ODuDm4bLZ5HIyDZsOO4+o59/aN93q52xFBM+t2OdvbwxWvmhTMzQsm6mFtSBP2p07d/b39xuNBhz94FOJAk/YwFAAQWUOYgiTAnzcjo+Pnzx58vnnnx8eHsJtjR6ILivKoZWkWhaBO8rmDaNsqKJfavYEsi26N3ppkRmCqVXkT2D2UbchwhzhG70io1RYdKati7J5evAI2qbSrCUkiNztRQLlW6OB4ZKwx5LHc2WVxDluwWoC12o12rJiK6vtRFnGxoeyVy7LXiPxTk0s2Q+OQycHD43LUNHA8xTvElsuYbJm6ARKklPZC6kHzlLRAZcMplbiT4js+Dn0D7geGnCgJ4oawd/o4uICAbiw53jvUXUHj9jY2IC1HYwVA8j6ZeVy+eHDh7u7uwgS393d7Xa7AOIcWY7MgV/n2pm0pN8rYqbfqX9lyPpZf7P2xmBljvnrme+uOze8hcrpFkXo99bW1sOHD+/evbu9vZ2m6enpKZJcjUYjuFakaQqPIkglDJ2mu/J8PkfVb5SIgPiDvBL07KGgxx5GVmCH8TBOoDOWFGreSsoEsbrQ5oubQLFFBWjZ6oAHcyZXu22STTjmhK+BK8VWWifN+r7wAwV2oiftPAo9nIIcSPG9eHPY0JA33lk0TmQGKzoMMFQ8FY93EmGyQn1ojjjgm1jC5JXxQVYFBnF2+LJOqqQBK2HeIanMvVRxK/KIwglHuZtaxZJV/XZShbxkEegU1RHsiJPMm2cYjxZktzo6OkJ6FyQ38N6Px2Nn6QWAlaPRiCmjYOS5vLz88ssv19bWDg4Oms3m3t7e7u7ue++9Nx6P0zQdDofwdefC0GnN7Ucd89yH27e2fn6JpNL9YvJKKraUuKUSK5Y7N3K+Ds6ql0AYeffdd+H/PJlMDg8PB4PB+fk5lgUtj/V6HW5rZcvWA4I5HA4Hg8Hh4SF0OvQoAtmhUwulKp7JuEli3tHc6ngieKvuajRvSRsjKeLoLFUEICNn2SDRgyxPBZleQ3sISSWHMZhwmko4cJT1/nG2Z1Rtxw6HQq6KIqzAjIsgmchyVjIqZmWB5GnBuMyjBTcEACVJgv1/E7UsZXNhqEEcXo3U2GJe4PDgrVwlvoE/E7G1JLk7YSrhWHFZBosjIKPE60Cx40wBEkkmHkK5vq+S6JVVvsSSm8/niPIej8cnJydbW1udTgdSjmqioyiaz+cnJyf4jL4h8Ozi4uLx48edTgfxvhsbG++9997l5eVwODw9PWUIbyqZQ70IDTrUL8ofFV71xP15COAram8MVoasVOhMd3nTmFJEclanAeIztD+ItAWOIAYWHhvYKs7EFljMVeW0XC4Hg8HR0REKlSwWC+iG6AFOF5ySpNVyBuuEyyurOQErB+XlSHL5oHkRYIGklKOJttdyOiJUyArI+J4Zf4sE1okuT5/LnU9SBttCESh9gU0XiQaVCc5cmiKzpZSk8ENk0cRByrIvl0u4rDopCxFMoNZloLAeSb6lsuSBxwopWaL4YPnSedThEQA7Miwl9VEUAft0q6MB91U7iY4hfNsJz+V8uYIBE4ZEaCrpkB+bXxSO/6urq/F4PJ1O+/3+xcXF1tYW+o8FBmY6m80qlQrMRwzSrVQqw+Hw+Pj4yy+/fPDgATSeW1tbe3t7yKo1HA6R34hwSU03u53bp7dszFzjcOkafv6ff5utlHtVtJdLg29vOT5406M5B070JkH0I9w5+O/a2hqADFwAJpdqtbq9vb29vb2zs1OtVpMk6ff7BwcHtVoNUXTI0QtoAKlEDgj8FiFoqIEHayxs37gS2wmyJKEzFTO0k5SFyNKamGsxlVNUmVEPSFoEQrTKVrimXEYZNrUyDM45SuLEHbIVngre7B6kDAQmutFgw5csR1EkUeFMYJNTOPA8UN1iFEXwwY4tVg/yHfwHU/MxoMajVCqBNqIcAsEFUdIcGcCBcw7uiokVlqAOFHSVpDKWGHAQNL4OvhmNRlEU4W7OFA6QhXHM4Cnz+bxk2e2cQJsXlStmZyVBjTit1Ssryvr251ayNx9+3p/WOe896pTdvXs3iqLBYDAcDofD4cHBQblcbrfbSZKg4uPl5WWr1VqtVjBsIi8JUrfBH265XD59+vTzzz9HDXFsk7t370LLBC0nBHZ4vHKboNtB2k3bPAepPN6uhYLbceDa+1/7ffFX3xjcrq95+7XP/vZbUZd8LVfndoV2CfYZ/It0LDs7Ozs7OxsbG957OP30er2Liwsq8rD34GsG9kEQQUAF0i/ipIWhHKn8vVmloX4i+4ut0hbXusvCljb2PxVzrUo9ruBqisajng4ALuueyaHDz5W5FA8qJaHc/E7UlEmhhpcSCr4L+0AuBgE2iG4UMIT5wmHDWGxnNXYis8AQ3/noVOJhvOVnUlsET6lIEixx3Oi9hGlitExxeNklva1CQMg61iQSOK/AzQkKovHQyc1NBNcDPZPIPaGOR+A8QgOQdLXRaMBHmMJNZHWl2u02jJkcTNDV2Wx2dXX11Vdf7ezseHN1QjwPPOpCCPBpXUkhuV+o9sbI4LHETun3XFu5DzgDvUVNgFDUarUHDx7cvXu3Xq8PBoNer3d8fNzv95H8nNCmVh0iGlY8ZBxYzEEqt7e3Uc1RvXwgxIEN0V9PYYVncipRhl40ffqmqnngW+u2dKJziCwWxYl8mprDJm+llqKc3MfbhqwWmBtbgSCnm8vNixcvKA5jao6fJMKoU4RZwyvADJ0kCTWYuMnSMjYlEh9ChQDOP/ah2DefLT8Zi18kFhh+TvWuz6pZnZQ800fo0cXpoG/QSgrAlS0BO1UfipXhusZHB9PSOhNEcPA0Go00TZEvFesTLsNIc+WtdrFzbm1trdPpIMsq/PnTNIUS6erqajQaHR8ff/zxx9575JTZ3d199uxZv99vtVqQAKjPdTcQQB2r14dv5c6zb3aT145XFicgmP+NMhRX8IDTi51k6Fla5j7YB3d2drrdbhRFw+Hw8ePHBwcHiOdLzSIMqQo5byAD0jNxuVxOJhMUlnDONRoNACWKlFHxBJupy8IH0Yqblmzo2v7ndgtfVlG1eL0TGRBAFgqKyCDs1WU9BPksdpiNZ1WatYcq69RJjMxAQfsVrllaLTbs8zRNkTwC6W2oYguWCp6+X7g+h85kZzwnaCLjAqbiNTLTM4PNY0syjxaJ5UeVkhxG6GedwRa/jLLmjmDa3pXlkYqz4ZUhBJ5nzkiorpPcvPPOlHnpJ3B5eYm4MqDbxcUFEruhNC4LGQFYoyiCv7BzDpI1XI7W19e3tra898vl8tmzZzCaO+cYXgH/dg5yWrCpct5/HjB6Fa3YGV3kL9ReU15ZxAIvurAgwk4qPi76AWlpuNSgqbx//z6ce5IkQRz3ycmJ2ltVDCfagn3AJ240Gg0Gg6urK2S93N7e3tjYoAOms1wJwcw72Pkly+zAOOuy5ZfUF3SiaiAyUuHI2ypuusLBrmPozWc7kUy3Tiw5TnYjcVAPYRxOXrgnOwCCphCsd1NNVmrZ2GDi4E9AvUejEYzOYJHOOcQ1g+94yV6cSFJFxvDp8eOzMZ1eJFxqQtFI3kvZImicOGdAEElUlS42DhePIgKunjFcADqAkVn8g1B+DPtKUvvo03MD6+ywmc/nyOPJPPzwexsMBpPJBAnSg5VjStMU3pe1Wg0ZTACXcGtHWpN+v++cg34fNnHkA+73+/Soi+MYnpu5HeokJu371/5/hNxr0vwNvDIVqzf77MVHIYeVIQQctrC0bG1tbW9voxxoqVSazWaz2QwWQ2jKSD9h/tZaBSyeN5lMkLTKe48bwp6eij8jhSxvNf+wz6ECW0nRbSx9VfnlmpNzG5gVJACGiHPtMEZipcU3yXWB20Fc9HM/j8QATYTCZ1UppFkXdGc7vCTx40AK5sRkoorEHMhhMYjjGGZZGsfA653xspVk6taBUp1sbq9yJL2I6qpzgImP78ib8MwLEmrlLZ2+M79LLjbOqQ4ClxB+pXY2QnnIRg3xVnqNrgeeZ5FFHyDsFRGQSI28Wq3gds6zn6ZCGM273S7MNXDMXF9fr9frUIBAH3J0dITonWaz2e12t7a24JOE4EiX5WWhwC5zW/I7bDfhyTfAvdeUVxZbUVufI0q5Dyw2D1XO3t7e/v4+CubAp/Lw8BDO5OQ7znL3o/IihA4QQMqJWH9YcO12G8cvs1clEr/oxU+FekzCHIV6XKzyeG7ZebGN6i4i1hTXQSQtmJJLvYtSadyxQVQc3ozRxAsl6eytL2Qz4QWKUODdtAgjFE+t9jDUwm7W6XTK5TK2LnEksly57OG1oOMk8D8IK4yz5dHjbFgUh5qqTA51IvkrfdbMzeEK2Xh5dokuR0pIvZVC0w7wBIqs3lEqlj2+Wmq5R73IWHEcYzDxXsimPplMRqPRcDiEpxHkJGgnwQZQhzmxukYQ5GOrJYnpgKfwxsbG5eXl3t4e1PRInaW+urkTIvf96wCX7jo59Ru0145X3tRyshW+DMI0c6MAJ21YAzudztbW1v379wGX/X7/8PDw6dOnx8fHw+EQ7A+rCppKOFIQ45xzMB1CBonjeGNjA2ILvVVcVn+aowPsNneCN5UiZdUcDCn0EGHJcYpzzx2Fx9H1Wu3jegduct4kschIJ66OvIz5ZrzoIvlvjgppD4GV3urYwJWV1WPoLRBZ4cAQAmgOJiWR2htku65Qq4AjkFqoErsB+EPIFuCS9M2Zaychm95FqvpwYiZSS7qeLrGkiWKHOQV4Cx5a6vjF9aArJEda0T2+oMoBAEF2DK8A9S7ka6zkkmWQoW9WxYpB8TzAeQbkhe4+hNDpdJxz4/H4/Pz87OwMynoqnX+h2nfPK3N7Pr4huVZxD3CpOQt9C6YjB9dL0xR5JHd2dlDeEwLXaDT66quvhsMhTkjUGgNsIcV0vV6PLB4OpzRE7NPT08lkgvCGu3fvInsjjN1Yi0h5yfWn8I1sBdBRJhKRfXl5GVtMWyR+ds7oYWrZFrzwNd6BhIvjhl8l4pIdmWU8mEE5iGhPDPLew9lQMRQ/Kao70bz3kJ3jrMe+M4wAi6HfOOIaB4NBv99HmgYG20G4g/8KOlaygr26nyNzrWeuX6iAg2UhcZYEF86SXpIl6895N/iHciFxoDBNzihqamlTMKTAGpydsAdCLtFZwIfiKUgPBOWMPFMTSYilQ01eH4nPGW4CpeRoNIrjuNVqTSYTFETp9Xqff/75+++/z/L06DPGFn5Fi8UC1Skw8tVqtdlsJkkyGAxGo1GSJJPJZHd3N0kSCGFw4YQ/cmpRYXB0x811DehK04NcP4SsYo1owF1AlOCS023F4eXZeVPTp3yz9t1j5fO3kFWLBCnonFrd7dQ8USDBVatVBCHAArNcLj/77LPPP//84OCg3++jSgS8JiMrvgi2SMxaW1vDlgDHKVsGzEh0drriKdtyaskIvMlltJASkhLJVknc4Zty3eRmWs+MWMI/gohvqdhVQ1Zoddk96c353GVlFr6OLlNd2WnWvEOIdxIZSR9DrWiG8U/MP79ijXBJ1qkjlkgMeE5WpZXci3jrTbh2ZoVX3NSB9cJey1afXZkjCZqKq2nBIMahuKVxXsheKTrkruTZk3sKPlBuoLIChxNW7HA47Pf7UCvhWELq63q9zvRueMfpdIrjB0MHDL24uGi322maNpvNO3fuQL/f7/cR86NqGe3q97W9MVh507HgRd1GLIgsvrhWq21tbd25c6fRaCRJcnZ29vjx448//vjo6AiqHyS8wDmPQxWaMgIW7K3QV6bmfI5YiOK55yVtZbCYPJ54kcXYYWNAqqU9lO7Kwdwec2+U20VYozlCpyIqyaAeuTmYiMzKwQ2p+5yjmoqzNP+k/00keDy2CPTIBHm6GXIQwKPZSYwzkngzDXsOHxU606xDIpkFexVJBjZndA+eDKn5hAeRr4tnSVQINoWKBgHU3uLEIVU4qRPpzM3AZUmTnkmRhZY6OWP0Q27Z50Y7iKQfTFEOT37n3NraGjjjcrns9XrIlUUVMNf5eDxmcBf0S7HlLkGMxuHh4RdffLG1tYXE6Q8fPoRj5snJCZyLdbi0t9/X9tph5U3nqs6Hfi4uLDYop2CECSEgPuenP/3pwcEBTlEkyIAKMrXcQtirXKMrK8SM3H84olkYS2HFmeBJsoA/raSOFQljbFmI4MyhqSJSsbekYvTMkQ7civGC3GakVEQKBRTio5IvtcOS5gShkEqNixPER1P857+R5G2EgrLT6aSmfWPes2C8ktnJ8BO1R+Ummq+mqJFm02o44cXIKcc31aMomH4gNX1urgXzoyxbZnIeijToE9BTU2s48UnyBYHg2n91XnIAmkhAapxNSZWm6dXV1XQ6RY7qOI5rtRqcsWaz2fn5OZyE6FIaQoBpngFm0+l0Y2OD5MA5h6xFSDvUarXeeeedra2t/f394+Pjw8NDOMPSezRkhQ/3PW2vHVai6UYlDLmCjdhlqx46oUjOOZRahN/Dcrm8uLj47LPPfvrTn47HY2SsCqbdJ7WhvgwtTVNEzkKfXSqVEH6LPNVBJFxcH2XNzc4Il3bPSZVq8F/sN0Z3cJMnBXciHSJvVgtaDPS3rhAEkkNJSsdpVhvI1a/YGkRLkJsj9orgrjDNP0E2rNfrqdU7Qx4KeGshazdTkARj2ToCPGn0FNG1gVFlnDKvZOoKhkvyLNTpYMhmYiE30BUkFgjoLMCB+tlg7pM08S+tsnbuEM0d8JGkCPBiD3QSn8ZhzC2wIH5j6Anc3eDOESzFJ8NGEckDf3KWF3Xm/0QfD55ndDCaTCbn5+dPnz5tt9tIytXtdvf39+/evTsYDDQVCE/c1AIxv5fttcPKIm3JHby5K3NrkVsLem7k9N3c3MS8In/fcrmEYwoqTNGDL7ZEQamUl0EFHqbhqlarSD6kZylXc2R6OiKpM3ktsnwTxT4TSXkTbzp+YkTulfmO7LYSDYKjy6rPgoiEdO3Wjco3cnI4KYYW5yg37LxAaR06CR8DpAhCPPJSCkYyWbK3vLnamdx60DNAu6Ejr0cOZh89AXQm4jKJ+zCZCDvGbG+8jHBWsshuKFgR/QInG8aSswO5wfHif+qMIxdfM9f0bMgdRZGEG3lzgUjTFJmJkyQZj8fD4RA2SSglS5aKhQPORKIQ0ufzeQgB3l3wxAQ5bbfbKFBcq9WQlyuIrulr3+KNbq8dVt7Urp2GYO4dlK2wDrB6NjY2Njc39/f3d3Z2hsMh5GuYZVDaGzsKv73W5Oqyfp2xRKoFSUDJvQG0Um5LxESEmVI/ClC4Msr6V8JUpUjkCiClBmh8IHvN0To9V/i4ldRN5GXERGVGt28DZaw52ZPzgq6WJOEjHwHRG0XAIeEm4i5DS47aeci8lHjiesaPB3MSSLMVKfRPxBdFXsqSaEHUFM6AEk8h2YxM/0iUz40Pb5UbMZ0gLhV+4wtph9iZyDKHYrFVKhVYb7wZ6OgzB6fgfr+/vb2dJAmLsGsm9jiOoYIslUrw0IRJEz7F/X5/Mplsbm6ypimkK9SucN+LerbP094YrEyv8wkIFldLdNBNi7iddruNbFSw28Cnx1uOWJCINE0platKy2X9ul3WNsKHKlYWGRaxMpZ81840UFj3Sg/5Q90wXnRYaF6asxqzlKyvFZkV/hStKFEmFkLOK4sCdbH5bMOX7LMqLnWU8Bk7FjYT+quqpYhKwJwC0cmRwGc5KwaLOVVNLmcQTBajzZMmiKLNmx8lE+oojY3E5kMEpEU4ZPW/zs6h4ojlljHnOmSZMmEoybpbJlZiHhnSMPtI2g+whtcHMlqCG4IGNpvNUqnEY4nHBgk+V/tyuZxOp8hYeHFxsbe3h8Svu7u7Ozs7g8GAwbsc5Nx7fc/aK8dKf4M14KZhvQkOllLhWm+Spunl5SUQMISAvYe80Kje2Wg0oFG6uLhwzi2Xy42NDZhTcDhDmvCWFRULLk1TZG1JkgR7g2aHxWLB5A7OAnhBS+Fqx8y1lPsqlUq/32fhXGcp2oj11PUoLCr6B0uhyL1KsZ17TGV5xX0OF80XQYoTeBHzvVUJpq2JjX7jZC6kdfhe9YAwF8D9m/QZ8M0YHkisOL3AZTg+qTjQMHNlYo5HRE/qTCACg5/CD4mMKbJy2BwT9J/x5rBvhBDiOIbEGiwDQDASqp6e3kRmTIHCnDfJw2Vd5RNLIexF68rjdmV16zD7XOex1CAJIUDVq0IPhZjYElYlSUIn89Vqtbu7CyqAArZHR0coXIoiet1u9+TkhK8AUziUJFSbgFSiBAACz2u1GvLFHBwcRObgCfvkbDZDrR7+3IlDmLrfX/shFEQf/SYHCznEYCtCRxF8vnF75Vh5bV9vOX/09XQV5n7FESSV0zt47xHw326319fXoY7p9/tI/KXTQ8lOF7HeUI2qOfak88FGwTaymGLnXJqmsBoRv9Bz/ssXZysK+MosbhrPVIpMYL8xwU9qBu40ay7g63C0nZBQsptg7CxkfTYpnqemjaVjPGTASMppOOfgOs5eRaZrg7ufdklNJaS37JhOClmeMn2CV9kKjVHPWLJsQ9A2Uk7HK8QWtcJxILHN6SLYmZCtms2zx2VzYVw7aLxbUQBPpV5bnC3FzmnKbYdgRyycw1utVqPRQGLz4XB4dnbWarVCCIgfp3tWagp6ji2GCO7lkMQhpEMCgMJkfX0djslcQpwg3ReugIBFoHwj2ivHyrQQKuvE5+OWpuvg2jHVafAmfoIpVKtVSArIfz6fz4fD4cnJydnZmcJcalp8YmUsmQ2Vm1wLTzkQJ8YFs3E7O1dDCNiT3ow2iom5FwxGo5TZEUdyGKewnopZyZlTYSI+24n4fvIa3dgh2/QpqYW+EDXwEwqqynpis2WvpIgQ7gnXFlhXAFgkley8N8EWJCWHlXiuMmjKuYkl+EBXuedBHpWSY9vT8p5YDQlv2R5XVkdIuSTBNBFfGaJkEIUJ50X5FAHFyRGFTlKjGkkMvjd2GRWMe0Esh6k4mVE2B8Fst9udTgcKRxTPgQ8QXCyRn42GSvIGDhrsQoPB4OzsDFksAZSbm5tAYVSXo/mLBxXXT24LB2H3xR39mrdviVd6yWKr2/va5guWQf1t7ubct9jzcMRtt9twoO10OnEcz+dzBCEg8l9xCljpjOAwuWHFajFD6IMYRRhSwMppu1xBKMD7Vqy+DQwCRFLNbaWg4MSowp2vA5gDSl7PtRiZIyf7nEN2opgCcdG2o6vcm4idWEZIviMhAy/IDV+yRI3BajeyvJcX3kdoI1qRUXJk+CyXdTkgWJMfOVOGIhYLzYlsW7Z6O3EhpgCAmGRjCjj+ULPwhMPFlDpLUvmDfcitCr4RsZs695DVvOuZrRuHSwvvm4rRny7ul5eX8EKHgDUcDpfL5XA4HI1G3W63XC43m02E89IUzoJC9MSMogjptU5OTk5PT3d3d5FWZnNzE/nfEFhJVkEoDMJg+CXHQc+zUGAht7cXvf4ltjfGtnM7vHIEIc01m812uw22gkivyWQyHo+5CWOLY1XtjHIQYiUchuBNxp1Q7Bu7F4kDYCp+lOAymhKYHny6i5yYLPDBm8sROYvyI90/uY1EfqEiMxv3fyyugl74Y3SDcVMXPdFZ/6vv4oXzrqyolmongtSDZRZ6JriLJTHataPthLLxSwIidHOIHSBke0uSxmBKvg4GfGV1hLA2dJRUR6yjyicS7zhQUH8HEeR5B8oxPDjTNEV+AJ/14tT1wHXFvvEUD1I5DsWmkKy32+2en5/DTXg4HMIfCNmGQC1LpRJqSCDnkKrjnXPQ9Z+cnDx8+LDdbsdx3Ol0NjY2ms0m9NGKlVxLkWjeI4mV0LX6ZrVvw7bD1Zw7YW5qxaEs0km2kuSa9t7DxtdsNjudDjzGUVEHBsE0a07FrvBmFgD7AFZCvRhFEdyYQYXIaKJsHuzivzlgcraB8RSc5MimMZ/P1bbLEVtJ7SqXPQxyWgK9QLtRHNXcIwgBes4TKxNxzQnG65XKESaCkAiafYKkEwbZAYVnxH1q5dFh5PEmp6eWoN5LfHpuMPkI/knxHeQdXhBI643szjx7SlJkzVvaNN42sfJwIIzems5CDhOjgtKc48ZcJOwhR4xYGVsu4URSEHH0FBz5FnwQte18KPQJ6HzFSjfXajVoP+BChPIqOEugeYRdC9pJihqRpaSB/D4YDDY3N7338FzGwJatTpk3BaseWlHW41gXKtrXokFxGV/7/bcAvq8cK3P0RMfr9qYj7kXHkfsttyiPSrg1bG1tIXQXWInUe/gJLaoQtZiKDTwUCEtoWFqDcwYPfO5wAqgTIYgLnRYDrCFK+t4qHVarVZqk+WrEYi/GXJwK9IKOs5F8xXEj7hB9dJvlOKkzNMchEVtMN88VZTSEGCWVXky3ieWacxY7SPuJLzT2HAPCR7tsQYU064ujCyO1aBwMLEPLOadMXJ9YEE7ZcpUHocl4rs54ag4xBNDIIgU0zoojnBuoEMLSarFx5HXZ5CYrsXR5aHE2VTNv6wRrEqtRwRWrGgnvPeCyWq3i4EeUDozasPCgXApScEHijuMY18PxyHsP0+hoNJrP50DYzc1N5G+FkwmxskgRvnanvyntjfEZSm+2BRFQqtVqq9Xa2tra3d1FiIL3HkcllNDYTjlZBtsMAgt0WOxJbum7bC6sHE1zot7GZSHr2+yy5A7XazpFPUhoi+ATKazxyxzW6FntjdsSK8levfj9FQ8eyKqR+O7k+hYkMYTL6g25Y4Noo3B4JBYnQ/naZe2tkcU18bfoOXlZDimcmHe0A/QE0rS+wXzj0VSDQa0oRQ1QXcW7YIoCgAKGhYn0qTfgICvQ8/66UHPLw9kpC4ehIFmU2M9UdBG6L2hX8VkJgz0B5EH5Q8SHQgl/AsWGuxVybjHVFhNuAWRhlMPxA29lCGHUiYPS8vVzi8eJEHDTXn6d2wtj5Yty4NzQcOxuuj7Nyrb8FXyM1U8NW3FtbW04HLbbbSyI+/fvP3r0aHt7e39/P03Ti4sLlPM+OjpqNBpnZ2dbW1uqhwoWhAd/zFarBZkCvMOZkAjvM5zMiYRwRBb9go4xQtZLBAtWM1JvQHuVWPxJKZvYijCBK7nWuWRDCMwFSZSPxVWzbLUKnFX9BbVZSSLryJIn6c/JH9fW1shovAVHY6tw4iLxDVxJim/ahXBEET3J/vh0RNpFFhYNHsrZJ7dKzDOR78u1QXl/JVUS4aHpBC+YwjmEAFxILYsHI4uQ0pFvESxfFCVQZ9GuSGgGWsqjFD1ZWoFDYqWX2FAvEihPfXaSeyo2xyAyaxXSuSlyx2owyhxFERYYgt9RHAJftttt6t97vV6SJExrHUURHImglCeZTc3jHf8dDodHR0fvvvvu5uZmmqaVSmVnZwcBPGmajsdjLBVqoleWMiZY8jpdPzmVjg5+ao7SRajhOX1tK0LKTWD1zdprZ9tRjqaflVBwxVBsiaIIYIdCnTs7O1gWl5eXKK2DKF3eMLXK1M7cjFRliRUTFXIvRlIQIhLXEG5vZ8liSQSIF7F45yhR4ptGWV8THQ0uryD+AJEoK70YHzlQoCTFYymIWSAy0zOfHmedpUidllZ2kd2+lulrN7RX2jG+Y5EosW/8PhU7CV+W40xJk/wL9m6eYallBaYOzmfNJjqDHJwgbrC5l0JpoKUV/gxizk5Fn8h76vdcNqlYwHQN6FzjZTkvtCumhYKguY2jd+bgQGBKkgQZs1iNGUqnSqWCfcR4zaurK57QztQj8/kcwT/wLkCFH0RDRlJpubgYtJPFBXPL97yhfw08jV47rOQqyQGHMhoncBMswVSr1dre3r5z5869e/d2dnbW1tbgU9br9YbDIZI1UCLD+Y8wGAQjo0G+8KKCTNMUdnAQQPJN6rBzBx2lV26JqOD8EawpZimuee+BTS4LlwpqUcGwo0szNrM+eTqvJKXlZaAz+giiSWJpupFKJyeZelGw6EvxSNDL2DcyzRxWsns64zmUzF3J0w5KyZKVuIHCkaBDa5iTchGxhQbkkJqUln0LWRKXpinEi8SM9dTSJhKikxvz4vtyMDllzhQLBCm8Av/KEU7E9V0HhxfgG5A7RHlXKhUUNYKhElwe5ICRS1jbkCSAsFgDiHccDAaDwWCxWICTNhqNRqNRrVZhDiLO6ojdBIW6PPQbHbHcD5WKfifttcPKm44gHTtdu1RRIXILPpUQPebz+cXFxdnZ2Wg0QpA/RSemkCmVSvV6HbOORaMEJFhuDubmyhlVnK1ydk+Zwk2vxv+SKkbigYxG2dabPEiI0SOEaMuRwV+xdpnwzWeNY6moX/nKuWdRTYbv6ScYSbKSkOURTjbztTTZZQlUDkBzm+emH0ZiuwghAAiYdRTEBzOLAnNUXHJac4PJlw2SpOMmjGY/cZkr4DtPSmencm6gEklx5AuHH18wJ0AoV/WF+ktOGCufG1mGwNgidOmzlZq9kYel6nl0BLwZ6Fj8Yz6fI9VQvV6H1hLhcBhV1cnkzgafPVlzH3S6OTVB2MO1e+rbbK8dVrqbTyGuV8wBP5etVAh8I2q1WggBuU7Pzs56vR5CC3BOYpWAJzrnYNQDoyxZ4bDImjP4W1kkdWQm6eLBHkRVr1jD5at7RuVxLiMV4hJx9iYAYbeXrO5Ybv/oAHrvcTCUssmAXdbvJzKrkb5LSQpXBVF0lKx8Ak4a3E11lMXJKmKlipzaW/5Qt2juMmXWTgz38P6hahVuWLDw8q+RFNqOsvoThc7UjDz6UL2eCJVIgg+XxVNOWRRFiPKkBiZ3lpQs8RJfXydCO5kUXAiUZ2knKdPwhioolCwjPWOiMN1ID+yyzliJRQGlabpYLFCRYjqdAn9p4UEoga6B3D6Nrot8K561/jUQtG9pryNW6lFz7UGkZCQ1ly7400GBgsQqFxcXKGqcWP6LyIwzwD7kmEIaVPAmrDBYBvEs+o5wZ1JoTSwvQCQqfHSSWBlbCuscpLqs0MRdSr8TnqupOO5oWIjPhkLlqC5lz7W1tZUlwvCC3aSTPBi8Rc7QRsSa5lQIROZGrj3kxBWRUfcD6VgwNa6CQm7b6GvyztpVcnnu/MRiq/C+tEqjIZiPUKKAq0cjry+CNXGHQ6EYFAoEOff6fCIVRz7rOYCW86/MdSB3N2+MkpKByvXoYWJ+SE6wGHSBiwqaerBv6nlTMy7hzsvlEsFv0GgBK1utFgIfqfXWXXDtJOY2u6I/Z9PJYclbFRfJt9xeR6xkU90E12IwkSe2hmkGo2QBpsFg0Ov1kMDZOccSOrRRRFFUq9Vg+0bVHWcsFfeB/huJTp2YgIAmOJbJ9XyWVSXm86HHvq5v4iNbkMblwm8ScUKOxOTisy7lPktzoigiVjqTHymXkXJGIv0pcYY/Nsyj7AyRN7LoI761Pj0xE2oQfWUwHyZiCh9dPCBxvUJG7k29qSadYA2+BxDDUYw6O2oVfSGEPMcrldxxRnIv4rK+R1RTUpLFNVB/a8OzIOKklhKQS137o4uKIlEidnYvcE/9cmzBTgRx9d5lOhJ84NogYqIQBSz+kTmTRlG0Wq2QYr3f74/H4263u7a21mq1SDVKEreuQ+duOAud+Dboy0YSNKy/Sr87TSXaa4eV1x4dIctNdEvwSIRFD8gFH5fZbIZoBDIRJ8d7ZFYdZGThsgPsYmk652BD95ZwX310eICzeQmL5vkcW96qHImgrK334brRV9a9ofvKZb1nfPbQxvWMcHcWG06kuxYrvZEdPGhlBRhgJtLdxf0ZrqOW2mdfAH0nxIG7QqE2FaNHDmUiK89Lxh0kXhCThV6xYCRPSgUXd51CQE8sXX5Ud7AYWSSVhL3gO2HX2dGrNM3bgQTXNKqDgvAvvQMbVM8YPTq9OecY547bBlF/x+LTxmXGxZNKhBLYAIRxTDcLAQB8OZ4oqTKdTre2tmBSQ9hPWVJJFdu131+7bPSb3MDmFsm3314YK3VVucILOzlSXNYn7jnbtVjpnFtauWcGb+H8RLViSAHImuFMdl4sFoPBAEUgkKYUVjw4Hm5ubsLvYW9vj0ci0BDemqgGTmkFCfTh3rhcLpFzn3kH6CbJutUM4InMgRyiPUcJ98ExTg9tcsxUau/gziXLw8gxSSVTBlaqN0s90CSKIvhFQndJrElFUcVMM+QdZBPceEq4aC3lWwNSvVAq0mS+AgEIuIBDDicTgV7XDzcJTWola7whjdHOfAxzpw6Dc+BBrT3MrVg12QF24a2tJJGk24kAjklMxc8pFrN4aqpeWpbYVejQ9eChjYVPZHWTKIoQlVi29LrMZ5zzP2VXoXGGlyt6Uq/XR6MRHDAHgwE6PxwOMXebm5uAfvRtOp0iVHyxWLTbbbigLhaL09NT5FWYTCZglFBZAjT7/T7znLJXeE0K6Tm6w0OLZzZphG7/3Kr4Ttprxytvako6nKhCaOLEzqeDMetQ62JK0xSafmzXer0O07lzDvl+SFso72BNly3fH5ZyTmTm4uBqcGLHpAawZKHr7Exq7twUbPmO3DBFST+HRzC2kFnw55GYd9klPl15VpRV1SXZUBMilBfCGMTgS/zNmTuubTwMXFbllzuD+ZqUBvTQDaZDSMXSwulIzQpHnKKW2QlPD2KiyaFnuJnmx5K3KZGYn1SS0Sl05m7C45A6HKJwbG43OvUc3pB1root4R61q7pB8BlnCfOf4w6qzOWX6DnqhsMlGTE8LCxRtuyroJbD4XBzczOEAMUUsyhE2bpMbFHWry7XvkP4e6H2xmBljmQRK8n/cbKBrSRJghwBYG1e8gByUuEtBKwE1mDvXV1dTSaTJEngmNnv95fLJYzsjUaDkcXcJE7iybwowsgmQCfVATCIOiaRdN9OYI7skpjohDvw1A3mAkU4yzVeQ1gk/WFPYgnVIOC6bGIboqFSBh4PTjCIhMsVPOaCKC6Ikqqa4HSztyWrGcuOBXMJQFtagbMgiS9BZOgSy0lX5u4s0EB7rsuMC8+JbYHOEkVoBigT7NA9zh1lXvBfqNF5pEFGibOxsxwT/RLTyjWM+wRxFOWVlMCCJaJ3zkGWgp+cN2seUNWZvbtSqRArQQ4i000vFgtUOgPnhXKfYjhMQ3pYcnl8beNyyo3A69PeGKwsHpsYUAAlEgQ0Gg2IGLDZTSYTBPlhbSn9xLxCnw14dc7BIgQD+uXl5Wefffb48ePBYOC9pwkIqxMGYjZFEO1wJPHOxEr8FQx3tVrFlh3OXedqkwPK1MKNSGMJJYStHElMLclY7k8kJs7ERvyVgcPYP3DBmc1mcbaOuRcCrgq4VFwLiexOsDISq4UySl7G0wJXlqVGK8dEDxJ0knU7vPfQwfFxVMvqb7Vjit2Uu5WpRWLa1u+d2KP5ammh3noqBTAI66VshnbS/JUkWCP/5VO0UagnwWf3+F8MI8ggUrFpSKj3ntkxsBdSy4On/Bday8Qi4qHCSiTmjXxFhy5kFdA37WtFxuLB8Fq1NwkruaZ1fWO1wWGoXq+DTaAs8mKxoAcGF2swZRlmF9DpvZ9OpxcXF6enp0iVtlgsDg8PDw8P5/N5wxr8ilaWQ8EVvCa9OWdw4SpcliT7FjcDc2c4sfU7IYAhS0KJJtxgpGaRGVtSs8msLIMRsXhl0evOoAoDQlVGbN4CKFyDwcQ2ywmb6ACD4SLTcupkURolVoLmKG5yDH3WuMTPRA1CJAhaMK00M+ZFFpoNXhmZOyHnJZUyD854NKeMWBlL5nP2rfhfpboozUQjMplvZJnWVlI2AyBVtiIWsZRQ5oLXMzK3xnic6DqJLG+As2Az+sniwMMBj2ObvBJttVrV63W48cfiDxfEZ46LCqV0VxbfyX2EFhfCagmd1+7ra7HyGyHEK29vDFY6SaxAJCJPRM5KGF7gXAn7dWq5crXMC/ELIAtL4mAwODw8fPz48XQ6dc4tl8t+vz8cDmPzuYVxgNyK3CfN+tzpCa/EQU/d2FzhVqsVWG2wfA3cGJS1I3GJD9nc8rE5b+qXzjARWKnucpSP8F+EwDuRBGm4cJboKFh9bcp6zpSY3AMAL3aGaML+OJFhwRP1tPPGMfkuKgir1MxnkfYyDbNa0pi/mfE8TnYg5yUVDSP/RLyORNehO5/6OJ5MzqgfLHVAJWeBlZGpUzBoPDWpByxJcWCdbiIOqSIHjf2MJIaKCh/cDUd+ZJoTniIwhLIiG0cA8wItVslCRZGDTk81eJiMx2MI6d5UHEzTBT+B1XVFBK5t+lIuK168OEK82vbGYGUwVTfParIbBnQjF9FkMhmNRphOiLrOzNC1Wo2JA5xzZataBWIC4QLrA5MNgRQ3B6jR2BpnzabuOodwbAmmert2+rFvEzM6k7sRdrnUUjNeE6mJraqDc6YaowzuhFkTxZzF/3gh7KSZzrDSOQdyCjusgjIeWrII4sRiPILpExW7vQmGscQ166DlfLMpuhIf8RN9LwJlkq33AODmQYg76wFG9q0ooAPIYeE9VaXrsplT0LH19XVgN6ilKit5ZOJwUtO/M5RMCk6dXPY8ezjXTkSTIIpgPRTBEDkvjUZjOp0ul8vBYABSOZlMsFmA7Jubm4BL6P1Bk5EcK7GUSyAfMP7gh9gjTKJRsUJvUTZm12XPm5s2uL7mW6z85i03glypJSv8AGEWMiNzCzkDIwjpADtqZLypKcfjMe4AjSRES2zg1Wp1LT1R9qHbviR5EmkBh8qfb0EQTLOGDr4pH8Gbp2IYSbMtsQjucENzWUt3ZLE3xE2iGwV5Z1iZSqWNKFtQBU9fW1tjzjdFOrqsOtFCptcFBXIeySiD8Mek4EoFXk89byJRobwssqId9JEmPwriycT+5Nirs72dO65cgfIQ5mLzHwKg8FABTVuzRvGCfVZXJ58N6Fa40bNWUZLUIZgEQJECj8BQNBqN8XiMxAjIggFmMJ1OV6tVFEXwAcJw4YCBtxwAl4uZpxQEdmrACJQ5xvC1WJm7ILyuArj7ebCSB3Xu+1A4nIvvf8uhkWbdg/nzYFWusK8gAjSbzdVqxeN6bW0NMsJqtRqPx2A9SZKgjtJ8PudJi8JMzWYziqLRaFSpVFCV5eHDh5VKpd/vn5+fA0PhUwn95mKx6Pf7zrl6va4I5SSEQ2XJ2IzgxKbUYnWxz6nMSiTw1me9wTVBdxzHwPrIwp/5q8S8Q6hwSKwGOq/HNsZybzabNNpG2Vi9yFJMggF5CYImVkJdGMcx0mg7qQSNm6ys9i9uhWMM/Umz7tBUfTpDIr4pjwe0lSTThXCAw4nPcs5dXl5CzkDsHZ67XC6Rao/jDG8Hpsr35rRPwkhWCCygV6Oz2kGYHR4wUOmicm8URbR4lK0UHcTtEAKUfSXLYBZZWjw9+dABem5qi8RLIUhOeGhLY0metFwu8UblchnsYWNjYzQawZk8jmMkNn/8+HEwzRXtjQjgcaawds7VarXhcBhF0dnZ2cOHD6FtaLfb2DiQvXAqoFw79ou3bHKJuHn4rJKaSML/kjfc0kJWwP8WeOhrxytzEKwHlDP5Tnd4FEUQrhGSlSQJFVgqLjmTE2ezGdgQNTs4/Gu1mvcewniapufn54rCFMG8hJQ4k+mcrfiS5IjGGqWVk/RBX0RlTCebEDtciSHHgWirf3W21BIzfBNz9RFoTvgL164TLYeOrTfDLkk6X3AlceLODjnSIr5IKto6PtcVeCUnSxdDEO8o/SbNqi/1G+XvqlKkY5bK+FgVunWdiMY51SQPCTJfbntnMYKRue5y2dA3iChP/zBSYBJqJ7I/E60rU1NEiMy2o/KHLhI6PPKNaJMpl8vNZnN7extSORIAly2DH2bZScXm3KGl/J2KppwH8U1b+/YWXkvpG+11xEpdFiQyLutF7E36hpc4jODlchkLAsqUNKvfpFq6XC4j0oA0CsLR3bt3Z7PZxcWF9346nQ6HQ1TQRcij9iqxZBzAR+0M4Ck1twxK32hEKJKIYA6S/MaZCIaf6DbOAQ33GOkGzdwEdNwW7nXE0Bw0KL6QF/PVsG9JFvguiRmji3PEV6O8z97qT5xZRSjde1FrkH17kc6KZ0winkwum/CxYgXI0jRFtAlpbLCAaKinneACSbSTI5Bab2el1kKW0QSJlonFB4tvSlgPpr1NxCeX5xOPNFV9oHscKMUpb5prSv2J1fh2kkBvZSVt33333Tt37nz00Uf7+/ssHX5+fj4ej/GmTny5dCIiU6AnktLQe8+8v5C9OP5BeF8QO5XLAiIXYcjqal9DxMynMmb7rvqaw8pcf7hQvFlOoAaCShFUEdXAGQkeW5UC1FeaTqegkGqexn5GyO1gMIBv5nK5bLfbCOQqZRP8pBb/w11RtpLipVIJjMCbU6cz9qrwpK+DxUd+hB+SDqTW8CvF6FI2V5Bezy2HzjC9q5NcQUHcdJzRHMVKag+YOtdnzS+JOBLm5pFgTT6F3lJy1Jklt4rFQwC6v0RcrBUcveTWJcwRcSqVCgwOWBLwt6WWACff0grbRubtpDgVzKRD4cA5R82AM3DM+STxT6usi7sX9TTXG1e4F3clXpaKY39sjjiRaWaCMej4ughRHAnQJ2JBwtS5trb2gx/84KOPPvqt3/qtnZ2d1Wr1ySefQG/Q6XSAelSVOCG5iTnkBnOxgBIM40nbTkkyDBBYFPtugcjXv72OvNLJmOYOHE4AcQrCjoY9INHecDj0Yr4MWTeakBWU0jRFHOtwOOQZ2+l0dnZ2EBUbmbqNHArrKZiykpIIv/TiG6Sv4KXhXUJWlozE8ShIw8Wx5AciiOSGKFjubiagAygE8ZcqjnwQOYu7t2SBRkEkryLj0NfJ0UACEG6FR/NsIBnkS5EI0+efr5lYhDVl2ERCACiTUtQACoCdjcfjYEGx+EDn08icwOmLqmeAkm7tsxettPcejtzaH55AuaXLv5JNR9m8nFwMmG4ubF7ABROJLdFnG2zc3vtqtXp5eXl+fg7rzcbGxjvvvPOjH/2o0WgcHR1dXV0hOK1UKtXr9c3NTdxtMBgMh8PcgOPp0GBidsAwQFmUeRThT78pfs4tntezvXa8klsxt+Vcdli5JkgtAXk0go9GIxx3rrBeyZv4Q0ADCk70er3JZLK2ttbtdrvdLnJrhxAYHIKfw1BOscWLlkc103wowUV1T0XQ5A9jKbTtxdMltyJzbCtI0CR4U7CYPwIl2a72kI/O4VdJUgUT+Nhh/DcSlwB9i2BKgJWkcaORJLW8D2UrVEu6upLG8eGLELJ1NvFEXAwvFmgPE7PbJhahFMxIhQmF/pFYmYj9KofRlADSbIr+a1cXueQqG5Hl7PzA9JWkWmeabS4bBspeOUk1wCuDBKfhoYAzCPWj0WgwGMBnCIyb4W0QOOgpiZoCIYTz83PU9YMSk4vQWbKFpeR1VQWUSjnF46G42XXu9EOa1VO/Du2145Uuq6N0BcO6gotzLo5jeISVSiXkQqeyMraCISuLwIVyij5GZYt0jON4PB4fHR2h4MR4PK5UKhsbG5DrI8smy7wvXmp4OQn1jUTLrvuE11Ad6bM0U1VR+CaWkGov5aWwHBkqwz4QVjTQwmX3sM9aCbwoLrVLCpdUMqjopzhC9A/mH8qL2XndbPCBdRaL7eQg9FnSpGdMyFJvl/UJ59pw2XxOcG2JzL5BVMWjUXmGP+RhE5unOt9dTyAOFEcyMaWzkkQu0bLV7EXHgmgbY3HSIvApOPJo1HPIZ3MOBBE4AFjelKHr6+tpmkIjiW8Gg8Hp6elXX331ySefbGxsXF5ebm1tvffeeyglsLm52el0UGsMi9+L4oiqG7D+3JnK6B1dk9y/HDQvBMgX2KV7zXnld92BfAu38soiVnrvcVTGcQzfMaYshNtXarFZ8HJQyV2ltqOjI0jfkP7ATXhQJ+LZg/1Adac364e34GilD7osEtPlF9GfWMk/8b84zOG5AvLFRamblihMDpUbMd3DHF6XFQ+9xMm4rJhJ/IrF8d4JS3LixcI7ONGiRFnPpNTylRV5qO5DUkjelpfl0N+ZYxntv5hKkjK+PpgRkvXRU51iLwXb2BIU6bCUrsvlkQMUjgbWYWo2Rt6KKyGSog4rSXWRmPmbbkypqEdyj+Y4ALNCCJVKBWuAwb64z2g0+sM//EO4qb/77rv7+/t7e3s/+tGP9vf3kaIUpFLTF1z70NwC05nNbU9tOUDUrfFmYOXr1rk0Wx+cWAnaSKMHsi4CzhDfSn3zYDDgJuQ+p6AByAO8eqOHSPKI9CrOOai6mK2SGMFlEUVRMe8vWFJiJnIvrM1b/CK3ZbBIW2qdaDRw5t7B148lOJJmWS/eS977RqOBESBAk+9Qy8afR+aeSVk4zZYLdyYExZb0O8o6ojvDi9Q8igAiqUXs8I3Qh8vLS2hLoigCqYeDJPdYxQoYILCKg5OaKxKBEo2HViRmpWCmm1girMGDKpbul1cm5n9KmAuS9Z0z7sR/KLIWi0MVukEbkbbY/GFzqyVIqiS+CyRiYCsFIyp5oE5B5xX3l8sliQIKDTlxaSiVSs1mE9qGUqm0WCwuLi4eP37c7XbX19fb7fbu7u5v/MZvTCYTyGTj8Xg2myH7AQLVvPfz+fzOnTs85r338E6FOzonNBL/JDJiGjlv2e/Xfq/bR790Bf7ksvz61bXXjlfe1HJDxiVbsoS1CCDBtgT2caD1t7rQfdbkyjhiel/SIKisoSypIjh5qXjqpOb6wyeSNurJnDMU4AwnJAHZ+XNKWDgklJ25Ap1UOCPwEfuc5BmDMxBuTm1DmrXw0BDsTcjlPYmGLruBOSzEhfQ6DWMqrkV6JYeFN0mlKZDFBTNCDssI1urXrTuQFI+dCaY3yM1pkAAqJzsWV5Jb5TCxZCk8KJ/iuTj4S+ZwBqBB1p8o2/CCJcsFxwH0Fl8fiwGT66FseVrBJKBwwJvO5/Ozs7Ojo6OdnZ1utwvr5dXVFQzZzkJ04LaMQOFEPCh8VviIRJmg857bvL4gLL5x7bXDyiInD6K+9GI0LJnPkHqHwIkSChqe3np/7iUu6JVVF6nVaq1Wa319HQEP5LDcruwb1zFvi6VDMss9GWWDrHmrnP6L2kkCKG8SiYI/sgBElUAVRHgAKFjzobFV8qPCHqqJ2IIavbhMB6O0Zcv/6ETBmorHu0Kbs0hH5QWp6WpTUVx6kSvjrB+S4lHx5+yYPsgZWJesqSCMn5ck30dijW8RSR4KLjxlsk50o2RD2p+S5EnhnzhNRUGVxpDYcgKUSqXRaKSnDuEvlhBYn5VhOUrsJHqSWFWy5XKJTRFFEQzfh4eHrVar2+22Wi3vPXJeUOUdiSrW2aEYi+aa0+Ek5iJH24PwvmIr4unr3147GZzt2iOIy4gLAoySnihQSqoAqz+MxKGH2wZzD6DsdDpQeirU8qzGplpZ/kG9lbIPLnQnsRmJuU8TE9VjnJDKawD9unaDhXPgzurQk5ruzxvjW0phg1S8T+gHygIMkMTLVhYGfcjhWtmqWqYWFU4M0j/lDoyQZV565BAr0WfswyDETRGKL6inCFGGP+FZQhJHTCRJ5wG5tEZeGYtO1jlHtyq+VCR+9Xpq4jIsiRxW8reuYCinNtyLyyqVLS5bmjiEwCyrIcu4+V/CN0V7L0YeOopAli+XyxsbG0+ePFlfXx+NRjC4Qf/ATAjOORTsTc2/EnO0lKJmQTKD5OitbgSFdd3ObxZcvna80onk6LLSnM827GE4QHjvcXgyFdu1QOmldpje3zk3nU4hp0Dv4yy5IdVwiTiOhKzdk6qrHL9zwmtyXeJlkdmXrl1n7LkTkqV4QYbL+JMQAl2FgtiX1FKp3eOWBr/m3iCUe9FLJlbzjxs11zfCir6sgq/iBd8dU0n/7RybcyKtezFn4Q56YsVZ59NUkmvEZqPD3VhiRLGS/WTfOKdRNutdcV2lEhvOa3LjoC+u/lhsQWRqnhBc/LkdoWPLV0ss/iKYxRy6KVRAqVarqFg7Go3Ozs4ODg4qlcpkMkHgPN89TVNcDHLKZQDDEceQS5p8Wde2zgu76t9oGdzfTJK/5a6gXdsfL3KWk2MqiiK69cALBOYdJ3OpW85nvWR0OpEv4+TkBFsIqwduaM7kmkTq2UMq8UaRvGi4uLj5FEB57u0IQ94oj4pj9JHGl1QapqYaU7yILfWkMxdCNIj5TjzyCJH8kEjudG82GWcB1Eqpcm+kOO6E/Tnxm/OSdlN3nRe7cE4BSuHOi1pTR4w7E02ZLKklgZIrAUSJLwtH/aXUm03NFUmXB+FAn8uVk0rqUgU4nWgdqDjrJMRvSlZx3jkHqxdJcSgUhlTc5JLmmQf05/LACAP4kGgGLz6bzc7PzxuNBtKCxHGM2siscgxbeaVSQTrXyOz12h+FyxwmplmLTREldVe+Ke015ZVOYNFnlfEuK84wGRQdsNX+m0iABwmCF67KyQ4hwMUSpe82NzexXFCFQllkbJ7DzpxauM3gA8zt4Qoxauw/37QkReidEBnch4hA2Xm1WpUsUyy3nL5RxSqYs/PBxHwOLB7HgOirqysCQWpqBxqLvBWu4gDGYiAidugOSbPZcVLTXSQS1hJZGQO8xZU0WhJyPWfnFXSc5JQkRjhDXl1XQSgYvQ7SrG6Xllw+OrL0mlD1JNJyJy4fSubuxaedt/JZNhCy2acik34wDpgXnLV8KG+iAKrgBWJI3sozGPkNEO84HA6Pjo6g7od1lDEXUG7Sp0LPCV0ATixduaYrnN/4Ag269svXtr2OWHlLK8IN9cqppTxIJDCL6m2uJJWSdJEhGBx14mEyGo/HwE0nW5Q9SQu+LCvLics7Aw6wahVAdXkpRdILWPeZlwEBIRmtWSV0ZxihAS3UwTsLYU7FFoRb0cMJbILSFiwMztJw8P6IFE4k7U3x9GJvI3MfITGMzHLiBIb47s65pRWqVjLrshEvOdDRf/V7V9CfaidTUUrqMUx+qg/1YkVkVsdEkkcUByGYVpejxPfV47kkwaPBLPVQnvDzynIGe+/hMplmNTw68rnO87wMkvQT67xcLiOqZzgcnp6eNpvNSqXS7XZBO0IIo9GIniEhq2jSz0GaKwC3guCbhYk3tRtjHF9688IW3c3+U9cevM65JEkqlQp2Ncx2SEAJJKrVaqenp8PhEBlMvRRuhMEHsolzbrVaVatV5MqHfh1b9ODgAHnY4IvnvZ9MJu12O7bUMjjksZgWiwW8drGYsGdYYpdMM7aAM671SHyPveRMi8xURXCB+yf5JmEO0RSuABxe1BQQOQlwcEheWsbWKIro9IeuJuLG6JybzWZMcOecg5sB+CYgNYjl2mU3Cb/hK4QQoDqYTqdweKLjnkq1LqvDjS3majqdlszFOhWXQ2pUI3PYpkSvXJ6UOdzQVK/ipRRakiTwGUzTtFQqIRsmfgIp1XtP2zEnKBKlQWQlEnV5U9OSWCIPLDCGG47H4+VyiRScgEuuLlWtRuLPH0m1SzwoSZL5fE7nkDRNmZp3uVwiFwxKzvV6PYTrDIfD7e1tOC0hxyVGm7qmRNyGMDur1QqxHojdKFuCziCJPzAp2JJBJHE9169FgCBsXddYDk/0r6+6vTG8UmGUupiS5XB2lk5RtV0uqx/BzwGUSLPmnEPg43Q6zdVsIZSrpMk/abAa28oqLyud4fpgotmy5bWNxWJbtjIsKr5FWSsBtxnfy2eFdK4n7H/8SzsPgKAk8d2uoO4IhbwYfDsF5eIyJazr4k7NJKLfcMO7rBJQUduLXycmhdZ/J9GiRGf0LZZkH5gI1SFeWelNJ6mP0qz+NEfWaMhibE9sNih0GL26ljQpkOk3qVRDC+KIRhZMYzr9uvBXlsqITE+SAxSuBErc7ORKsgF0u11o9p1zCAju9XrNZrPT6eAYGwwGg8EAQpU6e3rhrdxiuh74Orger8Ox4vDqSf/cu/+1aG8SVjqBvMjCurXOLauvBKntpWcO6Rtj15COBXnYkNoa0hZjvNbW1oK5X3C5UKJMzWTsjHvqE7mqQHBwB6baB7rFEooTW8RLSeJn2POyVOkjHFOSRT9TsRfHZvAJFplOLCYCsp+6txVtuSuI1KEgA7rC0icuuGxVWMJcZC4y2iWeds7CuqEkDSHQCSwYi0/F2IrNWbKIHW+e/BUrMhxMAmD3OH34hqKu3hkSBgQXfM8oQHzDGdfDhoOQZv0ieRgQLFLJvZZka94BlPWsWkmuaC/6B/LoyCyBtNV4iTEHl4yiCOx4Op1GUQQHu16vV6vVdnZ2GP+2smzEJYv15BxxwedOayK+Ewc4DLJyXgXKt1j5qlruTCMXg/7OGa9cWZkB3fOcFW+uuVoUhYobpO2CxRAmQjwiFbfKpaXFZq8SSTTpxJ/Gi7YuiJSqQh/WK0BTqRbQ3GXPcJ7wqZgjItH6EZdJu5wcD3zfVCxd3KjcAJHpByLLzc4uYd3rq3FUnfgqEHlTUZJyuJR9UAJFb2mHjSx4CWoEePzxGOA45NaGjg9t+rmuOsFxvr52MhXXKPwV4AJRGmMSSZKqpeUqpWY8x7a8yDe6GqkWQK8SyzS6shS/hEKSXy4k8sfI9A+54eWqw6iWy2X6nANDcfYgyy9ciMbjMYqV4tXoiruymiVc5ImFUfBU0wv0KOWCLHLJb4yVN/0qvHox/I3BSpdVc/AILUnqAQIldIuhIAZGlqkQWFmyGoRwN0NOGpRqgVoQKvxgTiFB0mXz/pw8CqE5qoV/uabJX5SQEln4apS1vdS25pYurowgAriaZSIJW3ZGc3IEIYoi6PWCWDmIlZHkBiehiArmHbQ0q5cgJiord+YAEJm5DMIsbTtQR1LkJOuE+yc6A51ylDWIsf8hKye6rCuVYroOYDBuu7JSSFDY8YCMogh++4CwyDKZ83FOODgezWfpsDs7tvnb1MwvKAOJFkR7q4DIgzM2vysnxyr+RWwilyI1xaDJ4I/9fn82myVJgvUPxTQgNbbSb5EoXoKZiehXpMuDJ5+OanHFKlzeuNVfy/bGYGXu8OQmjCzlAQty5aBN54aSLI/B1WqFZJfj8dg5V61WNzY2Wq0WlNz0VsNJy92lazcRNw7Aa27nePHBdFKHAD8EX1P5S3/ID8E0ideK+d571mVmDhH0gdnaQZCd+Bim5g0aWSZjPDGxcgXkDt78LomnHECfjbFTMOK74x2dMDg6BkTi+q6G15DNVgnahZrX4D56B5UQc4eEEy0BR4yLir1NRYGoN/EW9Ek16GKxoIYktfwXJJWJJI8IljNFOZQOVJLNh48PyH+R08YSqXOLmQsjd07rv7EUQ+eUIeXg1tYWEv1OJpOLi4tGo7GxsQFVPo4ipRocKEwWUpzg7bC6wENj8cPl7OSOpZ+n3YSwL+v+t7Q3Biv1rOZhS1KJYBtMXmSOe4pZaFy7mD8kBh6Px8izgrq4m5ub3W7Xez+fz+FrxtJLQURLZwzCS7IZbxoi7k+uFS7W2JIAklMAJrCgnTmBR9K8cNWVpCPi6ifqJVb1lK8ZidEDu5FWJoKv4i9vGMRHlRyKMjjVcF68vhUoI1Gfla3oDbc0Pb281XJAwFUiZT9wK1a/YJoPbGMvSgk9/HgiliUVE3vFDc/vU6shw9ch2yVkeO8ZHhaJDgSgw5OGmUOdAByHS7GbJ4FauhUxc+K2s/ykJSvj47LGnEjyclLwCiHEksIVU4nyztDIb25uojAZKjsidRAifFDsDzJ4lHWhRSex3agHB1CilSwsgos/ERsXGm94E/a9hu1NwkoCB0GHJl2yktScSHKbBM17Dw9b51ySJPC5nc1mSys5X61WW63WxsYGwQLiYSSao9ScEMkgnJzzKoZw2zsTMyMR3sk7QGBjywvJpQ9GFmXtyznGyu/J+EoWX8RnsVeA2hxJ0VHiWzjRe1L/GxW8GnVggzQvjJjd4GVeCofhmlQcAEvZfLFEE2oMlOzocaIHWFnyTgYRzDmGfGWecyFrEE/NFTEyVy0YmqA/hVU9Mn8MOGYRdvVITi28kpNIrKQPYyLWKh6ZvF5flnJu8ahIRUGZmo2er+BMKw3eivFHAoThcIgVqGyDJtCl1ZJzctKEEHKesBTDeQSyhax4p+PwDXDgO2wvDStvOh+CSIuuoLZQLPPX6b/0QAPvgBs2tNSpBTxA8GTWP282XO4W7kli2Xg8huEPO3BjY4MEgZuzVCrVarXVagVIXSwW8/l8bW0NfpcrKb/D9VfsOV+WhmwAFtY32ArMFwBxAD1tPgTl3L88KpzwytTsS6m5Q+cwDmDkTdZGQiZs9djqxgBtqUxAJ+Fjj/+S3aSm802zfjwcZ4wwBp+7KBHfKfgwwpsPQLBcLjG58AFMkgSUBzYKDiD+SwqmhCuYpqIkaXrZYXZVaRpBx2eTvTvnaAoHdgQL2YbyNLbUKvBDoExNghlLdoxINHdJNgLHZXM253YTCayySI4zi2HoPZl7BR7HHCjYQlerVb1eh4vx9vY2rJrz+bzf79fr9UajgcLfp6enEKtns1mpVGo2m2CgURRxXpbLJQ4SEFJMULVaxUOR1c1JDTUnuo5g+bdyy/sWGFWprogqr7S9NKy8qbu3cOwc47v9Ypc9S9mKz/XXmT6VR+i5HUXR+vp6s9lEykvnHA5YXI81AdcKSOuLxaLZbM7n83v37kUmrAUzH4MeRpKJJ0jKWCcqvFK2pJSzBQS6QaJErspTOhIbMfd2JBKo/tCLZYC/deavx0cTQVbmk6jMy4k9QS3LACzgsl5JPWwkWcjYNyWwKitwXrzpkTEaIDtkl3wRHbpIFDKc+tS0h6n4dem84DLeMGdPiyV/HRqLjqwsQZk3jUpsafeirErRiWI3FY2hEzkgiJo191udSoqxieXixM9BIBjnE0UR+tlqtRKLL6LmF/PCfRFFEctVQcdNyYwCNSMdOXHeEjXRAKUDpbOs++570F65DH4T/F2LcV97KxW4VLjTexJNnBw7OVksiMBVr9e73S40faAqgDy0ipVmxKadTqdgMdSCOzF9wIiZmgoS+5PuFzl+4eRspJwCe7SzbJKx+M3x9YNozb34zPP1UzEBKyoRCxJJU1bE6ChruGRXocKnwMib8Lkq66EqnCscBor1GBmgAHWmwQJj8IjpdAozArx2csOSw8pY0oA6Qz32louE5DdIJjfla3ydkoRU05lmZXke8XOAILCDJyW7F4vbg55qiqGpKEB5snIuONGYPqSyBuP2ogzBHUAD4e7mLQO/ilZKxHAliCSqVEEFye9rtRqqOULGSiV53ZUV2lRsZaU/DjX3XciqJvXYeKHms6TKZ/PbvtL2ynnl7dcXN+RN91Eu4ISgcVHqxBBZEjEyBrFWc3lBDGy32zgqnXNMPI7NjNx/zKrf6/Vwn/F4HJnOG1CIjuFkxoJGJByrJ3txoCFe09RL+gMAis0EFKQ5ySjBF1GsLI5eIu6cQTSJxenA4+gmok/hjqWylbOQiicT5aPUPEvU/4bsiahBjRjPgMT8w0mdcETRR51TTATRodAB4YznFg+BUlm/Hjw6OMTZRPxVCaxKuPAixGs91J2dH14Oy0RcXHNnmxNOyutjK+ZxdXWF0BoeHghFg1EFiw2J0BOptsadQt0U+oNgSuhJyOK998DKer0eRRGUmEFyj4asvhXdoAlUX1zFOK6oazf4izb/rSs9XzmvTLOWaLYXfUkd8dTSfOW0+PRxwT5kcjas1NQimqGEdrYhcWY2Go3UCnjGlkfHe8945Far5ZyD+zGF6MRsxE5WNvGOPYFWjs3JxkjMbZ57GL3Vl03F/sBx4AYj7OrYJpbR3UvZMidqoxzg8uckOAqs2nOiA4cdf0pF/aR7CcUScCQkFgRNdSGnj0456tMaRZH6gQUxNxHEXZakMPzUicCoI8xBxsAqN9fhjUTgJYdijIA3dTN/qPMbRBEZslI/F0ki6XIj0ZnmCIET3OTrJGYPxDmNnBc4y0nuIAAFCfJhf4JkWkI0ByLHQwjQyKdpCvxtNBr0dXV27oJZk1pismLJJM3HebEW5Jao+zlAU6f720TMV27bec7fKim45UpdeZFl8WGhGCpcvCV2DiEwRyHuzDzq4Cxpmk4mE1yMySYkYYlwr0ZR1Gg0arWacy6Kovl8XpLU6LroAQdYsjjqIRmp6YBNJz4Hl0RSLjsdIrIqbolgSgbyILIAkgJsyJLVzs0Js66QLJLToTyOsEsTR2Q6R/28tGJb7E9kaTtWFnpfkny37HxqZtxSqcQUbV6kabJO9Fz1nnAjVQpDzs6e85vUInyopVWQTc3p0lnMZWTuaLpc0SvNRcCn5GbEiZ9DYgGyPqtgYT8Vu724Oq6trTWbTWfe5nEcN5tNRJqVLHcR85nzJjzhIjEGAriBsJgm6OVhN6vX681mEwHERFjwDDo8IWMsVilgmiG8kUgnUdZ+8PMA3LU487W48VLad6mvDC/CyfXIDaLwIvBR7ktFqxKJxRA/h7UO4IhTdDAYQEamhzPXcWq2VBgx6G3rzP9mZVmziE0rqzABVKUerSSBz+S5qRl/VVlGxaVScr6+AkcoyNRc03TqphKNxgpSAPp5cGDTrEs24ICvFmXdUzi/CrVs6ACK+UAL7GzPgPKn2fx4vBvwlIFV6qDO8VlJILY69+VGw2cJo37gWUU9qUIq+CzvQ+oUTJ4NVoUildp2UPaxY8FCyHOnF9WdnFkF3xwFdqLZwOCvr693u91arcZACVjquX5WlrUzFU8s3h/9p5cuxCMqQ7AjsNprtdpNWOmt6iTdjGJzTSkXKte7rOJIF8lz7v1c01kO35ay0n0LvPIWrHyh++ckUC9+ziUrr5rTK+WYVzC9EqYzWFpTFrxVsuCyBkpnxm48YiWZwxnhEESYUtbGP0XitsKm6YWcUB4GkOE+aVbpkxthhZIcaU0sSzZWOR+H/7KHLqtaIuWJLGGMF2Mx76+d4Qij0WUVQhzZmc8m/eWYkycqLU0lv45OChABOuLIjLAlSzen2zJkne2150HYH2/ODzRbcVrBKEEt8YJ0koe7JdMRBGGvkfmuc3jxviXLKEHc5L+5o0v/pJp0qIM4CMREXLmUqjjenP/x0ByKEdpSK1+cWjVTpl7V/kTmBbG0FixjZk4Azx1aLmvh+dYw7mW170xfGWVtwVzZ1/7rJMiXpBLeYc1mMzJ39Ol0CvvpYrHY3Nz03tNciJXUbDaxr1C4EWc+jC2LxQIeZ0mS4KjkuuFBykWPIhOx5X1Is+54fC8vvsQaG+dkjQZLgQPMDZY/Ddc703gq7hOzCDGpRc6sLN8wDCalUmlp2cwSCRNMzMc+tsRFHMNSNr6YB09qmg0ePF7Mr6ROKofiNPLeg25EFmEdzJMZwI13r9VqZ2dns9ksMg0vAW61WtFfL45jzJQ3QxlPPkADglNXUjkDRxoXnnI3nFV4RCSKS5eVglNz4MUFFStlvsrm/eU3qUjis9mMy5vnt+I4TxHOqTbOL/1YuSQwdKoDcXISK0TyrXn4JRIp5L2H06X3HqMH5wSkLowshUKSJPgeSwgO+ZTZoZ5aW1vDT9RywF6RiOSOB23c76Gg3+R0+Os0sDfhz0tsb0zcjp7JZJQVq5ewssoqeroqnUQLIZBPcTnm1Ha8nlNCMoVFyXNYUYPzmpjZgfwlxx30XHWSmZG/wvJSt3YnCyWWtGxBGvjUSuLineT6Ts24TKWYut3xZWMLbVb9WjA+nuODLquSS0WeDWZfvhZ2dRyCccmVFHUIFnzCjmnfgqkplB07szU7MTrraEdZp1eXTf+h6yR3SPNNgUr4Cc5Xng2JGLVz+5Z344LxWf7It/ZCF3QF4puVZTOigML1zLvpC6YSjOCFkFIfyrWBu9EtP7FASVyPc47rmYBOtQMPBkCtl7gp7EoC9I17+7qmc1f8kxN29RYrb2yRmb8VK3O7hSusuBO4eoJ5qKTZCnxoZFL8ue46L5YWl53XkNWsJRJu6CVjEPErmBaSe5Ir2JuuUE9U3RWKQYlZKlRFlYoTD2/lLQcEIp0YfOkKGxjNi1ys6O9EgE1NNUa41LOHNCeYoTxH4sBTOCC8D3c7Nl4k/ptO8vJx9leFpPR8Be2JYuXKgj5zjauC/9VAJpA1fOaRo0/nEyMxawQRjABAxe+1w3ofvSwV/WPuNOKMRKIIwmWx2ZT4UA6jtzzQQfJUlaSmNI8EyAeYL8Ro6KkMtWlZ6io7Ux2ssrWPvrbdjpX6p9z2fHXtDcNKXSKUKXTFOIndTkUVxZbb3ix8ihyupCqKWfTTxtmbmJJeGYqqFIiDqq9MJDsDmYizfJf8FbeuswhCJWup2W35RC+q0pClQtxUTjaGN8EZFkzUXdGe87YcSfxV/UC9mc58QaYLWV0hux1ljWxFLOa+XUn2B1dQ/iouOwmZ553JZXL3d0J+CeVxHKte0mVJZWRxSqmYvGh3IiwSJQHiuX1LrUUqcoCz+uM6UE4YkzLHIM5eugt4gBVvjnWlg8aVr8cGroytno8ue6ItjGZAPd4hNfd75E7nwabBoHE2gf9NO/qWFoR28NVULgnfCp1ke2OwMneSpNJ4sMRmdIasQdqoG483IVYuFgu6jPEmiVlXyuUy+Fcsrh5wquAi5sJ1plZfWc0Gb0kwlUToAsKznFh4nci2iHkP0qDy8+IMpHwqEdclrqccf3HOQSfLxr/izHBi5+FyJGTzZCJcOpEBXdYKVzyxcmpNMkeXPXJyX+YIVCKZN5X9BdP2KvXA7MBGxOey6YmrQIlVVLKkf0E8Abz5gZLqpqJ/0FXqZJ+zS3qucyXwv5Eopp3oH0uW4N1lkSI3TfpXbbm/Ei65L3K6LB72wL5EvO6x/ql31jwMNIVfq/V+oabjo8Ooi+Fbhss3EitdFi55rOEMjC2ugOc8foJdR/8v4gWArOhdQdmEVI59UDAi8cGfiA4uqy4sWb5FJ3oo3pDIQvanK8xneaLPljTRvAnKZ/HblSX40F85wSzq+IhBzuRZ9pYjQ57F3Vjc/95YZ26aKEFD1ZVIHAtfk/ekC3TujOENc/vfmW+8rhOFRUVnnc2SBU0S+vl9SfJUcv0oU9MpzkES+4wwGF0qql0pLuyinIQ7w0rmhHvmXl9PiCA1J3jY8IPLnm3eNIxg2Qwtd0bbwSQAiCHLmleWyBKkErYdRF7oS6UvqKx0WUKaG9hwnbLiW2hvDFZqy8EZDxxoSZxztOWlIiZ7SwUGQW8+nyN7EOIxnECVqsN4ZyrFYiuWjc6opBNEz0XRLFhmDXb+2pMWb4TNWbZGdzZnC46+TfyVApNiaGLZKnO2rNzaUrgnecEdvChYOQiJWX5VQndZ55siXOo5xN1IrAyihUizyUBxc8Vc8j5yT965JImFckSYp4jL4lHZapTHkgjHZW0dZOslKaFRzuZI1bEt4ntu2H3hLFRCzf/qBUk2+ps3143AiXDZ89VlMwcGkW35JV4HKxb+JCGEUqkE12PacJxpRZgZC1hZLpfhuYzwIY5wDjSfvxVHkn32WWN6lPUmfHXtjcHKINIHD8kc18OK56Gak/4IRs655XKJ5JXMduFNkRfMpoxDFaaPsmUiSK1AlcbhqdwULMUOvc8iC7jk3lZM0VoI5Dg45Kn3iUQfl0NJdIwHA7khWADFf6Kw7mcvTKckOceCSILO1mtsddNox3BZ4THHrXS3p2KVKkm5Wt6WN8ErkGwmhSAW3p8EjU+JsiU6goSER1KGU2fBGXrGBWedWHJeUN53xjdLFpqSWsSOjpW2WGpXAHZXlpHPCS3SD1xRQWg7z4Yoq/nVoyWI6oNnahDFi74pe8hl4EwrDbFa+Yce9rhysVgECViKLWEH/cN0jT3/Ntde6Qrk0gpZMl4c8FfXXiZW6lGgL3Z7y10ZsmIdv4RajamiuIGRulnXK1cVDsPU8o+x7hIOw8Fg0O/3oXmE4gkCBVASajuk3ltZNjDEUzrnoNdLs0UT0SX0h+lgyUbhx5cDlCBidRD+C4Oj7hPaKCPLMeEsYUHJssMm5nuMy7CO4UMK5RpwnyrX1PIik1Gmabq2trayYui545rdRmdwAbwOneTL4BGlKj8nuEmIB8GM47jRaICHLq30BW6FIwcviPugFDV6izdCLKlCvHJPgmzJUpZwhHEBVG98TepnEvPOASvXe9IhBux4Zbl12QciWhRFwBSXNTGFEGBLdCLFYxgRJ+NEaVCytJ50JsW7M9suqB/9i70ZtZ34vXoLcMI3yOSC5YrjH52Zz+fr6+uIJU/TtFar1ev1arXa6/XAJVE+ABd47y8vL1FTAEoVeCh3u92nT58iKfJkMvEWQs7dTRzU1ZXb9f46zYb+1mVjB74WZ56z3XKrN4ZXqvSkpJLrOJFkBM7iRii4Ya3AVJJIaLC3eANsPFonc3zESSYVb74vSdaHMZgfXE5PqpSBr8O/JuItpAIvjxzsCmeMRhHHm/AYxOWQfGpl9crZSUIqd74yKYKICpVOhGgOu4452Y0ua33T4t24vvUnZNArS1rMy9jtYKpMpFwsWfqSIAxRO5zbaewPh4JHVG4cnJ24NObyekqXuHliLug5oq0TzW84v6nY61xWrtT7KLJohUUnWIko0lwPcYETG30kOiK6suq7O/HW4hqIJRMdl2IpW6aY/ryxZXKDZ7vKW+Qxb3R7mVjJKed/X+LNyeqdiCRepI9Eio04wUqyJKRUcSZo4ALvPYJGaPF0Zn+IoogAEVvULdNZ8jKu+1ScqHNglHsXpd6puPWQmASRsJbZlEX8lYKXNyd27rE46wpO4KCcnoortZe0EaloePlbdIPmDkpVIWtk5+YvfsmJU6DUMVFHE3YmB0l4R8RrYTfCkyGW5kRyT8VWk+uPggUnhSsqZOlhEPOrTlZO4+GzekNcRm7rskdI7jTlvzzznOTlLFnxL+Rh8ZacbblcxlZwMRXjmzfbEac4lkBGiFmRpBrR5ZGz7SDhOX3v1fpPNxJ4DqF7GxsbzWYTzkN4IvrwNdv7TWgvM39lERReIlxypRJQ9KjUsxrXE2swVfCPBRlJ0xSxWdj/SNzSarUgzREanMnO3nsoYpBGhZIUTcY8h7kloqwzvLvBFBiu0wziXwinJCwcAbWZ4HuCFw+GlZUkXUlhqSTbnMm5iaTbiiSfWE5wTrLpF9lnUHWqIHK4ELKmD761fuB7RQX9Y2R+lxzkyGpzO1M6X11d4RSM4xiFHEIIOOqCWIGJv3y0N3t3JOZpn9V16qqOzHedRJ6Dw7WnM4hWlvKffC75vpcWiT0kEj0y1CyxBfXCcrK0xICR5JckuDs5FXQjOFNcxFLXb2np3ZwdjfAPQQ+Bld6MS04iYpNswjrk0Gw0GvV6nViJNXzt4n/j2kvmla7gXvtyG9col0UiTpRFysAlUpKynKgTgsrIWAqNRgNx5fog9j+S7AwEBSeRIV5cQKASQvfohxSyHFPBUXcRm/cedAmZsrz3YJcqV9Juy3tilbP6ysoi1ZzoiVxBCM0RJfIjl43Z95JN2ZtZiT1HuR59iyhrnQjCoRRKFCYUrbxpaUlM0DdSLXwJbxWwLdjc8E0Rl3m4cri8+EsSIlWlwP44EWVCNlqRndHxzCFsDivxgTY3dkNFJboJMzgNH8grY8lDSti99sTiW6diC2KcOEZ1sVisLII+SRKUS5nNZnAAWl9fx88Z28OzObFMmrgDAR3En2/0KqDg228vX1/5isYlmICf20jO+JRihKqZUosoAKnExkblnFKphPKezBGgUhulMOKsrkWX9fJBI/dJRYnJNaoiM+9DN0YSH8INOSBWMKgi0YryOHc1ws6YGWwlGXew8dI0pcsxbkV7rkrWOW0ady+3ZbDSCyXLKpLbpV5MVS57fKow64VDcTAV0chteQd2xpscij43m03vfaVSAUXS/pMR63Lio7lO9LQgdfLZU40qgmDpU3MnRMhKVz5roNBzgsKyKhBy0EkBvFQqQU2kpjy0pOAYF4wlcOq5g3B2YtmXLDcouCFsUKCBk8mk1+sNh0NI38xY6E1LEFu5IfycUhrAHRYh9Rz65tv+dWovWQbP8YhwnWD+8zfvPXVnJctwPp/Pp9MpinrHkngmTVOoGrE+UDNnOp0mSYIs+UwKnUpzEiVGb0eFYB7R2HL8nPM9zq0VXq9YyT9xALnElTITOoOZOLDEucfw36XlNtaL+SLESqz42AoeaCf1jKEFyVkWMg5pbG6k/jpJIpV08Xw1l43DIY0iW4ylNoPLYpCOTBzH1Wp1NpulpkhdSrkunZTcGwURfVyB5GpTAUKvJITxnHa22jng+qsghFp5eslyXnBMOG5ezuzEfIxSS5gGPTu0hPivhtLzZVcSKhqJ/Z2HXAgBx+pqtWLaSjxoOp32er1er4c8XkhkCT856KbgSgnUZv0fuJRA+99oNJiIKzcOb257Y+zgBCCXrUVFMQ3zTVZFcAlWUR5n8mg0wmU4peEURjWlSvR4nKbniLJlA5RHxFJot9hhfQsCEL7hZ/1hZLHnusOdcyEEuCIB4Chv4r9Yytw2HIfYgs+UPLqsSZq/ynWG0IaLqXuKxAzCA0YJlHIfXyDjilaRNJXagrlGKQrzsvX1dfh4pearRFJPUuay8MFp5fdO9AwKx7k5IuIo0YtEDbqSamU6jy5raufhkaYpVKvaE2cqJieHBO+DuY4siR/yVoDKqUmTP2T+qlI2Oyq7hJsAZ6GgTM24t1gsJpMJ9FRgiPgXuIwXoUMIZHAWKYNmn7UA+F7Xbuo3q700rNRN6AoL5fkb91IQ7ZiXWEMcyDReO+eWy+VkMnGm7AdvgqYvTVOebxDT0jSFFzpy7jOTMzInRtns6yEEelxGkjfMiYGYImFinuqJlRhbSRa/WOoFKhHjPqTQF2V1/HycPhRXqr9kItm6VC6DByI2wHK5JB+EXpXbjLyYBlAnImRuUih0x3EM97pgrvvADvQNNoHValWyLLzKqYl6iXkjUDx0zqEyAeY3lqCA1Ezh2JPYw1AvYMOXLGUnETmIZcMbc6fqWXmfgjj7mVi5SqIkXhzripVml1a8JMraiIh3eq5T8aKHEwgjlIP6JceT54euriBUMcnW8IGOBbX26AoazI8S6wF8Io7jTqfD6cOGGgwGnU6nVCpBmw+2sbTc6VEUQcUPZSVsAPCppOkcikugvB54ucWfW+GKJ8W/vmrY9TfIGe4N4pVKZxRKUvNyoOUuMgfAxLwlKNlRJtU7ROan6UTm5VJOpA6Uy3plppIL3dkoK73SBsjI8aaQpXVObA68LDHPJCcmGv2tPg6fqUZwRvFyxCeV+g2586wkZSb1vUjcKODTT4UMBT9fWqpdfbsgdcO9SKMKJbHULKSIuirkwnCmMK1WqxAYU9E28jBwWQ1GKraXHPd0AqxOtiv7GYTfaR+cCArk+y573uuseeGYKi54MTcl2Thx/oRxMnTn5HgGabxPbJWT4zgG9k0mE8wUBGT0nLHbpVJpNpvBR73X611dXU2n0/F4jJzZkbmapqLQZ38g0OA0YkI22kKxonK+6PriL9Ru+smrxlD3BmFlYoEWhDYI0SEEeOTinHTmQMuDl3QghEDzSA4uvSVrIMrgr1QSOee4GfCrarUazCTqTWp2lrs3Fq86ZxKx7i7u3pKFYOvOgdTMnaacqCQZXJxIl3xQ7lbkvE68tXmEEFa4gqlM4MiHrFXNG9sKxm2p7aKagmmZnPFH8k1uPMJQsDSxtJyCSOItaKnjUJAfsT47MkXFlo85NgMRTkfFjiLmBlPXRlkfKVdQJupJo+yesgJvXoQDPR44BTlM5JJzgndcJyyYvsqmXo/EkKhyGF120jSdz+fD4XA0Gi0tMT4jETlc3W53uVzWarUQwmw2g/1zOBziKWDxvpC2Sm072CYglbVaDWI4+TsXjA5L9HU5gHUlfwtoeHt7k7CyJNUHy1bq03sP5bT6PUTi/0WXC0wY3YZdVuzC6UfORTzCfbAOKFBTBwTHC4rh8OxF43lL73RVF3qz+QIUyHlJeZhglf2MshZk3IfrT2UWBanI8ks6UQWkln2O3Cp3f1dwCPWiKHCSPBhaM2cUBqcCpUJnR9fKgqAj0TW7bPY5TChENtUOsw+QIRaLxWw2m06n8HyOoghcqV6v44kcmVSMGzTfcU4pqcQSEqZDmlhcls4Cbs4ZD2aw4voJWZUoV5rLyhx6ZQ5BQrbhtiihobIRBpOnGu9McHeWfG88Ho9GI1SziMxBFWuVywAa7SiKJpPJ6ekpyAeoKKhio9Ho9/vODn6OJ82q2COoTg6LEGOR9aVyx9VNrYiMubH62utfentjsNLJdq1YUWNFQC18SKFPASiS4jb8hnYbEhDcgaxNpbnEXDVJnbz57kSWqSUV19+llb5JkoTRk5zyshXaJbDSuyWnFOce8JIfDBdwt+gaIlPGreg/RCVAsJjIIgqr3OoK6RG5mTG22MPOOfCR1FSZeKkgJpFE8sPTqUBJcdlScAN80ZlgAUhKsWez2Wg0KpVK2JPtdrvVasHxy1sodw5QyLBcNh+HE2ILhS/HsLiE8D2+0SnABYCelYTDBxH89Vm8PxeY7nPFWVwPHs3kBiSzenTpi3CcsUonk8l4PJ7P5845KCjgAwTFupNDrlwu1+v1jY2NVqs1mUySJEEuLqylRqPBuiar1Qq2KfJKpibC3sTRxSA3Egg92l8HqvhC7Y3BSm5pYGWtVoMJG0DJhKNeTJNpNgUL1Jq8DI0CVDAHb65yRR+ufn5DHSIl2dgSo3oTiKCyYf6xVILJFPfJZLl2oTFQRhPMQ1PZkDdXZPafSK27SJGCb6HKx1TcCbWHumN1ueu8xJYII0kSzIKzmrEwepSkEGAkCY1iqeyWWs43zCn88NWBlEONeZxOp+VyeTgcwp0FQAmmM51OKaQrVSzqEzH+K6khoQcDDzweRampfVNRnUeW/hl94+NSCSSNxB+IU++yfqP8VZTVkAbRUSr4RuKmxtNXz9Q4jiFvIWea9x7B2qgkvr6+TnEeJxNOmkql0mq1Op0OBHZgJXhAtVrlouKB5JyDBmw6ncIcBxMQxHCY3ZQsp9mo01vgkiOgCOC+Ff54U3tjsJKDTl4JAx+cJ6Cs1DW3tJrODByez+eQRMD1KCBjS5PTpZZcQFekF628M5tDKnYDbAwKHaQz3ozLlIWVuPFuxBTywZDNeqkPwp1VQ6f9ofF9ZTXNebYvLWlxsPLW3IQ5VLqWYnMrkpyCjDjn0jTFhgxCOUldORpU9pcs+p7ELYRA2bBkCXUiSwPqsvUs0e3BYAChm/Yonh/638SKVnJqcLxRo+euE36dYZmmU0kk/dLKSsPrsPN1eLRgvnK9Yt/4FP5VZWryR2+6y//H3ns1SXJcWcLXPbJkqpIt0dAgMARJ4wyHY7Zm+/+fds1W2K7tiB0OATRals7KEhnh/j2c75497pHVigWgmzP+0JadFRnh4X79XH1vcIuh7pQJpvB7yBAg9aZpgJKTyWQ6nYIJLaTispmBP8ESMh6Ph8Ph6ekpuwZwx5XeGo+6BSLjDGJVETaE+gkgbMYd80SHN9PEwytV759zfDBYqQs9kD7XiBTBruOvJGVQ5MBzPMD9uKnaRIHIRVsP2ZfSuvK05C5glbZSSjRmEx1M8k8GnpxHQCEaBk8BUhuiuZqmskkU75ZiqHkKE/kEVW/zim3Zk08qdypxkOugIlIWbRrrz5JxeCK9tMn9Dyq502+GU0dJnPfHCF5MrPEEyqZpkIqavdRuFPMiCushy4Ceiigh4gqsKvfpgF6ZyqE70nhpdLxXI4k6qnxUWMnBSCnFQfO6dqTYPq+y0u4MgKtE+yy2FO4UZ8UylDDub21tbW1tcVbgQIyCuri4oMALxKRywDh/bCI2qPX2yJ3XH4D+1EkfJDrEgwyeZQxdkzcZ+a9Arqw4APf+puuDqHgm7DGVjhdeMxqN0HQUNhdUYGZdvOSRQ7RGmYuidDXAcAMLNw5t69XRB4PBdDolxpmr2En6MvNdWs8gpNCUejZEDNL9wNsQ4vh1UqBo4V3PGNyrxzWWKczR2z+xAiupmfF33I7WyylFMcsSSc01qdZzePgI0nGUVGLuGpLYYDqgWQMcCFiM48EO7OBqaoWI0t6a6zDwkndMQMafUBqq81DWzh3Q19fXk8nEzI6Pj83s6upqa2trb2+vbduVlZXxeAxtg6ITTKjmCKhyK6k3iHZM10eQUhcw0lEohuqdUmKqZZCQzE7cR0r2tFrwpFAUxQ5iKaLXE6A9QaGZ3D2L8Z26Syc1BLa2ttBekY4vCAoMYsMuYEpYseiJPdEDGGCdR30ZhKNjfVARHRbk2WyGFgMo7TrwWrGg/+xhrdUrvBpVKnh9BaQsZYShzIl4k3ETLtmHIlcGj7vmicJhozoJtqbrRXtK48GVIAKYVGB+xjlEothwOAxeU4C8N5eKMNVqK7UePIseCRMTIc2alAcp+FDcM5dSKUdYKWtwHRQ3g8h9VDOTOBZ4WwpBvG0W0TuUNX6qN9UzOfBMJ0TnwT6FhFF4eIBxOIcAzerO+iyVKHng6Y+Kkl5JD1UQgbfzkGzoFhcXF5heKo3IymaUNliHkUDWP4RcRmWNlGr1t7qwXMClp1r3ovqGSx1EieGX5IXVGW4ki5xvimvgK4Pczctms1ny2s+6xeTQuUyOYIH04KFslJ2jOxux/gxuN/fUMZF8UfbmI+n20e2dx9JbvRaL32q8d1h5E9uBeMjMbubb5JyR4g1VmtsPVwPjipC1amZN00yn0zt37sB5yjrn0CJBItTcgWiKKVTBWs/jJu4svNF29OwX6qRWaoUU4pqmYRtFvUBPSxKrqP5JsRIqlZ4fK4mSeM3zRsGZJ61PwdXJxAHY3NyE2MjAOhr1aR9ETAn1Yu4s1QLKmPxAz5hGWdI4iPNJhOIiEDERNgi4bDz2FhIQuRcJg8YHPHEpBaq2i4txq4Fk1kZpyMMVVs5Kua/a0K4MX1W4DF79LEnUJH+iJ6Lil/wGI6W0ubmJNVzxQu60OHXSJL0i1OBmE9x8Pp8jMAvvvrGxASUmehx7zhl5O+x/C7UPDjeoQcTKXIps74BlN8l91ff89xbh+L3DyqUjeAgk66oxmDZ4fR3a7ykxde6VMzNEma2srEwmk3v37n366afb29vQYWlqIWVnt2HTmkPBin+t9oBHmmeMH3jerCePRA8hpD0oS5leUhLPGFcDFsDgTn8MKmL6c061OpO8s8ov2UVIyg4UMRqPaWVUP4IcO6/BwUBRHBhWpuFCEcIYKkDfbueNfNWrg6dD7W296mL2aHy9M58LxoNH04MUxekcpcKblTaHit64qlz/KE6hylwL2quWV4+xCcz1tcIKK/HfKBbqpceh+mvFS8CWwLZhiED8UBZ7NE+H3jBIAmjXdcgyMPetra+vwztKnmSeW4wyCybdH5lfkCU0qo90S0f/T1zAUDato0DNXVYV6q8ZK5W2lO007j/FHoBf4RoaqhsPQ4G6bWbISwW5XFxcrKysTKfT3d3du3fvbm1ttW17fn5uklZB13AIgba2KN5SYpAeMOXnWdTbJPX6k/iF8SvQK2w6VVCIHhWMJO4jE9t/WyZ0c8SeFVUx0cxg6u0kc1yvJFZClqfEhzVn8beFN27DmWG9GSKsvuzAs+9pJiOHgO0suy9O9crG+1BTtFmqxSfxKVFtZ/SVSl4Ve6jWzZbJlcGNjFBTMLLYGTvvg5RKGwhJYulDublZRhBRUWdbIa+el+rm/ECvCxgMTgGLVQexOJFUouc7Nl6pi/mLvD6KDT17fAXUcJym2CuyR4KsDvVrh7JDrkAfbW8REF8x3kestNL6Q70VJ3ZtbW00GsGx03n1PR4Smg6xYbRIgvQHg8FkMkF8WdM0rB2QUhqPx13XwdbGwg0AFD1LrRRwNNk5kmxbttXuyrhljM5960Hy0IPkCCu3VBTmGWCUKN1EVOtCrwa4Ehyn2kg77P5Z5fXZjQ8oFUE5hXVlzC3CrXeAid6EnXYMk+bsasRMHm3DDaLCGKWqeSUhNhJOj5tju0MI8LGoxXPg6TQmPnc9YDSDqniiKxbdiAzeSZ0me14DFfksNhMrD7BCnh71/iBhUBzWG4ZemwoyA94QFyy8Vht5cPACJcpQuQsKasTE5G40Zu7qa0KwwOtjNeDf0wlTUVCU769Pf/T/SjRYipXKJ0KZi3lb473DyptG8uzpzc3N6XQ6nU5RPgeOBcoyDN0wM5hU6AFommZtbW17e3s4HAIo1SBNUYVuZejm8/mcBc1Mot5o56JYR0GMBkp6b6OXgcmu3fM8RzHn6e4SxSq4xBwwQ3PLqUqs/UNYHU7SukmwpDnBBQ/25ORVtc+iZQev+ZTcIV7539CqsJWkAEIYD3zyxrycjAqePL1RrBbKpfAWsEuaBwliBwGvXPYgKUlcqySx3yq5mGTK6koGrzZELzkZ+cLrDPQNi5ynlaKALUOEJH2TTMTbJLWidQEHkragPK/xiDHylegBqtzuRuoBNl7kv/EcHu47hFNYJ1WIZkBF41HMKSVaw6LXZ2OIpZLorcNZZakIpRB6K+PDwErlfqjEBQ8D0sDRb4QXU3YIXhCXrgOkJcDmnSQdIoQAgQj3x/f44fn5ORL46B/HWUXLl+oQKgQQK01OCAHIeuKeyQarWFGdOnO3bBKraJIK5yYQEDx+oD/44gOps03WDXFA7af0BmhUJkRFbEHVn4sZx7xnEOOgolWSgG0qzo2H2ZtwEf0hHUTJPT80KdARZGWxFZWdgwiVtozBYAJJ7JX4bQVVBC+TboW6a6orvAmdMx6TW9l5/zi+DhmtQk+QnCuQK/4LbsFTsOLNu3VxQqnsN5IvEL2IHGpnYE2ilP6DlI2wc/gqWwltXpHOK4qMhMvXrskbjqXI+55ipa4FN8xulrR5VPRKnDGqcmTswWvurq6uTqdTZIKvra3NZjPUFIBsAo8boyxHo9Hx8THW6/Lycnt7O6U0Go0oJJpUJ6Q0SmEKnHNjY6PrurOzM3aGAsWgIDkoCQwWVEggI7gQYTvJLF4sFhBXCSUrnkNdyThcKJIsyJHAxDvksnY65VkT9dNcNENfb+Iyn5tSAurRKs891cDSxuMKVeT5/0lqMEBIVnaLBDQ1LB2YXPCsUyanJg8FNcdBClb4LQKVgOzU9XCkzX0sx8fHcFbw3VUizqK2c8J8weipU8Rfc0NKjHFtbQ1Je0j1Mw/IxyLgt9BUcDeyT7q8rLQDcm2zWDnN6wPg80DaDYG8G2lYRsmuYswk7Mbji7GbUbR7TBuZiyaN8HCsFt6LPOd8enoaQtjd3YVijupBp6enwOJV6WmBgBPU3wohgH4Ao/gvbdnkQ0o2bzuCqFlLgdLejD9Vg2xJyQNTvU2stJuR8c1/exPCkt2hkAnwDrZFVlojgZqLDBQGsYvT6VR92bw+hADs4FmFQZOmNHNC58RouOTZw88JH3SbUAqgFLOUPpTZkJ74X9WbVHrlT5LErKiyb2VsPPeet+WyJ7ce6uO4Sp3U2shSG1hfgahNhIreNzi7dk/rFcGL4TtcHIICbhvdVog5ZDeD8LlkA+Y18VakeAcG370iuYEXyiSdEE2CqNgMVIRvZMXz2Sng4x0Z8U5NXCVrrna4wUHBCRBeCfoq66k9lw9SAcXMyMv5vrRCxtI5w40IYnzX2VYnRak0iFmGlhmuIS+ufvgm4yaYU3lCt/KnHjnn29TBdRH1GTc9WzfsJraQRS+API/MVmAlIithIlHuGrxGbONtY3POUMDxw+zec56xynsLL0TOmaVkB9JC3qSepr4gWX0WVzJkZJwi+iXMSVDhhvKdOSEmNyYoNLTeyVaxI0mcBG/Ca6LUP1apk4ydP6ctguDL5w6kyYyq59VORYmtwcVQFBrpShg8tIuDQMnLGMYfvQIA97eysSqPRJws5CNSTuM9QnRteaQ5/yS2iCyS3ar3kEE0EiVQqvycEp5F7OZ9ohgTuF9BVIc+UidJOQfGkQIrn5WeHb5ClABVsKvGk02ro2derYo0FqSfVfZwDgrairbRG4UvpAtAkFAELq8yWj5lKTJwC177/VLA+YnGbWJlENmQ3yj895+tP+QHZV96TfQWH+DwIBpayjRGB1TIYHUSChRDkLuVIcTRTU4mVicMeJBIGRUS6elKpWmJ1wd3OpEu9SZ4KXLdIHIi70YAil4HnliZe/Fl/KwKjh5LfGYt4SQKoDn6Jy+0kaSaZ3U2UlnoUwWoxktzRm+FZB71FURo6mQw6iu6H5YWxhACtL+u62Cb5nspb8BMoBG30hcIz2XMvwKliYit34CQgBegN4RVMxoxu/ueNfdIJxxJ7LBcpU7SGflc3tPEeUg8Vd6jOxvcPqDqBe8D5dpEEElS34SDJMR4DxOOBVGjkxr4FPmTxFrxPnyXRirvVQuuI/wF9sQoJoUPDCtz6dvSz68dUUwDuRTTiDWNlwpXMQFe7NYr5WT3ukbPmzazpmlgaUK0EB12RKLoUSmqa3Aa1Hd0SuY2NeUH9EeDlFX2qRBQ5RETzVplHOj+6qOg94biLWWExgOAOBlSZ5S4EJVEVrwvUFu2G1v1PkX0csK8iGU3CRbJ7uhQNZCbxQ8wruE+jObTOKfgTAXzwQbx4k5CGlRO1x3BB7wvlXoV96hoU3VV/CINNFITPnkdXPj0+e4rXlep86qpWAo+lGSse2G9nsZKGwqUSUrW8+eKvCY2nHhzXfEQAqbEV8MdaCwGVWCXIcAOvABzLsVAznwgzZ9bKSNSvUh036DmIr8tosUb7JjV425C4Z9i3CZW9sHxFUxDUVWBVclL/4vTQn0Eh41NOztp3GjemIGnccXryKrNkQwcJ9NE+NK5RYnnUupXpdjElt+URbZN9jW5QZDaN2G3kTaqfBZeJ4h+TbGu8wShIDpRtRf4zEOeyx4DXARenF3rzGUHNEKJlVUh8NyB18XQ7Y6S+8Tf0r2QJRibEr1Cpzlv0HcE4HIBW88x5eAiJ8+laaWfsPLjpf+lkjvwCm+UbYGGCy9uphjBBYRHMZWG4OAZnAqjXPzqqGdxI2Sxb5gbiJJYbHhzch3Vk7iM0VMABlJ8gB+4mzlndPpTZpM8NpNUythSWpz1paxsSs6gffWDB5FqK5p5q6E4o9T+k47bxEp+fpNVyBJKYj1rt5XLQayEO5L6Y6UHUVSk0xxGK0giJgBdSRM4HopolbRiJaxUoyL3pWBE+KAWBolM69o24vQwjw0ykWJwpBHJSGGQ4b5Z8qNV1jMBXz3MPAO61BQioniTqBLShE+ZkX+tFie5O8hcNtd/uT6Nl0qjrEp6aLzoHC4eSFGcSpKtKLDzDIUVKT1ZvWYQ7Q/vZeJICV620rwqT3Ax+eLiAnRIHKz8irmMdlQsy1JZjkyoUqqChGc1ZdVIK/NcTexI/KDsSuVEEo8Sv96ZegNDZfGBvJ+mW/A8mmWp3OAwcuYqVw7KbNelu1CNN/n+54FIjBDCT4KVr/5y6Tx4vbKp6hpmTax6LXtQKkVLikJN00wmEyjdbdteXFzQ9F5hepSWflmc40p25IdJbJEVRyU+8kH8CeGSMEQJNIRAgOB9zEVInU8nnVcX3sOHcA/BGfRKwxwBV2Ei9xz3XBYVe6sLOBmNSKVbVm/Oz8TKLCHlQQxe0e220YOosnshKBNRyiN0QosceAC2Mj8uSPL4Khh2VW/twyv3WnkPrNvgZFC0sxt/Tk5O4F1cWVkBmrDREwmGTLGTALJOEquIlX06t16HH2XSJKTOyzkriVY3BAdFR0Z0MYKTCn+NYuZuJG20c6c2yKyROi9RQhSiO6C4esBKvqCerLdVwO11WJl7dfsHg588VPzGB8TSBYHRFx+4QxUJ6istvT8Eq+Al7UgEiO1qvRBp8KIVKaXr6+vhcIic1ul0+uLFixAC0l2BEcGDVAaDwXg8RucQhvhFN641HjnceS30KLUmebCzi65BYmiIj+SrRFXsFtpbK+hzBSgLJK8T3HXd6uoqjxNQAD8Bdij/xw1Bwdq6nr8y8asEF5AHXmw4eA4oHgeRYSDVOQkr3DjeHPdBOOTCO+qoboWjAtkf4VaocWdlvDdVvyyhVLgJAwZhsoTZtJWW4pjD5uYmrgkhMLc1Sk3fGCPsLaRePAicRrkCSZSgjD2lJz2IoZC4DACN3vwDD114HR2uhhpJ9EBxU9SGo9SSJFZJGXaWcK4seTiMUeNZU86Uc0bJDIgLCHU0N1gj/onQTKRLrto3ZVk8c/zFh4uLC9yBEjdi+JKkGOEpipjKAJIYW1VWsJ6LVXGpQh5dRv7Lu1UQRKqIN9hDFcT0y3y7MUNvNThp0lMlyulLUqygLGNlboyKb/gJLzYzqORQnbIowmSV0R3W1RbmXqzDUnZ3k4ygP9G9qfaDh2og+WrkVbosGJSAlF1TWyet8KUwKhwMYrNT6YBz4M2z5zUBm5L4Q4OE/nTuCcXB0AjELCXsqD5zYrqPfNMoMS6hlH0GnqffuFvJRJYx8T7R3GHC5pVazDkct49UBHAJEhjEnyRRvSuFhpuigztOekieU6inIAtzVXLCB/qpq1OTy6Fo27krjNRiDohkcsTKRuJ5r2UADWlpIY9kXAcnj/sspMhxEL2kf2o+rBFeoYMvBYWlX/JeJijQR/SldyP96WZXt6VMNJCUKROSVV9HhSy8J60nPN5ZqtpYr8Jun3ZNKD5LjakgAkWFqvqCevNqesmjl+nJaaWnqB7samHJY5RwiVmx9LTyBVX50lOaBdOrEws5lCUzNHBELZgrKyto6jIajZBImnNm3/bggi1epOs1P+BzKZIktyTqXxE7SWGc6xNc2O+81Qxc543UBMul0bZaJRM4YzFgrnZyX3B2m2kWTx0VlyD1Q7MECVWUTNSrmITOpAJN3TUNQVNBgT8hB2q9aBZWFdBJ100s7fgYSB3WqFiM4HYwxmCRROlcYpSlKuyN+HYqEOi/3buNXIoy+bZzKF+FlVaq0vbGb6I094oRxcCvP+w/iAQdpeRMdvGQjh1iJX6FAwNLzeXlJbWPgdfuzR7yEry6qvXC3JbSq/VQj6dOtyeXo7+MudTxg6ej4U8LKYmoj670MnoMkvimKObotCvg1jnE0nbJH+pWdhJgxAdB58KJQpvT7e3tra0tNAU0t0K2ko+Yes4lXcAsOfXBa1JkkQ1Vs0uuKlISp+pKBwVldjqRTGCokndCj6Pwe5oyKCwTQLMwV8V67iMRn7gDELebWwpzdyjgqw5rZYOg/rZa2SBk4C3qgojJba90HqfdSr5/IxkEMUZiJafKk6i2bEXYxgPIbgLKpcDyzrj5VmD1VuP1OngF1a+4Ug/naxGzYjX6wwpAsYXcA/Jk7I0eCaVX6ozz+XzhZWKzhyLq2+FWr7YNEx36aKjvG8pA3ywSUyo9mETPxWJBeqKFbjAYsKa3DivtOAQCK+GGE+MPs9sKVaRKEuFBJtRKTLKeB35DPZdCvZkhURr1nyBR4k+oacjm1Cqm6V7rjiePB1L1luIbY2YRH8q4os7jjbhK9E6sSNsyrlKQXCauEq/JbuclTMeye2XFY1KpEROyccOUEkLoYTEEUJL9J2k4HKRXFx+R3ZOmQKkEpnTF31LoNmlAlj3snGyG0l/2Isr6FqBMdeJVlkd9FqmXBmgGY1ZYqXAWy3C3v2Toebx1xEwpvZEOzge/Ai5vYg43LYSe/+rL6p5BRJ4VKW4Im7rGtfFX0eug0Njcv5tJTF/y1s8VkFUcO5Y5Ero+/AklhWrnsgh6QaTX5KaiKAbKzktw8sX7C6gPtTKeX1ePtzXxZgZpTGgezIg/MQS9/6DoJc5MxExC7ebmJvL0KdYhA/X8/Bz8wEoSUojXFSMQdFJOCUeRa9g0DR/EP6n8mLwA7WKxYC135R9c24pyFDdVU9FzztVoJIOF13dSSgoDKg4Ytrl7ZDgcckf0mCw9EYqSViZo93mPLixZghK23i2Jab6R1LUkbYsGnpPa3zjdu64MRKE0Wnl1+DidKr+sqPfNx1KcuS0UxngjHfwNh755fgN7AY96hY8YuZSMEC3E1hHJYxS4r9VCp9KIQ0dEKnVYUgCxqX904zITXvUWuIzEpyiG33ZluluQOvg48GQDFEOqN6om1p8SJ09ZiSJ5dj8GXdswPgZJU7FSYNHTxXvyOOkxCxK6FL0NHNJPr66uIAxCniKQ9aWJ6KFLPEXZ64kp+zEvpUF+icfxbsTN1tvLoEBRW9agNeEl/WPMy6q/krmSh2Wx1ZiwEIZJMMDLxB2XXcznNnHZGwlr41P0RFQ0rFugUw1l08TKBxVKRyJjg0y6YrSe9kPJQykkljY0HpbW24JGicCNPYObzpx3eC1ivHrooQtv4C95qxHeJL5SkeUWn62LohTcH1hlmj8GklNM1UwXGtcncU2ai100xODOiimUp6I4eXQEYacmG1PdTeWU6n37dJDdxYxf4e0Q00dYqe5JgUXRMEgYowK0EmjwbApUtOPZJup1EuDd3+sk1XQq0OH1hI/olcSyd39EmunKygp8AkmsbPhXEQG3bTzy3Mrk38bj+8hg8CzOM0nEH50wGi+hO9JIdxDr8W+13vI+XFiKpUn6iHEyeCIrBMJMubGxAbaRltlkrNQPogzen78iSet8uGtk8NSOuRSEsOzGjU5S7KnWYCifqMijIjBzm1LfexaXGSs/rPEarHwtK+BYigJLv3/FD/F5ZWXl/PycwWsInU0pwdqFvB3yc8RUIrwjeUk+3GfV220PpL6healaCG5MOmZ/5364A8QiCrPRW1QHd27w+EW3nevqZfFlKwERXPhqwGuWFNNl0VWqFj+Lj5UqIVEARj1erMZ+FDBGVQseBixRCAEAN/DOU2rryKI9dV2HxWcAbJDowuDZLxBhWq/2RNGPRNJK28tctuVaX19nPCPtbubFh6BoJ0+CYiARVwwxocApSoUQqxeLxWg0ouhECOY+Bm/RAT7aSJ5S9P6FrZcRYWhn06vVhori+CsuYCF3bi458cJr+HNwtYMYi7NUHcZNyPOi5/UvpE8OZs5IBgaExtIY1XjzepwI3CSK+RXvtbm5CcrhTBiiR5Ffj1LfZEkYVda1FDH47ktBQw9UFuMylzf0ZNWbYO3VI/8UdYY4j6UTfe1IMogplUyhS6MHg/vBc5UlhqZaoFD6YZoypUffhUfISkeHiWVa4Y/f8OdL+XCfCLhuJrUp0zILaX/ou+iXeib1UOHwsLq7uRmBYrhKqaGX+mk9ks1uVUxuCVXeYKUsOZDOsalnQqGcqwIsfwsEURRgYAPlI31TDLwRAzazeG+jBFHp1igXzGUhtf6Cq+inswU4Nh6cGEuzsn6oqJ0QYKWxiGSGJ7IcSSXsq60gunUIWkuFU1nSEHig+CzuSCXS9tfBnMtWBsqfR64MvXHrj3jvekh0ZbiZlY5auuR4JlU8MWmsyorNrVceUuIjKSSxv3DXFZezC2ih7LTJE2LiXDbxpVR7lkWLv+kbvTOlxf4S6Svol6m06ym0ZecZtKZhoVDdji5RvS2lAyKg3o1z4ElIEqGtEmgUK6pJvpYKTVk8A3x98kuedswEmwtYXCwWFFSthEhzHaKV+k+MduBDK7sw94VvZG4NqACLxIOL1X/CG4YQYPFopeKcgkv16D6+8HXU3s1ruHr61viy8tpxbZX8dClMfFC8mDZKyuzZpcjqZaNbJ+n4JhXpRveJtk/e7za4JtaT2G7rEbefD97/8A6jWuuBl3hibFcWKYb7ioOke9ZJ067gOq/OMLl2HHv+YsaaNF5dTR/HdAgreVonCR5ETytFvOoFQ8moTY6rycaHktXrWgUxZukFyW0FKl61Xns4erY1A5uDRLqYa+VaqkMhiRxF18f8aDVS8rbaU2VU5EB9Bqlr0njNZjNjEUmYX5EIr9DGmzPKEr8F8WDyeMdc+iiSGB8br/tnLp0pA+BTTLwoCoLcF1aa0E3RlazWRAHRRFpvpQ+PYgHCPGgk5bplLziADeJbrHinAL4OV57psxqwzLPWSj9IVcKCMyG28AsiVhP39b10lW538KFLWdFfOG4NK5OozCaksFQyevWoFleBUqtqEyuDuCApieCy1qsKkjJaqeWlhNJJLQxuMPVEyjX8IT4Edw0rHaTSbG9SZ7CCA7vBD2slhqrEpzKsfsgujlXfp1J3Tm5Zg0+A8gihnzgS3CBLj7muGLFSC+VlcaFAmCJ8cEnNmUfn1UBSGYxiJWRAnlJvCbp98Pzj8JMhqX0t58x0I9hVzU8vCztxSvqC5mwjidKt+6v7yDvkUrjjNExsNVyKtldTzkqmy8noUMrEDS8uLvCnLPEeJJgoBqvsdnyeFLpGTWrBsShnEo0tSXSdlSYRHhNgJWeum67EHMQup4znVgZPAWf4Dvhz07hlHVwJ691APYgCwgHLGgOGshhoKrkySDYkrgGfRMszGOmj6EEKIjrzXEo9JBc+N5ZRL0FkQH13Pf/V9TwSCpQ8nCSvCkwVc6uHmgik+o0JFiimmEOnmqhg5aAXvvUOwPpNkpRwYmUlW3HmlQBCamaOR/SaYLqb5vpj9GIojVc8gSQFh5g5XJowS8Ir9XRExYN+QikODzwfnHvEGSptRE9FJ9Pty3FLN6WTFrgKlxXNVyOXw5zd8qU6zzTrJOedsDWQ8rq6ayZVRPV9s5f7DSG0UtOP4jCPg05JgbtiNgqjFVDyrYmnr4KDtxkKwdY7cX/5uDWsvGkt3u1uxAWuu9ZYzsvkQR4w1m3DaUSsH8qiXFxcwP9bTSz05BpaORl3mUvzFnUZ3Zi8zB6EoRhXsX39SbWGnF6FhktXrEIlPbTkrtHj9ShTdO4axmsynAjrhhbqyGtKbpHsPMk6hACLp+4LnqjqqqJ8KuNVKcmCt1EPCCI5muPmQOrRpZQGXkVFV5KeH/MiGqxLlEqDQLzBpWOldKnYjQE0UYTSXesTgIJv7hmydSl0l0kwfK8kge7EwejhGVZiJfYxlNYqc4vBwCucIwOYS6SCSJT6yhwqwyqyd+I9x2jKAg59ZtCn4b9kBOHEVh6H2xo/OVYqgb75IIGSwtQupmCn/D+UiahkmMghQXQ0EsN1HSs0UfIy34PGQ9n5Qw3l5SRfsT2V3Mrl4oklr14KhdXivPqa6jT2/ZJN09AJk10GbLxEfPKkl4uLi/l8zgjBJJUysB3J/em6PsGL3CiUcK06D1Su5swwyewxjHxKlvRWGu/wdo1UqcBQSbx6KFfYBARTaQHQv3IBk2cKNpLZYlJtPghzUmk6i0kqO4NfuuPcrz7UmjDXLC3muQJRKgryJ1UZeZJfFl8l5HEYc3VxyNGXKrDKEXm9YiXXgdylz5b67/gXDtI21zyWSVl/+XhrrNS973+jX772zCtxkLagC2BxmVI6mUxQwwZRcsEL83Ue/nZ+fg7l4vLykvl2bdtubW0dHBycnZ3FGE9PT+GURI9j84SZ7LXITDaP8+8kPlHxjnUD8U2WgDJYfMxlYdxH5VA9qFBvY2ntMm/tQt5AwRYYbXLGotfd4H8rzV2plu/VeIlvfEgpYVlCCPhv27anp6cXFxfBq38SZIGzuH5jY2PgPbtpf2ylJY5OMntqM5VroNhgMDg/P49i1MPpxe5oAcSB9zmgnBvFLNg0DWRhrtJgMJjP5ygqen19je7e9BGjVKUuMsiAWeQm9ZCi1z/le6mA3JZ1Tk36L4VloiLhhhBvboggDhIBg5tHQCGtt/xmYFwSeyWM+0hnCML4wQjh4wL9q30Aa7LizY5iaenKYnwMzuwrHMQ+qhsQJxGNDFAOsfE+cbieRQ+sRNK+NJBLId1KppLdkRV7CfuvhqC3Gu8uV3KuSg1BRLbXij9v/iCFgFhaRhS/SCiM7taD2t8SfqknueJ1BDUra1XEMjZI31qliVQm3ig7SWUgni6jCRSa6Bd6wPg9j+jSBdfV0/svFdKz63TqD4UwRY85kqx58ySWMmrQxFZGjyso6OJkGSYcN7t0aWIuxD07z4cxl/WihzcQyLihgIDr6+uqzyKm1PTq5HO5soicXBy1ElTbpL5m7lofE/sLXn0wYcn95zIqvpFygkG6nHNBdCXxPVWHxgu1cGTpgRy8aIAesf5m8Xu+deOloys61AW3D3m8C1bmUvhSmqiA5rX3qVCmf42SL20xYZkVBgNBJGxDRgrgZ90zokySuLlqRxXCFJqZg6zM1nr1nJUtV+RbzSSU0gehIYvC3kjS7isWTUfFY0joQdxWOWfmj5r7T+bz+eXlZSfR3YvFYj6fz+fzlBIYEhqrcnfMhSnsC3ZhIEk7WeqNZ7FgKPHwX3qcKA4DryG5oL4kLWLZhSPaOhtpznNxcTEajZK0ADIpsGaCX5TvOimvScim34NzU/ld6TDfwERtGXYo1QWP8eDNk5iJwbpWvKS5OXvj/hIKTWJUldM00oyTTSixL3wcqVRvUtFVV2YK8Oa5J2os/fmbkO5bjVzyWi7mLT7lrbGyD5R6CPWyV0+0j0r9LxUlm7KOXi49LaTUxn2yuLL1IlFVNT29OWceROziZCpxjBcTE6nbWumMCmXkYJ+MMPh2ejayNLEiXuiq5tJlnHrmKl0T5RCkXZwTzh8tsEMIsGxAk4WuhJvAfHl2dnZ5eYlGEejSwROi3EsPJwBr4S0xBt4/RxeTqG0lG6A3NogSGr1qBu7P/ksaZ65YiTKmu7u7MMxR9uGmVPsePc+a+4iRPOas9XK2eEpFt6STJD4Q3RE+pcJKfVAqbaCcW+MZ/bCWkLT0DOpGcJ5YK5KlAmX0Xo/4FYz77M/RB0TygGpUL2KCXEr5ugi3CGS3i7xLx0+Yt/Pa2VcIVUEtPnCHBtJxmFjZSmMvYgoPP6w2QWRSYCVJkBSmElY1DR6DTnqB8oIg6rDegd8ncQfpr3gSWCIwlLJ5FIcSiY9gyjsHjx5XtFVhp4+tneSzRw+FWV9fR/I4Tou6vzFnftl5OvlwOAS8dp7v0XqNmRVvKZ69FRI3gka3KLakLNKHHjxzCYjvzpAm8kUAt3mnEDyU6ACucHFxwX6fFMdMAKu/TcSsKGkqnZSUpjRXQQbXnJCn31gZPqw0pkgUehIDt3XgA3/VV2ilNExlWg3O81qvzNR6SyvzegtwfqLkKDa6KSs/xdLwrWeEy0ILQHWoq/eqDtpfPvpPvPXxLr4dJWWTaj285q2m++qLKdsT7PpYqXOjRAmHQC7N3o33gVHq0VXuw6VazfSJeuQ6TzHmD/tUop+D6EoM1jGh+yBabSfBj0FkwyxFs03iEFSmM7GKVmiu0jqWK4QA97eGCkVPJaZLh0C5vr4ObJrP56h+1knzAEyGzjcu0cJ7hOkuWK/KEdc/ScMP7CxoAJDN8JeUEmwvKg9iEbquQyVNlDuC9qq7kKUnhK6PKo+xF04by2Il/PlSpOPnpVRhpbSl2Mp7mqgIhF3ek25oSg/gH9WtgiB+cD6NyIcYI7xzaCCx8ELuKlcqgVkJf5w/SKIrs9cUW3XcIq5VoFQt6a2Md5ErK3zhCuo1XKabbpLLwn/9V+XPgwiGdKHmsvIz5tB4cCXcuyZNcXkZtbMKfTgqEeMmmtZFoJiW3J+u7xjdf1q9jppT9frgiSVRigbxcbQ88OaDslpBlGFl1QOdP7Uz9YbBtAdLJQsLgUNANMs5r66uoukrcAcrjNNVPUhFMPItYGXnkUNBeAynqocwe5FKYDqAEs2IBl6sW9WOhZdqN9GR27Y9OztbWVlBowtAObcAz2UOn3nSeistPbhulCUpBubS77GUSKyUlyu2miQoVY9G51Fr5nbJRkImGnfUdN48ZyFd47O7gEx8kpSCY2nW7DzCXyVTCuYYN+GaKm00c+mCkBQrNLhFoNQbvhZ53nm8uw6ur5pvyCVSInvDEUorZ5DBDa4AjhdHz0uFlGQulWjC1itYnA5+T/2L/+qWKPVXqMSbLMVK0n31dCu9Mf0FoRrI9yV1ht4wiQDneuKE81xRk8UNmRRIUMZZgvkSCLWxsbG5ubmxsbG2tjabzTTTI4jUwyPaiOM1iQEhin02SEI3Xz+IKSNIqAoCLZXkKrah64zlnc/nGxsbrBLCpcOSRgkJ4AkPpa5AIgyllcPEg6fzwYck5lcFsj508if8vlqNpiydS9k8C+NXaSB6CJSyseBiTRTFJXj/ElIgTTqd1EDonxF94qAsnKHXLBWk7FbhUs/jTzTe3bdT8Yok5nkFo4oyMJTOKuSKMSJ1t/HiC1h9HGYKMjlnlDVkp2wloOiJcbgye1u+5NXL1cuZ3YWaS/THh9ar8sBUSlxgXHQqfXzVf83BqPHIRBM7add1cCWTdUOiHJSNWLloukp8WZPQaJOcPxyhlZUVFr9QAMJBwhxgrwAaQkIELI5Go6ZpYMaCwRFq7Hg8xp+gdy+8jyPwDmvFNwoe0ULBJ3sQTCg1WVILQRbfdB7UgjvEGDc2NhAsubGxARxspZrU+vo6ogtXVlYWi8VwOMQF19fXh4eH+H5zcxMRu+fn53x08JIZLB5BJz5Wcn19HcGbeIuF949rvP84B5ExiOBpIiRW1xNzG8/PIWnh58zD0duacxHWCaX8yF43BDsuSBAdhbIkCAmaOwkVJT5xfBaLBQ4U45Y6j9nEf1GmU7ceN+G5Y8lLkMTV1RWjj62EufBKAUtxQ/mNrmSfA/3l4zbrV2ZRqPVN3u1ufEmeGWWePPbVlfy8Ik2R+Fvz/JBc+pEV95Xhm8ihfdEsSmFK/Ko65FbmzFAhyu7GDSEgTlA3G5/5CIrSqp9yhqoc8U8EDiKRTpVXQgaHV8fMrq+v5/M54s+TRAUS3QCUCOfuJHkmSjcFvjiPKPeI71JhB5eddjTyABORTUcIAQFJ1hOcVVSMYpeAh2dlZWU4HCJ9i7Za7rICnFJjFt+F0pge1Or6SsypiLn6YRBBtb+hGK30+ySR0P3CaatIrpPhKzTSl1wvGHgJhZzz+vo6wJqpnMTu/itzZ+lLCOUQNWmJ5+oDGrdc6/d2x9JlzWLUq86DfpPdzpXLeifRjYBaBSdL8oY+RUGfBGeC15xndo1Ja2ep0hS9a2Drg2cjiFrEexKAeGeFHhOdjrPlgaf/hO51XKZAkHNummZ9fZ1ZTFdXVwifBHwDEGGLxFoBaCCRJc+ZyaLrmcSN9wMGGikYHoS7mAQVdpIkE6UGuJ52XACsrAAuirlDARrGx6urq9PT07W1tel0ihLlEFEX3pZWSzdaCXlJqkrz31Aq6a8l5j4lE/qz2/XwjlYCZfB66bye1lXqEFl4D5elAl9cT7kvi8QAbSB6bg+UhouLi+xZwprk1je+047cSBw7SbqRel0fKFDa7cYMhZ5Q+c7r0uc/SaptKw1Vghv/i7OBc65nhpvNKDlzB3ruDfyVp7H63spaXjqCZKYPpHYAJq8yV/KolFgOhr8oTScxdFTLxaPCU83117ORJR85eqNtBKJSjsBUEVkym82QCIhjAMumRrkmL7LAeQYRXa2UpLhQKqbpT6JH+SDLkCtgItzFnsUwikUiycji/sKdLy4uTk9PgZhwBJFVsEZR8vxxLi9pJokdlgTAVVWirTZLN6i6bZJAMb1DLE2olRxAkggiPypz0kUz4e6q3FQybCMFAVZWVlD7DsFDcI6jVCg3vfHBpABGyHP9+Wg9m689/u/neO/qopvYIxQuO+n4DIGCJ4SHJ5ZdU7ILj6FUfHgxKdWWtSSzHgIqSGURMXT7FeyIRMGlqs7bzPYfrfPnDHNPsM2l7kPi6yT1WK9XyOAHrrD6B0jfXOr5fH52dgbYGnjXB2ZGRTcgmlcSyRI6o/PXmfAsWQmj3EpaS1NKqIeo6KNqILlm9EhVGpHpmDKpDIaoGtgZ8BaLxWI8Hq940XuAKflxRZD8Eq8TehoxiVapgvsVe4pLRVHVZVkYZPZ8Z65GJX5yQXKZvtlI5RHuSBZelQXK+UZoJMeyADlnGrKjh+vpQaPkOOj1DbRSQH5jDHgfx21ipdIBP7zbAoVSNsmeL9F6a63YcwtWvGtjY6MRl3fyXIXgoUWgjLYsuRp6ohCV5QpDgxgN+dvooYWqmPAburBJr1Z27KlAIYiQyPtXj1NzahZJgV/ySk678bgTRnjgNVmEbTabzWaz5K13Y4wIw9rY2BgOh6PRCPUyOg9BN/HJBAnhJg0ozDWSN6WIWZ0r/orHL4ihk7jMQ4vLGEWkGxql5kXXdVdXV7PZbDAYDIdDCE1ra2vD4TC7wbQr43YrDkTGpjBNOue/FQjyDhXZBGeWZHvVHfhv6/UlrZTaTABa+SJVKN4zSsak8hK+Bf9FLS54BefzuYaFrZSlCDFI7ZVcWaG50kO1LB/EuM0eEreClUtp1FwHJzVorKUyLqW55N2ZIf4wFCZKJoa5E7mTTGF9eqWLZVFqKnolqZkIiXQxZY8uxByyaJRRwkXNDySRURPRiESMJuE5sfIIKcniEVbKOHBcIrsp5wx1++TkZDabnZ6ezufzxuNOUJlpbW1tMpns7+/v7u6iBihljUaCn8y9NI2XdbASF0I5+E0SJRdnlRuqLEqZAc4wXpOdJODJJRwQKLkmbdvOZrOc8+bm5tnZ2XQ6xQuip6Oy5FBq+nguneD6dkQlrkAFZ9VSWMnGSC1B0rSqd2+ldBMfYWIfr9aW6QDmx5BshlF0SkKwwyQ3ccBLAwUChizwxcZTdTXXM97QQyKItqdrwpf694uVtky0fLfRX0TeXzegKTNw9ATiJCOmmojJjOCmF6fZ54FBFGSeliRpMH3ZgZcpuTdSW5eJgIQ88nnCGYWyRsLfggtNnWQo6hm2su8gb9V5FUhOMsYIcGHJO8wKGjcycK6vr1mriTap4XC4vb09nU5DCMwa7Mo4R32FahOJiZUCyL8yGAuueSxXXBaNaN6BBxFjJiwNtb9oriEWINUHhxZtck9PT5Heji7K4BzQPQEcFV3h/gOvBZfFHMwZkqL4ghVZ8hX4pyiGlyDl78h0q1WKXtw3e9xP9ZTotqmlxyeLAq4vyB655tgHoX4gLVt0y0jG2ZWVgTe8XSq+VNu39Iy/5+NGrMylWlFBYX+ozqUfK/Wt+gAA0hxJREFUUq8DzKtHSmllZWU+nw8GA7B68wAUKFCUwkajUXDdNnjhaGwedKvr6+uTkxOcN4SMPH782Mw2NjbG4/FwOAQbBDR0njMXpM6YHtSKKzI4kcJL4yFKyrEpA87ncw3YbjzBMbi10TzPhM+Fp4VLpxybtBtE9qmER/NYS8B0IzHM0KQQAIQbXl5eAjjOzs6yR8/lnNGQfX19/d69ezs7O5Aoz87OTk5OWFmDAg58MtFby1JHpiURB4xG5ORRloPBAAGwFEyYrRzFehBc1IJ4njz2NqV0dXWFqSYvIQrlUY/o9fU1GlvP53MIlUdHR5PJZDweD7zMCvzj8/mcaKVSZIwROJvFBEwJi9m3Ucq8K5AtZa7J3cqN1zTTneXFtBfTZpLFHM/fVmeNGM0PCF4O3siokbymjY2Ni4sLvPj19XX02EmW4JvP56ReLGbwsFMTDq2CZOPBGJomoIPrY6UdRlHVhGMRT3JPZn/193/5eO98O5XIxrdVQczELzGQutzmpwKnVLXd6+vrs7Mz+D1h1O+6bjgcBpcWmSasIoyVnLA/gmj9Os/qPrnX01UFDX13Xq9iiImw1hc3cCt1muuEs5Q95/cxxslkMhqN1tfXEWoO+Ds7O8N5iGKGW19fn0wmOzs74/G4aZrFYoE8SDAhqPD6aro4RP/s8ecMZuaXum7KG6JYGPqHQWUWJQBYounmpoRLBtZ4Bh584ufn5wiTwrtsbGxcXV1tbm4yRqJaTHVZ6JvSMJ3KkIlqH5e+heJFtekmMFGdC/IJtUTx+q6MvgpSekNpUkGK31ARCc7IVa5UmRSfo3syo+dB8MvsoXtWSlH99Xn/x/uIlfwcRLClLQnw13j8CuLsiFZJbIJU0PAl1Mbz83OEHzIizDxmiHdQ+q7mo/ttZQexav5KTNk9g6rIVNSPZ5EcK9Gg0iXJY3mr6G79agKdRGXjT8ha2draggt4Pp/PZrPDw8Pj4+PZbHZ9fY2VCZ61vb6+Pp1Ot7a21tfXIcEhYRwagLIEHtfsYpeV4jCPKD1mtgz3q1euGABXXgVq/hc8D0yR/hwAdHD5C3ebz+cHBwe7u7unp6eXl5fwWUFyRGumXFbEwNO7XhlArmrj9dmSxO4spe0KZ8n/zDsf9BdEFXMFyizJ3XolhUHMn2tFlqkmguzqPDxIA28pThKiSpTFsI4BfGS4Kx4Ny6YGY1Wswnoywfs/br8/OMe7rUJFT0qjC2/3nD10Fp35qkgF+HMBrCpJoTrOaDRC/gkZoHk9FSU1nv9c2iJCKSYo3+bF+iXFYXWC27LgEiu5vV4WxaTFnqUxRnKOLEYonUbwvCBCMLK5J5MJez9cXFycnJwcHR2dn5/TmNt4XQZY8eBs6by4If1jEOJ0y8g8KvHKvPYik21oaKNUWEU1LKUiboeaXHSXKdGAPJIUBGgkKSCEABPtycnJycnJfD6HlB1jZIli7Fq1y6kMJ1KWWRHw0vnzGxIt708BnE+JEudQUaACny6X3k1pOJVBWhUpRreD433BLJnB2Uk+VSgd7lgo9krB0QOdRPGgLlW9s5jmP4hxy3KlHps+er7hHYIMEwSpsJLcLIpdCcENwWPR6dAcDof3798fDodo3cNDy4RxWEKpSphIEFZCG1FA/8SpNt5LgNYZzLwPlObO9OrmwQsZBI/voa0qhICarLFX4r9d1ow79movYtGAC2YGoDw4ODg+PoYkhbx7SCK4cjQaoWNwkOKyiK/UE2W9mnIU67hfEDTMPQM0StKmSbzg0LOkoBDLEjh0ZdBKEyWQpfWijTy6kIhTSkdHR4eHhycnJ1tbW4grBG9A8VPMUGGL+06M1u0zF5OJ2sp3Fewaz/vWLcOXJlBIrIylj8sE+PTs8LPm56iywpB7UlH0PKuKpXUSrRFcD4tiORl4nRp8CWM3tJYk3ny1pYZSXXhTUHg/xk8uV77tiiiOWOm5oxoOKuznVBFSIXOhCGNKaWNjY29v7+HDh5CnsusRLJEAkKWCwzoFHIoCVhrX+uRL+mgkS1ov0NesaJ1ERh+uEjTprM9Okvid+CKxbFvKRYPtIuc8m80ODg4ODg7gqzEzIIuZNU0DJxiUU301iORWio2veEEeQkiymAC4Gv6bc4ZM13hWiTKqam1DGWeqRJJLiSl6EC5eiqY6vAJkqLOzs8PDw5cvX25vbw+HQ5gsJ5PJfD4nsuhq05BHyCAgMlABm66KaiqTc8z9+NwXqiaYv64k31E/6zpbKZrgnnzBTpJNgydHdhKoTxTm5q54nw8asuDAAc2oUAmWwwj/o6MjhDFoBY0o9UwrMrYParx39kpsXhJvl7LHVlK86dupNKDkjkXIoaurq7u7uw8fPrx79y5M/qj8DAPWwFtOm1lKiV10BlLph6TMR5iUbFDMMkmIpruZIK5XLgXQXIqWFDfI20GXug48IdRJTc6PiRkBgttwOBwOhwjUv7q6gvZ9cnICoRJSJyAeitWKV41k1XEo8oSz1DOu6SE0sf8S0WAHgOAPt7K5y1u5i2rxen+Vg7g1wSsAcCUJTI2PKPbNgfSDvLi4gHSJrhhIex8OhyadPnU+yoqC66HBS+eS+4KWOJNcypWcGwmMv9I/6esot7CSeYReqek+ryJ9KmSbMDzCXyOpwDC5sIfVQtr+4K3hNT0+Pj4+Pj45OZlMJuDEiEMgP/jQgdLeQ6xUHo5vyMCV8hTF+quPY29eHH97e3t/f38ymYBDzmazi4uLrutgs8s5wxSt9ilzpwQpkrakPhUqYrZl9R0Tz3j/qFgPKLPIqgSXJNEnrRdNqOQFojnXBx8Q2QPIQ8Q1QoUAVefn58j4hkYGiQ9rsiJNxMw15VCOLPJsEHEvS04ev+RbQLuHuZDhhNUp4vHm1uu6BffzKgEAK8nk+kRVYRxmPh6Pc86Xl5ez2ez8/BwSNIQjhtlzqftv13huH7ubUAGiqmvCt7h0nUcyAsdBhLC2m/i7KPSRhGh1rbAylHlQN52s6hveXCdD6RjSA83TfDs6DLMLlbPZbD6fg+OidxNrRevkq3EzDLyP40asrM5w9SVHxfP1e2WGb37/GOPV1RWcmBcXF1tbW+ZBlyBKgODC+xkAAgbeyQ8ZbJPJ5Pz83MxgmCMFtG17cnLCEtDz+RzWFkSKhBAYK962LVADKckmaVtBkrurGItK+1PTO90gbVnfSGFUZZbgShD9HiaCZ+eDxwOHjQvFe4Km8SJwbUHbDSHAUoksHTPDMkISh9MMSdNI2uGJ6qTUfC5Df/gvJVwq7J2ETCevUQR7iJldXFxsbm5aKY2ao5Ka0ihl0+mcRYwN7vviXtCVf3V1NR6PkZvQtu3l5eWKF3NcLBanp6cvXrwAUMKiDac/XhOcNbjZN7sWH7w+0MrKymg04uTBh/C+FxcXVnZIBmHoGnLQEx17paAX3tTB3MxNrhl7tfHNJWI8RZ+L9eRnEgneazQa4bdN03CtzAzF8NfW1s7Pz4meWHn8aXt7+/79+59++uk333yDDZ3NZovFApTTti0L79OGVmFF/7/6pUKE/jWIwLH0+6U3ebfxPsqV+KA0ZI4jlG6omOdSDeT1nWQg8CetZH8Tjyqw5rrT88ArrccbCG3808BHU4aOB6nyokBZaZoElLxM56pogj+3XnctXgNhB/AHQ1IIoW1bZK1AqEzuI66i8YGVPF0m4SOURFTJ4jzjDc7NILKhlTIRV0Bfs9InaMO1km3rb80VWMRXEpIQk69P1L3rPE8cbXmC+9CY18StYc9IAg19VgBNmCl4c8Y/JIlgDyHAPtNJjQnCLoU4XZYkFk/+SztM9sBv8gx9aPI8nySOI74Rfk7RnowfiM+N5pV6ZKAiTKfTu3fvPnjw4OHDh5AtmCmX3LVQHbQPcbx3WKm70t9vyDvmRbbJWkmIiqHm/gQKfdSqSC4mxqBKNtTriXFWwqVy/uQOWWIlea8CJQ2LnUQ79087z5WqmSaVdKsfVkBJ8ALpw2WB6pOQ3E9PT09OThBamF3jhtjOwBFEWcGjalIWr5VKPKlnr6yWiLOqQF/17ugWagKZCVaaS1LAHWoJJBLdi+x2N4Ado98BZwQCGrt5K1gkkL6i+Z1RoiyAldxlc08g4JVuDawnZU+sGKR+LggRjYGfwX1x1Y7jX3xPTmyu1jCXpvUC/rjVihfuVS242hElIW4K9BJUe6JA3XiqD7ZeVYqVlRUUCrh3796dO3dgu2g9fzx5FfSlvLyazHs+3jus5EhS6lEVOurg8AzkUjqjctpIkajkzhDrOZRNfMR9tCVcWmk5qqaaxWwHuUDPc+P+3yCBbIxLDz2J1QQrSf2EWmIlzxIG7UdWFnwzF3UBl6gxgWOA/ouddwJQNB8MBpubm8hu5MnMZfYRn5VFXCLw8aUqaSK4BVMRoZHkZeVhybMYzWU0k24wylD1h9FdLgh1arxBLt6LQVd6fXTTGxNe8SfF0+QmCDIhfGBEF51g/BLmDkQdmicmZikLTYOmuYWhETuvCYOBpEmszKKwq1SB0ZRhOkqoVorhuRxByg7wfDVel6v1Bio5Z77v2traeDze3t4ej8eIJOu8AJVaitQIw4n9B1be2iBhVYllyZNzGGhNrOR2YhdXvDsCQYHC2lL5hQe7Ysi8/1L2WKGnAkfwjCAogCoP0kZeTYCkHKXu3EDqqwfRsPj0UHpROs/2JeaCuHl02alRZQrME7H6sE/xiZVDk/NXgYVzCz19LYvWlkuZN5Q6u57nLAkn/ECwIEYEd/Vksd8FF5OxdLSoIECdiN9JcFLnMbxXV1eA74HEtBPgCL50f3MQ+qPUN0LobghBu6h3HnVrokxUGo9+VhrTJUUwI02fvEn/DrwPr9QbpjL+CYcLMi+CKM2MGXFmhpCSzc3NyWSyu7u7u7uLFkwMbyBz5enrv8J/YOVfNHKpvlHv4+YpL+3KxtzZ4yvhmcEwMxTOgJNUz56V8ZucQBY5kV9W8pQSsUIbdXyTpKDgXlcV94LEGPMpPPA0IDJwZ9Crwo/jV3l4dD74OXp4UTyEsgkjfSoj4YOrgdBDgwSfq6jIn6iObD0NWheWABpukCurX1VrYmV7S95KH8fDiZ3FcoFlQgs2V5k7zzft0wDzvsBlg4cQ6ApgUENf9aHmncaTKZO3uLHSc6UcLoihkI+gIsIb6hKRgBHJ2PZ61d50sroyR5ODcwghoMwzjkzTNDhHxHpuKN59NBptb29vb29DZQEyEiuTNOP9EPFRx/uIlXoMssuV0BkvLi5QcDT09GgTubKVxns4J8jhacqoF32iHgNFUmKTnmFeoBAwkBFKwap6aJBkBkUZlV6pc1F5pOE1lANyNKL5eAeIA+vr6wgmh9kx54xsbkR4MC8ePxl4aDEzMdQvEaVWsa5S5zExup5cVSvDJHUpYmkM4R2USwXvlBvF1WuS5G5ir9A94skHVqaU4I9WthrcBTSQakakN8jUAw/D7Dyu29x4CocPVo+mkoFkiGI1gGX4IU2NwR3owSsqcbaVlYOXqSjNo2El7JqALzdOaTtLz3GucEW9IQRwU2Cl6meV1bVpGsTtb29vb21tUWCHgbgyx3e95AL70HDzfcRKfFAcpPXk6uqKhbipwenPlUSiZ620PlgpI5QKSJYkOY7g4ozycxVzsqeymdD6oEzUU8om1ap2TBucvrsiMlVvRQcTPzj5fCWtQN9kPSFdSSrgkLwwPearYQ5gLbytfub64PUV7nX+1b8VVlrJJ4LwPH0EoSS4NSNJPxzKmPogZWlQonl9EncHsBIx530mOhwOgaGwOZrZYDBAsFH2GInOy9ZlKeZElkakazx3iECPP7VlNxGKonqNldoGpx3FqahoyCVVoFS6Vc2GP8luf8TMkVLFrkdq9+farq+vD4dDRO9vb29PJhMuVCqLXSr924eGjzoGfbDHuOmVUi+sujrhegfS8VsNGk2CNP/DsaTvGzIjisIGj16kdXI0GuEzAusgdh0dHQ2HQxx7MHBSIfykuad6hxCQRHyTdMlvCKDQVlRfw8lHv0B9o+xxZ8kjAWFAoN5N9VztlbhMdS7zMO8gWdhg+NPpdHNzEzndZgY/L7xVlFXpBMBDkxSbWPH2zZ2HCrVlQcYg4qGJsNY0DRrMEqHMYwPprjXBxORBNrlsXJ48RyhLCFeUnhDcLLV+ZDeTgVli8tPpdHV1FWFSrRfNxDSYstk0DSpRbWxsJE/sI2FgZYCM5q6Y7G0OWXFD64PgJ5DW8SIMCaLUxoZfOeerq6uBB9ISX2gUplPFXIVqvbU37TwmZm4Qtro0SaWd11QGLGKjQXtUwk5PT7FZWASTEhhsBT6ZTO7cubOzs8OSLsl9CeaRVfgGTAU+ruAZU1i3vuBS8Yk+uOv1ViJP/6+3Nd5aruRUCIU/HaPQJWu9DwRWGadlOp3CsqbnJEsINygYHBLOX6AG7095kOiv68sJpDJ6Nnj/RV2KSkrqL0uQSi26jIqJyVMkyecpTubSkBdKJxUVf3xJcy0iyVe8khsJUeHSRFOmtmWlzNJXwPsLlUprrDJLvZX+lVDLd7FSrObFug65NB/ri2cJFYweyQhTTNd1kJ2pdiylNwwGZpqgD9aqH90dpMdvLN30nQfG4xEAU6w/7UXkf0Fq7lGKX7qkdKzRDquc2wRMK8FfiZPLmLyvkYmDS1eMWXA0JgArkQxKkYU8m63rOHN7yxFEGtNp3y78vdV4R6xUaMD3P907kOZgdEd8LNL1ptPpZDJBgTUlWdg0zTuxoHLlfD4/Pz9HNXXdPFK2SZsaRcn+y/KaIG6HIIqG8kOuDCUmarWNBMQEt0nhs2JZBSK6/tVbmBvFEEoJoZLl1wgEyXuWDjwPqpV+08mdZv0TpU+sQL861Yp9uo/8r+JjkABDK7GS66PsMHnWCrGSxgr919w5Y15QiqFjnaQeVsRGebDzFB1UXG+96oS5wbTxfkqVKUb9MEBGVQKCBz+2XkmeI7ldmFDIjcjS1o2TzOLhrIhTRe/+mdWt4WoD7HBSGE8GKkLVJRgizQzIiMKm0+kUNUdijKgSCwaAAtJnZ2foB6kE/CZYoa/zoWKllWIUxq2/gIIOb04PDypXQ4lAzVqEASZvZoCYD7DK2WwGFsd4sSDyncojWcyL1hOFKPGR/UbxTpCOu7JGBl9H7WtUuvkvrlfRycReqSYwnaGVbdM5H3h1kPe96k13K6jSm+vBS17JgnYAnkaiD+dpIoHqtLPE+uiG6rEMpWNH+Q1vRVMMgZXooDp4FDMulXSTqt00L6C+UfIgG+txfd6fvBBkZs4Mqh4SBOUow8omPHwK/rritXm6roMUSQkRbF6xkt+3njif3LOMe9L7xJ1VguRnGmQruuVbkHqZGg9YhNgI5IWkQvIYDofT6XQ8HkNYITFjhufn58gNw1R1hUmBocer9Mjof19x5c823jvfTrUoWQZES1Ra67oO1mXYlcn6ksQowE+HjQRpttKfD0pQ6kW9KK1Xc6tYdCjFmcrRxIuz67BBVM7G/eDn5+cU9PS3lU6nViq9M82LrdS7bKTdLm9VoYNKZApSoGw26opeUZjO8SBSSZZMcIKCvVIQCOXQtVJGosxST5o+tH9bflYYxaAQDctatQK51AN0VbGzYD8ALxj1rJTvuIyKdCb9DhVeCVuU9/krYDE5AYEbNQODd6+EEAc9oJNQTcVB5W3E9OxNwymnk7WAutCi7vz8HDff2NigGwD6GbgvSsGqYoeGyRXz4+JXR0OpZemoyKYSEX6R8S5Y2QeRn2hkES0h/1MNzzmvr68jWGFrawtuOCqSOefLy0sA5WQyOT4+JiFeXFzQUB3ECdNIgxFudl7mH8doJIFa/ZJ6YvVD6z1LeQBMYCuVPiWTsoOUC6zXRFuPdyXZVXJfkCJvGKl0ZzfibUd8JYCSl3HyvHkWKVJXpk/TFTJW65MkeYnTpoTL9+JMqmOmSxEl1Cl7ejX+BF2Y7ixdbQqGupgMSg/ujiNHHHhmS+uFPgdeRB2aPsVeIFpelmLICo8YZOS4lTIMYiUJA4o/iv8nsb2SJXC1uSyViSaLb119RywahBdHohemxKjJEAKwEk5wRlmcn5+/ePGCsiREFqwnJ6+0+tqhBPbLoiTGW2NlLvW4nxo3uak0lwDv4Mylt3c8Hm9sbNDL1jTNfD7f3t5G38HDw0OEE6L8CYRQajQVygQRLa0XzcMx8PjHlbIDeNeLN9R1y97cqpUcR/0rSVyxjJBqJRri6DJf20QTNBdOVWy8CcUaD4GGAAUTFV2iQYL7ssT08JwT661EHD5CF7aCeP6Qiq3yD106nTlXo7p5lFK7ZganH7ADbTBAP43U+rQSK4NIr50nv+tTuPitZ4hhCxC/GaSfKHYHcjp5QHaL58CDOklsgKTgkmkSc2TyeIBU9qHNrmdQaqaLRpe0MvXyVp0n1ZgZsjbgFtfzxfpAdKnzWfQfxhivrq5evHjxpz/96b//9/8OBzoyIJAIwJ2qgPLVCKjcpToFv8h4F6ysDsNrxel3G9WDdHeRooc92PCx6o0YQZqIzQYFoAE0guPQ/XkgpXzNt7A6jcH9NhWQYRCq1BOK02jLtrbx9gDU7yh66GsqpvRnqIAVxTmbJCSeEgSWC4YkJTsrQTmI3IHjgWHiAFFHAe9DxkDIC6LYWo/B9JGav7UetvJN+SwF2Wro9xVqE1kar1LcSCillQhY7a/J2Q6iq/LK1rsepZTQuSS6OZITqBiALiNvSxUneco5WWmSDE4q/sHbN2qXCzisGdVAOYCPwBNhVeD2QXzGz/kNTVjsOJYkoRsEX1HC1dXVwcHB48eP/8t/+S8HBwfX19dbW1uoPBRCgOD5VkNNUkHGL4mVb4txsTSrLf38l4yrq6uVlRWIMzBBNp7MCxUAjBQ1B0ej0cnJCaII2edgOBzCbmJ+ztEDGi1lzs/PaaqnXADCYkEt2D3BPBfekIf6L1YAhpvGIz+yKKckIJWVOkljoIuTTB4vCLkA/2XuGhpnW1kxPoh7yjwwEPKIlbCL0FEIiVlyRahFBtcxYa2HfSr0QkT5IpUYiI7SWCvFUIi0rVQ+xsDrwASGQhXJi1FyzpCUo/sxiJ6d9HG10kFPYFVAhDsCZx4fNjc3gQXZU57NDGUWV1ZWWm9uTtyn7N94ACOTneiyAFAOBgMIZWSW6p/h7vPMp9J2DNNH8EAOauKgTwj4K178jZlpmC1nyI1u25bCY/BI0uxxDtxBpG+Zgx3OXeth9tAtMJOXL18+f/68bVvaNGKM+/v78Pyg/N1kMtnb2/v1r38Ncyf6EQyHw/Pz8+Dqf/bCesmDLm/CAeJSEDafb1bGfwYMfe98OxSpOILnhygnxDFbLBZQGCHt025InDIvlwCpM6V0enqK+rUM+CC9qiyTXVmOYiDXWeGC4DJgJSn0dzSXOmP1gpVWaCUvNdHdeLfQEwy5gH1Vt5JGcSqIXzxplM2rX1nZCsLEz6tP4a9SaX7VqdJvyzZz0euAVR6A4AIRn2iiKev9K/rhNFovyBY9g8u86IOaEbO4VmhYqIyG/Kz0EDyiMJbx8+ax8fyVSrsU4XkT7kKUnFHdRLUPJKmHpttK0zleit4ezCS6j470oxMDtgbP+O6knhMdg8o2VlZWtra2EC2EQzQcDh8+fJhzfvDgAToG4/gcHx//67/+69nZGU2r1SnQHdcNrf7KDySz/tb/1OO9w0q1reAbYmUnEQmt97MdjUbj8RhNx+irbb2Cv7m4NBwOj4+P0RsE8TSszEiC071svM0e51BtapKy2xQ6ssd4V69gJbqR0PGnKI7I7HEqjeTqhDLFTcmFUyVsxbKktv6WKwwvORJ4zQmRXRD0J7o4+i4cSsTVCUy9AP7gfd+IlSklKo+NBCpamUVKRpLd21ZhZSV9qN+ZgdOYzMbGBlRXwig3VF9ZteBU2mdT6WHLEmnAXUjizEmiwJpHwkbxQSvT4uBrYn/5X/UgYQGj1FgB2jZNw3rslOCQH8zYo+zcF+8LiKSx0twuyWoDVMzBVnd2dqDPBbc7bW1tQRmKXg/04ODgH//xH//85z9TsklihbdlSiqpuo+SysL1Jz/beO+wspJrlCJJUuaIA+IA8EF5bLw6PwN90YxwMpkcHBwgFRqpftHzESmKQrIIYr9LElrIPeOh7STnLHron+Ig/60EBD1RnYQu4nsIWRB/8DmKrwZzqAiL1J/FVoib04ClKBa9oWMnVWcGXsdIV6OCJB26QTolxWUOvn70nOhOgqKiOGoVs5SvVF+anDddWxOeZx6ykzzXEPo42g1RgOp61aqAHaxkoetAhh28hG30emtqvFZWyhVoyuIaHI1kZzUScM4fxlJT4eZSYuBNlMayOBuhxcPsQI2Ku4/3zTmzPI05T00pQY1rvcf6YDDY2NhACMpwOGyaBjF8iBxKKcHYPRqNNGUT1om0rPFOdV6UwpdS3U0ffurx3mElVxD/5SI2XoCgkV432DxWscVf1WOOpODRaLS1tbWxsYEeIGdnZzDfINyBCiAoqdrOJLnenKQeKpztWKq9fQTRU2FifefjohdoAETidapI8gqPFJgo8hCCcZbY0yaLSM4raZtrJOI9eYyqXqlnlTulHypy7/8E36hFVfVrXUzVf8MyuZXboavN/aKAz1+BYBi6wLw9XqO72UnbZLrCceZBbBQziaGdJPJnUZAhxDXipKapgf9SosRrvmJNTIzd2Tlckv4QnSdHmvsS+fPkPb7NUZt0yBdsvU1069ULo3vAVTFH4ybUYYNoiUgjPB2p9CGEk5OTFy9evHz5Eh2uINVy2pQYqjPFPaXwzp8sRdKfDSjtPcRKEncQOY6KBi0y9IZD9WARb8TEgsRxQUoJevpwODw5OWnbFtYTXIOsA95cHbupLImq22xlZiQFDVKASsf4OaQJxaNO4kKSNKdnTzRMKYoBLrv7ouvFlJB5EC9UduMd6GNdSK8rLmyMET4iHo8kTmq+UUXoSvH8rMbHCst4E8WFzqMCUqn761jKjaynnSmYJimJb2X0AkFKNzqlBC4LYmg9WRs/WVlZGY/HC+9srvEMJkWM6EsJ7qshslfro0DJnapYGkmxIhu8C/7aegNI7j4NGrE0sJqLxjQg0mrcSuMHrmrrdRiItpubmwxBR/QlUn3Ozs5SStDVLi8vnz179m//9m//9E//9Pjx48PDQy0sXe1p/9QHiZl7xVDE7PPyWx/vHVamMq2Yx55uXFUxcs6DwQAJPFDD0ZgYpAaNGwIF/T8hBEZamBnoA71okpuu9aA2EouuZ56zpVtAeXWWtqj8YVO2teApolsT0Wor3k1MNev+gaEyyFuRqagIxvg+YmXnac5RmkZEzwnhareSbVLhvqJYHzHJS3hxtaFWmobxp07iUpXrpJujIHU+RElIyiSSzp2B4KnZ6xjBXEufdfK4xdgr3KnuGmwiK1fpTHT1ABmVIZIrppqy8tTkajvNR32gBCxCI66kWqwhlz15qWCTgCe8O7ggwBF2mCSSsirm5BzMEVpbW4OWhuBlHBa4AZDVA7H07Ozs6dOnP/744+PHj1++fEnfTnXYXyEV3kRXfSL82UTL9xEro+ec4RsQBAGOSg1VVCTkQWmlxtp5X6rkRdjwV0R7QDRAfiHFBHWnZPGiWM8yyENScX4eVJOwHgovFGqUiCmfRolst9JulUtviaJnX/TQQaxUKRgDkaf6Q+CjyZlR+YIrkMtBZoDb8gPFYX7PK/WN+Ce9sgJExes+UJoI3dmbrPFBxEq6j8wbLqLxDvVWCtckAF1bk3rjaiGl/Iint17XB9OAeTSIoZamGH1NTj551UHKlbr1ye0DdJUw4pL60MArrVR2cC4jJwkaw/RwvnLP1pw9X46SCqxDw+Fwd3d3MpmwYB1qSCPX4/r6+vj4+Pnz5wcHB/ivkpm+byiFwVyKlkpRigb9n/w84x1rZ/AzX1vNeUuvVxJ/xRtW2kon9WBQAjLGOBwOo3cFAblsbW1BHYBjrmka1Dg5PDx88OABcra2trYODg4oX5jYRMwMeR04JyDH4AGeJHT+JHrIMa4ZlHlpjeSZgRY7ryPXSFpuxfMrjFjxcuVJrIed9OehjszjhwC9GCOoGXSMVWqahm0kcHPYpLK7R0mmnfftG3jWM6ZEKSb0PF19uakPdjyifK+KBjqpOQK2QccFv7TSgKWPoCTYeXwi1Xn8C7WapRiRl4IlYhh2kNipzc1NyIYVfWZXfs0jdYI3XeAbYb8YhRPF8WJlN7coBYqS5+xTflQTChCnkz6aJrzWvJYaaZjFLLh6fDq2G6uRXXinfxwMG1InipDCFokvV1ZWptMpsopZWgW/XV1dhUp3eXk5n89hr0Sks7qh8G/jgcmKEkHytUJvZDGt9JHk1kGzun+M8b2TK/sDK+VNTVY1p5DqJEImqcBGb2mPbQOdmRl2FKGFdImy+l4jTUq5RpS/FJhCKQeZRAKl0tyW3GDUN5DlnsxlQv2N9OdTGQdmKT4oiJ1+4CV2uFa8T3X/7KVzdZGV1Ssbz2UUuo6lTJ4yS7WDig4VkiYJR1+6+9XTg/vc9E/4XC0X7w+sBPw1HjXVSn0m82AASqA6IHVy2akf8HhTbsJytZ6hQN7QSeR/kNYdRId22SBwME6okseDxCRlNwWEUgpTuNzc3LRS0sR74fuLi4vGq/PCcGGizmMBYbDCQdPtZtBS67Vi2QxKES1J2FAo5co3H7eOjG/yxA8JK2HOA1wSKyFEoOrJaDTCYcBPFosFTM5a/oSgsLKyMplMdnZ2WMmcLCuIFEODTirDLfUcKgsKzr2D6BomUR18LwqYOisrYZduFhrdaSbD4DFuvdx/jBGrBKwMpavHSomMp0gPj1Jwn7L759CECSva6ssqXFpP9rRlJyeUDCmU2Jp6wZvKw8hH+RbZ22ZhlWCToahOuZ52mJVlg3u0UjYs0+02CSTgAiq1MD1MLc7J29QsvOoETZZY0oW398LFpKjg2URJvIu5lM6ijyBNpDuvgkHJdDAYXF9fn56emrdsXJFiphAqUTeWHSMoMFZYCX1cra7VcehTyJuP/JPJkq9+6C+GlXrSMG5iMrrZlUkxea0q+uagiQc3waBh4eXlJbStEAKDxYiVTdN0XXd8fBxceg0hUE+vGCNn3pWp0DyiTRmGksTEbmW0RPASDBBSOmnAHbxBI48NI3iqs61yEIPJeZJNUEZ9NeZ++ewVuipRl2/KLweDG9Nh9Yjqi2exzORSKuRWJjcTV9BZkUQFlFkkOOshqcI6SQXyLEtFQMPIHtajUD7wwSgfipnmTmT+tfPYTBWyOM+u65AnzjtzejS+E7wY6FZhJVaAkiMXObr5u/XyWuQWNJuq/Iu/KuY2nhY58BbBFxcXrFaJpyDcMrtlaX19HS1JIGHAcgp5GSN5jAqVs0rAJ9C/G1b2gfLnQcxfEis5g0pa4ff4wD0gj63+BEsKGhZOJhNoB/wTdHDQKzGO2jSb4rZtO5vNYFUcjUZ08OWc+dvg+Xl6NrKbe0jEsXRDU/xJUgidpxfxFnrCk6d/mFTzJ1DyMsINNUT60HksCQHUpMwjBPFEvmOQFgiqTlovro1f6r+KTRw8J7yJjiCtuHBWrSexYjQSe0QkqqahE+i8li3GQKrKd13HVt2oRwnRkjtlbomu/DyxdMJwhRGsHktzLVESMAr6IWRD/jKvlRe99AbVXkRuLLxdChew0mStlBkbiUDiKunKZGfblesf68BkKvo/k0c+oT1Rdml6OByi0j4Ojva5ozQN9ASFVxDPBTThf6+Hid74mYES432UK0NPuIie41jZa2j8QusPquHRHZQQLc/Ozsz1YmpApOmUEpk5PB48veZOgCjmfB42ZZWK40kqPvAEKkAksXnRbhilJ6KVyqY6jqpl5HlgJAC+p1xJfO+8PpsaXjk9+johdyguK/rrE/mN2vt4QSoj2JV5BBH6uA6qQpqcgaW+oNxLYeKzmrIMB2GO0TDEFFgqWi8VQb1+xSubKUaTh7VlqgypparRG73bDBgw16RiHpgV8wgZ5abh33wX3YVUBlqueOvdIPZTPUpUlmnup2qs1K5fNr0+QiyBiFNmZgB3THXh9dygfSepYZwlU75CcHvLUZEBP1Sg8VOM991eqStrpVbIP4FqVTto3BONyK+Tk5MQAr5ntzLGXuC2dApBFjAXMaIMPK5xnyYRQSfMU6d/VSsYsJLIFd2XSqxsSp9pJxW6rBcnryKtLau2Gdx4b85dKPIEqXZDamu9q0yFQfqNyenlbfmnKDErPOGV8KW7yeXqX6B34MIqmGax9io48ucU6rOrAtA28NtV74HcSKBY6LErAk1yezF3ili5lJPxFSii8ns+kciInBkW01LHDugkl/la2EdwZS1IGIRJ68VJVG+TiPfWG2QuvNUtDakUuoPX993Z2UEnAlZFaqW3GiOHcB+UB2YgGm+lxPPOI/+8omUI4X3HSoyliInPPBsrXnwUnBMAhLgH1GEbSL6zqjmgdfDJ6KFISAcOISAIiU/ngayoUEW/zlNQaDGkkZF+GCWdCnkp/ZFeNdrOyhKNlGoxYZwcPfPVGeaRG3i9n8ZLM+AnqjQp6GjMR4VrSv1cHyuNjPq9biLhYMUbz1aDMl1fuK5Y5tJH6IvT5rjwIkNYtFi63bLkcSsqcTuipxvFcvDn1IsbD//mZ67JwIurm8fxsHpWKuv6cGFVbu1k8P7KLWhItTJgtnMvOW9Cfbn1nHFKggvv6gOshGNnNBqheTp3kFNq2/baB4CSIShJ1MGKMF559F8zfh6gxLiFHhIVkL3Jrwg3/e9br8tPiIEnGgWWV1ZW4Krb2dmhExNEMJ1Od3Z2RqPR/v7+y5cv27ZFzdGUEizNMUZ0ESE94dHwsOPO2ODgQqhqDSYRDzlndl8hZXeeOtZ13Yr3umm9IDH0lOBGgOiGKqVFKw0RlGVMWAJ1dsg40cOq+V/EUQZXstBvg9jdeSMzngc12GGSfTxKZfZ6I53K6RriqbZeAomJcERvMs9q47H39KJmEXI5DS4FV49sKUheSusp2MHFq+h2YXNQxmJC4QWbhIWa79J5LZ+U0qp3fOVuKnRSWUaOAx5HI2D00DSwapOaUq3nXNNXqcIjH6EaBhFTmSUkSnV4Zg+rpK6NR0ORyjmvrq7OZjMuxdraGlotXntTyehuqPPz89lsNh6PkQO+t7e3v78PrwBuuLKycnV1dXR0hPVkLyxIG3g6HrrwGq+kouhRtBWYVKjCo2fvpGuHnv9dT/Srf6jz6brul5Qr+7KJlbGm+oYkET3GyWuvBs9UhWdmfX0dAdjmWYy0N+ujeYBxB/pJ9L9NmT/DO5Ant56RVqk51Tx5LPnEgST56CDc6I7y0VmG/oST0URvCiOdhPTjoXAHdz377017pMo+kbG6PkuyUzX/iuKTFNaLZXUy3t+cH+gEeP/oyc6qlmaPQyBSKEbH0uWlu5PEc6LKrC5sKIXuaiNyT8iNbhpCTCIxGri2WFZDGjM00aD7p1rvjztwAaOkORB5+SvSNq/UH1JQ6LxGht4HiA+hEmwgeyZI8nig1tPJmXqUZCwlqg9ohF9QB1diVQYy8HrOVoqcNFfxG2IlTsXa2tpkMtnd3d3e3h6NRsAmMDTYmxdSPs+EOhvP1VFK5feNlKvhuQpuQSc8URDIEicRpN8TvgGNoh4SKZWvo6MTf64eKj2fhF1z/omDHb18b/RaGG2ZA2Me86RLqjxcpW/9JpRcmo/WOegK80iH0uhGlbCalQ7FZe4XeRhD/1Q3z2LT0HOu8FfNlvMhcFfzSdJjVheNBKlQS4hsvO4ZB0U//Lfz3ErdysYbdip2m4i0WXRevm//1cw1M71/47FZjQST8rloJQ1qUTLDBaurq6PRaGdnZ3d3dzwer66u0rpKOr+6ujo/P6fqjaPR3yB9qVfgw/s2fnmsrDhnkD5Z1VLmUjchlTNscDAYjMdjYuXh4WF0ww20rSqZj1RCyZHIaKUpivNRAQ2aRaUQmaicuBIiLU5aditVzpkCJuyk+oJE1Shuiv7ZaLzSF2Nc8H1yLzxxKnpBGuK4mTUSMNQHrCzyCD5oWHIQIbF/SvWMUbjjklLcUIygQNR5SCk/8A4EOKwh58MzSaGe99dd7mOxudxtbr/upJUbP/BlCdx8SifuJn0cgYku9Szxj43HeAVv5sFRnQV8wCPUXqwHRO2quhexF9nKdTYRMwmX6uchFcGRBel4a2vrzp07aAth7gFHFrl5PNbFxYXmquumLEXGW4TLpft7i+OXxMqbxtJzyP1gvKFuAy3cKEG6s7MzmUwaKYAGBx+djMktgKSVsMyly0fr2aCBjDpUNfnqh/wtwlOYfhM8VgOuWFzZSW1HBQi9VSNR6FXREN6EH3gIIa104mCFiZMm0VDqtnrAcDeoXTcRvb51KqNVQil7qp0xl6ZGHlGVRzRp1Ur5K5fudS4RfsvnNh7stZTecMMkCVFRvHAkEq5Pta2VxBTKgufY31j64geecI0J0O1jpS2FWkgWWbI/f13MLF2/gxsxSO3monTyAoAMq2zbFmHI2eu/cECohBSyv7+P4ufmiT3kfNfejLpCyVdM/haB8ucZv3B8pQk0WM8mqBJBdm36/PwcKd6ELRywpmlWV1e3trYQ1kCfeM75+voaajj2svPWnRQqs4hRlSBppcTHhyo96XupuxN0xkPCX0Ux/w+8cDTv/Op143keeLFLxAlCraMVFT6TEAI6C9HrzQXXME/dAtyHz+Ie8bl6AKo/BdFtFej1JjDV0fzPEiSDsqRxcPlRoxd0VrxMH5SkZL1uaFymg5ub9qyslNyUgQEK+tW+90+74hTXJDs34lM694mpRGlmXJaFdAPFPBupcZdFrqRcTOBuJP6pc2d67jF18ICu61Ac6Pj4GH3K2Py29eoq6+vr0+l0b28PvtPoqY38l8VkaYyqgFJZrHKdV5P6W42bDs4tPuWXx8rqM1e5T0ao5jKbzZC2SM8yYBSCwHg8plVlNpudnp6mlJi9c91rvURaJLrpNlvZMYIyqfVMbDxXjWR66DmsIKbxMnGUHYIbHPtsQ48rST94oQe2mug82k4xEd9QQ49irjIR+nh/lXEU5lRbVFpXrFThZSA5TrwzRkoJW3l9fQ2gr3bfnJOZFwQJpS9Ypx3dv0+AUCoKvfDSpgwP0qVOUhl3xYvjqSLS33femeywogp+T3Nh9q52ur9kQq3nRER3v5DHVLPVOZB+lD+FZdYVUubAKyRdXV0BKFtPxFADN9Q1BJlMp9O1tbXszXlaLxqN8oasqrl09ADgAxv5l81x7EN+n4AUOKDDgoNpBhjVLghr8NaxplbyLGBletZTG6N4YENZGsOWeeH5c2qFCu4kX1yc3IbI9BgTkYcvqKJZf2W4aNUSYSCyilPiBa23t+WC4/pOPFG55yKotgnHo/GwHj6a0KY/jG6Q5dpm1z0B0wzkoi8+uySoznHaJbmkqrlXy1IZB7h31ZZFibJUiKyWGs9tPI4C32MmFdH2l8tKNoP7gC+yA0r2/J9O4hOsZMmhJ5wufS89ICblX7OEWFRMK0ieOGIqZ7NZ8qy2GCOskDxTqFCHWto05qiMTKN8kpGXWa44HyU8+0DGjVipFGaynUHUEF4cekL+a0d1f35JC0sFJSklRGNBqGSE+dXV1Xg8ZlDe+vr63t7ecDi8d+/e8fHx6urqyckJZnt6esqDShmHMMe87M4jEK0McqxOKXVnKy3lSVJQeBgIT/1qMebm+SSu57YMVtd1IziqbweGJ2pVnXsqgJ5d111dXanAy7nhEY10gFnx0pa4jDGD+i7I2Vh4a4EkpWjIcnjac9llm9frYeu6jr4aRtSTAZBUVr3/NXqHdJLRRBzkowdS9bnzjANt9qkbgZknLycBgMtu84VdOLjAHqSpHGk4Sb4/t5Ul4PgnDtoizJl9CGFtbQ04Fd16ywnkMv1GsbjzXGwrC+LBvoEdVPE857y+vt55ViX64eBBkMGRGYyaTOPxeDwe379//+HDh8PhELPCAVQyvri4ODw8RKFYJmu2nukLRtuHiFcAZV9IJzNYev1N3/NBNz2LqF1NqY97r5Erf1LU70sHijK51ImgLMDXNp/PESXLAr1wdIDEx+PxnTt3gkh8SWoUEoA4omS/dGVCYTXDKFYz6jIqS7ZeEIEvoiKDiQjcSvg6LqBAkcRdwBk2HgKiYuzS3dGXiqWdzkrK0JfKpVugr6Um8e8nMYH1tyx7fEJwdbiTOr4mMiDPfys1kKLYRnQXdEMZWJZ6DgTiSC7NyrqSjZRWUt6cvIS+JvOQCwaRhgZeiphzqGo7cUF0p4KUNcHb4UWokmMCScq1UZJVFA4imlRoor8lfEcpqMHJtF5lEuaszc1N/ATfQHRAsYzpdIo2ZDhuQNJWBkm36zpApBIGIfi1gFCN6ifvcIfX3pz3XLqe1XgVVvax7BaHIn2FlaG0oJtEivANVZvm4USrABRbow4OCEOmKk+IwpzCqJ5AKzGlwr5G0tdMahnoqbDy2HDmrFQIAY2nPZXGAcJx457c7KYrnoEKBLmMFMn5jvyrkkXjuUkmPU7pHNDd4WWdh3ByGas7k+tEMdcGKd4BDRcpHwg+hQjZ9AJaU+kT6NwoaV5iriuDHFXm4odUaqzR66qodEmeSqxsPHmfkqbCLreDKI/56+4HMVbqfPguehySd7ZRUrQyMD6W7ZQ5DQ5aM8iB4P2LMWqBS3MjAKPZUHoGlkd4UBeLBdKZELOMaCE4diDX8xHMzsSYz+d0THG5GqkR84YjiV3eetD2l48+Sr725jdi5VIg+0sn2Lv/TXCpHPv/n6iH0ZLPD6QFbhIPNRJ47ty58+OPP4ITYndjaV9TKjSPN6xmxaf3RUX6ZxXBSY4qX+gLEtYZWkFdnhPjO0IXruxrtOI1Eu1UnUPOoXpNEl8WCY4APfAiYxSaKrTCN2qq19dXRKjOswn2AXrQPBoDjYjh5MHB1pei6J1FCaVprFsWVllRv/61usDEYxOlZhoXGQQG/Z13IIeguYb7Qv6koigXIUlTySzBpFRakWuot+U9+ZpcbdKtlcw4uxxKxQVGGOxsJ+5QRI8AAQeDATYCV0a3PMCrwxB0ZT9J+v9g/nQk6CnO72SUrJDr1rHyHab0pjr47QLlmzwRg2eG+KLXAP6YeQoiRi3LnZ0d5LHyMIB2EUNOEOFDlSL10WTplc478DJWqjiHMh6iOpNZIpwYIkqNiRJKdu8tg8yTR5zknCGKDqSctZU6Mh+n79Xfxz7OEisRVKBispW6tlonTc6nXtl53lHF87ARaCrNyISc88XFhXkFOQKrviBtF9kbrnH1FNa5gFbCtwna6j5mYVEmFaEab8VR7TsRnFGQueRS+C3DQrMoMdnzAjuvY6BYwxBu6BykFoUnE16oHNHcts7LYMonfSLBhvchHDeehRlCOD8/h5cm50zhem9v786dO9vb22jOQwvVpQ94TSt6rnbt3TBOD5TdKlBa2ZXASr5+03i9XGnlSbutGetCVB/4mVdSiMhlqxPobqxhjhxwxnjz4PFuJD49+alXvUrJVE3yUax4UZwYek8uut42l8IFdXDY16PHQneSQofTRRmTK4PPagVTbYXvpa+8dEMrgs6uh2L1GqkCiQ9RIitbr+LV9IK0TWKV8ApJSntlF3lQnhl7B+lG55PKmnVR+tDqkioK6/2tNOYEMct27l7jBamsg0f7hq5DFpEWrwOMoEdRV2ngI0g0BbeVBR8hvDNKceFNuhXxSV2dVxhRiCQrouGCnMmcl9NSYWI0YO01M0OiOsqv4AQBVaPXZLl3797du3e3t7exU0xtPDs7g8atZdyUorg7yk7ealQM7xbBx8rjoOMVj3h9zNDSw/aXj5vmlEqbnQmcmXicORmcOuwH3HBQFtBSYjgcrq+vw7wCGq02gLRV2c71pBEoFcoV06NY95RTKaEoFlNGbqVnKcg69Gy1sQwJjG7ErJ7CmVTycrVrfRDh4VR0jr3Cw/zAFVvKb3RW1Q+XzjN4Szjo4APPhgaAhtIeyhtGz5XsP6h6TX5DcZIaYuPefy4vX59fRvf7ce/A3gAZlStPfx68m0L0yO3gxQFIh633ZCY7CR4NqmoK15bvRViPMaqepNTYeh80YCL7iZoZglthlQpS+xKyLcRbJoBvb29vb2+Px2Pal3VQ9aZobJIelkWAWHrYXzFCj9PfLlwqZVYfbhpvGl95u0CJwe3XD/pfPYo05GcxlMAOjc0G00spwWd3//79e/fu7e/vHx4eQvEBiWxubuqikBb1eFT71H99PfaKDrmUWFXS4X87SWHuuq6q20ja4ssGsTmaS5GKYv2n3LTgoRzWi8wIPftm9dZ9vLPScMF3p0iYJJghStXxXObXEytplDBvR6OPbsr0laUvq9vHV2i9Eh08D2QMGxsbJDzyIQ4TuVu3D0ihNMCfEHk7LwjAlWylxQIJmGpB52UN+LJBmJkuOwExl2JE8PgHM7u6ugI+4mXZHsc8O+j6+ppG2JwzgoSIlSjCtru7y9ywKPYW8qfkPlVWRM8ig5tg918Il7cLlNaDyIqAl47Xx1feNL83RM+bfh7LsF4eTsaadBLLhiJAqiDzVysrK5eXl2iohOTo4+Pj4+PjFy9enJ+f42Cg9mXbtjDBMK4tu+WLijbnTEEDoW0m5stKsuNPeJYU18xRmJCBw7OysoL+okqCSQIVmWKEETwSoPESNQwMSCkNBgPyDIIpTiMOMLObzUmcWIC5DQYDdOZjTRB8aDyEJUlfac3LVN9LEIER2TiqEjZeRAcnNueMQwh1GzEMWKuuFzJJTskTyOUygYng/bhxfzI/LAXYEtcTrhutLWAusYIAIHlFr8BCywmSZVspKAcaoMoc3RYJVNL9JTYBNGEcxB2Yp0D4I8SEELiVoaw71Uk8ViP+fe4vyZVaC0iraRogIC2kZ2dnKIiFCLzJZHL37t27d+9COTOzw8NDqGhoykIU0wwCSM3JraI0jL4WLirepoj86h++28g9RaT60L/sfaydQepR/EoSMJw8cpCogRhjUNvh4eH333//X//rf/0//+f//Mu//MuzZ8/o2mN/FfPk/1yGlfSFKesJmOTV/LIP+tYTfNRfT9cnaluZ4A6RTqHZhJdwNajZUfjS2fanoS8YpL9FLHX8lBJ8GphP49EeXHwrfbJcT5UgguRZVpqyiiTZA0o0GCD3erNksX9xtflzk0NLjFBexS0gsGbJKF14PyUiFNdBty9JRWfinS5pcus2OToRRF+NvyX48i1wfZC08SD2RwraSi1BzER9uW/gpdd1znDFABBZjmCxWJycnDDcZzAYIFpoa2sLHSPMk2W7rgOkghc2UmTEevk8Sez49uGP9w4rK4mdZ1t9BcmDbLElSG0cDofX19fHx8eHh4d//vOf//Ef//G7776DAm7OXSEuwRcEU4tSJHl4BS6cW8V8eETxZYUI1VliOG4nnUlMtCo9SPi+Kytjq0yRc2YiWjVJK8FdpQ+TwlxZjKGUSqjhdmWQfOpV1U2uOV5Lv3L+vFqW/pqofRYeZ6IbT5qVzFJZCJdaWQiXQqGTCBjLpmzm8Gcugepts6c888DzrSEq0gkeehqGlcopaxVXU8oSm1lxtYq7KIjzv3SXNRKdpqjNzeWzID+ycRhEB4QBXV9fw9aP7xlJsr+/PxwONzc3F4sFGp1qno8aJU3q2rU+SEV9VvQhjp8cK9+WpSzFJjOjmQmrz8S+hdSqgV81ePBECAG6OfTui4sLauLmBfh4WrLIXHpsdCb9I2FyAIgCSvomgTt6Kpj8AJMlko5MnCeVTKSzUkBppLukilo6SSVTRUzV6RSyo4RMkjmZ9LGoTjLlGs45iaOZ09D5d5JIWgUt6MpzXyhcK47wuaH0gXBu1U4pbppLZ30XfOsZ9IqVSQwRCy8MmMVWMyh75FY6uG7KTXQVy54KS/lfRRi5x19NJOJOLL/mLp1W8nfhVVt44xDuOIqw0aszHA67rkNu8fn5+cnJCWuvLbxpFbWlVobKwn8F472TK8MyC24WX4eV1nT+tXPT+HQ6vXfv3qNHjzqvSZ5zBjul8zR5moSGzvJMciahZxDoc/tcyk1J8qCz6EedGyLNTWbIjjg/P9/Y2BiPx2j5krzpTVfmBepStGWHvyA+k6asJMaZUEyjIDnwKoqKPgDuRlro0C1Lud4c9INYJ5XNJElJXsopc6lTR8kj5Hpy/p3Uh9d15utQYyBSmPCnPpPTOyiT0ImZ+4J4MYUmCF8LaUykRpIspglCKh/RR8xqetzNapGD2yJ5f/4KcXJJEqVIeNz0xrPXYPDpC8JdmVm/traGEPTt7W0UrIQSk10iCV4j+dqr7qssqVp/lOJPH/p47+TKSqbgCCHQoBMk3oKGS+gFZrazs/PZZ58Nh8MHDx5sbW398MMPL168mM1mwEpzdySRFP15KjnLbkhK4cRSaa4m0dOGQA2aar7a0VTTjDFCrsSX5NiKQbpEXc+d0ngcddOrt2YlOkSv+4u3Y4Akj312hZQWXkz44uJCFVK+7MBrr/Xn2UftaqOrifEa5QEaDplFviOgWyl0V4/u75GJVUG31Uo7LCHJhBmrXlnNv1LVEVcEFxAxvQJ9znyp4F+9SJaEK30pleX7IMgb0oFjbmQ0Ce5hFNFisQDnvnPnzp07d3Z2dmKMCAkKIcArgJwrVsrovOZmVzY0rSjQPvzx3smVGKRCUB54I+jV/OjO5/PRaERFA3S5vr6OHIPPPvvswYMHd+/e/V//63/9j//xP46OjvhzKg4Q64bDIZqGq0hIIID/USk7S/BKX1gInplj0vmLx4naCu8A1btt28vLy+BFqpP0geiLHjxa1GExycbTRSrIqBYzlV6RKDmaWORGamsmd9rqTdSaSVCj1Mm5ER10oXTF9J6htNjqu1fYZC5vmmvlQfw/Ta+cEudDxtBJsWe6LDoJwEzSt1IxMbigzfsotppI/dfewDaLVKUfqq2pwKUPi523TY5ubOX7KjEE0Y1ADJ3bxzuPNwgeRNF59UlW0IgxDofDO3fu4Oxsb2+vrq6enp5Cmh4MBig7dHh4eHZ2lnO+vLw8Ozs7PT2FgUtfRG0yb3rs3+/x3mGlko4ekihlwYCMUKsRa0K9KYSAyKGc80cffYSzdHBw8P333x8fHwcXTmmEZgvjvpYE0lTto0/ZoRTiME/qcTxIOWfWHGOmJp+I1wGAEl413l6BRpWaJOU7W+ljo9NTxNGTr1fS6BYlJ48aMTwADJ6nBSCLWMdjzIPKGJf+KyyFy2pt+avYs3ZFD73igitWQkNUCYvvi/mk0kULmmmlDJ0qj2ru0CWKUnfDHIi5IKqEVkDJNyLkcZImBqgsIi0+tB7xNvDG98k97yamcEVhMDxEiZM9E3NNCnagITCEg9FotL29vbu7O51OUbYSVZmxwmtra4vF4uDgAM7Js7Ozk5OTs7MzxUolP34TegLvBzcGN73DLXIDlYzyMhmhGtltZ9mt7xTxAHOz2QwsDrlWKysr19fXiLa9uLhACJGZTafT6+vrb7755uDg4P/+3/97dHT04sULhqfM53P0NUbVKeiboCo4W2ii4lSZjxGkak4u+9aSCnkyTXq3VgeMUlsrVVj0tIRSaDVB2OxiDoxo7OcTyho22XOQzeuDMJTSPLIdV0aPWAbRw0sGy8aKtyCnKnp1dYUVw3LRTqrThgmy9fTnLDk/eGsGt2JijG3gHTrPao1uaSHMqec6e82U4G3WFcdNEAoT6CS+3byvVtd1yp9Q8ZPscOBNOAiUwavw4T60q1a7PPC271G6HnVdhxpoJjCHywbS7kYP0cbGRpJkdkA8AocHUuSN648/IZQVYT30ZWPl0YkXtUtyzufn5zHG8Xi8sbGxv7//4MEDbB8OFBDz6urq4OBgPp8fHBw8efIEtJFdukQmCGJLdCbcu+wKBJloLu0POm4Rf5aOd8Du96U/+NL/KhnhTLZtO5/P5/M5tvn8/Bxh2Ii/iV5uy5zV7+zsNE3zySefPHz48Pnz58fHx1B1Sehw7Z2dnTXepJQeD+XbCk/9qeq+0rZNcs+umCuUkIb0+/4N+1jZSax7cLe1mZ2dnSHXE7oSf0iGj9CcLIJkBb6cP89qlJFLBVnFIn0pftASUNnjKIPbUlJZK8TEw6tPIejE0mthHiypi9nXDHg9oF/ZQ3YNF5hIKZtKbvAkwuz9kYKU+FVkxH2A1OQBakwnGZAzhdKhn0WKXEpa+r2SSvBK5o23u+DutJ6nlL0mITkElytLFlkse5Dt7OwMh0MkekDx4qsdHh4+e/aMOY5MQyLZ27JRHZzqxT+I8XNgJemV/7VebJDSkPWETfOcrevr67Ozs9XV1Y2NDeS9MCEkhIB8teRuSny/tbV19+7de/fuoVsIaGjgNczBV09OTlAiH8yWApTOIYk10wRuKsZIa6PKNXzxClYq8UfX56bvs5ixVB/UKjXqbzk/P8fMWaAIx8PKROYgoo0SdBKXRSdNtBuvQF4d3SBumeAiqgn0QNJUH3G1PhV5UKs1OW8U2AnllAG5HUo8QeTNUNoxKqzMXi1FzREDb8eY3DSJ7CBdK5UZgSDVwlKkshIrK7zAPas/cbZZDKNc1SCWCn6f3TrRenkOshxsBAzlsFe2Xh5wMpns7+/fvXsX7u+cMyLbTFrv4mJYOefzOV1YpKv+S5nb2ZceBysxtOIW78/4ybFy6cu/yYoo0w4hqDdmbW0N5IjdAnddX18HVgIy6MDNOW9sbCADYTQatV6KisEx8IaTteIkzOdzKmU8EpVmQRBRuu/KaBj+VlluRfdcEyvB0V6JlTweVCphVIJ2XMmDweutIqoUb8q/Uicy0VIX5ejECxwl9bBiAFFcPbpQlLAgnuCkXV9f48QGKZzDmwQvVM4HBQl355WVRKnro98TYnIpTWePiAoyYoxd2WqR1tjorbR1X1IZsgPEpLjHoXJAxWY4oij4FfPQX3FJ9UVimcdBxYUYlzwEnXPDIYJxmU3A9/f3YZVSkwWIhz4i2Cu1qSqGLouSdEXYfLXYs0cvXZb3YfxMcqUJQOha3ASaFVAGyUhjXROctIuLixDCxsYGNYXWA7xBIjBX7+/v7+/vb29vsxpVENkHTkCYz6HpZxepQFjRfQKd5JPwkHSSQ0ZqjtItQJE0SPwHnlitiaKzrhv+y7PR+MAjGGCPmQSvcQnpgFEEoHj8ibNSoNE3XUg5RUanWikF9CmbvCFI+EuU8Gw0WUVGHf0V0NmzdyUjATBYuro/a45U61OxNyslU2V1wY2qJjE6XH+TsCquc1oWl4Ntvby8VNFVN12Xi3dQNlm9AqmLzLg/N96TM1fRMkvuKQ8OBHmtNbfw0pld1yH4/N69ew8ePNjf3x+NRggwUoJEzvjR0dHR0RGYLiONOileWZHEUiHgQxw/n72yv4JZVAzdaaV1hYau6xB5C7nv4uICWnmMEUZMuDhAB5A3zQz12e7evQtueXh4SFmJgYSXl5ez2WxjYyOLsgkaZXup7PYaGrz6WGklEdPgVTkTopgL++IDf67/1e+5ILTBmes4nfjZcSQW3iQAb0HErOyS3Bf6VfVKrHzn0aBJnBJ52TCvX0mwwPpg9c7OzpBTHDyKHnk70SP2FSziDfYBrV2mNMMOunyFTjoVqyxmZp13UQ8iERMc2XmRtZEqulXUI2F0knUOXqisiHCpLErZZ0X//D5I5XZdjSBG8Ch2Ia1up9oAX5xiR855ZWUFjW1RLGM6nQ4GA9TRgK8GpyCE0HrnCeAsg41ILXrY8w1m1j5h51J+svdy/Ew6uDJb6wFl8FBt/SHJKLgcAe0YXu+zszOgG5zXaFU2Go3W19chG8KMEkLY3Nzc3Nzc3d29e/funTt3nj17huJR0d2+AILDw0OgMJS+1mv9Q8zB07O0NOgkgaySUzoP34vuAWRATxI/oIoMuiCv5sC6LHqfhXQcpWRBy1rywMPglXhoPaxifUj0DK6iXNn1SijpVAmUhAwK2kHUAgSazGazy8tLnEDsl4kyy5+0UktC17liVyaGS11S5WTcIL4sbgtsJfsZSDl6pMwqxFjJ8MhEKbpmTyQnjjfSyYMvksrwAxO4pARdMVR+qZqKlYnhFH6pd8N1Cf9eCAFBxLCoQtqA0X88HqNdBELQx+NxlM63ICSYv4CtCLqkWEoTDeQPLpTOXPloKEVjvr69x0Bpv6wfnAuXS+eP9VYzuFxJzwkslVA5wSGx923bNk0DH070bk0rKyvT6XR/f//evXv/8i//wpPJR0DYgbrKaphZ8jE4T56BJH7MIAPyURIfqJ5Y88AjPSE3Lc4reEzFh4GJFXfBn7AO9KhYGT1OjYxwUOEj/6XFkOtgPVhXxDeR7IKEwtCEApsyEQp/5UIFD+kP0jlSB188iREwxog4B0I/v1fuopY4pT2FyyAWT11nxcrodtvsVg66PiqDTLUpFYX3gVhPQRSjM1+NLIFlNBvpupy8x8PZ2RkKUyZJDQCGzmYzWCrR/hty5e7u7u7u7mQy4SnY3NyEEnB6evrs2bOTk5OFt4oiQ+1kVCbaijZIz68WCN7PcWMvSmUIVnI2fVv+9aaXr0iEX+ZS1+AH6lYVW04podEYCgWdn58fHR0hPRGe6/Pz88PDw83NzdFotLm52bbtaDSazWbHx8fT6XRvb+/hw4fff//9gwcPaKCE4Bk946Vt2+Pj4yjtmM1MW0WrFQ+PyJJqrQuVpSQX3mLhecHRg5x5GddED3Pr+de6wvhea0FyoUKZ99l4jgpNonB3wnkFTQqNVqCvZRdOzbuhcgAoMT1CjLl+B9k8eY1RKrAsA4EfklXgesT0QXhZX19fLBYwkJEMWsncV5iOpbmQK8b3ZVNsLCANEZubm9w+peHkji9d/BgjArBaz1CkJIswNbqkwBoZVNhJBV/MCjZZzCq57YIsXDUDQolOw8T+2EiKPU0NKPsPKQHfwF1jZqenp8fHx2BLC6892nUdPJzHx8eQQ6+vr7e3t9HO79GjR5PJBA+CFNk0zcXFxcnJycnJCeKE8Kzz8/PT01PInmB+6Amo/DiJzzNLhDJ3OZblBN/z8RZ10W9C1Z96cK2pwNLaAjNl9MKUsDej9C/abJkb4NbW1lALYG9v7+zs7ODggIGHGxsbOK4LT2ek0/Dq6gpwbC5HBFcntdRbJUEom1kqBurbKctRvhLFv0nlPYhZrf+IpbIeb5KlcaCVPWxpl8SJYkwP45C6MlkzShyrHulURt7oy3LyRNKudLaEXqSBSdBlEEc5icHceKpquMINF6qRMKAsxYEqMktuqjbxHVlZ7Q1Yj4vpj+o8mp2Uo3utMwxu32wl/pGDOKLExokFGZwbLCrr6+ud9yBjKhqVG5yL7Mlj0bPsae9eXV19+PDhgwcP9vb2xuNxCOHs7OzHH388PDwk4wkhbGxsgP2wiDrnz2lX4KjE+QtiyK2MN+q300eBn25wlfW/ZNrRPRioaXZ6ejoajSArJS9YAC6HZKzsytH6+vr9+/fv379/9+7ds7OzZ8+enZ2daYepTroqm5vqQSWqAJJw4U1mwlm1Ytaz1PDLLEZ9u1kLqx6X3MIFejXBJkUxE9zBoAzVR/PWK0gGl0CBj1TD9UOlTlIu0GnzPCR3X+iaACWh9CHhh1hAUKsQP0vuNmvKcqd4TXIjIC0JjXcwbnopgNVOKZx13mECumTlmoOISgij6cAk82chCazm6VvZs3qi2685YfU7VVCoK0BmGUuPn0ltZtYYpNk0uRUVmxjcXskqMwDZlZWV4XAIDzhC0Nu2RZLbs2fPkM8zHA4Rcre6ujqbzWBuJlya8ELKzksRs3/Yq70Iy9TQ92S8po9jdboqUvtLRv9WpNrqgj77BSlcXFycnp5ubm5is5FjACcP1AFoRmYGBQGm693d3ZcvX06n07OzM1De5eXlycnJaDQiZKhGSRInkqrlPpRyX9+wXYEIv18qIyzF00qg45rwQdVTTKTd/gpnYTydBA+HEBZepK6V1mmdJ3pybpwwUUDpu3odHvvggmHbtuvr69wdlRxNgE9fLbp7jcBHhKp2AQqvvj4fraIxH2HiZskiviUPuorSh5JzCC4gQxGmsq/sgXtH43guU9c7KRkZxJJQ6aSccBQrcyzjFhTQMUPcJ+eMiMgQwubmJiAVgidXYG1tbTweoz/VgwcPhsNhzvn09PT58+ewZkK1Qo4Gfn5xcQHVnhk7pH/u5ltBZP/zewiU9ib9wSu4vN3RP2bVectlRUgTKsS2HR4eYr9BNExY3N7ebr3YDw4/4PLevXsvX76ETTN7GBAwN4sQZ2YIpGBzQUZLZMnYS+K3gdxBWq+WS4FPEaR6WZOoaUp8fKLatvRBWRQc3lYxlHPgeaPZDh/Mo+1CWV7kJps9Mbf1KG58T8GnmkZwuXJtbQ0VGUIIqPOGURGDzpk20FCm5WS39uJP2GjG6FSCbeWs64M+BgWu1vOskzcaglE7eKMeWM+JcSs+KIBTE6LIDCCmtA4ZmXeIErTPJY2SkhTKyHO+BaN/EEocY4TkCO/N1dUVgsw3NzdjjMfHxywHg22FS+eTTz5BDvhsNnvx4sXBwcFgMNje3r5z5w7axpkbQFHeUOuwJTdhY6H6m9gf+ZWy1/tpx3yVXJl/MqFy6d3IhZQgzIlMCZpfQrqEo4bfA9SQIW7SSx7i58cff/zixYvxeIzkH4pX8/mcpzG5YxEGKepT1IWpffOoB5GCbRnnbMpEOkWTahGqa/A9T9RNJFgB4k28rTp1KgjARgk1Wc2UPPy6/gqj1bv0GUAWMRwcCPILwxhWvMN7dEdtEhMkgLKaAOUsGiIqQg1ljE6SMB3epFoN0k+QjG/KgIQt1FUxx3HCNxCTvFOhmRSbvLI6fXcYyT2ZCMYgAfRl5OA+k07S6s/Pz6+vr6EjxxhhTEe4SNu2Gxsbu7u7Gxsbbduenp7ydcxsbW1tb2/v3r17u7u7w+EQbpyLi4uVlZVPP/10MBg8ePBgsVgcHh5+9913z549e/HixcuXL2ezmWoefN++MSqXoo+eiKXEufT792S8Sq7sw+XPMCqer6hBCCOtw/iiZmZzN+5sNptOpzgkjcdgD4dDJPDs7e1BywAHDiGgXhF7e6q+VgFfcBVMT2kQ/b1aQ/6r78X78L+5HLogvEllD7Ly/Oh/+dv+8mJNBtIGkoQONtOVBZYwOoknNSlXXD1Lt4aCJ75kOA5Ey7ZtZ7MZLmAgt0rrKnBFaX1l7tJB/CMjnOhu1gXv3IPEm+he8OaEY7411zmJDSRIWBVci7CVL7wFIwmD2wr51CQsvPVSJjTv8K/cxFiGvioVJbcF4W7X3u9IY4bA+0Hb0fvqQFiGVh5jXF9fX11d3draevDgwSeffIL4c1SiXF1d3d/fv3///urq6mQyoREGCVcoWKly5VK6rYCyYp/9g6/v+H6ON9XBf5ERRLRUCUiP5cwHLDKInzCzy8vL7e1t88AO/BxRMqjQN51OUXpv4RUcEAHTSKlwGihNZBwrO88Qmyq+2t/7ig4q+UsvyGV6Bi/IywJRidRL6VKnlyWFppPqXp1Xo6E80vbSGbtl6Wv96RFo+BQqaGBXiPTGvwRrCuwqwhMy+IIc+C+lexjOoBr3J4MbkgsScaL3rghlVH/nsesqHpoIyADH4FUIGu/8kUsnFZ4FXxbJiRwd8+FksvD+UAYMYIaNFNDqPFcVXA2tgwfeFKT1uoXYTSpG8HxirTY2NlCaj3HH+/v7CCDD3AaDAVLCW69R1DQN4vPY54qax1Jiq+hZ6fZ9BsRXjNf3B8fov151Ym9rQjwtwVVXfA+KxCahfAYK+q6vr19dXR0dHWEj8dfr6+vJZPLy5cutrS0zI2+H6LG/v//w4cMffvjh6dOnNFevrKycnZ2FEFD7Ethxeno6nU4RVESph9ZJk4NHqKpiZcwJCCl9wf0/tDNUkBRkmKt1OWcaExFtk6T8R3C3rJVWPPOzSsudghckOxM/Kd4CIXU6n+zVJcxFHrKB4CU5zI2G2a1yMHrgXJHPNZ7lglMNf9rl5SXc4tz3StbDUuOQc2UQLwk3BWqmUKDL7g5S/y8kLC4m0BB4PZDquebFRqO4+JU+CRPRY9eI47weEwO9wdgH0AleVrLzqqxcTNVkiYYqXSKsjVxn4bV7wSGwUOhUjGwcBHjglbuuOzk5ARA/efIEocQ4CJ988smnn346Go2m0ykUduzOdDrFSx0dHf34448HBwcgpOTRAghCguEyuWMneAIehXQeDaVJWh6C5CmRRN8aMn6u8d7VRa8GMUh1zCTDnOFDH4GFO4RwcnICAyVkDRDfYDDY3d29vr5+8ODBvXv3nj9/jgoO5PkQqfpzoDhTiXsqCt0kgGeJwjXR7vW2esNQBtD0ubHac2kB6Jsycb3iKQkXCMVTWkUFcRoqHYRSVrWSK+TSYsh/Qyl1Um0fSCey/iLoBxXziaS5VI2VVLg4JozHROTBSB5Po0p9luhRrhgGHzSQVuaKbuSdubQgmbd/AFlyBbi2USLAgkRiKaBYiTt8zcb7LLECCG0aTCVo25ZhACyJHUJYWVmZTCZ379598ODB/fv3uSZoHw2xYz6fP3369MmTJy9fvkT2B3L5j4+P1ZbN3Ulik1k6KnpY+vm9He8vVpLmKMBzJ4Jb3EkHnVRSAc88OjpqmmZzcxO6SfYQa9hoEGv5/fffHxwcoEIffotqho3U4KElPrhmlMWIGSV6o8IavoWVOrW59EQ86mMlf5XLeoVRYq2JvI3X0OXp1bshj5CnNLvUycWknSF59x4FrAoxTYLP8de2TNmmdND0wqeSNIOkwlh5QszhI7vtD/OhaUxl5FRaEnUZ9UsFlyAmCHyoHHpRQnM6r8zflYlDxMfkPpau69bW1kw4IucJWmW8EVz/UbJgK008ih+cL6XT4K/Mk9yYR2TeuAlyJdVktrplQiTECAAl4s9br6IdQkCT29PT0xcvXjx//vz58+eHh4dMi4TP3coeeamswmUCf0u5YJ+j2HuPmO8dVurJVLi00gGSvDs2/LaotJbdgRBjRHuJo6MjdJ4LXiMDBqCtra39/f3d3d0nT54wVQummUY6fOWcz8/Pod1D04HpEwBhopNGTyCpOCfnrLSiB7KiJOIdQZliCI+6+oXxJb6pAEsPWyrDnlUiU5quUNtKBO/Pv3pl8jOgQxIXhx4nnG2sZ+vpK7QVUKyj7JkkMEvlrFcAZSUPJvG/EXeC2y54DW/INeF9CJQmLERfCnK6mhfJMDrPaEwpXVxcZC98R/6nM9FXIOyGntugwlPqs1CtAJRmxgiqrizLtrm5ee/ePcQJARkpipoZsPXk5OT4+Pjk5ARGLZbbAMMj7HKhsCAqPfRFh+qkL6XD9xYx3zusxMilUGk3+xBCCAvv2AlVCO7RlBIs3JPJZHNzM3gtBmjicP+hsQSs4OgWgqAZM2NFFlh/mG0SPQmyK7uK516lVSsjq/W85VJbrIASI4qTmhdET0xWdMD5vInCOnHs6rmykihjmRDSx01Ou3qLxls/VvjSSfi6OVxShKRPnAYQGE8oI0dP5W49q6oTD5uZtWUefSgFNCsbfPNFklT2poRL0OfFnTeK4Pmnl5kAZ8ILrdcrjf9mEUh1YRXKg5hoTWyX1kugth7uBFG5EEJHodK8oiBlZBwQlN16+PDhxx9/fO/eveFwGGM8Pz8Pbqw3MxajOTs7Y2NbdCKD3VwlAG69Gnk5QsnGbBkavv9Aae8hVvZRMpeSpkoNJDhuLfY154xilPw5EWfhhVVQKeDZs2cvX748PT1FrYfW60oFj22+9kHREnNgfcyKlLterGVX9jnRt6gYr95HLwvSEqDxNDueoujxNIoLXK5uWX5I6LXEsGWAqH8KpQeDc6aarHPIZT6PMgO+Nb3h5mFe5lCo2eJE3mpiegjVtKcUwgknd9pkSfZvfITSHmoebUpGRaPBYDCo6jmRAwH08ZNYOtxZfiV75TQiV19orTBICaDaDv0JsBV5a6h5ARUKy6JvPRwOJ5PJ3t4ectgQkhk8Zg4a2MJr+qLYa/JmO7g5VoDLy7ewnkCjpKI0YDdg4nuOmO8dVtoyuLRSjTK3soUQaLKcz+eoMwTpDxEPqHwR3KwGrzdIf3t7++HDh0+ePHn8+PHh4SH60tB413iJraZpoH3gthBaQTpWbnwQjSmIzTFIrVb1DzLOTmWHLHZJ0mKUMEwU8lDUyy7n6jHjSnaSrlsdSM5QwTSX5oI+3lWDKjOuIa5RtKzOSRYJl5UrKUkFMbzyGz4riC7Pb6IMnuFqU4Jo3/QmRwlIUsLDaHvdrtVQqO8VPd+xwnf8nAJy5+ET4MoKNLo7rddppsUz90zM5vImOI25g24+n89mM1aZ1Fdm29vNzc2dnZ2PPvro0aNH+/v7KKdEKz9E7MvLy9PT08PDQxR1XUgPcUQjtNK9spO4Ol3t/hZYCYL6V3vvgdLeT6y0ngvVSn9I8MAdIE7jnUNOTk5Qkw0FJiA/AiuhXOMDwjjG4zEiy/b29l68eHF4eBhKqYQSDYOKKNPhAOip4Dz7qhbn3EgKUPLYYx4JNfTEGDUTSbEMwc9ZgqtTz6zONbQb6LVaXp75KB6JsEyu5J31T1R+TRzKSSJIlk4sOPPoxB+l9gEABP22Qbhm581tFGUqu57+ivfktlI2t5Jz8G6qIOtbc5v0vbK3CK6krSzGFj5XQZC8kLOlJKs8gx+i9Fim2Zo8Hp2+kZrB1YD6TA4xHA739vY++uijTz755O7du8PhEJo71CbzbmWIxAS8IgQd9TKgY2kuv3K1cANDJf30EbMa7y1Q2mtzHPVUWE9J/CmGUpI+l7Ea1isnkcSEj30dDocHBwdICYehGvzcvIEXdOr9/f07d+58/PHHL1++BFYeHR2dn5+bGaLS6Ld98uRJSgmVr7a3t0MI6+vruJW5nIjukioyZGmBoJ8bzyymoNFIjwpqr+qOhwjWeB9topt5HnfngSkqhGLdFFAUuInXSYyqjNvPHrhuPWGZTw8hsAYo52wlvquLBu+ok9RQKrxj66noqYxRZ4NyTgxgQUccMTdLzQjKSojchkwUvC4GrqS/Dvuec0aozYq3jiB3ocWAIZbmENx4JCyY68IbcHMvmqZhNLhKwYxOxTcUFUntVKKJoRDGU0rI9c6iILPUkJmdn59vb2/P53Mk9aK+DFrafvXVV59//vnGxgbWHy5NbA2c9U+ePDk+Pt7c3IQajjqwrJTOLWu9ChfZNumnK73k6ebAyaU484Zw8XOO91SufMXI4lyuRAzzmInZbAbKQ8g6gskZ4NZ62crNzU1UtIRo2XXd+fk5aD2EAPl04dV32Jc8emAwzGoLL8PVti3ETyvDfazHY4JLpkliVnggyYEr2U0tgyqkmDS/tWXRvCoNVTLa0uXty1mVUNBnZvwvsVJ5hkoToRz4bSrjolRQZUi2rt7SCfO/lRrOR3Ao/VjJelPPG65AAFOdilG8krH6Jq2W+IGzCl4ingo7l0gVi1wOc2dj9toINLaaEx50ZEbUgzJPT0/Pzs6SR4Pt7Ozs7u4+evTo3r17KIlAS/F4PEavgePjY5RiS27eZV+dynTwavhbulkf9PjwsNJKDw/Zuzk1n5+fwwkD6W80GqF8aZK639jmzc3NBw8eIL+V/BOyBlBvOBxC40BBo6Zptre3t7e3x+MxhA7aa2AgZxkIimbWiy8jplCTShLQU4lv/EDHsbkVsvVSYHrM9JwTevAnVfZDz1FjPezjTXj+dVYK5byYYizFpeS2Rb6+CrmNV2lTKZKY1XpdBohalW3RRP+tsFIv4E/6wk4WQ0GSaCqCGq6hOgzUCO5nU5HTzJDA03gXIxOTYiNB+3wLKiUESjJOJW++CGERRie6xTqp5YquKlg3iMb4Bkan9fX1R48effbZZ3/zN3/z8ccfo9QTpFEzQ5u/+XyOAhmIA6Wihl4U194qVRlPRUipZ7v4qxkfKlYmSRnufLRe0Jt18+Efn81m5OcAuMvLy42NjY2Njclkcv/+/ePj4++++242mx0eHuJswzSDAwDV+PDwEG5xSKnr6+ug79ls1nUd6zjw6CqhW2njM5GeoPvwel4cRPUjWlFC6aQXQuilsig664HkHELZc1UXVsUogkv07MD+i5iYawgWnST/pdIWwdeHWBSlKAbWOXoZNBx7XS4T/hHFSaViqTlEMvwouI++v/j4L8FR34j/pQbA8MMYIyP8rYTdRgqwcz15TxUzWaAaP6diq1ipoJPELI7tAJfFrKD0sNA1yD64+jIajYbD4XQ6/eSTT77++utf/epXu7u7ZoYSM5eXl6PRCFF3KGkIltB1HVoTAysRVGfCqukzIPFUfItv1OesH+L44LGSwFGlSzNpAR2amqYZj8coGZBzvri4QMHnlBK6h3/22Wenp6dPnz5FoJk5xwb7bZpmPp8fHR1lrxDz8ccfo7wYgpNir3p+EL3VSjWT2BeWNcDih1zKSjyQKnQomGapIt7HCJVfqvtXYibnQ9kBh1OPfR8xkycCYykG0m4suJOnLykzMMBclmRVnr4fXIcKjPxMnGq81Tixm5c1UmJdb65qPm0aQdwsnBWb7eiu6X91OwiIUaIgiJWtlI6mtaHaGoyFtDOCUAktihDJQX258eD2wWAwHo8fPHjw5Zdffv311/fv30f1A162trYGbR1ZjORzSOhAJ0jmyHO2nHxFBhWd/9UImB82VppHV0AMid54B5bHwWAAUwu8LltbW0gPh30nebUYiJbffPPNbDZ7+vQpdJnoAc+gttFo1HkxnqdPn4YQxuPxaDQaDAYoxchUyMZrWKj5yXpSj5IREbPS3KNErRN0YumqVvGHsBjFyUOcNdGIl0qIvIYCLKEtSWy5ygjECBXz8VekA9B3RKmQL6hYmT20ZeGFh4OUbgwiIFfLWB1UXU+qwxRduWJq7MuidCuURx8qHEXPTVRuxDWvpqeEGsWrpjfkQwmsOofqJ2qmBHrOZrPT01NIf0RJmNebpmm9XPH6+vpHH3307bfffv311x9//PH6+jqTehEJZ2YQBV6+fIlcb3iirq+vT09PqX0Hd6wTKJVcKShUtF3RzIc7PjysrISszmtNdx46Dh0khMAKg03TwHDJNi/4FWhlNBrh2CBCE7Fpp6enVHBgpmRjv8PDw5cvX/7rv/7r/v7+3bt30Uz55OQEnkqeOmqyFQGFUpZMXksiS1pLkBpcQao6UuwiHPBM0v+oSGHuE1AUxvWNFAHR76+vr9lfUNFq4X0o+cQKZyudEYEE1OI7D2mkRBwkrt7MtBMhBiGbCrjK7EFkulzGGwSR78IyoUaBmBukQhMfGsW223ghXrUe6IO4zgQ4/rz16pZ8NXKRLMNEvCW84v4w8vB14MNEIg0U8PPzc1gnQduIKNjY2BiPxx9//PEf/vCHP/7xj59//vlkMgGYIh4IJZoAuEdHR0dHRzg7QMnj42No3xT8aSpRBVwXuZIol67/Bzo+PKy0UizqpGR68q5haBKSvFsZNA5IlGa2urp6cXGBxrbYSwTofvzxx1999RXIpes6KCkwig+HQzSZmM/nBwcHl5eXP/zwg5ltb29vbW3FGKHOEFmWmsOqI8QDRvTkSxFqK8lCWXf/JDfewYI/UQiwUouvxF5eA8luUFZ1BDeKUvGBZ1tBSk1XTZndrJOvZDdiJeFYX0SvqbiO3qr/LBMpT1+wT0Vqr1SVWZfdXFpHWpfaE3g3fWi1QZ3n+NO3gyqruRwmphKlARAtnTlYZ3odVQcHUHKG4/H44cOHX3755W9/+9tvvvlmd3c3xghITZ5smnNG0vdsNqNBluHoaDpQWSo1UD+Xjj7Fyr+y8Zr6lUs5g5KInvlbmRD3oHoEvySscCbJ87jJTqGSmxkkSlgt0QaepfaZCIwI9hDC5ubmZ599Br0GMRMwBg2Hwx9//PGTTz6BH+bLL7/8t3/7t6urq8PDwx9//NHMNjc3Nzc3YWs/PT0lIFZnScVDygiQv8Crs2iClfzCW+FXrNFgIlTGGNnvhWkYhOMsLXpUaLUy0YK3BTSYhA1QDWfQIsUoyMVIB0DrMd0vwhACrbSeUyUuJamjjvmwV3suowvUvKjE0HrBZoAabIuMf0DEAt8xuGhJIT2LcxyLD+piICGrFNNmF0Kg5QevxqIEtN4qDjae7U7oDx6kgbG6uopqu6RznScWEAGP0L4PDw/pjbm+vkb54evr69XV1U8//fSLL774+uuvv/zyy62tLRTDNjNgJdp5v3z58uDg4OjoqG1bJG5AnQIEn5+fgypYXIMaOulHz37y9IqK2XCLKzZWEfb7PD5IuVKHagd0hWNTg5dXQf1akCAdMvjM366trW1tbS0Wi5OTk++///74+Bi7iGqyuG2MEWkkk8kER+jly5erq6t7e3sI5ITanj0LO7oLFW56FR6tF5HDYHtqN33AXcqTcB+VAYNYS5UWFZKqC/jXClU5B45qDjT8dVLvg7ZLOmpUMw0iRzceh4jQxSzOdJPcGPpqVG+t1kER33oiWyhNkLoaeoxVqdRrlJdwetVfda1Sz7e+dNeC6On4PrptWo2qJnI0Qpfm8zlKSVKo5NLh5ltbW6PR6OOPP/7iiy+++OKLO3fuoEYGJcfsjb/Pzs4gUUJ+xP0RS4SmVdxTRpu03v7zJslGX7ySGG5akPd//DVgZfYm4J13KwOR5ZyHwyESwHPO8PBMJpPJZDKdTiHOIDYoxgiDJuJ+UHwoeYIjClweHh6iSR46B0BWffHiBU7vzs4O+DlCMqnjBC+1yYOqQlOSulsQS6OXhMni7FaUSWUYZnXGrOcZV+GF4glXT2mav4KMk7wnD6eaxPNOjCP6MNqU8mOMEcZiiEtWYlCUUiDmeGrCNnAl81WUEyzFyr6owhUwsfCqBq0HO5UOXNWg9SmQKxupq6SLzFxvNbwsXe2lWN94Yb3WS5qrxSN5KBWiKeG5hpMa0gBeDcXYt7a2Hj169PXXX//mN79BOx0zQ7AkmTGCz09OThA5BOi8urqCpRJOTjyaEKmpZRVWcnNvesGlG/QBjQ8GK29a3+zaDYkM4AjJaDQaQcA0s42NjcvLy62tLbTcgfILEuHZ2NzcRGH9o6Oj2Wx2cnLSNA3IsWma6XSKZB6a8xaLBSTQ8/Nz+NnBvcHAmYebc97c3DQ/hKmXOpLFycD3Wsq3eRMrZUZ+UCLWo65/IuDmZSXv6GJSQOQ6E5GpOyvc86+IIR94t0venDtlYk6pThFlK3P7KSUs8gATXOOb6spUqJpFtLTSiMzbKnMi9FSQR6itzAJ8XPToek5PN47/1SXFN6xB10lkPmkDhAqFCbZFGIiAfXjNxvMvdnZ27t69+8033/zN3/zNr371q52dnRAC/D9olIL5I74SXjWKGufn5ycnJ3AZtV7IWSVKvLJyfR1RLPX9ne1/CDeL3u/b+GCw8qbBw6NwCe43GAxmsxkMXoCztbW1o6Oj8XiMEhsm+TPm1bw3NzcRnX5wcIAmE4iZQCwF6AxiLBT5rusArOfn5zs7O2TsOWfoNblX2lKPKMGLZ0PFGRWL+C/PsGrKXJAKc9WuV2GxlXCp13A+jXcHor+FQADcSRLeGKVyT+epeFGCHCmhqIqqDINPp2zbeQ4rARF/7dsrMaL4mrm8XM9KTOuLQirp89ir+FmtEleb5k69Gxe5ugOwpmIbA2/+03p5zezGnM672sKZA8gDC0dIHAA6el7v3bt3/+Zv/uYPf/jD119//dFHH4HfQ4VKbn5J7vm8lnbhyA+GpNlKxfvOg88rfOTCVlynorHqG/swRcsPBitvWtxYNm7l1qaUzs/Pj4+PIf0xNBfccj6f7+zsTCaTnPNgMIDtEliAjsmff/752dkZAi0Rk8FmT/AOwYeAjFoweYo/aFeC6QFYQc086goTPHV6mM3Nf5VUYtKGJXkuM89hdYCDe4GsbPJT0W4ozXxJDHZJ6qoNpF0MrmRpXtVeo9sZ+cTg4d9JOi50XgLDJLgySWx29oBnK82IFcvRDwpS+goVi4peQrxCeU6Gv0q9DMggMnuFg5rlze3ovJa7+uh0SkrY4LJwTrZS4bjzBvcsTwm5EiIhfDjZA0JQEebLL7/8/e9//9vf/nZvb49kDwJGTzcMVn2FbAEzKKu6YfEX3gecAm8QB30WvaSiw+rALn3l/EqT7vs2PhisfMXIIlRyn5qmgasaWjk4KnyUl5eXR0dHe3t7Dx8+nEwm9OpmT67Y3t5GEhtKxaSUXr58+fTp07Ozsxjj2dnZ9vY2QBO1W6iVX11dvXz58uLiAjVTwbEBbfCKYratt6CoImMq3AziosGoJBRiWc6ZLdiqs62oqtpiH18UKwnHcDKEEBCa2nrrR/PumExRV3DMUsgDQMkL2l5dSPz84uIC7uPkzmJGHalExtNYcRFdE74C/sq3xktVujwfESVmK5e1P1Tkr7Yjuqeo8eJyWUwBxEo+l/psktigLPGh0V3kLNpCLgLzIlwuKGvNRg4558FgsLe3B4nyP/2n//TrX//6008/NTMEJ1F4hEwARR7eIdSLgbiKm7NXT3b/DztZKStduv7KcrLYRvS0Vh8+lPFXiJXmpIMMLT0nXddBOz4/P7+6uoK4NxwOIR4C0QaDwebm5nA4hLmt6zqUFwLLZaeKGCPC2abTKdqOJ4/u7LxnpB71zc3NKLUdOe0gPgfzGsZJahraDVTFt8Z/aVkzEaz6rF5lrj5Lzx6YEiXQJ7oTJrmVSgUufsP34nzwIbh3GItZSXl8R8YbECv7gGg9WVJvZR4noNPgrNT2qncjM9DVzmLfoKaikG0ipfIdOym3HEqplleSbzGpJopTjn8FSAEcqTjDWKlGcH3N9fX1u3fvfvnll99+++3f/u3f3r9/fzQawcENOm+8ICbkR4qo8KHDmQ6UpHWSWNnP0gnLhMqlVHrT9/0v3/PxqvqVVlq4lpKpCSvW9+fypdIqpAzn1Y+u7q/Kpv4puZ8EWgMCxIL4MS8vL+F+wTeTyQRwdnJy8sMPP1xdXe3t7SFZBTGSDNDb2tr6/PPPUSzjv/23/wZP7uHh4fX19dHR0e7uLtqWnZ2dXV9f7+/vZ6kp8PTpU0ido9FoMpnAOY7w+M7b+FEYNJGGrPR4KPqDZHnAcM6ZBY+7QdVVb1UQvZUCTpScH7IZ3bJO8spT6echHoGXIKzk/9GT9Frgs4LED1Ey7byAECdc0VululakSBlHEVA1RCv7agCsaUkgHNPMlz1sM4vKT9MwVwkWapCTFhXPpfUjOAvsc3EKm3TmJDdfdl2HoquLxQJZD4jzhXINWRL0zGMFfWV7e/vRo0cfffTRZ5999oc//OHOnTvT6RSlOXPOFxcXWJP19XUETiIhByHosOyb2Ww2Q0sVoKd5aG0nSY0m3i1d2wolCKbVwbeb+fRPNyrEID9bilevAPFXyZX9n736Xr/IIMPPnl7C6lg0t19cXPBs4LQADYP3n0op3blzB6cIET+bm5srKyvj8fjLL79smgY5DKenpxR/YFZHP0KUwsQNQVLwLaLYZRWOp0KHSkBBhokurFoPd10Vw+C9B3hNlBDCiiBUzuKXUZzROofqc3S3FWfelWlCnF5fjCXIqrxJXzPmDymGB5L7ayUphmU8mxfkGwTnfMOg1bX6oUbyk9MQZ/tHvVq9/mpQZuTFKkXyt0BeKODw5ASPx4KkCZUoeadPRP4jP+err776+uuvP/nkk/39fWruIEgks8EuCTPly5cvWfcAXm9GDim4p9K6qi+lb9dHBgXQX3CEnqBm74rUr8nbeR/eFmPp64We3ApVBWcSyQ/k/MmLYyOU0jxLzFzoSCkNh0MCAWyRd+7ciTEypmwwGHz//fcnJycwjcM72XUdqnIgUj17L3INHNEDqVYqILuOeEM8kMmmKDVjIJY7umuFd1NI1Z/r+TTxxvSxko+GKMQCOcGDgWiMM5ebTDiBipZBLHQ8YxjYIBzU6EmW5v0RuRQK3KnnJCExWA8uVQLStVU7su4ORP5UdoKEos1tqp7OGaoRI4hl2cR4Wi0yy4ggHJX0w+dCR4Y9kfwDYVvD4fD+/ftfffUVqmOAYnEftoJAdBE17qOjoxcvXpjZdDqFWR8BlRAzkwxaV28ixT5QLP3y/Rl9WH/DcWOvVAxltr/4UPKy3k5kD9YNXhoDXJfnCh7wtm2HwyE+IPIc/Hk2m929e/fevXubm5vM2INSPx6Pv/jii6ZpUDOVMl3wyBjwajMbDAbr6+u47Xw+JzoHb1pgYgGMnq+m8w89Wzj/Sj5PTTOWHRyp5/L+0fv2VMJpKGPauZ4q9egiZ7FFRkkx0huq4ZK2rZxz420e6A0P7tciIuAzLoOoPpBWFkoAfWLQ9alIQqml+rfiK0nKAJvzYJOoAIrD1NkJ+rgbfxtlBOF8ipXmUQT8Cdu0QcSGg8XMmFrGFJ3Oi8JFzyK7d+/eN99889vf/vbrr7++d+8evJeIPYJwCqyEJ+fo6CiEcHp6CluTmV1cXKAaIQt0BuH3/VhRZT/VmoeeZXzp3v2cgwSsc3u3+bxGruTn9wQurVTBcllENnugSfZUPMAlCQ7Wa2gxqK8BsQVZtBBI79y5M5lMgGK44erq6vb2Nu6MmgIIt6Rti8iIlB60QMH0wNXNDIcBkdW5TATk5HXN1U6X3HNCwQcnDWZBljaoMoip25rAHw8wVsl65tGbYLr1OudZSjGaQEMoI6JIo+BGTCmJEm4CuR6xLLgtKpUg24fSq87E3lUuqLBV/5ulbSQv0HznymSZJTeRF1AGzGKv5EJVfEiJ1sQyi5kwlwZrAqPQ0dERCLjrOkYLDIfD3d3d3/72t//wD//wd3/3dw8ePEALHYiQIDxEdBAxYR2ClalpmpOTk2fPnh0fH8OmT8ECVM0A4aWGoDccv6y8RZLOIghnqbP15uNGufImfv5LjYrQzRGcJEtqZqgzP0BUpDhzeXkJOqZmBGETiwgSmU6nIDvUA48xoqX4F198cXJyYmb//M//DPLtvPsuqh6EECaTCYGMrfVQR311dRV1FsC0c86U0aoRy/AUVYuixy0T5pKk6+LnQTRBZa3mJ1MTMAiyiiD68yxxTsR34iZPPuE+S/g9XhOqbuPFLLBojFNBEn0jpTRU/qpWRk0KWWRbnX8FhfygB6Yim4qdtL2S7CbshKvRlBmTWSTTxgc3jn8KbijPoitg+8yMhf3JURBQCYrqug70vLGxcf/+/W+//fbv//7vf//733/66acoO415np6ewrgcQoDaDjWcW9k0zXw+/+GHH2BTorxsXuUaPve2LJTH5c1vIz/9ggByi4/+kGKGKtEAQw+qiYyQPecBHJLSCrAPAeQL74CYxetHC/rW1hYSE5NX09rb2wMmggRRuwinHYcffRyp/ELiQ+mdlNL29jbi3lVoaqRZowKBYpbSJXP+Bt6FhrmGvAMPYQiBxTv4CN62kyw6kzBygjXRxKRHWPSyC533T9fH8VcDb46IFGZI3GxgSwn95OTk8PDw7OyMP88S29h3Q/PtYmkuNAFx6+mJJqmEymgrBhzFzqtFT/o3zKXwyN9az8aifIWrCvKoqDp5hX+qAlAakAqRxBGEoqv37t37/e9//3d/93d/+7d/++jRo7W1NWwKotlpykCrqKdPnz5//vz09JSBDRcXF8+ePfv+++9fvnxJNg/6Z89bKOChN6zEIKXPt8LQn2FUu1ydgrcar9fB36s3t54Ozs+h1AFBW630aUJDsejdYJD6ChTjEaXSRO9h13Vwc8MjhKRyUPDh4SGUWUSx5ZzxL5LHGb6bvaECmpJDwgJOVcXBVDbh96l0vHbSuDW7jVJ1bUWuEAJijxVD9dCaCFnWaxEexcuUJQOH4LVYLCAncsKUdlEdjpchQogXwyTHGg2z2Qy+lOw5PLjbwPt/mRAkUa9aKOsdVF2NJD7ACtm5VvoNjDBdmXiqK4bATLIZ3SN+qeCrBFwNLnvOeTabgepAn2wRgZXHjmxsbCC1DMk5n3/+OcLREPwbQui6bmtrKzg7//HHH7///nuUbkND067r0K/x+PgYRAuZFPhIwwi2T5dF30LX30p2svTA/iKjmrkegbe91f+zcPWf0f/yFQ+oCILXL13Bd1g+1YP0+ySBgZqHxxMFRgpDz2w2A+rB4gPICyG0bbu/vw/wQtg5lXSwaJodY4y7u7u/+tWvsNz/83/+z5QSMnMHg8HR0RFDKcmoLy8vX758ybcej8d4SpQcXmJ954k3yQMYzWzh5TgxiCA8ZskLXCNueeADawI7bHCJGHIHg3XMO01DREVqk4Yidt6rA5d1XhQDVoVO8r6Txy3CXY4iJsh9wq0g1wAoj4+PDw8PT05OYBKh2QT1lRE+jdNbIUvj/RGTGHCDa8QmxsEodlgNOI+SIoWGCtmDK/WVk5fmVJRkSNPAi1QGsb22bYtwCFo5kIAYQoBaY+ITR3oiq9CDPrEC7DXG5Jz19fX5fD4ajfb29j766KOvv/767//+73/zm9988cUXNOPgJmgk1TQNGpQ+e/bshx9+ODk5iW4ORpnRp0+fvnjxAk0csdrscUZSN4+H7as7FfpXR15XzH7R+KEkNmgdN+HVK271IengS0fFt6t9ym6dgTKloY48YKDO4+Pj0Wi0trYG1DAxRVHpBgwNh8NGOn8BDQ8ODnBmUMCND2q8myBUTkhPMKvztFfbRmZuPTmR8iC/rEQYc0tZFNeQilGE5tZHEHdEknyhpdxY11khErWWibAQizSgnUgKuwcS7CiPqwLLkHs8KEoJCSszF1PpcMiedMSpZrFm3iTskDPx9YnaurYqOmAy0A8gPjPwK/a8ZKn0BXEloyRr0X+CdUM7B7iqOa6urlZWVnZ3dz/77LNvv/32t7/97bfffvvo0aPpdEqmAlzDaoMmHz9+/MMPPxwcHMAMRTBFkBATGVZWVrS7GWsbZzHFLAWXf1fjrwEr9QNJlrubpQZBlCCbtbU1/BdWRRwMjSonz0fDiRgjEAGCEjK+iY9d17EzCQ4SgIP2KVa+Sint7u6iEjuC4FQ05nnjzZPEzYTSLqbgSLkpupfcJEskl0Unzaz1akz6fZb8nGqdadnkZBpPQ2QzLGJiKylxGnAe3UgKxKT7O0qBskotMDc7mBSFymWVCp1tpWFVx7uCe+uVZaK8yU2J4vHg3CiHQlWnosr78559iQwDtAGxlNE5qB2JvjdUbriz0+n0448//uabb/7u7/7u97///ccff8zEWejpIQS2hJvNZj/++OOf/vSn58+fX15ebm5ubmxsdF13cHDw8uXLJ0+eAEARntE0DfIsVPvmLuv8lUPfNHLp5vqlJMpbHx8MVr5ixUOpDsSyhH0S9wXYL28ItYhiS/Y0ODOLHquBfAYCH2gXuTr7+/ugciiS33//PTQaGDr5oOgdzAENjTfhY+6QSkB6Mk2OHIlVA6f5ExPUyFIfTIVHSHyUiAlnUfKRbdmpzj3jCQGOUmTnTS45+eC+7Ozu7OgVwyCHQqJEGKB5XSWOIPnmtGAGqfudS++KlRXyKbupaNl/tVA27eGV5goBn5iki7JJDw99XCi7wulqmxiLMGHYkXUBr6+vZ7PZ8+fPaUPED2GR2Nzc/Pzzz7/99ttvv/32q6+++uijjyaTCVQijBgjNB64y549e/bdd9+9ePECEiVaN8/n88ePHx8cHBwcHCBPnMUDQbFMoCCPzz2/jR6opec09MTPW4TLm27Vf+itjw8GK187KmmighIerexV+LPHTg68RJCWCTDPtO26Dq1IUEwIfBuPGA6HH330UfCYDDNDeAe0cjMDGsLzTt83GpjM5/PpdApXTwVGKpgoIpg0MyG6EQIoNRNrADE4ACqh3CSrKlLoI3BZX3bjsYdlFlIqwwCih+lRHBt4pXQ8CxZPFPdm+x1Ialj5Vqredt5yK5W91RT+dOapzDMh5HH+ev5NkJSUQ9srsTK5Wx/9QmCIhB/GetWMFDe5kiADrAOlcjwCnpzDw8MnT56gMhAoDa7Fra2tBw8eII7yV7/6FVRvM4MMCEaCWSEJ509/+tN33313cHCAagYI+D0+Pn78+PGf//xnmEERkhFjhDTACKEkoWDRLSe6dG9yEvuE9FcwPhisfAU/WaoXkD2aCJU4DMlz6TDgGaTPgfosaBo1IObz+WQyQdQLsh0gNo7H448++giqNyj7hx9+gFUeEb9g3bCpm8dmQ1uHmIk2kAqRJFbCZfQaNq9YH0UHymXgCnTXqAKbRYtspI4GpYlU5vDA/c29ULsBLBU5ZzjQGMZE6ElSOw4nELGr4FIqrKkHJriImnteeyt7ZmTXdgmUhNTcczXo6e1zKeICbaZkMI1XLDaRK1Uxt9JIYqXIz5WMXnWN9IDmOQcHBy9evDg5OUnSFi3GOJlM0Ivxm2+++fbbbz/99FNW/Lu8vARE4s7n5+cHBwfffffdd9999/z588ViAZtS27ZnZ2c//vjjd999h7wdAGUIAY1z4XxvPY2KS/cKEfK1CPgTQeR/yJXvPvpAWR0q/tdEIFKrU/T8X1x5dXV1cHBAdRKGRYSbIcF8Mpmsrq7yzIxGo08++cREM3358uWLFy9gQtLAC3Nkh8LFKUGjB2RniQ/F6/C8JfefmgjOQVQ8c4teIwHS0K2yGBySpzaZx6U3Hi9topbyDrj/QGpQprIDBKahGJHdzaI9GvE9/AnAC+iG4DpMNsXr0xLSeYaoCn2KwkkKfWcZVsqMfPeKYPTi6gNlw+Ch6Xwid7+iJRNul51Vk/vq3tGfc3Fx8eLFCwDlwcEB3wi/Go1GcOb87ne/++KLL+7du4ekCRgxuINt2x4dHT19+vTHH398/Pjx4eFhzhkhltfX1y9evHj27Nnz58+fP38OUmd2Iz1sbS+XsTpBfLsghoulI4hWxyX9GbDspx5/bVjJfaISUV3fST9FKIw4pfhsZvDSMqIN/wJcUOkS1duiO0zX19f39vaiN9g5OjqKMcKZyFq/wXVAWsq7rgNLTynBzLSxsUFlFjKpSeBen9oUKK3EBaqB5nbJKIXKc08HDyLSpmWtVIKUiuCJIuPhxdQriZW0/xJQWu81hn9hics5z2azKI1kAbJqVVj64sTu6gD3OWilTvJPXAo+Dvdh4FTjwfawaZjUGAVPIuPhnWkIJkyrLo+7YR3Ahg8ODp49e4a8RtRUxoQ3Njbu3Lnz+eef//rXv/6Hf/iH7e1tVPIHpYUQEH8eQri6unrx4sU///M///DDD/A0IuICTp7vv//+xx9/PDk5OTs7u3PnDlg+oxFYBtjExkpOmZaFavz7HO+OlX2QouhkPwE/uYmP6UN1RImh0V2nozB5zB1q6IO8YD2EsHB2dvbkyROEU+A8Hx4ewsG9WCxQpKDruvl8vra2trOzA+kyhPA//sf/gHnu6OgIdM9s8aZpoOZjkjBf4k9MpkT05ebmJrN3iRRqByQ8UTAkpiQp0GsOEyhTeHFxkb1/VnSzZvYQFiKOChT4l3JQZSJg/CM08cpqSXulyizJm0NAYESJpqZpwGDYQIbmDpoUOqn6znrsFaYzeokvFUsLby5rEg+8v42JqTd6cWKQBJRThCumlFCTFNn92WNCuX0UYMkqcJPk/cVwzdra2sHBAbzez58/Pzk5gSXn9PQUpSfX19e/+OKLb7755j//5//81Vdf3b17FzwVO4jgcxQPffbs2dOnTxEb1HqxeqAh/vT06dPZbBZC2N7eRre+w8NDCATcHdiaKnNQFrvw0nP3hgf2FnH2plu9Gh9uZXzwcuXbrp2Cu7kwBSmv8cY4OACwB2mr29lsBkS4uroajUbD4RB9bs0MdqUHDx7gYMAelHPG6TLHGh7jIEUn4RFqmgbFWWGJx50bz0jLYsfE/FWvt7Lut+qnlaFTBatQdkCrhCMKFLm0D+oypl6PMAq2KrqaGElpyuTFwfNkACg0IFQT1jPM+Q88W1xV40oICj2Ldl9Or57C6WUvJA5zXvZosMaj1mlgCa6w03rQeLy6mcEaoyI5CqyhaAWLn2O719bWhsPhJ5988tvf/vY3v/nNr3/960ePHjE6MnmyI/gKAox+/PHHFy9eoKcjVw/ZjSgYzAwCRAXhXzq+yVx1cyuS0K286XD9dY+/cqzkpuqHLDav5MGAYPigJxwAuCMheTGTJLhNExUwYSAHgaLe5d27d6m7QY+mq4d2KNVz4QNF+hD7TEE5jeJirlTXXHpyc2nFg8kPR4KBpa/WpHgAiMV6JBSj++tZAQ0NfJVG33khOwoswfVTYAogb+BZSRQhrQwmz24KoCxMTTyJx6lCw1TGUepSKD6aGBzwDSAJ2SzgYczAwdpSQaGRMXqIK8w1zL0BJ8NSwKj99OnT09NTajaNN7Xf3d399ttv//jHP37zzTdffPHFeDyGNxKQDdI6Ozs7PDyEdRINR6G2Y2JHR0fPnj378ccfYQMlAcM6iUwzRgjlsu6O8k7yywpJ/x2ODx4rX7tz1QW5NFdnrzYWQgBgIZACEIa/gogbKSTeti2cj6hiQDsdyPHBgwfJ03JXV1dRtqDzbnzBe7zgG5YHpoSLQB/GvSPvkHJN8AA3zj9JlHjyKjjAeiQRtd78xwQjVLcKEjakWKkfKqGMT6wwlLelm5gTwwVqwyW2AiKJreYRmrpZFcqrCEmUjOJrqn6VZfAm+oggQmuQ7hGoJYHkzuCpisHDBjrJTdIbUvzkPcFBu65DsZVnz54dHR1B9eZUUW71wYMHn3/++R/+8Iff/e539+/fHw6H5nUtuSwobA6nDarA0GQxm81OT0//9Kc/HR4eHh4eIuoIaaZICkIbCbwR1+EVC1VxnV8WK18tG/2k44PHynRzvqctW8FKvMqubKJUGrQVGIag8sD4XcU5d17HCCg5Go1YKiLnjAJFiMccj8f/+3//b8gRlC+gEEGSgrkTmlqQQi8xxvX1ddyE2I2/Vm+XlkWrJOnprAIah0I/UbJamWol+3DJ7xWboscVEP35q+gxN7p9ybtFEm6SG5QHvQYPlBmThLMQKwdeS7gvKmZxT1cTWPouNOayXhQF4exlVrLEEvD1k1elAglBfOOCozjAwcHB8fEx60CzHuVoNNrf34fX+49//OOvfvUrsBwoKBTSEarx5MmTly9f0uUNHn9ycvL48eNnz549fvwYbGk4HA6HwxgjCrshokNZbxT/YTWspzcsPWv/TsYHj5U38RM9z9X3Sy8Az2/L2v3mTSlOT09ZMxga1suXL6nbmhnIERSGUBjckBXYBoPByckJCgWyEBxAAaYoOgcYep29pGP0UuSEnlz6srP0jSHdU/bpY0QlD/bBpUJGczmuWkZiVgVMwXvAagZn5SWg05mSb5BOG/RohRsGsRLLZZ4alMUcoatB8fYm0Lce7uPOTMSkkIgETTbk4SOI9fDUYSvpJcdqHB8fQx48PT2FW4kGhNXV1Tt37vz617/+3e9+h+pB6+vrKCMwn89BANAPjo6OHj9+/OTJE9SjBFCa2enp6ZMnT3744YcXL17gJ6gUY2bn5+fIMdfwoLCMQXJ9wg3Sxk3f/zzjJrz+D7ny9eOmtVuKlQQRSgHmp5GaeNd1cDVC29rY2EBKDxw7kIBQmc38wHddt7OzA39ucBV7fX39wYMHCBXe2NiYTqdPnz79/vvvj46OaFOHkRTKfs4ZYUOsGIT5LLzNnrlu20lBX1I8ZRwCUywDJDn6shW/13/1wBCbdN0wuhvqG0L+imV2DRE8SIEPhh9GT07lBJJUj1fAzR4ZHqQ4U38mS9+uMoPiQ5TwewIlpHg65TAlsDo8nTG5WB/kgDVeQwTuwezeIQQzIo4SPRTH4zHNnZubm/v7+7/97W//8Ic/fPvttx9//DHiKFEN6Pj4GEGR4/E4hIDSQajMD/upmR0fH6NwL1qNomAoJFa2bGRJykr67kuUejRMOFa1nv+uxl8tVnLomV96ffScE9iYUkpsn7u2toZoIeYmwjA0Ho9x2cnJidbxHo/H6IkKOJtMJtPpdHNzE2x/c3MTXhrkj+Mcwl1OvEb/SHP5xczatgVqRwkDyqKE4reVzU4FhL7odBNcWomVioypdLtzMfU+1dpWYgvV7eDyI22CePe+z8pKHbmCQmJl6y1nO8+wXjoffbWKE5Dx8MWTZzSCiYL30KBMeZlszMwg34GKggc5IWgcfUAPDg6Ojo5gMYRSAmUCcbuff/753/7t3/7mN7/5/PPPx+Nx0zTn5+cvXrxAWjfsOXt7e4PB4Pnz56h8gdClEAKqCv3www9PnjwBlMOwE2NE+Tu0yQWjVVahq12RhALlTVv872q8O1ZW61ittVLhXzbD/3fD/iHXOVBysRIdKmaYRUfDl8nL4UCOgMKbPA+y8UYxKSXGXiQvch5jPD4+RsTv6enp1tbW1tbWaDRCxA+kjJ2dnW+++WZlZeXevXs7Ozv/9E//9E//9E8oXoCql5QxT09PGUWMB0HSNBdzoILR06rKFOKNIPmaZ+YhFmowGMBEBXkH/iXKUDQUssqGSSE182h2BQXCHJeRYiAXH89tJBUHyIK6ltlVb4ALSi4qhHEwMJvPoiyfXZSGQKdsI0qxJYpRcJoFqauENaQznVfinjTIUPIlxi0WC/hkkHC1uro6n88hyoUQ0DAHee6Xl5ez2Qz9uBERQaLCm+7t7X388ccPHz784x//+NVXX8GZA2Z8fHyMtMVnz56FENCgEbwWDBsWHkiUf/7zn5HXCAkU4UG0UeIFEY9Z6d08BdxcPdRL4yLeYdwEsq8AXz3LPOOv9k+81XyW3v8V7/jhyZWhdI/e4m35WU8+Ss9SUkC8BeRN8/IzaBaKCph37tzZ29vb399HCFHTNMjehZ4F+1EIAco4UjWoPEKWgWIVQkDr5+jh5VbmF5sDIuYMTOFO07cDUyBtebnU2ZVtUHSysoJy9OSZ6vqlq0cBzUpRtPES4iatuDpJpm4kAzpKLCcZZJKqGaGsuanYyu8BcDwPVQUdnW3ySFLKpFg3wrS6brBBXGG+ArYbFHJ8fPzixYujoyMg4/n5+enpKVO5sMJXV1dQOz755JOvv/760aNHX3zxxUcffbS3t4dwtNlshoJAsFeORiMUIsKUUEwaMb/Ibnzx4gVLkOSckWKLf6s4yr/0qPx7HR8SVgaRHG99UHU113ChFeIgAWuAPmdnZ0AQRAsxmQw/QRT6eDxeX1+HSAICffjw4dra2mg0gtN8NBr9+c9/hqiS3aQF5Q5CzfX1NUEWenr0wc8m+iPPOU1vEKPo7rSyPm5T1iUMZQ9e1UYVvPhlpcZyJgS14JZETpV/GngzCcJN530+uNS4laKqArTil4looNDJ2Xbl4PfYXDpYVKOnQYASKFYMSVzmPiVkx+I+qK+O9J6XL18+e/YMQeAIYNCsJzPDnu7u7j548OD3v//9b37zm3v37n3++ed7e3uwt5ABN02zv78PVI2eA4olghUIrSAQZbmysgIfI0xGqHMOaw/5wU9xdn6KkcXw0v/yFxkfDFaqeKzn8x3uo7fKpVWOX1IdQwMJdTsgDJgazcrKytbWFnRJ5L0hdBlqePC4Eyhr+/v7kPIApvg5wkfw0BACovlmsxncSm3bTqdTaFUqD+pLqWOB6LDwAVGo9eqZuAOyg5LEZgY3I6r3g89qvZ9fLg3/0M11PkG0myzOVt42SqEdCr8oA25eCi95khIqEvG2dGRj9ZLESxGUU9mjHM+l5k5PGiGbGAo+AQSHektlOZVJU+bQT8Ml7CdQO05OTtBEaD6fZ88sGHgXRqR1TqfTb7/99osvvkBRjOFwuLW1hU0B4J6dncFnCA/h2toadBf0mYCz8fj4+Mcff3z+/DnkTfRbBo9kZk4VG9SWfRl/8fHLwt9bjQ8GKznCX6aDV8IIvww9Az/+xPZ4KSX0GgU1I24ue93vyWQCWjw9PTVH2yDhI0BDxF0Oh8OdnR2A6ffff48gD6YJMfqd0SpmBmzN3iOXwg5XY+CDZxg4i7JdjDhBiUMUp6BYl0U7RgkljZqy0nJEBKw+q9Rfra3+WzGqSpPNkmmOaxCdY+5YN5EKdRrmiIl1a72yNwE9eaYp5HczY5U8ReHghTUB2Vg3nR5WiV0SzYtIIpsbj+66bmVlBSk0COsBPcAcvLW1df/+/c8+++x3v/vdp59++vnnn+/u7uLOrTd3ms/nMI5vbGzs7u7CY25mKCYAXzwkyj/96U8oO4KMW7Dws7MzOg87Cdr/sOTKV9PVzz8+JKzkqv0UW96HA34AJqqea2bsRUULEQpcgpPDQpTcOc5AHzg3YIjEzdGkLKV0dHSU3XwGORReVATi4digfQU12VCOxtu/wErFZgArKyvj8XgymcCmBgMWnRi0UVKFtxIEFXQqodIEp3TF+HNepvbWLIXosZg0klKcp8MNgLWxscHwgCCFeyk2cl8G0mZS9xHGO3RGRG0eCJsIyeJiAigRakPLZnabTPIsVbi8YbIAUCKdFNND2ANmxa6fkNlHoxGKUf7qV7/6+uuv7969C67JKZF/xBhhFoc7u/WicFdXVycnJ4hFR10MTgkzgezZlcHCsUznf3/GTbMiW+LO/uJmhA8GK8MyF9XSL9/wPiqcVsKOipZAHJjMcB6QWmtmQCUUTwU4TqdTgBH1oPl8fvfu3clkAi8NdfnpdPrpp592Xbe5uYkyHN9///3jx4+ptUGohOEJRtLxeAxzJ8KSKC1iJK/jbd5tDVA+HA7v3r374MEDhC6h0yz6cSNmHtaD7Po4VVddn1QWwuBKmnAXXVi1ihKL+ZPOw9pVMITEh5aTyStsAi8U1GAg1sApqtjZ5Wti8bWPxWKBDGjG61A8Z6FctkgKnppJCOaCVCGc5rH02GvyMKrtMGhCYxiNRjs7O3fu3Pnyyy8///zzTz75BKWDGGmEbFdmfEMFweujeBp8RAcHB0+fPn327BnydmC+hInz6uoKxZCQ96UaA0n6P3w77zw+GKz8qcdSzIU8Er3QFtQ3yDtsdY2a0rPZDJLL3bt3QaMA2RAC4jTH43H03I+U0tra2t7eHiAPR6VpGpw3aIiz2QxP6boOYfDAkexxl+ZlflRViZ72Q8F2Op3eu3fv0aNHKysrQHZE25kZOlhAZKPcBJBSaTGXcY4qKlZKupUieSjLIAapuJ7LMPXsrhI6uJg2DiwDVrKdrJUsLYsds5HSJMAOVKGH6Af+YW4VhcRKyXTglfAXiwUsHtZrnmFiY83S0Qj5C8DcpmlYcQM/WV1d3d/f/+yzz+7fv//o0SNEj2kXvOgdePjiQEno1PP5HG5uNJl48uTJixcvDg8PUe8yet46O9YmqZ4Zbyno5z/G4Kble1tZt7r+nXclSQiI3q0rc+z4fcUn+3Ji//79eVYX69OpFENGQHggJgMyBduH7MkKrOhMf3Z2RiHx4uJiZ2cHHm0IhjHGR48eUa1Dxs6//uu/oizr5uYmDPbwF6EwMOyk0PSDJLo03kEXohlyfpumQaQeIBI3PD4+ZhCJefN0JFkCbtByoPMqPpTOQi+2BicZ0pB5ABOlSN4/SvWdpmnQ0IJwCdwBMNEFxMw/bA0KPaytrcH7sfD2QTAlo+IJJLK1tTX4T1jIFuIY3jeEgJwoQCoqSnRdNxwONzY2ELeY3feNBQzeOIxTUqTuug7GQUisEO5CCEw6gHMcqgBCfMbj8fb29tbW1u7u7vr6+nQ6xZSCd3xChxwgO2RSGGeePn16cnLy/PnzZ8+eHR4eIngT9mWQB6wu2UugUvWu6J+GgorgbxFGl57ft72/mm6qL29lcD7VPF/xk8EtPv4XGT8Pq6Rs1Xn/VaJV9CpbwDJUHuKqAjIuLi4ePnwI1Zv6Owhod3e38XTAgZcjgxiFOzRekYhGACBL8Bpu8H7CLQBow2XmQHNycgKx5eLiAu5mOoXRKPXi4oLBMRB2GGpOMROhgtlT1FnRo5FWlJTv+gvIwwMcgR2tk+oe0fuM08xKdMZUUS8Z0IDM0eDdxs192RD2oRRDrAPbwOJgEbDIcIYg3JWlIdlaEiqwSVRT9jgtmDIbr6ABFCZkX15eQsTDCiNKDBOD5RHfTCaTDR8oMrLwakY0QcDCc3Z2hjhNsMDZbEb0B7cwlyQo4dI1d9PoH/nbBcrqcx+af6JH/9TjRqz8pd5h6Xxul++91SCTpChhLvxmKTQJTRnVsba2tlJKu7u70G0hXUIzQgBQ47l9iFQH3k2n093dXTiIxuPxwcEBzh5fHxITVHVorGdnZ5ubm5PJJHltGwTfML49pYQQk/Pz8+B9qHPOMAvAmQtpFAcvejR44xkvjDqCO4iClQIl1yrJsFK+oLKMH6rv27xfAtRPpksF70tD8fPi4gIpfWQ5uH/nTYYZetV6LjbjdSi8I4kb2j0ybSCFMZ2RVTwwvYW362JfT9wckiCMv4BjshaYVobDIaLK8azt7e29vb3d3V2kKuzv77OwRXLXFrYPIRaIjsQHlE9Ha29Ap7kZgcZxqBR4i5SS2rJfPW79ZN10hG/3KT//eB/tlTxgPGZ281rflg3hFZOJZTUHKwvHQhKhVQ6VhPBfxEXikF9cXECz29/fzzmj2Bomubq6Op1O19fXR6MRBI3d3d0//elPGxsbBwcHOBiNp2ACEKH1z2YzxACh5QAACO0BcNqRY4e663gWDJQACAhQlJSpIwMEIeXh5xpcSQcrBE9MSVcA06iimrJUuDCxZgJ5cbBzzvDAwPdCSdPc48RaFYRduEQIc5T+kBHA9BvG66gUjHkyStw87goYmmUkr0ZqZiw/AQca7NSwq8CKAu0BldDQDWI0GgEi9/b2Hjx48PHHH8PdF8qY08bTKL///ntYAxD8AIaHqr2o6dt49SlYM+FCZO1eJc43PBe3CJd4NJ/yi4uNt4gPg3RL+ZW3PtRi+AuueJBkmCzGzYV3zQVBQ1JrvBAZilEjj631fGoUgIEQt7u7ixquVJcQ046jvrW1tbOzs7Ozg7Ixx8fHAMQseevQoHFQ27aFOZJpcMTi7E7hKO1fADqNNLyls4KE3nndB8YqcgWo7kGxZdh2lgDV6CNIyCotmwOpIIebY0qQjGgToNfFPNcFwi/AMXsMFq/EO9KagThEgIiiUvIuaZplMPASQSyjZxI2n7x+PsCXch9ME/gtGnyura0h7GFzc3Nra2s4HN65c+ejjz5C+g3LqRCsyWvbtkUzCXTgASfAlz/88MMPP/wAjQFS6urqKtK9T09PydI6KRX6apJWLLvdw3WTx+8WH/FLjfdOrnxbe8dPPVIvg0UlDnM6oH4HhQgpPRhQ9HLOsJ2llHAGdnZ2oFE2Xu9rMBhAf4cGh6h1lFWHgg84UEGPNkeY7ehSQKA7fSZ0rbCXNw4M/ULUta0MEcf3sJ0FqRsE7Q9Q1Xm1zVT2IOP9VT8AEkWv8m0uucMmAOiENwPC5nA4xNvRjwQwRe0SxA9hSXHn4NE/gFR0VgBHUayENQNojhWg/YEAHTwGK3l3SWrlgCegMBX56XSKINbJZILQyO3t7U8//fTevXsPHjyA3QBMxcwo52Ji8/n86Ojo5cuXjx8/BvzByHB2doZetWC0OWeo3tAt0KtH9y5K5utSer5JrvxJj1i4vZoXbztuU678xeXH/lC+94sPeDY5iI+UoaCL0YeLX4GaT05OIHTQMhg8nHs2m52fn5sZ7JV076yursL+CERbWVmBJHJycnJ0dAQ/Lyz9yrRxdLMHGMJNgfBJOJpiWcsSuNN4oxt66ulbyO7vNg+RAbiYpEJDQEbhIkBG8HTsKPU0IZexDhC0VLUw0qkNcSx7iTYNeIRuTl8K3FOcvHkuDU2NNKq2bYuVR9AifhK8zUYjtctMLAw0AgQ3hsIaSDMC4AkbNB6PISrevXsXjRLhuplMJnt7ex999BEc3/DhBClohHgAeG8ODg7g3X78+HEIAWndXdehVCUDG7Br8PIz3zFJDFa8oWipjp/0cJGb6lN+WXHntsZ759vheEMd/Keef+e1ZmOvEQ2/BNDgA/IggZXHx8enp6cQQ+7cucMUneTl3WDaZ5Fg8zMP4ACOIFj9+Pj44OBgfX396OgIySdUJHFaIF1CbISZD6FLm5ubFOtov0tl92p6LYAC/D56yiDiDZmQDoyjxgfgwKMBYeANJpnalGSp0gKAIEABwsbj8XA4hP8aQUKIswFGABoIwfT5qhYZyohOepAAgpgYkgLwc3MPSfAIFY0Q4uayQQ0AN3n9Cxhednd3kYYIrIRcCRvl3bt3kWgAvAY+YobQEi4uLh4/fvxv//Zvz58/BzNYLBZoN4+Yp8ePHz9+/BhOfyj4sFOjyBsA1NxGVCnXS+m5f15u96TfhJU3PeUXx5k3HzfGV77tqJajEsTe4VahLGmhcW18hN3cb+em58Yy2YvzvOk+jDmv7gm2D2ShzxSHH/5NChGwNpoZvTc4jRDEDg8P4RhFZ13cHAEr9+/fh9kRwiaCxofDIY7KfD7HgSfiAJU6TxMEekJ6oowG34W5MwEueNRqpO4JvAiSdRNCgAtFs9oZc9p1HeIBB9KZej6fI1QTqSnmYT3D4RB2AzZ6xQBM4EHT6RQrBsiD/4Q+KDAAxB6RMIjCjL7kftEaAJSHwh49Kh67BkaCF4QtmO8LrkCrC9gh1tDMptPpRx99dO/evc3NzUePHsEyMPSBaEpkSa2srDx79uz09BR8EVwBIZPfffcdxElU8zUzpHt/9913R0dHXdednJwMh0OwWJgpGbSPaqQKT2FZX6NXnIv4ykyeVOZcvVY8TL2eImqq+ulGBQuKG2ox02vedry1vfIWsXXp99VrZEmDW7rovyxfIl4zWMREmMI1/1971xojV1m/33Pm0t3Z2Z2Zvd+6vVIKtUC1FogN/iUqEDBRojUVYkJEEQ0YQBGVL0YTIyEoBIwmmKqRKAmXlnCNhOAFjVqIvUEvtKW3nd3OdOc+u3M75//h8X3ymzN7pjvLbHcX+/vQTGfPnHnnPe/7vM/vDiVufHycIcoouWaLRCBcHA6HsY09Hg+DyRFjBGYBuz72G1LZuFXIpxiLA+iB/guvCGsRgVgBQ2ndY1Sjg1rCMsCaY0ozfcYVAi6VNkvBc43nhU1LXd62bSA4/kr1HL8XjgulFCL5YZZFUCFZM+ITge8SELkfiqKar60zyj0eD1JR8VtYkFQ+RLu6AF0ikSjponZKty/H6YJJQ2hXX1/fyMhIb2/vyMhIT08PA13hE0fMEKzYiUTi+PHjp0+fxoGHehmZTCaZTEIpIXzn83nk54yNjaEaP0vYwQKDOCHlnuXd9E3RELg4GGVzxzPDW82F1r/gfDsUiZLkffL0sEUO8nwJt31Z9yOt6Br98NjiHZb8wZhBuLD0mR8J6mTo3BKoisA4bA84x2HVgnMcRk8Uvi7pLo+gmeBuiBYCVqLtD/MpaX80tYvf0nEz/HU08Clh+7OFobYkiphR1aXma2jfBRi0rfPriTs0OxiGAZMr2S4j6pnQDW8J/F0wLJR1tTGPKL6LPFGlA4DoliWLxE+ztfcZ0VQ8Zhgnz3bBtm3jqABGd3R04Ojq6Ojo6+tbunQpLJKhUCgYDOLUlEZVpOEnk8ljx44dOHDg2LFjpmkODg4iLQcFfaemphjxiozvEydORKNREFKgM6YC9YfYrNysqeyp5gAmHIdKo3KOd6gDN5p456bxSrdhzc5O4fi1tRCphG7luCE1r7P9lBnJWX+X3Ip8B+NkL2n8CSGWQE/YLj0eTzKZxL5CsF46ne7q6oKRi4Y/4AUMYZ2dncirQxR0Op1OpVLoqVLU1TrAN7HnsW9hccvn86RUtANSf2cQotKKLUZr6lovHtF+1tZB6fBE0ekBK6QS4ahSned9PNUJkaScSpdKY0hQR0cHlHpGhiL+UeIRqDGRmi4jHFc4lqD7V3QqQUWn+gF0aKak/RfkERMVCARCoRBaGcOdDR93T0/PwMBAb28vkv1N00RWJZQGpDZC3S4UCigAfPLkSaUt3X6/H2p4uVyG06ZUKiGOMhqNJpNJLiGlFGy4iFKCC86hd/PRNJdA1AKlY0tOe/3cwXejuNFEuFygvLL21zoelVwo/IiaDl7ndIQcg7SJgEgqpbDlaM7H9gaidXR0KI0aoJalUimZTE5MTAwNDaERBWM2GWcDnw+CZmD7RyEMeEVhyUIBBUS/g4lUdOdVpqAoncwOPit1Urp0HGcAaiNaNd20TR2uCErF6PdiscjanYYon8E0RFVdvohqJoCAbl/ScLu6SJfkwkp4dbxeb1HXDSmXy1T/YVOuVLfhxTxYOnaSDmWPx8OemoFAABXtYDJGGZSurq5wONzR0cEOS7CrxuPxY8eOoQVTd3d3oVDo6elRShV1lV/aeePxOOLMceogaiKRSESjUTw+zB6GjWRHrBzGijrW/5zKzKnlORvStDJ3pFLNAisbHcEseOi0pFJebwiRJhuplc81r6y9zNBZj7buCUFw8YrGftzkuBIat2mapVKJ6YlgTHAOwL3j0e16iro+JrhnIBBoa2vL5/ORSCSfz0MrZ1Mq4CbwCwRKafhjaWEo2sQ1mALhf7BFFTIJlIaOyzF1fQ1iJRRJ7GdowXT98yCR5woxDl/N8GwonqiUgaznsk7QxFcD6yX/5ahokGXqoW3bCPoB466IYmUdHR0cCYk8tGywSJTCg68GtX/AKMPhMJAU0wUgi8Vihw8fPnLkSCKR6O7uvvDCCy+77DIk4bS2tsJZB/WiJGopgZCi5TciyTAbpu4GAaxkPJMEgtr12VyW4Nh3fDGTb7GFzPV+lMYWN9x4n7IQeeW0h0N9Xd5BdtTcn2+1uj/EEu0KCCLY+djn0PtQwwJtztA/AL5v+GqKxWIymYRXNBKJwObFTtDSpwEGBBUeWRzQwbPZLBqfQfVGLZyyLqxATbNUKkHzBUbALsbYQzJHr9eLPWyLFBfCiq1NgWVdlQNvenTuozRoKp02bojGD3hNymlrh48SyX/0gzPoEo+Y/mvOv61LFpV1L1xbe6LKOgeJ/BR0DxZJFrNAtACeC+gkdH8cIYiXDAaDXt2FCRFaeF5dXV3ItkJ0rW3bkUikv78/GAwuX77c6/VOTk4ivBwmFBxm6XQ6Ho+jqD5+u2VZeKbweuPopTWcRKFSU8F+jlZ+o9RyrhW7WplTUqmayCsbnZr696n9tY7YhdrrHS/OAVba1VK7mCR/MbQTFmQBhkW0F2eHAOApPLDj4+OhUAjcEH4DMCC5GqCjMVcym822t7dDg0O7HvQSQJVDVPEqaUGkHjwhEssYuenROYvgm/SA0zkOr7TSIdxKm+GAbvAp2dqsyUkANbO1Qi11ajqd4IwC+YWPy9Dp2OSh4MVKxz+WRMNuTjsZumVZKI1s695ntJmCokLRRq4ULbnASrSWBZjCZsqKy4auaYKf2dLSMjAwgKbe7733HlIVDcNA6mo4HO7p6enu7oZPH43Cjx8/nkqlYORFBUzYWJVSLL7JiuuWSIsiqXeLDZojmXcdvP795+6oUEp55Z6XA5rFsVCLYo6t4vjrtO+7RXvJm8vROr6UdKMOV68d5LRX1hc5gNrvkrwJ4YdSkzVEQRoUxIzH44VCARo3go2hrKE9dGdnZyQSQeacrd2yft0U29IZe4hkRMFKbHt0FGhvbw8EAuhYDRZTKpWAKbI+DVxAXq8XsTtw+yqlkJ2tNGVmeCb4nRIuZkvEcgPsWJ2IEwUkknQSez4QCFR0cTayb+i2pMO2aKBG3w7+CigHazNEtCyVWYI7TagQxNhDj0b0Pqilx+MJhUJMTIT/HQHzCE5QSpV0H13btrPZbCAQ6O7uho04EAhEo9FsNhsKhbxe7+nTp4Gt6DqXy+XQ6DGRSExMTKACMUZo61B/WpzpwlKCDhs6FMFNB28WZEyLPnVuXovd026QGX614yaGexy0G27Ited2cymWS/1cwzAWog6+qIX0lk4PTHoul4NzxhDtCnw+XzKZ9Hq9IINTU1OgkMjmtiwrl8uVdBtV2MuYP4ewdlroKro6L1Rj7PypqanW1tZ8Ps82k6i5gIBtMDKMBDvTYeNDrKLSdSssXVMSCIXvxfsV0TaSGrSt61MURXsfiXqYEPA1xMPzCKE7GyHr5G7UzRk0ziuVUvBckzbiv5hnqMyYBwaZmqIjOS5jZBUMwajmCVc4sDIcDnPC+cRxNuDE6u3tbWtrW7169cTERDqdHh8fhwFkbGwMsajw4L377ruJRCKRSMCLxZIfMM4g2ZzBDPO2mmv82udes36f0qwB27Y9fd7OopuRBSW0yqlqfZw7UynF0rPYz+VyGTry5OQkitPIWHE4bUAkkRaCKkSo/cWSQqYOTrQsC+a2UqkUDofz+Xx7e3t7ezuoJdkKswyRX+zRNcHAEAFP/FFIbjG0L4htahisU9TN2gzdahwfxG4HOvNimkShlZs6YokskoGidOsbhoH4Spwi0kVDA6VHV3hj/CbxER3ieEoRnjBIjplYCRZPPw9OJlzA6ChMHdT/aDSKBxoKhbq7u3t7e6emplKp1NjY2HvvvXfo0KGTJ0/iNyLMK5VKAQ0NHTsF2zHq+DLqi3M+X1vSQa8cL/53xLbt/+pQXHOq2RaHuZ7WhfbYHCewXF6MqrF0UTVL12TEn7BPkCWZTqdpRFM6ZwN2utbWVlRbCIfDkUgEOcgM2JQkpVKpMIS7vb2dPRXQkQIBQyVd3i0YDOJPZIK2yKrGO0rDSkm3P6R6zm42gAyGCtmiwY5PN0EDA6VKVdaFcqFvStyk0kqvEZHF0kXYaIhE0SNG2/DwoBtK4qPS9lNTVKuDGo5jCZ+iYg4mDp7L7tuwYBSLxXQ6Ddd/b28v5px5rjCwjI+PozMaoB9jNnXKOeLAMPP87QRKU/dxnLm47YtGdzetyfVvu2ClWfPwX6x03HRO7aMfeJEeHvmcTF0KjEouNgbJIy6DcRN7kvXP4ZcAJ4L1bWpqCmWAscEQo85raI8D3wQKsGEkfK/Qf1lRzdK9eoAC7L5A7knVm5TKtm3EhDIwqKRLmnu9XoCp0qGUjEwCaVVadcUPzGazQHarWqiqG7rrEQhmWZfapK9caQ84Twv+duIg3+dgaLIgnYRg/IBIFovDbCulwP7ACllWA7UwoASAJsP0nE6nk8kk7JKIgQUjRn63jEzg3chdpOPrHC7hKpGwMHeMalFIlQ7OWWgiXDYL1xu9/3yJXNzyN1o6BVBq5fDtkHORZeAy8ItMJoPUYwT0hcNhfpZVMhHqDHObNMl5dLaMtPQRYrAzK7qQkq2bbQG8oK0DN/EmG2BBf8/lcolEQsYkKu3a9oj4eUun7kB4GZAUfBlsVJJQzhvtpPDesBIlQ4v4WQI0zfM0TdCSi/nBIeHXvSVwkBAWvboOMS7GE0HQAkOyEPOP2QA3R1Mj5Onn8/l4PI5k8Gg0eujQodHRUSRNkgvjXIEPhxlWBd32TqKkw5gzQ2kin5r2DnO9r5slTRxPlQ5+Xt6/1FnZ2MBEBEuHqZd1cxiPTiKU2lk+n/f5fEwcVDrbh1ZFQFsikYCNEtueuYDY7RiPV7d4BTrIPBAOGOWLGJIJTEScJgECAU+ACdpJpcPE0JFGhs7YURpGUU7JFG055MxYIoUG7/MsAVyCpRqGUdGpk0ojC2m1X/drY6wPMnCgGkM7ZiURuryAmxTcCnFLODmQgI8QH0wCrat4jpiBqampsbGxZDIJxfnYsWOo1AtMN3VFDxTF4EzSPoPntXBErg3IvFPdeZEqP/h5HbwpQj3F4UAEuhEUCAfpdBo7k9HOZIKmjrMDs8tkMm1tbZFIBJgIXmaaZqFQgNET/nHkmQSDQThnjWpBNDvIGvU+xr5wnGBY+BPAF/4fWFShcsJyh3hM/ByPyIykb8ehU8Mf7RP9FA0diC795kxqtLVXHcSW9lDYGQmCtDZiGmHABYXErCKeH+5svAMdHDYNIrWtU1dpbUilUigWycD+iu7SY+qAWcAiSHShUEgkEjSzIuWmUChgYoGM0OgN3YcSfj9aXVU1Es0vNvF75XpeRPjgNtRZzKcB10GtmNOVe6oDo41y8lnYmGvNJcYM4kAdPhbsBFW9BOfxeKAKzN3OwEnpzyUFY4YyNj8/QrYYDAbbtdD6BgcFCrvBk+DX7S5A1uijKBaLMB0CBJVSIK22befz+XQ6Df8PaCZokfRfQ4CbSoReyrwdApxPlwfGqeAVjR8KotW1JUpdkMD6/X4UE0H0OH47QBBh5OSPxEp8L0NTGSpki9oZtJm2tLRks9mJiQlk4GBIjGfksgFuAuygUGeFQEknFiMYCCcQpleeIrinT9RLnVNxoJ7lErfoJk30HTW0rxv9XvJix4NT1TMwExxwja+s1NR6qi/NwtD62Ocgvx8ARYCx+pVKBRQDu4tJ2aYInFZKIeISBS+gYIIoAWptUbwjm80ihAWwAr0YUEJOB2cLI35AUT0eT7lcpikzl8sh5RwO4paWFtQrAmCB8QFnGfBoiSqWqjo/B+4RS9QfwmUM11c66N3WoVeGjmCnwRFIh36/AEFySVwgdW3YIkqlkkfXfCqJyvB4XRE15YCYsVgM7dTBCiu6P49fVzi3dAU8WHVRAJ+lQxhLhBlmzRScSRWdr6l0XME80sZFRBLnV1yxUuLxTIh3E7lunfu4WZoXr0ifhnSDlEWDBJlqQmcI0mnQVpsYoZSybbukWyHCLoZsE8AZcnsIXqBpSikoxUtE4zBTV0SHJQ7pQMFgkEUzUdkb+x8vMDB4MFB7kSqtqbNx6KdmsBEngbCIYSiR3I2xAQFBJGF7pa7N18xEpE0DLBJp70ovGOr4SvfAgFOF1I91m+B74cW0tFoiIhJ6N8+MshbwTbBImHqlucPQfqd50bLtOc6envkw1CLhQGfJ25GmLvy3WVx9FhzbwZ8/GEeiwzJFQZgOVDygFbiVRxSCtHTQJXY4ilHihV+XQIdOjfhnmDIRUw0fC93lAGUwSonUhk5jb9ESCATy+TyCMcGeYMoEvaIyHolEyL+UyOMOhUL4sVKzNnSFY091qXbDMEDowCjptkIiDTgjHTjUwemx4X2UUm1tbbao8cFYTqUULQng48gEheu/oAsnU1OmI94SNeiItjI+FC/wV6retFk7uMhZdcDmcg4HSi4EbJIDW5jiipWmyDyV4oaVjWLoeYHUGlKVNoTRwgWwYJ6ijKlmeh/wlPXPmddc1r1Vk8kkFFXkSkYiESYCSiBWer16RJkfOOuJWSgWBxSQ2TXUxJmqyJRtLg9px2S4tURJQ5e2o4ea30uq6PF4AoEA5gReGtolHe4ssGzbtqE70y7JDmjwdMNnhdlGuD4MpjQjUjdH60RMuzT4MnQU31LWbcTT6bQtXHncVjTUyodOO+85WHULgVRyMJJXqoWKmPWwUgnz56xH3+g5WeeLHFxyYU5oo0Jbla39sLTx8b8kejKR3KtzrqmomqY5OTlJkgU7JtJjTJ3BAuNjS0sLlHTiEbxAAB3H6YhvLOuesfCckEkhrogxNPRis8Yw4RK/hYQRP98QDSMxGKCbUgrqM/KvOUK6ZYDsft39hiyS9kTColSKSfqgO9O2KIMcwQFpGLFFj19czHvKB2SKXANG9VO153lA/IVFQjLK+jDRRF65oEjltN++EBC8VlyxUo71rA+yzp+a9SRq778AZ3N2wjNAnq4kXPiZFV3QG4nVRBYm8+GDdBDR2U1eBoEL2+/3JxIJkDUW2pAOYkYLEmfL5TLpp1IKpSJs2w4GgxXdqaKo+1WUy2X0p6XqSmUcOjWDMT1CDO3lsHV3cthJPaIasYQYWiSUtg4RqQnQwD7+S0UY42TIFE0H9PPQAIK74cqy7nZZqS4Qp3QaEmteYCSwV8rnaFWXFpS7w6zbT7GJsqBIparxTS+QUdVKPXtlLcxZNYGplEZ/XqO80gEoJLwLwdTyfkT+HI8ukYCNRwRRGj0rogUCnBsohIMoH36wrMvfMqmGOc7gOwBEpi0TLhlJQ5eIob0xcBxJeAKuASvJ2gArpVKpu7sbACFZpNIV3nyiMhsNppYOb2SGohKFGh1T4RFNvcsikZzVksB8wRkR6j8lGu1yohzYyo2aSqWIlbYoOsdxAvVIYOnpLupq5whjgN+fT1mqEXIZSN/d3C+6hYKSi0uMYDBYSyHrTOUMqSXv43ZaNvqojAbjsBzX899mjcdNOB6O0PF+o/dxiGReUJmZmSdNYIQV0DFHoLtt20t0Jx+EIvp0uxvcDUFIHt3HEaq3DPwmDZQxNJILVyoVyUOJOxweo9Dx37IuUESPOadO3lyJvG+l+wkjUxvGRwAi7I9ANFI8XCnpoa2Lg7CUCWOe0MwD+Kt0PrupO50xDEjenB+nScR079Pttg7dnvti4QR8TJI418ETt/lxE0d8Fdeb2/xYDcZXytvyF+HfBVe/ss6aoClAzeBgrP3xH4yzVJIakk26swlP3IrkTVNTUxJSiVBlXcWSN6Ru7tN1JcA6ocITK6X+y6+WNSmIerb25FjVrc3kC4/IVpTPjqCGi4lf9H0xqhFZPUy+hI8bRomCKGZMCkkclP5rikwqNUTrIUAwOSk/aFen/dSq2P/jMl9TMS1ZqYOtjsvkHRYcVroJiarjfTf4s2rysk3Rpmbxiqn7xGLHAoM8ov5YpVLx6167pHjY2PR6ezwezo9XNCYztD+afQRZowxM0yeqctC74hEFhvFd4JtKPDU+O6rbRCXyRPJNGYNBp5CtQxqLok0j/TbUfxHrA0QDwMnSc9LJw5ihiuj5RY4MuzCxm+Nk7rZ08dcyHbxe7IvtAyCN6qPSp62q+dm8YWWjuobjrJYr0u0+kkuedY4aHedcU1S3+xNTHGqpw4siQwuVng38Cdha0LV7GZ0DuER1HKiucPLAF8T6mEQ0YCUMpn4tdHNTV7Wq4yvh6ZYRiBVRx9NTU4NDOrVpFgSAwlfDHwVM5MEA7KvoCnL4k/TbSLC2RMMvzBgNpnZ1RQ90KOLgCZScTLlQ66gyi13XblTmax+p6qhw290KB2HMll1tpDYWUQ8J2ik4ufXtFB9gMaodJtKuR42bHnClJ8rUuTGIIvLpvGPDMBDuTtsilWvQPXp+pD3UU10jkmnp/CzrMNo6j1veloDFtUg/ElCYP5B56yRx/Je2QiV0bdM0pb+bsIiUTXyjZA2SGEoLAOIlyzpMksTT4SuXSrpDZauPleflnIld7ROu/1Csat+aIdxxC45X1vkZDfHK2oU7O2BdaLyyLPKI8YK8hiYz6pj0OBOnqL/L4JuyrrkLoMH1uDm0ad6EDh+vqCss/dQOjVuJTD6MQSpE8l/HT+ZNUDGX2MePMC5Kas28Ul5PXkArpySAPEJsEd8qTx3muRP75IRztNM+jjrb0nLxd88j/5pTma/x82iUJji3yVe6RD/FFMUDFw2vrF2g9aXWOllrwVyMUvsrarGJ9MfQOTCo1iPxEf4cjy4nwSWFSCOAID6LyEqlfcHSjwQdXGmqKLVaWfijlgVzLfIdS3irLCE+3bKcQVH8sZbOkCHXs3XPXsIiBTOghDoiuW1ZBJYTeaXqzRO6IuoWS3yU5g7VyEI9L3Mqlu49R64AcdPEpa1cVS/LBYeVdew7Dhpia5+j230cLEBVn/+LV7hR7WqRa0LpZYGWBtIbQ0pFCyOuxxTJOhG21kzhkHF8HC8ctWk5GBZ2lK5wW3cSr4XRimiLaNcEsUvcIbrhSrA/R+iJXO74LPuJcw84DKbSpAWs5N1kDFNBdxOTm23alabcSeL/oNTZ13P6vWT3XBL1jzH6JKUBB5vLtX5lo+KG01yajvG5DbfOfeT6c6jYtdKsZ7DQsNV2iV+r/ykCE5EuEAjwHem04fRKAlj7gv/1iBRy+RVcVw7aCwxy0EylsdJB1pTGbt6BXw17qLS+41Mo/E4yyOsR/yiNj5b2a087Y3X29rTzP1/rxO3R19kvnGQeS7aOV23oe8vlMgoO+P3+fD4/MDAwOjra0dHBaH/YTyYnJyORSCaT8Xq9xWIRjeDL5TJaPymlwuEwCqR2dnZmMhkczJVKxUEGMXK/348gh3w+39vbi3R7VCdoaWlJJpOGYfT396M8c0dHh8/nS6VShmEEg0Gcl21tbZlMZsmSJcFgMB6P+3y+UCiUTCZRr6tUKqGsTCwWGx4eHh8f7+zsjMViLS0t5wIrHbtFVXumGrqPOo+Vs9qrtdhEHVlaG7k6jWpRNbEUfME9hiuJxR5dI0OKqkZDOWaHbUH+rmmxku/wQRuan9bqzkop1qmU4ZlK2H/dZqwp8z930ihW2tXaGOe2vne4VoCDmEyv15tKpbxebyAQmJycRLkAON+8Xm8oFCqVSijFn0wmPR5PS0tLLpezLKutra1QKHR2dtq2jSJ+hmEUCoVQKFTWZZWl5800zWQy2dXVVSqVli9fvmvXrq6uLsMw4vG4UioUChUKhUgkEo1GI5FIR0fH2NhYR0cH7Etsn4nuVUqp0dHRzs5Oy7KQoYCsHL/ff+bMGfQXABDncrnBwcF8Pj8POvjsVpVjS/DNhYZlC00cW5rTWNH12KXf2dD9vBzAh/dVzbMzDIPKLz+CTzHCUZIXpRQqCcmxKbGx5Q6X6Ok4aJVSMnheCRSA5dER/GjbNtN4+E6zTtPFJY59dFbO4SboyQxLSGtra1dX1+joKO7f3d09Pj6O3kEIt8jlcqlUqrW1FXDm9Xrb2tqmpqZA2c6cOePz+fL5PIo3x+NxuCVV9VGEhdrZ2RmPxyORyK5du5RSHR0dR48eHR4eRqe8YDC4atWqaDQ6NTWVSCQwQqQnrFixolAonD59uqen58iRIz6fb/ny5aOjo6jPYhhGe3t7NBotFourVq1C983h4eFTp06Fw+FAIDA2NtY0Xuk23ZLt8506vHKhYd9CG48br6nPCxxYaetuX6qGQkp8lK/Z40x+Sgk9wPEpJTiLhCfmcatqrJS+ESluvwu9H2qxz9bhkMRKS9SddNxEMqz3Of+LhVdaNTW869/H7X2Px1PRxVPK5XIkEhkfH29raxsbGxseHk6n0+l0uq+vD8WhcT3SBFB8eunSpehN0tnZmUgk/H5/JpPp7+/HqUZDjZxkYGUgEEgmk+js9uEPf/g///mPUgpJuhs2bNizZ08sFmtvb1+3bt2uXbtCoRCibteuXXvgwIHJycmWlpZKpTIwMICm7b29vR6P5+TJk8uXL4/FYrlcrqurCzUE0Lxv3bp1+/btKxQKgUDgXGBlLVAqd7e9233ma40udqysZWQQt/Ad6toSKMkrad8kusnvdbhrbO2tltjnGAlf0MXk+IibHY2xPg57peSPEknhk1HVLvhZyGLHSsd6kBja0P19Ph+a5fX29h46dAhvBoNBj8dTLBYHBgbS6XQikViyZAk6M/f09MRisc7OTr/fn0wm29vbvV5vNBqFjhwMBs+cORMIBFKpVFtbWy6Xa2lpYQ6+XDmVSiWbzW7evPngwYOnT5+GwXRwcPDkyZMY1dDQ0HvvvaeUGhkZOXnyJO6AhqNDQ0Por7dq1ap33nlncHAQnT/6+/vz+XwsFlu/fv2ePXuGh4cTiURbW1tnZ+f+/fvRpWpgYKBpWOkmckkpsVLdno2b4DyU+5DG+zrf+/5lsWDlTM4YCRO2izj4pqrGNUO4gxyg4+CVXtGPUJI+ObZpeaVjbLRbOX4v/eCOuyEfqfarLVFqVw67UT612LHS8amz7ke398vl8oYNG2CgzGQyS5cuLRQKr7322tDQUDKZXLt2bWtr6+HDhyuVCiyby5Yte+edd0qlEhwmqVSqv78fvp1yuezz+XK5XCgUWrNmTTweP3z4MMsReEQ3Edu2s9lsd3d3JpMpFosbNmyAgrx9+/ZNmzZFo9GLLrpo//79q1ev7uzsfOqpp1avXn306NH29vYbbrjhrbfeOnHixKpVq3bt2mWaZl9f3+jo6OWXX/7Pf/4zHA53dXWZpgmHZzweHx0dBYKvWrXqxIkTfr+/mTq4m0x7lJ3HylnL7PZqLaWSMTqOf90+ztcOiJT/EkYZe+G4lSXSZuSLiu6FJ6FcKQVGUAvxsveZvJs1XdlA4gWxkreqc8a4vb+osZI0zQGXbvdx26eRSOSpp57asGFDMpns7e3N5/Mvv/zy7bffrpT6wx/+sHnzZr/f/49//OOuu+7avXv32rVrd+zY8cwzz/zgBz9AtelyudzT03Pq1Kn+/n74eZRSPT09jz/++K9+9atXXnkFfhjk3cofhZpSfr//xhtv3LZt25IlS3bv3r1z586vfe1rlmVFo9H+/v7R0dFkMrlu3bpwOBwMBm+66aatW7deeumlr7766m233XbkyJFVq1adPn16cHDwnXfeueOOOx577DGYVt94442urq7/+7//O3Xq1PLly0+ePHnmzJmLLroonU5PTk7OeXnR2mew0NDngyFuPLH2GqmZKr1/4AqH40U+IH5Eoow0CMo6FMwIhFkKnke0LaOgeQPely8ymQx6cONfdEBD00pZGYhfwZQhJYLSJQmVJ6tjydlCSZ/7J7OwxMGpp10nM5F0Or1v37677777wgsvHBwcDIVCd999dyKRuPfeey+66KLBwcHh4eEVK1bcdNNNLS0tR48eXbp06W233faZz3wmHA4jrsu27SVLlqCXusfjKZfLo6OjV111FR6rraNcuQAwyJaWljVr1lx++eXf//7377vvvpGRkccee+xzn/vcxz/+8UAgsHnzZsMwLrjgAq/X+8tf/jKfz4fD4U2bNm3dutU0zXw+/+CDD65fvx6E9+jRozfeeOO111574YUXFgqFL3zhC4VC4dChQzfffPPk5OSBAwd++9vf/vrXvz58+DDsp830gzOJDTZ1HmL4K1ct3vGIevq8Qx2+aYpkI17s2NhSZkKRZiK1469/vczrkDc563J005KmvUxNR6nkm45h174v/1t7Kzdqxmum/Ua8ZoJN/RvW3r8OlatdFeTFjrBwh9SukBnyqTo3dNxHnZPjv9FxOubf7SaSZU97H8fv5WXpdPrOO+984YUXksnk66+/Pjg4ODExUSqVTp069a9//aurqyuRSGzYsAHKeDweP3LkyI4dO7Zs2fLiiy+mUqlIJHLq1KkPfehDe/fujUQiCNIE/lYqlUQiYZrmqlWrDh48aFnWyZMn77vvvj/+8Y+2bbe3t4+NjR08eHBoaMjv90ej0SeffPK11147deoUgoQuuOCCdevW7d271+fzFYvFxx9//OGHHz58+HAwGLz55pvj8fgtt9zS0tISDAaLxeJHPvIR2ASUUhdeeOGpU6ei0ehll12GbLFMJjM8PIxGLF6vt2m80hBxcAxDUTV8RzKaORXDRdz4l5vM9TibJRxt7Yvzcl4ocnmoxhcJoXNgYKC1tfWBBx548MEH0+n08ePHV65c2dvb+4tf/KK1tfXhhx++4YYbxsbGXn/99XQ6vWnTpnw+/9JLL4XD4W9961vd3d3ZbPbaa6/du3dvZ2enYRiZTKZUKkUiEa/X29nZGQwG+/r69u/f39PT097efs011/zlL39paWkJh8OIRR8YGFizZs03vvGNF154oVwuT0xMtLS0nD59eseOHQcPHvzOd75z4403XnXVVWvWrJmamrruuussy8pkMldfffWhQ4fQWQ9t33/+85/39/evW7fO5/N94hOfeOaZZ1555ZXly5eDvX75y1/+yU9+Ui6Xg8FgoVBoJq+0dT1UQ7dq4pMwpgugm/YOzRpMo3zzfcp5VHKInP/zVpeFI5ZOcFbazDrDpevYwjCVvPjii/v377/11lu3bdt27NixZDL57W9/+8SJE9Fo9NChQ319faZpRqPRgwcPrl279q233tq2bdtPf/rTH/3oRytWrHj55ZeVUoVCYdmyZdlslp2aEF2Uz+cRm2nbNjgj3ETZbBbAsmPHjscff3xiYoJpBXfcccfIyAhaOg8NDV166aWxWCwYDF533XUPPvjgwMDAli1bvvnNb46Ojvb09Ni27fP5EolEPB5fsWLFrl27li5dmslk3njjjUsvvTQSicRisfHx8b///e8f/ehHd+/evWTJkqZhJTmjaZqs/WdVF3BXNRqBxM3Z7ahZ6yYzlJkoj7O+eRPFFDXr5Au3ITULv+qcSQ19xXk8hTRrfbrdZ1obV52HJTV0ubRQiM/n8z300EOPP/74K6+8cuTIkYGBga9//eu33nrrm2++iaRGwzBWrFhx++2327b91a9+NRQKwSm0ZcuWZcuWGYYRi8WOHTsGdXhqaso0zXfffbe9vR2N72OxWF9fXzQaTaVSK1eunJiYyGQyfr///vvvP3Xq1COPPJLJZNrb2xHffuWVV27fvt227dbW1gMHDiBHqFAobNu2befOnZs2bbrnnnu2bdu2dOnSSqWCBMfe3t6XX375+uuvj8VisVhs9+7dhULhd7/73ac+9amBgYFsNjsyMvLvf/9bKRUKhZqmgztUV5JKGY4nX8gPOl40RSwXaeJXSJl3nd0QTl75Yr7GM49ffV7qiFylMz+farmOx+NpbW2dmprav3//4cOHs9lsW1vbihUrEGSTyWS6urrWrl3b29u7fv36DRs2ZLPZL37xi8PDw88999wbb7wRCAROnDhx+vRpuMWVUm+++eb+/fsvvvji3t7eVCrV19c3MDDg9XpjsdjGjRu9Xm88HjdN0+fzAewqlUooFEL80NatWz0ez+rVqzs6OsBPBwcHr7jiisnJSSjv27dv/+53v/voo4+uX7/+xIkTaMislLIs6/nnn7/kkkuuueaaY8eOpVKpYrGYSCQ+/elPX3fddT/+8Y+PHz8+MDCwbNmyycnJZurgtTbBaWeZlJMfdJxaDYnbR9zeb+4eXpiWwZlQ3bnmlfJPM5mcWfvcPmDS6POata1JurbqXFxrPcM3IrwhGAyOjY3t27fv85///MMPP7xr165nn312y5YtTz755NDQ0J/+9Kff//73d955ZyKR+POf/3zFFVd4vd633347FAqh/WdHR0coFBoZGRkeHkaMxL59+06fPo3QdKVUpVIBr1y6dOmRI0c2b9584MCBgwcPvvTSS08//fQDDzywZ8+ep5566uKLL/7rX//66KOP3nXXXVdeeeXU1NT1119/1113bdy48YUXXnjiiSdyudyjjz76s5/97Oqrr77uuuv27NmjlOrq6orH4ytXrrQsq7u7e/ny5WfOnPH7/cePH49EIn19fcuWLVNKIVdyamqqmb4d1n/l7NPZrc6588HNtzNHX6fmGzEdmSrzHhMjJ/y8fr2gRCofMhSszvWOF0qpQCAQDocRgp5KpTZu3GiaZi6X+81vfrNp06bDhw+/+OKLzz333P333z81NfX222/H4/FsNvv22293dHSMjIzEYrGhoaGxsbFSqfSVr3xl586d+/bt27179yWXXLJ+/fpsNou8oJUrV46Ojr7xxhuf/OQn+/v7//a3v8Viscsuu+zVV1/93ve+98QTT5TL5ZUrVz7yyCOTk5Pbt29//vnnn3322Z07d37pS1+65557jh8/vnfv3nvvvfeWW245evToxz72sa1bt+7btw/9l7xeb29v75NPPnnmzJmrr75648aNK1as8Hg8Dz300Gc/+9mxsbEf/vCHQ0NDF198cS6Xa2aOoykKX8uYIVlbwTHdtXrrTEiKQ5p1DruJQ2FxfFz+BNocanF5JjDquH+jsCtt9vKFG49uFr8+6zyflbnUv4+bfFB5ZaO5v27PsU4ejjFdTP5Z9TDHc0ToIhzQQ0ND5XL5xIkTIyMj77333tDQENIZV65ciayYTCYzODjo8/nGx8cRQuT3+4eGhs6cOWNZVl9fn2EY6XTa6/WiqlupVOrp6WHKdrFYROh4Pp/v7u4+evRopVJBnGYmk7nmmmuefvrpjo6OfD7f1tYG/Fm2bFk0Gk0mk6ZpLlmyJBKJhMPhkydPptPptWvX7t+/f9myZZlMJp1Ol8vllpaWlStXvvvuu/39/YjzXbNmTbFYfPfdd5H23tra2t3d3fyabI7t6vaMm7Um3J4x+wVyGLU1Hc76pTMRu1rYx2aG48TalUBZf96UdqPRHDnDte6QOhgndwUHNov8/Tm9fr7EbX6ahd2O7XPWM28W+4vrzaouFF9/PLWCwvi2zjdF+nYul5M3RL8mn8+XTCZRVN+2bXiu8d9UKmXrCtCoM1QsFpPJZGtr67TjLJVKqEqZy+Xg0kG3u1wup7STinX7TdMsFApoL2rbNnrZI6VyYmKCY2MaJbYVkxrwJ+pnTY4Zcnvx/qV+jPrcSbP2vJt4RHNaeRO334vVKetW1MfKRsfj2KJ2dTvMcy/z9dwXu8haJFIcBeTPKm7PXTYpYbaxZVmoR2XrJk5YmXxB7YeyZMkSJO2gqHOhUJDZHNBTeSAZuj8KB2DrdinhcJjpZMzjItTKvnJ4v7u7W+mNJnufoLQlvk4GiZum2cyYoWmxcq73WB3McsBEHdSYxTjt6rzg2d1EVZ+Zkle6CZcdv9GqqTkvZXa6be0NG+X152V+pVFMdJM6+8sBfAAd1sqTlJCLSgquV0qBG4LQoRwUi6gqAZF8hzmvSsd0I+2HkC0RdtreJBXdC541oXENWCRHWxEdkr1uh88spJaPOF44pNE93JS9SpYkR1t/JDMff32kq6Mr1doo7bo11uQxzoPdbfyzeMSOybEbiVietTTL9nJeIM3i4/UZhoORgE4qXRaI2g+3hgM6Ld2BmSBl6VZijtvyXya5SDi2LAs6uNLWNkYo2jpsUVIZwzBQz5SzZOo2KqTD8ntxnwXXm6xRmbkdzYGMTSS/7+fjjNt38Mo6Org8Zh1H7tzJeV14cUmznkud5y71KmlbJIZKbamWSRCqSO4IcDQdSnKK/7JeulFdG4XKslIKCjX+ZIryl3LL068g+aatfbPmdJVYm4aV0qpV+2La66d93+0cc3tmM+QX0/JcB3VqaJyq+tfNGqq4qtTMfos8VGV9LbfPutXKrfNdjgmZ+djej9Th3Q1df14gzdLn3O7jKJXG27JeOj8uOaZjDLZto1C5JTrTSiuTUZN7Zupa1LLAPl/XrlX0OKvOR7FsXReVd1Mi6g4/x1H3x7KsZmJls27V3O+d9kBr4s6Xp8Isbltbl4i6htv1jnNSom2tNNqfz822sGCf73mZVpqFlTOxUNXqao5rLMuSYdfy+lrAUqIks5rOXqlqqo6Zpgnd38EHVbXd1hDqeaFQkKo6P1sqlUzd5NkR79jkvB1VQyqbtdYbtVtZ7jVfHa/r6+Az5L/1yWmdcbr5wetcL5eIoX07zZpno9pA6dCwzr00Gj94XiBusWvN8oMrcUhzv9siCUKuaseKkvRF9kCmwuT1eh2xdI494rie1kYlmCxEGitpv0K0k6pmG7gtqgvT1sltaJrmf3tOvX9xnC2Svjbl/o3GlznIl4OiO8DI0HaQWnHbk+xr6Hj2qNddK/XjLnmfszJTW/h2+BGe27Xi1tO1zvXTzlujPiK359Lo/LiNv9E41maJw/A/6/mpMw/yFOf7bvOA+vMzF+ikBAIyO7fxuIljg/NxO/prnnX8brjBJsy26OhpiL6hjuvdRPYflWuSd5Y/xDCcdeMlTC8arDzr99a+3xBWuk26G0bDf1fLB90w122tKHHSSsytzyutGcei1zlLpn2fe9Uxbzj/Z34ft3lzmx+3+zfRb9sU8fv9Dc2Pm7jNg6NSMl80Gi9ZZx643hzejBmPver+Dq5HG9EMuUgd3JgWKx0zM/PH7YBLck95c6Wfr1WTw1Iqlf4fiBrPxxRjvsQAAAAASUVORK5CYII=\" class=\"ndarray_image_preview\" /><pre class=\"ndarray_raw_data\">array([[[12, 12, 12],\n",
              "        [12, 12, 12],\n",
              "        [12, 12, 12],\n",
              "        ...,\n",
              "        [14, 14, 14],\n",
              "        [14, 14, 14],\n",
              "        [11, 11, 11]],\n",
              "\n",
              "       [[12, 12, 12],\n",
              "        [12, 12, 12],\n",
              "        [12, 12, 12],\n",
              "        ...,\n",
              "        [ 9,  9,  9],\n",
              "        [13, 13, 13],\n",
              "        [15, 15, 15]],\n",
              "\n",
              "       [[12, 12, 12],\n",
              "        [12, 12, 12],\n",
              "        [12, 12, 12],\n",
              "        ...,\n",
              "        [ 8,  8,  8],\n",
              "        [14, 14, 14],\n",
              "        [ 3,  3,  3]],\n",
              "\n",
              "       ...,\n",
              "\n",
              "       [[11, 11, 11],\n",
              "        [11, 11, 11],\n",
              "        [11, 11, 11],\n",
              "        ...,\n",
              "        [13, 13, 13],\n",
              "        [13, 13, 13],\n",
              "        [15, 15, 15]],\n",
              "\n",
              "       [[ 7,  7,  7],\n",
              "        [ 7,  7,  7],\n",
              "        [ 7,  7,  7],\n",
              "        ...,\n",
              "        [13, 13, 13],\n",
              "        [14, 14, 14],\n",
              "        [15, 15, 15]],\n",
              "\n",
              "       [[ 7,  7,  7],\n",
              "        [ 7,  7,  7],\n",
              "        [ 7,  7,  7],\n",
              "        ...,\n",
              "        [ 9,  9,  9],\n",
              "        [10, 10, 10],\n",
              "        [ 5,  5,  5]]], dtype=uint8)</pre></div><script>\n",
              "      (() => {\n",
              "      const titles = ['show data', 'hide data'];\n",
              "      let index = 0\n",
              "      document.querySelector('#id-3493fc9d-0ed9-4321-902e-7ecaf60bb10b button').onclick = (e) => {\n",
              "        document.querySelector('#id-3493fc9d-0ed9-4321-902e-7ecaf60bb10b').classList.toggle('show_array');\n",
              "        index = (++index) % 2;\n",
              "        document.querySelector('#id-3493fc9d-0ed9-4321-902e-7ecaf60bb10b button').textContent = titles[index];\n",
              "        e.preventDefault();\n",
              "        e.stopPropagation();\n",
              "      }\n",
              "      })();\n",
              "    </script>"
            ]
          },
          "metadata": {},
          "execution_count": 16
        }
      ]
    },
    {
      "cell_type": "code",
      "source": [
        "cv2.imread(os.path.join(no_tumor_images,x_train[9]))"
      ],
      "metadata": {
        "colab": {
          "base_uri": "https://localhost:8080/",
          "height": 258
        },
        "id": "AFVJbriCnGU_",
        "outputId": "a0c73a3e-f5d1-4cb0-9cb9-b455b49609f2"
      },
      "execution_count": 17,
      "outputs": [
        {
          "output_type": "execute_result",
          "data": {
            "text/plain": [
              "array([[[2, 2, 2],\n",
              "        [2, 2, 2],\n",
              "        [2, 2, 2],\n",
              "        ...,\n",
              "        [1, 1, 1],\n",
              "        [1, 1, 1],\n",
              "        [1, 1, 1]],\n",
              "\n",
              "       [[2, 2, 2],\n",
              "        [2, 2, 2],\n",
              "        [2, 2, 2],\n",
              "        ...,\n",
              "        [1, 1, 1],\n",
              "        [1, 1, 1],\n",
              "        [1, 1, 1]],\n",
              "\n",
              "       [[2, 2, 2],\n",
              "        [2, 2, 2],\n",
              "        [2, 2, 2],\n",
              "        ...,\n",
              "        [1, 1, 1],\n",
              "        [1, 1, 1],\n",
              "        [1, 1, 1]],\n",
              "\n",
              "       ...,\n",
              "\n",
              "       [[2, 2, 2],\n",
              "        [2, 2, 2],\n",
              "        [2, 2, 2],\n",
              "        ...,\n",
              "        [3, 3, 3],\n",
              "        [3, 3, 3],\n",
              "        [3, 3, 3]],\n",
              "\n",
              "       [[2, 2, 2],\n",
              "        [2, 2, 2],\n",
              "        [2, 2, 2],\n",
              "        ...,\n",
              "        [3, 3, 3],\n",
              "        [3, 3, 3],\n",
              "        [3, 3, 3]],\n",
              "\n",
              "       [[2, 2, 2],\n",
              "        [2, 2, 2],\n",
              "        [2, 2, 2],\n",
              "        ...,\n",
              "        [3, 3, 3],\n",
              "        [3, 3, 3],\n",
              "        [3, 3, 3]]], dtype=uint8)"
            ],
            "text/html": [
              "<style>\n",
              "      .ndarray_repr .ndarray_raw_data {\n",
              "        display: none;\n",
              "      }\n",
              "      .ndarray_repr.show_array .ndarray_raw_data {\n",
              "        display: block;\n",
              "      }\n",
              "      .ndarray_repr.show_array .ndarray_image_preview {\n",
              "        display: none;\n",
              "      }\n",
              "      </style>\n",
              "      <div id=\"id-297ecffe-60ab-4ac3-bb3e-eeeceb2a8695\" class=\"ndarray_repr\"><pre>ndarray (218, 180, 3) <button style=\"padding: 0 2px;\">show data</button></pre><img src=\"data:image/png;base64,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\" class=\"ndarray_image_preview\" /><pre class=\"ndarray_raw_data\">array([[[2, 2, 2],\n",
              "        [2, 2, 2],\n",
              "        [2, 2, 2],\n",
              "        ...,\n",
              "        [1, 1, 1],\n",
              "        [1, 1, 1],\n",
              "        [1, 1, 1]],\n",
              "\n",
              "       [[2, 2, 2],\n",
              "        [2, 2, 2],\n",
              "        [2, 2, 2],\n",
              "        ...,\n",
              "        [1, 1, 1],\n",
              "        [1, 1, 1],\n",
              "        [1, 1, 1]],\n",
              "\n",
              "       [[2, 2, 2],\n",
              "        [2, 2, 2],\n",
              "        [2, 2, 2],\n",
              "        ...,\n",
              "        [1, 1, 1],\n",
              "        [1, 1, 1],\n",
              "        [1, 1, 1]],\n",
              "\n",
              "       ...,\n",
              "\n",
              "       [[2, 2, 2],\n",
              "        [2, 2, 2],\n",
              "        [2, 2, 2],\n",
              "        ...,\n",
              "        [3, 3, 3],\n",
              "        [3, 3, 3],\n",
              "        [3, 3, 3]],\n",
              "\n",
              "       [[2, 2, 2],\n",
              "        [2, 2, 2],\n",
              "        [2, 2, 2],\n",
              "        ...,\n",
              "        [3, 3, 3],\n",
              "        [3, 3, 3],\n",
              "        [3, 3, 3]],\n",
              "\n",
              "       [[2, 2, 2],\n",
              "        [2, 2, 2],\n",
              "        [2, 2, 2],\n",
              "        ...,\n",
              "        [3, 3, 3],\n",
              "        [3, 3, 3],\n",
              "        [3, 3, 3]]], dtype=uint8)</pre></div><script>\n",
              "      (() => {\n",
              "      const titles = ['show data', 'hide data'];\n",
              "      let index = 0\n",
              "      document.querySelector('#id-297ecffe-60ab-4ac3-bb3e-eeeceb2a8695 button').onclick = (e) => {\n",
              "        document.querySelector('#id-297ecffe-60ab-4ac3-bb3e-eeeceb2a8695').classList.toggle('show_array');\n",
              "        index = (++index) % 2;\n",
              "        document.querySelector('#id-297ecffe-60ab-4ac3-bb3e-eeeceb2a8695 button').textContent = titles[index];\n",
              "        e.preventDefault();\n",
              "        e.stopPropagation();\n",
              "      }\n",
              "      })();\n",
              "    </script>"
            ]
          },
          "metadata": {},
          "execution_count": 17
        }
      ]
    },
    {
      "cell_type": "code",
      "source": [],
      "metadata": {
        "id": "MVGUU6MZ1j7v"
      },
      "execution_count": 17,
      "outputs": []
    },
    {
      "cell_type": "code",
      "source": [],
      "metadata": {
        "id": "966pZjI315MA"
      },
      "execution_count": 17,
      "outputs": []
    },
    {
      "cell_type": "code",
      "source": [],
      "metadata": {
        "id": "mnTeSb_m15Hl"
      },
      "execution_count": 17,
      "outputs": []
    },
    {
      "cell_type": "code",
      "source": [
        "x_train_image = []\n",
        "\n",
        "for path in x_train:\n",
        "    img = cv2.imread(path)\n",
        "    if img is not None:\n",
        "        resized_img = cv2.resize(img, (180, 180))\n",
        "        x_train_image.append(resized_img)\n",
        "    else:\n",
        "        print(f\"Image not found: {path}\")"
      ],
      "metadata": {
        "id": "B0xdlfzSxZe5"
      },
      "execution_count": 18,
      "outputs": []
    },
    {
      "cell_type": "code",
      "source": [
        "x_test_image = []\n",
        "\n",
        "for path in x_test:\n",
        "    img = cv2.imread(path)\n",
        "    if img is not None:\n",
        "        resized_img = cv2.resize(img, (180, 180))\n",
        "        x_test_image.append(resized_img)\n",
        "    else:\n",
        "        print(f\"Image not found: {path}\")"
      ],
      "metadata": {
        "id": "MsrHMmlVxix7"
      },
      "execution_count": 19,
      "outputs": []
    },
    {
      "cell_type": "code",
      "source": [
        "x_train_image=np.array(x_train_image)\n",
        "x_test_image=np.array(x_test_image)"
      ],
      "metadata": {
        "id": "ouVg9izDwKNN"
      },
      "execution_count": 20,
      "outputs": []
    },
    {
      "cell_type": "code",
      "source": [
        "x_train_image[2299]"
      ],
      "metadata": {
        "colab": {
          "base_uri": "https://localhost:8080/",
          "height": 220
        },
        "id": "LotgnBUmvxeX",
        "outputId": "ecc61b1e-f6be-4379-cc7e-32fd2905d7ed"
      },
      "execution_count": 21,
      "outputs": [
        {
          "output_type": "execute_result",
          "data": {
            "text/plain": [
              "array([[[0, 0, 0],\n",
              "        [0, 0, 0],\n",
              "        [0, 0, 0],\n",
              "        ...,\n",
              "        [0, 0, 0],\n",
              "        [0, 0, 0],\n",
              "        [0, 0, 0]],\n",
              "\n",
              "       [[0, 0, 0],\n",
              "        [0, 0, 0],\n",
              "        [0, 0, 0],\n",
              "        ...,\n",
              "        [0, 0, 0],\n",
              "        [0, 0, 0],\n",
              "        [0, 0, 0]],\n",
              "\n",
              "       [[0, 0, 0],\n",
              "        [0, 0, 0],\n",
              "        [0, 0, 0],\n",
              "        ...,\n",
              "        [0, 0, 0],\n",
              "        [0, 0, 0],\n",
              "        [0, 0, 0]],\n",
              "\n",
              "       ...,\n",
              "\n",
              "       [[0, 0, 0],\n",
              "        [0, 0, 0],\n",
              "        [0, 0, 0],\n",
              "        ...,\n",
              "        [0, 0, 0],\n",
              "        [0, 0, 0],\n",
              "        [0, 0, 0]],\n",
              "\n",
              "       [[0, 0, 0],\n",
              "        [0, 0, 0],\n",
              "        [0, 0, 0],\n",
              "        ...,\n",
              "        [0, 0, 0],\n",
              "        [0, 0, 0],\n",
              "        [0, 0, 0]],\n",
              "\n",
              "       [[0, 0, 0],\n",
              "        [0, 0, 0],\n",
              "        [0, 0, 0],\n",
              "        ...,\n",
              "        [0, 0, 0],\n",
              "        [0, 0, 0],\n",
              "        [0, 0, 0]]], dtype=uint8)"
            ],
            "text/html": [
              "<style>\n",
              "      .ndarray_repr .ndarray_raw_data {\n",
              "        display: none;\n",
              "      }\n",
              "      .ndarray_repr.show_array .ndarray_raw_data {\n",
              "        display: block;\n",
              "      }\n",
              "      .ndarray_repr.show_array .ndarray_image_preview {\n",
              "        display: none;\n",
              "      }\n",
              "      </style>\n",
              "      <div id=\"id-b24b3c52-c2d3-4357-91c3-cb1c2ba3fbc4\" class=\"ndarray_repr\"><pre>ndarray (180, 180, 3) <button style=\"padding: 0 2px;\">show data</button></pre><img src=\"data:image/png;base64,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\" class=\"ndarray_image_preview\" /><pre class=\"ndarray_raw_data\">array([[[0, 0, 0],\n",
              "        [0, 0, 0],\n",
              "        [0, 0, 0],\n",
              "        ...,\n",
              "        [0, 0, 0],\n",
              "        [0, 0, 0],\n",
              "        [0, 0, 0]],\n",
              "\n",
              "       [[0, 0, 0],\n",
              "        [0, 0, 0],\n",
              "        [0, 0, 0],\n",
              "        ...,\n",
              "        [0, 0, 0],\n",
              "        [0, 0, 0],\n",
              "        [0, 0, 0]],\n",
              "\n",
              "       [[0, 0, 0],\n",
              "        [0, 0, 0],\n",
              "        [0, 0, 0],\n",
              "        ...,\n",
              "        [0, 0, 0],\n",
              "        [0, 0, 0],\n",
              "        [0, 0, 0]],\n",
              "\n",
              "       ...,\n",
              "\n",
              "       [[0, 0, 0],\n",
              "        [0, 0, 0],\n",
              "        [0, 0, 0],\n",
              "        ...,\n",
              "        [0, 0, 0],\n",
              "        [0, 0, 0],\n",
              "        [0, 0, 0]],\n",
              "\n",
              "       [[0, 0, 0],\n",
              "        [0, 0, 0],\n",
              "        [0, 0, 0],\n",
              "        ...,\n",
              "        [0, 0, 0],\n",
              "        [0, 0, 0],\n",
              "        [0, 0, 0]],\n",
              "\n",
              "       [[0, 0, 0],\n",
              "        [0, 0, 0],\n",
              "        [0, 0, 0],\n",
              "        ...,\n",
              "        [0, 0, 0],\n",
              "        [0, 0, 0],\n",
              "        [0, 0, 0]]], dtype=uint8)</pre></div><script>\n",
              "      (() => {\n",
              "      const titles = ['show data', 'hide data'];\n",
              "      let index = 0\n",
              "      document.querySelector('#id-b24b3c52-c2d3-4357-91c3-cb1c2ba3fbc4 button').onclick = (e) => {\n",
              "        document.querySelector('#id-b24b3c52-c2d3-4357-91c3-cb1c2ba3fbc4').classList.toggle('show_array');\n",
              "        index = (++index) % 2;\n",
              "        document.querySelector('#id-b24b3c52-c2d3-4357-91c3-cb1c2ba3fbc4 button').textContent = titles[index];\n",
              "        e.preventDefault();\n",
              "        e.stopPropagation();\n",
              "      }\n",
              "      })();\n",
              "    </script>"
            ]
          },
          "metadata": {},
          "execution_count": 21
        }
      ]
    },
    {
      "cell_type": "code",
      "source": [
        "y_train_label=np.array(y_train['Image_label'])\n",
        "y_test_label=np.array(y_test)"
      ],
      "metadata": {
        "colab": {
          "base_uri": "https://localhost:8080/",
          "height": 512
        },
        "id": "p_oJsN3GwsEW",
        "outputId": "42c8fbe1-82b2-498f-ad88-5692656a1ff7"
      },
      "execution_count": 22,
      "outputs": [
        {
          "output_type": "error",
          "ename": "KeyError",
          "evalue": "'Image_label'",
          "traceback": [
            "\u001b[0;31m---------------------------------------------------------------------------\u001b[0m",
            "\u001b[0;31mKeyError\u001b[0m                                  Traceback (most recent call last)",
            "\u001b[0;32m/usr/local/lib/python3.10/dist-packages/pandas/core/indexes/base.py\u001b[0m in \u001b[0;36mget_loc\u001b[0;34m(self, key)\u001b[0m\n\u001b[1;32m   3804\u001b[0m         \u001b[0;32mtry\u001b[0m\u001b[0;34m:\u001b[0m\u001b[0;34m\u001b[0m\u001b[0;34m\u001b[0m\u001b[0m\n\u001b[0;32m-> 3805\u001b[0;31m             \u001b[0;32mreturn\u001b[0m \u001b[0mself\u001b[0m\u001b[0;34m.\u001b[0m\u001b[0m_engine\u001b[0m\u001b[0;34m.\u001b[0m\u001b[0mget_loc\u001b[0m\u001b[0;34m(\u001b[0m\u001b[0mcasted_key\u001b[0m\u001b[0;34m)\u001b[0m\u001b[0;34m\u001b[0m\u001b[0;34m\u001b[0m\u001b[0m\n\u001b[0m\u001b[1;32m   3806\u001b[0m         \u001b[0;32mexcept\u001b[0m \u001b[0mKeyError\u001b[0m \u001b[0;32mas\u001b[0m \u001b[0merr\u001b[0m\u001b[0;34m:\u001b[0m\u001b[0;34m\u001b[0m\u001b[0;34m\u001b[0m\u001b[0m\n",
            "\u001b[0;32mindex.pyx\u001b[0m in \u001b[0;36mpandas._libs.index.IndexEngine.get_loc\u001b[0;34m()\u001b[0m\n",
            "\u001b[0;32mindex.pyx\u001b[0m in \u001b[0;36mpandas._libs.index.IndexEngine.get_loc\u001b[0;34m()\u001b[0m\n",
            "\u001b[0;32mpandas/_libs/index_class_helper.pxi\u001b[0m in \u001b[0;36mpandas._libs.index.Int64Engine._check_type\u001b[0;34m()\u001b[0m\n",
            "\u001b[0;31mKeyError\u001b[0m: 'Image_label'",
            "\nThe above exception was the direct cause of the following exception:\n",
            "\u001b[0;31mKeyError\u001b[0m                                  Traceback (most recent call last)",
            "\u001b[0;32m<ipython-input-22-6f66c1dcd49a>\u001b[0m in \u001b[0;36m<cell line: 1>\u001b[0;34m()\u001b[0m\n\u001b[0;32m----> 1\u001b[0;31m \u001b[0my_train_label\u001b[0m\u001b[0;34m=\u001b[0m\u001b[0mnp\u001b[0m\u001b[0;34m.\u001b[0m\u001b[0marray\u001b[0m\u001b[0;34m(\u001b[0m\u001b[0my_train\u001b[0m\u001b[0;34m[\u001b[0m\u001b[0;34m'Image_label'\u001b[0m\u001b[0;34m]\u001b[0m\u001b[0;34m)\u001b[0m\u001b[0;34m\u001b[0m\u001b[0;34m\u001b[0m\u001b[0m\n\u001b[0m\u001b[1;32m      2\u001b[0m \u001b[0my_test_label\u001b[0m\u001b[0;34m=\u001b[0m\u001b[0mnp\u001b[0m\u001b[0;34m.\u001b[0m\u001b[0marray\u001b[0m\u001b[0;34m(\u001b[0m\u001b[0my_test\u001b[0m\u001b[0;34m)\u001b[0m\u001b[0;34m\u001b[0m\u001b[0;34m\u001b[0m\u001b[0m\n",
            "\u001b[0;32m/usr/local/lib/python3.10/dist-packages/pandas/core/series.py\u001b[0m in \u001b[0;36m__getitem__\u001b[0;34m(self, key)\u001b[0m\n\u001b[1;32m   1119\u001b[0m \u001b[0;34m\u001b[0m\u001b[0m\n\u001b[1;32m   1120\u001b[0m         \u001b[0;32melif\u001b[0m \u001b[0mkey_is_scalar\u001b[0m\u001b[0;34m:\u001b[0m\u001b[0;34m\u001b[0m\u001b[0;34m\u001b[0m\u001b[0m\n\u001b[0;32m-> 1121\u001b[0;31m             \u001b[0;32mreturn\u001b[0m \u001b[0mself\u001b[0m\u001b[0;34m.\u001b[0m\u001b[0m_get_value\u001b[0m\u001b[0;34m(\u001b[0m\u001b[0mkey\u001b[0m\u001b[0;34m)\u001b[0m\u001b[0;34m\u001b[0m\u001b[0;34m\u001b[0m\u001b[0m\n\u001b[0m\u001b[1;32m   1122\u001b[0m \u001b[0;34m\u001b[0m\u001b[0m\n\u001b[1;32m   1123\u001b[0m         \u001b[0;31m# Convert generator to list before going through hashable part\u001b[0m\u001b[0;34m\u001b[0m\u001b[0;34m\u001b[0m\u001b[0m\n",
            "\u001b[0;32m/usr/local/lib/python3.10/dist-packages/pandas/core/series.py\u001b[0m in \u001b[0;36m_get_value\u001b[0;34m(self, label, takeable)\u001b[0m\n\u001b[1;32m   1235\u001b[0m \u001b[0;34m\u001b[0m\u001b[0m\n\u001b[1;32m   1236\u001b[0m         \u001b[0;31m# Similar to Index.get_value, but we do not fall back to positional\u001b[0m\u001b[0;34m\u001b[0m\u001b[0;34m\u001b[0m\u001b[0m\n\u001b[0;32m-> 1237\u001b[0;31m         \u001b[0mloc\u001b[0m \u001b[0;34m=\u001b[0m \u001b[0mself\u001b[0m\u001b[0;34m.\u001b[0m\u001b[0mindex\u001b[0m\u001b[0;34m.\u001b[0m\u001b[0mget_loc\u001b[0m\u001b[0;34m(\u001b[0m\u001b[0mlabel\u001b[0m\u001b[0;34m)\u001b[0m\u001b[0;34m\u001b[0m\u001b[0;34m\u001b[0m\u001b[0m\n\u001b[0m\u001b[1;32m   1238\u001b[0m \u001b[0;34m\u001b[0m\u001b[0m\n\u001b[1;32m   1239\u001b[0m         \u001b[0;32mif\u001b[0m \u001b[0mis_integer\u001b[0m\u001b[0;34m(\u001b[0m\u001b[0mloc\u001b[0m\u001b[0;34m)\u001b[0m\u001b[0;34m:\u001b[0m\u001b[0;34m\u001b[0m\u001b[0;34m\u001b[0m\u001b[0m\n",
            "\u001b[0;32m/usr/local/lib/python3.10/dist-packages/pandas/core/indexes/base.py\u001b[0m in \u001b[0;36mget_loc\u001b[0;34m(self, key)\u001b[0m\n\u001b[1;32m   3810\u001b[0m             ):\n\u001b[1;32m   3811\u001b[0m                 \u001b[0;32mraise\u001b[0m \u001b[0mInvalidIndexError\u001b[0m\u001b[0;34m(\u001b[0m\u001b[0mkey\u001b[0m\u001b[0;34m)\u001b[0m\u001b[0;34m\u001b[0m\u001b[0;34m\u001b[0m\u001b[0m\n\u001b[0;32m-> 3812\u001b[0;31m             \u001b[0;32mraise\u001b[0m \u001b[0mKeyError\u001b[0m\u001b[0;34m(\u001b[0m\u001b[0mkey\u001b[0m\u001b[0;34m)\u001b[0m \u001b[0;32mfrom\u001b[0m \u001b[0merr\u001b[0m\u001b[0;34m\u001b[0m\u001b[0;34m\u001b[0m\u001b[0m\n\u001b[0m\u001b[1;32m   3813\u001b[0m         \u001b[0;32mexcept\u001b[0m \u001b[0mTypeError\u001b[0m\u001b[0;34m:\u001b[0m\u001b[0;34m\u001b[0m\u001b[0;34m\u001b[0m\u001b[0m\n\u001b[1;32m   3814\u001b[0m             \u001b[0;31m# If we have a listlike key, _check_indexing_error will raise\u001b[0m\u001b[0;34m\u001b[0m\u001b[0;34m\u001b[0m\u001b[0m\n",
            "\u001b[0;31mKeyError\u001b[0m: 'Image_label'"
          ]
        }
      ]
    },
    {
      "cell_type": "code",
      "source": [
        "np.array(y_train['Image_label'])"
      ],
      "metadata": {
        "id": "CjivxaMa_pdi"
      },
      "execution_count": null,
      "outputs": []
    },
    {
      "cell_type": "code",
      "source": [
        "from tensorflow.keras.preprocessing.image import ImageDataGenerator"
      ],
      "metadata": {
        "id": "NPQh3oM_AFsz"
      },
      "execution_count": 8,
      "outputs": []
    },
    {
      "cell_type": "code",
      "source": [
        "model=ImageDataGenerator(\n",
        "    rescale=1./255,\n",
        "    rotation_range=20,\n",
        "    width_shift_range=0.2,\n",
        "    height_shift_range=0.2,\n",
        "    shear_range=0.2,\n",
        "    zoom_range=0.2\n",
        ")"
      ],
      "metadata": {
        "id": "UmlNTgkyGeSx"
      },
      "execution_count": 9,
      "outputs": []
    },
    {
      "cell_type": "code",
      "source": [
        "model.flow_from_directory(\n",
        "    '/content/yes',\n",
        "    target_size=(180,180),\n",
        "    batch_size=32,\n",
        "    class_mode='binary'\n",
        ")"
      ],
      "metadata": {
        "colab": {
          "base_uri": "https://localhost:8080/"
        },
        "id": "dida9mvjGqm4",
        "outputId": "ea15449a-62bd-4512-fc14-924bbc52dd57"
      },
      "execution_count": 10,
      "outputs": [
        {
          "output_type": "stream",
          "name": "stdout",
          "text": [
            "Found 0 images belonging to 0 classes.\n"
          ]
        },
        {
          "output_type": "execute_result",
          "data": {
            "text/plain": [
              "<keras.src.legacy.preprocessing.image.DirectoryIterator at 0x7c05a087dd50>"
            ]
          },
          "metadata": {},
          "execution_count": 10
        }
      ]
    },
    {
      "cell_type": "code",
      "source": [
        "yes_path='/content/yes'\n",
        "no_path='/content/no'"
      ],
      "metadata": {
        "id": "n-3yra_vHIfA"
      },
      "execution_count": 11,
      "outputs": []
    },
    {
      "cell_type": "code",
      "source": [
        "yes_image_paths=[]\n",
        "no_image_paths=[]\n",
        "yes_label=[]\n",
        "no_label=[]"
      ],
      "metadata": {
        "id": "Z8EzcUatVOXq"
      },
      "execution_count": 12,
      "outputs": []
    },
    {
      "cell_type": "code",
      "source": [
        "for i in os.listdir(yes_path):\n",
        "  yes_image_paths.append(os.path.join(yes_path,i))\n",
        "  yes_label.append(1)\n",
        "for i in os.listdir(no_path):\n",
        "  no_image_paths.append(os.path.join(no_path,i))\n",
        "  no_label.append(0)\n",
        "\n",
        "\n",
        "\n"
      ],
      "metadata": {
        "id": "huPEbu46VWqz"
      },
      "execution_count": 17,
      "outputs": []
    },
    {
      "cell_type": "code",
      "source": [
        "yes_df=pd.DataFrame({'Image_path':yes_image_paths,'Image_label':yes_label})"
      ],
      "metadata": {
        "id": "eUEhaXKuVhT8"
      },
      "execution_count": 61,
      "outputs": []
    },
    {
      "cell_type": "code",
      "source": [
        "no_df=pd.DataFrame({'Image_path':no_image_paths,'Image_label':no_label})"
      ],
      "metadata": {
        "id": "1iumT_c7W-OB"
      },
      "execution_count": 62,
      "outputs": []
    },
    {
      "cell_type": "code",
      "source": [
        "df=pd.concat([yes_df,no_df],axis=0)"
      ],
      "metadata": {
        "id": "0nn-BxIzfHY-"
      },
      "execution_count": 64,
      "outputs": []
    },
    {
      "cell_type": "code",
      "source": [
        "x_train,x_test,y_train,y_test = train_test_split (df['Image_path'],df['Image_label'],test_size=0.2,random_state=42)"
      ],
      "metadata": {
        "id": "aKb_cY-uXRQ_"
      },
      "execution_count": 65,
      "outputs": []
    },
    {
      "cell_type": "code",
      "source": [
        "x_train"
      ],
      "metadata": {
        "colab": {
          "base_uri": "https://localhost:8080/",
          "height": 458
        },
        "id": "3akJvwO7YuHZ",
        "outputId": "91539010-4386-4c53-fb51-9c411221d628"
      },
      "execution_count": 66,
      "outputs": [
        {
          "output_type": "execute_result",
          "data": {
            "text/plain": [
              "642     /content/yes/y1346.jpg\n",
              "700       /content/yes/y95.jpg\n",
              "226      /content/yes/y469.jpg\n",
              "197      /content/no/no989.jpg\n",
              "1010     /content/yes/y250.jpg\n",
              "                 ...          \n",
              "138      /content/no/no895.jpg\n",
              "1095     /content/yes/y770.jpg\n",
              "1130     /content/yes/y209.jpg\n",
              "1294    /content/yes/y1180.jpg\n",
              "860     /content/yes/y1226.jpg\n",
              "Name: Image_path, Length: 2400, dtype: object"
            ],
            "text/html": [
              "<div>\n",
              "<style scoped>\n",
              "    .dataframe tbody tr th:only-of-type {\n",
              "        vertical-align: middle;\n",
              "    }\n",
              "\n",
              "    .dataframe tbody tr th {\n",
              "        vertical-align: top;\n",
              "    }\n",
              "\n",
              "    .dataframe thead th {\n",
              "        text-align: right;\n",
              "    }\n",
              "</style>\n",
              "<table border=\"1\" class=\"dataframe\">\n",
              "  <thead>\n",
              "    <tr style=\"text-align: right;\">\n",
              "      <th></th>\n",
              "      <th>Image_path</th>\n",
              "    </tr>\n",
              "  </thead>\n",
              "  <tbody>\n",
              "    <tr>\n",
              "      <th>642</th>\n",
              "      <td>/content/yes/y1346.jpg</td>\n",
              "    </tr>\n",
              "    <tr>\n",
              "      <th>700</th>\n",
              "      <td>/content/yes/y95.jpg</td>\n",
              "    </tr>\n",
              "    <tr>\n",
              "      <th>226</th>\n",
              "      <td>/content/yes/y469.jpg</td>\n",
              "    </tr>\n",
              "    <tr>\n",
              "      <th>197</th>\n",
              "      <td>/content/no/no989.jpg</td>\n",
              "    </tr>\n",
              "    <tr>\n",
              "      <th>1010</th>\n",
              "      <td>/content/yes/y250.jpg</td>\n",
              "    </tr>\n",
              "    <tr>\n",
              "      <th>...</th>\n",
              "      <td>...</td>\n",
              "    </tr>\n",
              "    <tr>\n",
              "      <th>138</th>\n",
              "      <td>/content/no/no895.jpg</td>\n",
              "    </tr>\n",
              "    <tr>\n",
              "      <th>1095</th>\n",
              "      <td>/content/yes/y770.jpg</td>\n",
              "    </tr>\n",
              "    <tr>\n",
              "      <th>1130</th>\n",
              "      <td>/content/yes/y209.jpg</td>\n",
              "    </tr>\n",
              "    <tr>\n",
              "      <th>1294</th>\n",
              "      <td>/content/yes/y1180.jpg</td>\n",
              "    </tr>\n",
              "    <tr>\n",
              "      <th>860</th>\n",
              "      <td>/content/yes/y1226.jpg</td>\n",
              "    </tr>\n",
              "  </tbody>\n",
              "</table>\n",
              "<p>2400 rows × 1 columns</p>\n",
              "</div><br><label><b>dtype:</b> object</label>"
            ]
          },
          "metadata": {},
          "execution_count": 66
        }
      ]
    },
    {
      "cell_type": "code",
      "source": [
        "x_train_image=[]\n",
        "for i in x_train:\n",
        "  img=cv2.imread(i)\n",
        "  if img is not None:\n",
        "    resized_img=cv2.resize(img,(180,180))\n",
        "    x_train_image.append(resized_img)"
      ],
      "metadata": {
        "id": "1FY4dvxpZLzP"
      },
      "execution_count": 67,
      "outputs": []
    },
    {
      "cell_type": "code",
      "source": [
        "x_test_image=[]\n",
        "for i in x_test:\n",
        "  img=cv2.imread(i)\n",
        "  if img is not None:\n",
        "    resized_img=cv2.resize(img,(180,180))\n",
        "    x_test_image.append(resized_img)"
      ],
      "metadata": {
        "id": "kj8EkMJUZXXt"
      },
      "execution_count": 68,
      "outputs": []
    },
    {
      "cell_type": "code",
      "source": [
        "x_train_image=np.array(x_train_image)\n",
        "x_test_image=np.array(x_test_image)"
      ],
      "metadata": {
        "id": "A5a_bj2xZcyE"
      },
      "execution_count": 69,
      "outputs": []
    },
    {
      "cell_type": "code",
      "source": [
        "x_train_label=np.array(y_train).reshape(-1,1)\n",
        "x_test_label=np.array(y_test).reshape(-1,1)"
      ],
      "metadata": {
        "id": "7bGHlugyZn0Q"
      },
      "execution_count": 70,
      "outputs": []
    },
    {
      "cell_type": "code",
      "source": [
        "from tensorflow.keras.layers import Conv2D, MaxPooling2D, Flatten, Dense, Dropout\n",
        "\n"
      ],
      "metadata": {
        "id": "moL6GRx5Z3lT"
      },
      "execution_count": 71,
      "outputs": []
    },
    {
      "cell_type": "code",
      "source": [
        "model=keras.Sequential()\n",
        "model.add(Conv2D(32,(3,3),activation='relu',input_shape=(180,180,3)))\n",
        "model.add(MaxPooling2D((2,2)))\n",
        "model.add(Conv2D(64,(3,3),activation='relu'))\n",
        "model.add(MaxPooling2D((2,2)))\n",
        "model.add(Conv2D(128,(3,3),activation='relu'))\n",
        "model.add(MaxPooling2D((2,2)))\n",
        "model.add(Flatten())\n",
        "model.add(Dense(128,activation='relu'))\n",
        "model.add(Dropout(0.5))\n",
        "model.add(Dense(1,activation='sigmoid'))"
      ],
      "metadata": {
        "colab": {
          "base_uri": "https://localhost:8080/"
        },
        "id": "Ku2X27OXaYSf",
        "outputId": "58f856ee-fac4-4405-efe7-8d506ca5aa0c"
      },
      "execution_count": 72,
      "outputs": [
        {
          "output_type": "stream",
          "name": "stderr",
          "text": [
            "/usr/local/lib/python3.10/dist-packages/keras/src/layers/convolutional/base_conv.py:107: UserWarning: Do not pass an `input_shape`/`input_dim` argument to a layer. When using Sequential models, prefer using an `Input(shape)` object as the first layer in the model instead.\n",
            "  super().__init__(activity_regularizer=activity_regularizer, **kwargs)\n"
          ]
        }
      ]
    },
    {
      "cell_type": "code",
      "source": [
        "model.summary()"
      ],
      "metadata": {
        "colab": {
          "base_uri": "https://localhost:8080/",
          "height": 476
        },
        "id": "g8KepNnsamke",
        "outputId": "27085606-fd9d-4258-922b-fe441c1f45aa"
      },
      "execution_count": 73,
      "outputs": [
        {
          "output_type": "display_data",
          "data": {
            "text/plain": [
              "\u001b[1mModel: \"sequential_1\"\u001b[0m\n"
            ],
            "text/html": [
              "<pre style=\"white-space:pre;overflow-x:auto;line-height:normal;font-family:Menlo,'DejaVu Sans Mono',consolas,'Courier New',monospace\"><span style=\"font-weight: bold\">Model: \"sequential_1\"</span>\n",
              "</pre>\n"
            ]
          },
          "metadata": {}
        },
        {
          "output_type": "display_data",
          "data": {
            "text/plain": [
              "┏━━━━━━━━━━━━━━━━━━━━━━━━━━━━━━━━━━━━━━┳━━━━━━━━━━━━━━━━━━━━━━━━━━━━━┳━━━━━━━━━━━━━━━━━┓\n",
              "┃\u001b[1m \u001b[0m\u001b[1mLayer (type)                        \u001b[0m\u001b[1m \u001b[0m┃\u001b[1m \u001b[0m\u001b[1mOutput Shape               \u001b[0m\u001b[1m \u001b[0m┃\u001b[1m \u001b[0m\u001b[1m        Param #\u001b[0m\u001b[1m \u001b[0m┃\n",
              "┡━━━━━━━━━━━━━━━━━━━━━━━━━━━━━━━━━━━━━━╇━━━━━━━━━━━━━━━━━━━━━━━━━━━━━╇━━━━━━━━━━━━━━━━━┩\n",
              "│ conv2d_3 (\u001b[38;5;33mConv2D\u001b[0m)                    │ (\u001b[38;5;45mNone\u001b[0m, \u001b[38;5;34m178\u001b[0m, \u001b[38;5;34m178\u001b[0m, \u001b[38;5;34m32\u001b[0m)        │             \u001b[38;5;34m896\u001b[0m │\n",
              "├──────────────────────────────────────┼─────────────────────────────┼─────────────────┤\n",
              "│ max_pooling2d_3 (\u001b[38;5;33mMaxPooling2D\u001b[0m)       │ (\u001b[38;5;45mNone\u001b[0m, \u001b[38;5;34m89\u001b[0m, \u001b[38;5;34m89\u001b[0m, \u001b[38;5;34m32\u001b[0m)          │               \u001b[38;5;34m0\u001b[0m │\n",
              "├──────────────────────────────────────┼─────────────────────────────┼─────────────────┤\n",
              "│ conv2d_4 (\u001b[38;5;33mConv2D\u001b[0m)                    │ (\u001b[38;5;45mNone\u001b[0m, \u001b[38;5;34m87\u001b[0m, \u001b[38;5;34m87\u001b[0m, \u001b[38;5;34m64\u001b[0m)          │          \u001b[38;5;34m18,496\u001b[0m │\n",
              "├──────────────────────────────────────┼─────────────────────────────┼─────────────────┤\n",
              "│ max_pooling2d_4 (\u001b[38;5;33mMaxPooling2D\u001b[0m)       │ (\u001b[38;5;45mNone\u001b[0m, \u001b[38;5;34m43\u001b[0m, \u001b[38;5;34m43\u001b[0m, \u001b[38;5;34m64\u001b[0m)          │               \u001b[38;5;34m0\u001b[0m │\n",
              "├──────────────────────────────────────┼─────────────────────────────┼─────────────────┤\n",
              "│ conv2d_5 (\u001b[38;5;33mConv2D\u001b[0m)                    │ (\u001b[38;5;45mNone\u001b[0m, \u001b[38;5;34m41\u001b[0m, \u001b[38;5;34m41\u001b[0m, \u001b[38;5;34m128\u001b[0m)         │          \u001b[38;5;34m73,856\u001b[0m │\n",
              "├──────────────────────────────────────┼─────────────────────────────┼─────────────────┤\n",
              "│ max_pooling2d_5 (\u001b[38;5;33mMaxPooling2D\u001b[0m)       │ (\u001b[38;5;45mNone\u001b[0m, \u001b[38;5;34m20\u001b[0m, \u001b[38;5;34m20\u001b[0m, \u001b[38;5;34m128\u001b[0m)         │               \u001b[38;5;34m0\u001b[0m │\n",
              "├──────────────────────────────────────┼─────────────────────────────┼─────────────────┤\n",
              "│ flatten_1 (\u001b[38;5;33mFlatten\u001b[0m)                  │ (\u001b[38;5;45mNone\u001b[0m, \u001b[38;5;34m51200\u001b[0m)               │               \u001b[38;5;34m0\u001b[0m │\n",
              "├──────────────────────────────────────┼─────────────────────────────┼─────────────────┤\n",
              "│ dense_2 (\u001b[38;5;33mDense\u001b[0m)                      │ (\u001b[38;5;45mNone\u001b[0m, \u001b[38;5;34m128\u001b[0m)                 │       \u001b[38;5;34m6,553,728\u001b[0m │\n",
              "├──────────────────────────────────────┼─────────────────────────────┼─────────────────┤\n",
              "│ dropout_1 (\u001b[38;5;33mDropout\u001b[0m)                  │ (\u001b[38;5;45mNone\u001b[0m, \u001b[38;5;34m128\u001b[0m)                 │               \u001b[38;5;34m0\u001b[0m │\n",
              "├──────────────────────────────────────┼─────────────────────────────┼─────────────────┤\n",
              "│ dense_3 (\u001b[38;5;33mDense\u001b[0m)                      │ (\u001b[38;5;45mNone\u001b[0m, \u001b[38;5;34m1\u001b[0m)                   │             \u001b[38;5;34m129\u001b[0m │\n",
              "└──────────────────────────────────────┴─────────────────────────────┴─────────────────┘\n"
            ],
            "text/html": [
              "<pre style=\"white-space:pre;overflow-x:auto;line-height:normal;font-family:Menlo,'DejaVu Sans Mono',consolas,'Courier New',monospace\">┏━━━━━━━━━━━━━━━━━━━━━━━━━━━━━━━━━━━━━━┳━━━━━━━━━━━━━━━━━━━━━━━━━━━━━┳━━━━━━━━━━━━━━━━━┓\n",
              "┃<span style=\"font-weight: bold\"> Layer (type)                         </span>┃<span style=\"font-weight: bold\"> Output Shape                </span>┃<span style=\"font-weight: bold\">         Param # </span>┃\n",
              "┡━━━━━━━━━━━━━━━━━━━━━━━━━━━━━━━━━━━━━━╇━━━━━━━━━━━━━━━━━━━━━━━━━━━━━╇━━━━━━━━━━━━━━━━━┩\n",
              "│ conv2d_3 (<span style=\"color: #0087ff; text-decoration-color: #0087ff\">Conv2D</span>)                    │ (<span style=\"color: #00d7ff; text-decoration-color: #00d7ff\">None</span>, <span style=\"color: #00af00; text-decoration-color: #00af00\">178</span>, <span style=\"color: #00af00; text-decoration-color: #00af00\">178</span>, <span style=\"color: #00af00; text-decoration-color: #00af00\">32</span>)        │             <span style=\"color: #00af00; text-decoration-color: #00af00\">896</span> │\n",
              "├──────────────────────────────────────┼─────────────────────────────┼─────────────────┤\n",
              "│ max_pooling2d_3 (<span style=\"color: #0087ff; text-decoration-color: #0087ff\">MaxPooling2D</span>)       │ (<span style=\"color: #00d7ff; text-decoration-color: #00d7ff\">None</span>, <span style=\"color: #00af00; text-decoration-color: #00af00\">89</span>, <span style=\"color: #00af00; text-decoration-color: #00af00\">89</span>, <span style=\"color: #00af00; text-decoration-color: #00af00\">32</span>)          │               <span style=\"color: #00af00; text-decoration-color: #00af00\">0</span> │\n",
              "├──────────────────────────────────────┼─────────────────────────────┼─────────────────┤\n",
              "│ conv2d_4 (<span style=\"color: #0087ff; text-decoration-color: #0087ff\">Conv2D</span>)                    │ (<span style=\"color: #00d7ff; text-decoration-color: #00d7ff\">None</span>, <span style=\"color: #00af00; text-decoration-color: #00af00\">87</span>, <span style=\"color: #00af00; text-decoration-color: #00af00\">87</span>, <span style=\"color: #00af00; text-decoration-color: #00af00\">64</span>)          │          <span style=\"color: #00af00; text-decoration-color: #00af00\">18,496</span> │\n",
              "├──────────────────────────────────────┼─────────────────────────────┼─────────────────┤\n",
              "│ max_pooling2d_4 (<span style=\"color: #0087ff; text-decoration-color: #0087ff\">MaxPooling2D</span>)       │ (<span style=\"color: #00d7ff; text-decoration-color: #00d7ff\">None</span>, <span style=\"color: #00af00; text-decoration-color: #00af00\">43</span>, <span style=\"color: #00af00; text-decoration-color: #00af00\">43</span>, <span style=\"color: #00af00; text-decoration-color: #00af00\">64</span>)          │               <span style=\"color: #00af00; text-decoration-color: #00af00\">0</span> │\n",
              "├──────────────────────────────────────┼─────────────────────────────┼─────────────────┤\n",
              "│ conv2d_5 (<span style=\"color: #0087ff; text-decoration-color: #0087ff\">Conv2D</span>)                    │ (<span style=\"color: #00d7ff; text-decoration-color: #00d7ff\">None</span>, <span style=\"color: #00af00; text-decoration-color: #00af00\">41</span>, <span style=\"color: #00af00; text-decoration-color: #00af00\">41</span>, <span style=\"color: #00af00; text-decoration-color: #00af00\">128</span>)         │          <span style=\"color: #00af00; text-decoration-color: #00af00\">73,856</span> │\n",
              "├──────────────────────────────────────┼─────────────────────────────┼─────────────────┤\n",
              "│ max_pooling2d_5 (<span style=\"color: #0087ff; text-decoration-color: #0087ff\">MaxPooling2D</span>)       │ (<span style=\"color: #00d7ff; text-decoration-color: #00d7ff\">None</span>, <span style=\"color: #00af00; text-decoration-color: #00af00\">20</span>, <span style=\"color: #00af00; text-decoration-color: #00af00\">20</span>, <span style=\"color: #00af00; text-decoration-color: #00af00\">128</span>)         │               <span style=\"color: #00af00; text-decoration-color: #00af00\">0</span> │\n",
              "├──────────────────────────────────────┼─────────────────────────────┼─────────────────┤\n",
              "│ flatten_1 (<span style=\"color: #0087ff; text-decoration-color: #0087ff\">Flatten</span>)                  │ (<span style=\"color: #00d7ff; text-decoration-color: #00d7ff\">None</span>, <span style=\"color: #00af00; text-decoration-color: #00af00\">51200</span>)               │               <span style=\"color: #00af00; text-decoration-color: #00af00\">0</span> │\n",
              "├──────────────────────────────────────┼─────────────────────────────┼─────────────────┤\n",
              "│ dense_2 (<span style=\"color: #0087ff; text-decoration-color: #0087ff\">Dense</span>)                      │ (<span style=\"color: #00d7ff; text-decoration-color: #00d7ff\">None</span>, <span style=\"color: #00af00; text-decoration-color: #00af00\">128</span>)                 │       <span style=\"color: #00af00; text-decoration-color: #00af00\">6,553,728</span> │\n",
              "├──────────────────────────────────────┼─────────────────────────────┼─────────────────┤\n",
              "│ dropout_1 (<span style=\"color: #0087ff; text-decoration-color: #0087ff\">Dropout</span>)                  │ (<span style=\"color: #00d7ff; text-decoration-color: #00d7ff\">None</span>, <span style=\"color: #00af00; text-decoration-color: #00af00\">128</span>)                 │               <span style=\"color: #00af00; text-decoration-color: #00af00\">0</span> │\n",
              "├──────────────────────────────────────┼─────────────────────────────┼─────────────────┤\n",
              "│ dense_3 (<span style=\"color: #0087ff; text-decoration-color: #0087ff\">Dense</span>)                      │ (<span style=\"color: #00d7ff; text-decoration-color: #00d7ff\">None</span>, <span style=\"color: #00af00; text-decoration-color: #00af00\">1</span>)                   │             <span style=\"color: #00af00; text-decoration-color: #00af00\">129</span> │\n",
              "└──────────────────────────────────────┴─────────────────────────────┴─────────────────┘\n",
              "</pre>\n"
            ]
          },
          "metadata": {}
        },
        {
          "output_type": "display_data",
          "data": {
            "text/plain": [
              "\u001b[1m Total params: \u001b[0m\u001b[38;5;34m6,647,105\u001b[0m (25.36 MB)\n"
            ],
            "text/html": [
              "<pre style=\"white-space:pre;overflow-x:auto;line-height:normal;font-family:Menlo,'DejaVu Sans Mono',consolas,'Courier New',monospace\"><span style=\"font-weight: bold\"> Total params: </span><span style=\"color: #00af00; text-decoration-color: #00af00\">6,647,105</span> (25.36 MB)\n",
              "</pre>\n"
            ]
          },
          "metadata": {}
        },
        {
          "output_type": "display_data",
          "data": {
            "text/plain": [
              "\u001b[1m Trainable params: \u001b[0m\u001b[38;5;34m6,647,105\u001b[0m (25.36 MB)\n"
            ],
            "text/html": [
              "<pre style=\"white-space:pre;overflow-x:auto;line-height:normal;font-family:Menlo,'DejaVu Sans Mono',consolas,'Courier New',monospace\"><span style=\"font-weight: bold\"> Trainable params: </span><span style=\"color: #00af00; text-decoration-color: #00af00\">6,647,105</span> (25.36 MB)\n",
              "</pre>\n"
            ]
          },
          "metadata": {}
        },
        {
          "output_type": "display_data",
          "data": {
            "text/plain": [
              "\u001b[1m Non-trainable params: \u001b[0m\u001b[38;5;34m0\u001b[0m (0.00 B)\n"
            ],
            "text/html": [
              "<pre style=\"white-space:pre;overflow-x:auto;line-height:normal;font-family:Menlo,'DejaVu Sans Mono',consolas,'Courier New',monospace\"><span style=\"font-weight: bold\"> Non-trainable params: </span><span style=\"color: #00af00; text-decoration-color: #00af00\">0</span> (0.00 B)\n",
              "</pre>\n"
            ]
          },
          "metadata": {}
        }
      ]
    },
    {
      "cell_type": "code",
      "source": [
        "model.compile(optimizer='adam',loss='binary_crossentropy',metrics=['accuracy'])"
      ],
      "metadata": {
        "id": "cfS3pQxAaqBh"
      },
      "execution_count": 74,
      "outputs": []
    },
    {
      "cell_type": "code",
      "source": [
        "model.fit(x_train_image,x_train_label,epochs=1,validation_data=(x_test_image,x_test_label))"
      ],
      "metadata": {
        "colab": {
          "base_uri": "https://localhost:8080/"
        },
        "id": "YdHEt_0ya2oS",
        "outputId": "e3b5b0bc-ecd6-4607-dc30-36c8e5b37869"
      },
      "execution_count": 75,
      "outputs": [
        {
          "output_type": "stream",
          "name": "stdout",
          "text": [
            "\u001b[1m75/75\u001b[0m \u001b[32m━━━━━━━━━━━━━━━━━━━━\u001b[0m\u001b[37m\u001b[0m \u001b[1m200s\u001b[0m 3s/step - accuracy: 0.7135 - loss: 16.9486 - val_accuracy: 0.8500 - val_loss: 0.3196\n"
          ]
        },
        {
          "output_type": "execute_result",
          "data": {
            "text/plain": [
              "<keras.src.callbacks.history.History at 0x7c057ac90f70>"
            ]
          },
          "metadata": {},
          "execution_count": 75
        }
      ]
    },
    {
      "cell_type": "code",
      "source": [
        "model.evaluate(x_test_image,x_test_label)"
      ],
      "metadata": {
        "colab": {
          "base_uri": "https://localhost:8080/"
        },
        "id": "jzioC3oLa409",
        "outputId": "a1dc3b24-fdf8-4874-e8b4-604f08a8d41a"
      },
      "execution_count": 76,
      "outputs": [
        {
          "output_type": "stream",
          "name": "stdout",
          "text": [
            "\u001b[1m19/19\u001b[0m \u001b[32m━━━━━━━━━━━━━━━━━━━━\u001b[0m\u001b[37m\u001b[0m \u001b[1m13s\u001b[0m 702ms/step - accuracy: 0.8616 - loss: 0.3148\n"
          ]
        },
        {
          "output_type": "execute_result",
          "data": {
            "text/plain": [
              "[0.3196370601654053, 0.8500000238418579]"
            ]
          },
          "metadata": {},
          "execution_count": 76
        }
      ]
    },
    {
      "cell_type": "code",
      "source": [
        "path_to_image='/content/yes/y1122.jpg'"
      ],
      "metadata": {
        "id": "vZwNQ8jRc5s6"
      },
      "execution_count": 90,
      "outputs": []
    },
    {
      "cell_type": "code",
      "source": [
        "image=cv2.imread(path_to_image)"
      ],
      "metadata": {
        "id": "KM2Q340bdRjd"
      },
      "execution_count": 91,
      "outputs": []
    },
    {
      "cell_type": "code",
      "source": [
        "image=cv2.resize(image,(180,180))"
      ],
      "metadata": {
        "id": "jiqYXOZcdiZt"
      },
      "execution_count": 92,
      "outputs": []
    },
    {
      "cell_type": "code",
      "source": [
        "np.where(model.predict(image.reshape(1,180,180,3)) > 0.5 ,1,0 )"
      ],
      "metadata": {
        "colab": {
          "base_uri": "https://localhost:8080/"
        },
        "id": "SvpcfJWMdMH0",
        "outputId": "85c3f084-2872-4fa6-d982-6a578b000338"
      },
      "execution_count": 93,
      "outputs": [
        {
          "output_type": "stream",
          "name": "stdout",
          "text": [
            "\u001b[1m1/1\u001b[0m \u001b[32m━━━━━━━━━━━━━━━━━━━━\u001b[0m\u001b[37m\u001b[0m \u001b[1m0s\u001b[0m 44ms/step\n"
          ]
        },
        {
          "output_type": "execute_result",
          "data": {
            "text/plain": [
              "array([[1]])"
            ]
          },
          "metadata": {},
          "execution_count": 93
        }
      ]
    },
    {
      "cell_type": "code",
      "source": [
        "model.save('brain_tumor_detection.h5')"
      ],
      "metadata": {
        "colab": {
          "base_uri": "https://localhost:8080/"
        },
        "id": "b-P8LgJJdOxZ",
        "outputId": "0e73c5ae-5db0-478e-cf6f-ae44d0d34490"
      },
      "execution_count": 94,
      "outputs": [
        {
          "output_type": "stream",
          "name": "stderr",
          "text": [
            "WARNING:absl:You are saving your model as an HDF5 file via `model.save()` or `keras.saving.save_model(model)`. This file format is considered legacy. We recommend using instead the native Keras format, e.g. `model.save('my_model.keras')` or `keras.saving.save_model(model, 'my_model.keras')`. \n"
          ]
        }
      ]
    },
    {
      "cell_type": "code",
      "source": [
        "! pip install gradio"
      ],
      "metadata": {
        "colab": {
          "base_uri": "https://localhost:8080/"
        },
        "id": "kspKBu_lg6f9",
        "outputId": "ac541fdb-f65c-44d6-e187-055e5bf1035b"
      },
      "execution_count": 95,
      "outputs": [
        {
          "output_type": "stream",
          "name": "stdout",
          "text": [
            "Collecting gradio\n",
            "  Downloading gradio-5.10.0-py3-none-any.whl.metadata (16 kB)\n",
            "Collecting aiofiles<24.0,>=22.0 (from gradio)\n",
            "  Downloading aiofiles-23.2.1-py3-none-any.whl.metadata (9.7 kB)\n",
            "Requirement already satisfied: anyio<5.0,>=3.0 in /usr/local/lib/python3.10/dist-packages (from gradio) (3.7.1)\n",
            "Collecting fastapi<1.0,>=0.115.2 (from gradio)\n",
            "  Downloading fastapi-0.115.6-py3-none-any.whl.metadata (27 kB)\n",
            "Collecting ffmpy (from gradio)\n",
            "  Downloading ffmpy-0.5.0-py3-none-any.whl.metadata (3.0 kB)\n",
            "Collecting gradio-client==1.5.3 (from gradio)\n",
            "  Downloading gradio_client-1.5.3-py3-none-any.whl.metadata (7.1 kB)\n",
            "Requirement already satisfied: httpx>=0.24.1 in /usr/local/lib/python3.10/dist-packages (from gradio) (0.28.1)\n",
            "Requirement already satisfied: huggingface-hub>=0.25.1 in /usr/local/lib/python3.10/dist-packages (from gradio) (0.27.0)\n",
            "Requirement already satisfied: jinja2<4.0 in /usr/local/lib/python3.10/dist-packages (from gradio) (3.1.4)\n",
            "Collecting markupsafe~=2.0 (from gradio)\n",
            "  Downloading MarkupSafe-2.1.5-cp310-cp310-manylinux_2_17_x86_64.manylinux2014_x86_64.whl.metadata (3.0 kB)\n",
            "Requirement already satisfied: numpy<3.0,>=1.0 in /usr/local/lib/python3.10/dist-packages (from gradio) (1.26.4)\n",
            "Requirement already satisfied: orjson~=3.0 in /usr/local/lib/python3.10/dist-packages (from gradio) (3.10.12)\n",
            "Requirement already satisfied: packaging in /usr/local/lib/python3.10/dist-packages (from gradio) (24.2)\n",
            "Requirement already satisfied: pandas<3.0,>=1.0 in /usr/local/lib/python3.10/dist-packages (from gradio) (2.2.2)\n",
            "Requirement already satisfied: pillow<12.0,>=8.0 in /usr/local/lib/python3.10/dist-packages (from gradio) (11.0.0)\n",
            "Requirement already satisfied: pydantic>=2.0 in /usr/local/lib/python3.10/dist-packages (from gradio) (2.10.3)\n",
            "Collecting pydub (from gradio)\n",
            "  Downloading pydub-0.25.1-py2.py3-none-any.whl.metadata (1.4 kB)\n",
            "Collecting python-multipart>=0.0.18 (from gradio)\n",
            "  Downloading python_multipart-0.0.20-py3-none-any.whl.metadata (1.8 kB)\n",
            "Requirement already satisfied: pyyaml<7.0,>=5.0 in /usr/local/lib/python3.10/dist-packages (from gradio) (6.0.2)\n",
            "Collecting ruff>=0.2.2 (from gradio)\n",
            "  Downloading ruff-0.8.6-py3-none-manylinux_2_17_x86_64.manylinux2014_x86_64.whl.metadata (25 kB)\n",
            "Collecting safehttpx<0.2.0,>=0.1.6 (from gradio)\n",
            "  Downloading safehttpx-0.1.6-py3-none-any.whl.metadata (4.2 kB)\n",
            "Collecting semantic-version~=2.0 (from gradio)\n",
            "  Downloading semantic_version-2.10.0-py2.py3-none-any.whl.metadata (9.7 kB)\n",
            "Collecting starlette<1.0,>=0.40.0 (from gradio)\n",
            "  Downloading starlette-0.45.2-py3-none-any.whl.metadata (6.3 kB)\n",
            "Collecting tomlkit<0.14.0,>=0.12.0 (from gradio)\n",
            "  Downloading tomlkit-0.13.2-py3-none-any.whl.metadata (2.7 kB)\n",
            "Requirement already satisfied: typer<1.0,>=0.12 in /usr/local/lib/python3.10/dist-packages (from gradio) (0.15.1)\n",
            "Requirement already satisfied: typing-extensions~=4.0 in /usr/local/lib/python3.10/dist-packages (from gradio) (4.12.2)\n",
            "Collecting uvicorn>=0.14.0 (from gradio)\n",
            "  Downloading uvicorn-0.34.0-py3-none-any.whl.metadata (6.5 kB)\n",
            "Requirement already satisfied: fsspec in /usr/local/lib/python3.10/dist-packages (from gradio-client==1.5.3->gradio) (2024.10.0)\n",
            "Requirement already satisfied: websockets<15.0,>=10.0 in /usr/local/lib/python3.10/dist-packages (from gradio-client==1.5.3->gradio) (14.1)\n",
            "Requirement already satisfied: idna>=2.8 in /usr/local/lib/python3.10/dist-packages (from anyio<5.0,>=3.0->gradio) (3.10)\n",
            "Requirement already satisfied: sniffio>=1.1 in /usr/local/lib/python3.10/dist-packages (from anyio<5.0,>=3.0->gradio) (1.3.1)\n",
            "Requirement already satisfied: exceptiongroup in /usr/local/lib/python3.10/dist-packages (from anyio<5.0,>=3.0->gradio) (1.2.2)\n",
            "Collecting starlette<1.0,>=0.40.0 (from gradio)\n",
            "  Downloading starlette-0.41.3-py3-none-any.whl.metadata (6.0 kB)\n",
            "Requirement already satisfied: certifi in /usr/local/lib/python3.10/dist-packages (from httpx>=0.24.1->gradio) (2024.12.14)\n",
            "Requirement already satisfied: httpcore==1.* in /usr/local/lib/python3.10/dist-packages (from httpx>=0.24.1->gradio) (1.0.7)\n",
            "Requirement already satisfied: h11<0.15,>=0.13 in /usr/local/lib/python3.10/dist-packages (from httpcore==1.*->httpx>=0.24.1->gradio) (0.14.0)\n",
            "Requirement already satisfied: filelock in /usr/local/lib/python3.10/dist-packages (from huggingface-hub>=0.25.1->gradio) (3.16.1)\n",
            "Requirement already satisfied: requests in /usr/local/lib/python3.10/dist-packages (from huggingface-hub>=0.25.1->gradio) (2.32.3)\n",
            "Requirement already satisfied: tqdm>=4.42.1 in /usr/local/lib/python3.10/dist-packages (from huggingface-hub>=0.25.1->gradio) (4.67.1)\n",
            "Requirement already satisfied: python-dateutil>=2.8.2 in /usr/local/lib/python3.10/dist-packages (from pandas<3.0,>=1.0->gradio) (2.8.2)\n",
            "Requirement already satisfied: pytz>=2020.1 in /usr/local/lib/python3.10/dist-packages (from pandas<3.0,>=1.0->gradio) (2024.2)\n",
            "Requirement already satisfied: tzdata>=2022.7 in /usr/local/lib/python3.10/dist-packages (from pandas<3.0,>=1.0->gradio) (2024.2)\n",
            "Requirement already satisfied: annotated-types>=0.6.0 in /usr/local/lib/python3.10/dist-packages (from pydantic>=2.0->gradio) (0.7.0)\n",
            "Requirement already satisfied: pydantic-core==2.27.1 in /usr/local/lib/python3.10/dist-packages (from pydantic>=2.0->gradio) (2.27.1)\n",
            "Requirement already satisfied: click>=8.0.0 in /usr/local/lib/python3.10/dist-packages (from typer<1.0,>=0.12->gradio) (8.1.7)\n",
            "Requirement already satisfied: shellingham>=1.3.0 in /usr/local/lib/python3.10/dist-packages (from typer<1.0,>=0.12->gradio) (1.5.4)\n",
            "Requirement already satisfied: rich>=10.11.0 in /usr/local/lib/python3.10/dist-packages (from typer<1.0,>=0.12->gradio) (13.9.4)\n",
            "Requirement already satisfied: six>=1.5 in /usr/local/lib/python3.10/dist-packages (from python-dateutil>=2.8.2->pandas<3.0,>=1.0->gradio) (1.17.0)\n",
            "Requirement already satisfied: markdown-it-py>=2.2.0 in /usr/local/lib/python3.10/dist-packages (from rich>=10.11.0->typer<1.0,>=0.12->gradio) (3.0.0)\n",
            "Requirement already satisfied: pygments<3.0.0,>=2.13.0 in /usr/local/lib/python3.10/dist-packages (from rich>=10.11.0->typer<1.0,>=0.12->gradio) (2.18.0)\n",
            "Requirement already satisfied: charset-normalizer<4,>=2 in /usr/local/lib/python3.10/dist-packages (from requests->huggingface-hub>=0.25.1->gradio) (3.4.0)\n",
            "Requirement already satisfied: urllib3<3,>=1.21.1 in /usr/local/lib/python3.10/dist-packages (from requests->huggingface-hub>=0.25.1->gradio) (2.2.3)\n",
            "Requirement already satisfied: mdurl~=0.1 in /usr/local/lib/python3.10/dist-packages (from markdown-it-py>=2.2.0->rich>=10.11.0->typer<1.0,>=0.12->gradio) (0.1.2)\n",
            "Downloading gradio-5.10.0-py3-none-any.whl (57.5 MB)\n",
            "\u001b[2K   \u001b[90m━━━━━━━━━━━━━━━━━━━━━━━━━━━━━━━━━━━━━━━━\u001b[0m \u001b[32m57.5/57.5 MB\u001b[0m \u001b[31m13.4 MB/s\u001b[0m eta \u001b[36m0:00:00\u001b[0m\n",
            "\u001b[?25hDownloading gradio_client-1.5.3-py3-none-any.whl (320 kB)\n",
            "\u001b[2K   \u001b[90m━━━━━━━━━━━━━━━━━━━━━━━━━━━━━━━━━━━━━━━━\u001b[0m \u001b[32m320.6/320.6 kB\u001b[0m \u001b[31m19.0 MB/s\u001b[0m eta \u001b[36m0:00:00\u001b[0m\n",
            "\u001b[?25hDownloading aiofiles-23.2.1-py3-none-any.whl (15 kB)\n",
            "Downloading fastapi-0.115.6-py3-none-any.whl (94 kB)\n",
            "\u001b[2K   \u001b[90m━━━━━━━━━━━━━━━━━━━━━━━━━━━━━━━━━━━━━━━━\u001b[0m \u001b[32m94.8/94.8 kB\u001b[0m \u001b[31m6.4 MB/s\u001b[0m eta \u001b[36m0:00:00\u001b[0m\n",
            "\u001b[?25hDownloading MarkupSafe-2.1.5-cp310-cp310-manylinux_2_17_x86_64.manylinux2014_x86_64.whl (25 kB)\n",
            "Downloading python_multipart-0.0.20-py3-none-any.whl (24 kB)\n",
            "Downloading ruff-0.8.6-py3-none-manylinux_2_17_x86_64.manylinux2014_x86_64.whl (11.3 MB)\n",
            "\u001b[2K   \u001b[90m━━━━━━━━━━━━━━━━━━━━━━━━━━━━━━━━━━━━━━━━\u001b[0m \u001b[32m11.3/11.3 MB\u001b[0m \u001b[31m78.8 MB/s\u001b[0m eta \u001b[36m0:00:00\u001b[0m\n",
            "\u001b[?25hDownloading safehttpx-0.1.6-py3-none-any.whl (8.7 kB)\n",
            "Downloading semantic_version-2.10.0-py2.py3-none-any.whl (15 kB)\n",
            "Downloading starlette-0.41.3-py3-none-any.whl (73 kB)\n",
            "\u001b[2K   \u001b[90m━━━━━━━━━━━━━━━━━━━━━━━━━━━━━━━━━━━━━━━━\u001b[0m \u001b[32m73.2/73.2 kB\u001b[0m \u001b[31m5.2 MB/s\u001b[0m eta \u001b[36m0:00:00\u001b[0m\n",
            "\u001b[?25hDownloading tomlkit-0.13.2-py3-none-any.whl (37 kB)\n",
            "Downloading uvicorn-0.34.0-py3-none-any.whl (62 kB)\n",
            "\u001b[2K   \u001b[90m━━━━━━━━━━━━━━━━━━━━━━━━━━━━━━━━━━━━━━━━\u001b[0m \u001b[32m62.3/62.3 kB\u001b[0m \u001b[31m3.9 MB/s\u001b[0m eta \u001b[36m0:00:00\u001b[0m\n",
            "\u001b[?25hDownloading ffmpy-0.5.0-py3-none-any.whl (6.0 kB)\n",
            "Downloading pydub-0.25.1-py2.py3-none-any.whl (32 kB)\n",
            "Installing collected packages: pydub, uvicorn, tomlkit, semantic-version, ruff, python-multipart, markupsafe, ffmpy, aiofiles, starlette, safehttpx, gradio-client, fastapi, gradio\n",
            "  Attempting uninstall: markupsafe\n",
            "    Found existing installation: MarkupSafe 3.0.2\n",
            "    Uninstalling MarkupSafe-3.0.2:\n",
            "      Successfully uninstalled MarkupSafe-3.0.2\n",
            "Successfully installed aiofiles-23.2.1 fastapi-0.115.6 ffmpy-0.5.0 gradio-5.10.0 gradio-client-1.5.3 markupsafe-2.1.5 pydub-0.25.1 python-multipart-0.0.20 ruff-0.8.6 safehttpx-0.1.6 semantic-version-2.10.0 starlette-0.41.3 tomlkit-0.13.2 uvicorn-0.34.0\n"
          ]
        }
      ]
    },
    {
      "cell_type": "code",
      "source": [
        "import gradio"
      ],
      "metadata": {
        "id": "TXoquQ2ThCey"
      },
      "execution_count": 96,
      "outputs": []
    },
    {
      "cell_type": "code",
      "source": [
        "def brain_tumor_detection(image):\n",
        "  image=cv2.resize(image,(180,180))\n",
        "  image=image.reshape(1,180,180,3)\n",
        "  prediction=model.predict(image)\n",
        "  return str(np.where(prediction > 0.5 ,'Brain_Tumor','No_Brain_Tumor' )[0][0])\n"
      ],
      "metadata": {
        "id": "an8-0LZZhIir"
      },
      "execution_count": 97,
      "outputs": []
    },
    {
      "cell_type": "code",
      "source": [
        "gradio.Interface(brain_tumor_detection,gradio.Image(),'text').launch(debug=True)"
      ],
      "metadata": {
        "colab": {
          "base_uri": "https://localhost:8080/",
          "height": 1000
        },
        "id": "sDreW_fxhzgA",
        "outputId": "c8958331-df29-488c-b112-68c8cb906d14"
      },
      "execution_count": null,
      "outputs": [
        {
          "output_type": "stream",
          "name": "stdout",
          "text": [
            "Running Gradio in a Colab notebook requires sharing enabled. Automatically setting `share=True` (you can turn this off by setting `share=False` in `launch()` explicitly).\n",
            "\n",
            "Colab notebook detected. This cell will run indefinitely so that you can see errors and logs. To turn off, set debug=False in launch().\n",
            "* Running on public URL: https://bcfb5d9cba52515c32.gradio.live\n",
            "\n",
            "This share link expires in 72 hours. For free permanent hosting and GPU upgrades, run `gradio deploy` from the terminal in the working directory to deploy to Hugging Face Spaces (https://huggingface.co/spaces)\n"
          ]
        },
        {
          "output_type": "display_data",
          "data": {
            "text/plain": [
              "<IPython.core.display.HTML object>"
            ],
            "text/html": [
              "<div><iframe src=\"https://bcfb5d9cba52515c32.gradio.live\" width=\"100%\" height=\"500\" allow=\"autoplay; camera; microphone; clipboard-read; clipboard-write;\" frameborder=\"0\" allowfullscreen></iframe></div>"
            ]
          },
          "metadata": {}
        },
        {
          "output_type": "stream",
          "name": "stdout",
          "text": [
            "\u001b[1m1/1\u001b[0m \u001b[32m━━━━━━━━━━━━━━━━━━━━\u001b[0m\u001b[37m\u001b[0m \u001b[1m0s\u001b[0m 84ms/step\n",
            "\u001b[1m1/1\u001b[0m \u001b[32m━━━━━━━━━━━━━━━━━━━━\u001b[0m\u001b[37m\u001b[0m \u001b[1m0s\u001b[0m 86ms/step\n",
            "\u001b[1m1/1\u001b[0m \u001b[32m━━━━━━━━━━━━━━━━━━━━\u001b[0m\u001b[37m\u001b[0m \u001b[1m0s\u001b[0m 49ms/step\n",
            "\u001b[1m1/1\u001b[0m \u001b[32m━━━━━━━━━━━━━━━━━━━━\u001b[0m\u001b[37m\u001b[0m \u001b[1m0s\u001b[0m 46ms/step\n",
            "\u001b[1m1/1\u001b[0m \u001b[32m━━━━━━━━━━━━━━━━━━━━\u001b[0m\u001b[37m\u001b[0m \u001b[1m0s\u001b[0m 55ms/step\n",
            "\u001b[1m1/1\u001b[0m \u001b[32m━━━━━━━━━━━━━━━━━━━━\u001b[0m\u001b[37m\u001b[0m \u001b[1m0s\u001b[0m 75ms/step\n",
            "\u001b[1m1/1\u001b[0m \u001b[32m━━━━━━━━━━━━━━━━━━━━\u001b[0m\u001b[37m\u001b[0m \u001b[1m0s\u001b[0m 54ms/step\n",
            "\u001b[1m1/1\u001b[0m \u001b[32m━━━━━━━━━━━━━━━━━━━━\u001b[0m\u001b[37m\u001b[0m \u001b[1m0s\u001b[0m 44ms/step\n",
            "\u001b[1m1/1\u001b[0m \u001b[32m━━━━━━━━━━━━━━━━━━━━\u001b[0m\u001b[37m\u001b[0m \u001b[1m0s\u001b[0m 42ms/step\n",
            "\u001b[1m1/1\u001b[0m \u001b[32m━━━━━━━━━━━━━━━━━━━━\u001b[0m\u001b[37m\u001b[0m \u001b[1m0s\u001b[0m 41ms/step\n",
            "\u001b[1m1/1\u001b[0m \u001b[32m━━━━━━━━━━━━━━━━━━━━\u001b[0m\u001b[37m\u001b[0m \u001b[1m0s\u001b[0m 45ms/step\n",
            "\u001b[1m1/1\u001b[0m \u001b[32m━━━━━━━━━━━━━━━━━━━━\u001b[0m\u001b[37m\u001b[0m \u001b[1m0s\u001b[0m 79ms/step\n",
            "\u001b[1m1/1\u001b[0m \u001b[32m━━━━━━━━━━━━━━━━━━━━\u001b[0m\u001b[37m\u001b[0m \u001b[1m0s\u001b[0m 74ms/step\n",
            "\u001b[1m1/1\u001b[0m \u001b[32m━━━━━━━━━━━━━━━━━━━━\u001b[0m\u001b[37m\u001b[0m \u001b[1m0s\u001b[0m 44ms/step\n",
            "\u001b[1m1/1\u001b[0m \u001b[32m━━━━━━━━━━━━━━━━━━━━\u001b[0m\u001b[37m\u001b[0m \u001b[1m0s\u001b[0m 48ms/step\n",
            "\u001b[1m1/1\u001b[0m \u001b[32m━━━━━━━━━━━━━━━━━━━━\u001b[0m\u001b[37m\u001b[0m \u001b[1m0s\u001b[0m 48ms/step\n",
            "\u001b[1m1/1\u001b[0m \u001b[32m━━━━━━━━━━━━━━━━━━━━\u001b[0m\u001b[37m\u001b[0m \u001b[1m0s\u001b[0m 85ms/step\n",
            "\u001b[1m1/1\u001b[0m \u001b[32m━━━━━━━━━━━━━━━━━━━━\u001b[0m\u001b[37m\u001b[0m \u001b[1m0s\u001b[0m 43ms/step\n",
            "\u001b[1m1/1\u001b[0m \u001b[32m━━━━━━━━━━━━━━━━━━━━\u001b[0m\u001b[37m\u001b[0m \u001b[1m0s\u001b[0m 44ms/step\n",
            "\u001b[1m1/1\u001b[0m \u001b[32m━━━━━━━━━━━━━━━━━━━━\u001b[0m\u001b[37m\u001b[0m \u001b[1m0s\u001b[0m 45ms/step\n",
            "\u001b[1m1/1\u001b[0m \u001b[32m━━━━━━━━━━━━━━━━━━━━\u001b[0m\u001b[37m\u001b[0m \u001b[1m0s\u001b[0m 46ms/step\n",
            "\u001b[1m1/1\u001b[0m \u001b[32m━━━━━━━━━━━━━━━━━━━━\u001b[0m\u001b[37m\u001b[0m \u001b[1m0s\u001b[0m 45ms/step\n",
            "\u001b[1m1/1\u001b[0m \u001b[32m━━━━━━━━━━━━━━━━━━━━\u001b[0m\u001b[37m\u001b[0m \u001b[1m0s\u001b[0m 40ms/step\n",
            "\u001b[1m1/1\u001b[0m \u001b[32m━━━━━━━━━━━━━━━━━━━━\u001b[0m\u001b[37m\u001b[0m \u001b[1m0s\u001b[0m 39ms/step\n",
            "\u001b[1m1/1\u001b[0m \u001b[32m━━━━━━━━━━━━━━━━━━━━\u001b[0m\u001b[37m\u001b[0m \u001b[1m0s\u001b[0m 45ms/step\n",
            "\u001b[1m1/1\u001b[0m \u001b[32m━━━━━━━━━━━━━━━━━━━━\u001b[0m\u001b[37m\u001b[0m \u001b[1m0s\u001b[0m 41ms/step\n",
            "\u001b[1m1/1\u001b[0m \u001b[32m━━━━━━━━━━━━━━━━━━━━\u001b[0m\u001b[37m\u001b[0m \u001b[1m0s\u001b[0m 37ms/step\n",
            "\u001b[1m1/1\u001b[0m \u001b[32m━━━━━━━━━━━━━━━━━━━━\u001b[0m\u001b[37m\u001b[0m \u001b[1m0s\u001b[0m 74ms/step\n",
            "\u001b[1m1/1\u001b[0m \u001b[32m━━━━━━━━━━━━━━━━━━━━\u001b[0m\u001b[37m\u001b[0m \u001b[1m0s\u001b[0m 72ms/step\n",
            "\u001b[1m1/1\u001b[0m \u001b[32m━━━━━━━━━━━━━━━━━━━━\u001b[0m\u001b[37m\u001b[0m \u001b[1m0s\u001b[0m 76ms/step\n",
            "\u001b[1m1/1\u001b[0m \u001b[32m━━━━━━━━━━━━━━━━━━━━\u001b[0m\u001b[37m\u001b[0m \u001b[1m0s\u001b[0m 49ms/step\n",
            "\u001b[1m1/1\u001b[0m \u001b[32m━━━━━━━━━━━━━━━━━━━━\u001b[0m\u001b[37m\u001b[0m \u001b[1m0s\u001b[0m 51ms/step\n",
            "\u001b[1m1/1\u001b[0m \u001b[32m━━━━━━━━━━━━━━━━━━━━\u001b[0m\u001b[37m\u001b[0m \u001b[1m0s\u001b[0m 43ms/step\n"
          ]
        }
      ]
    },
    {
      "cell_type": "code",
      "source": [],
      "metadata": {
        "id": "-61qb019h3ul"
      },
      "execution_count": null,
      "outputs": []
    }
  ]
}